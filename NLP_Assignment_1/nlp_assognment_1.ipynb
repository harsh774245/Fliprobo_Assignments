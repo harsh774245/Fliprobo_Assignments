{
 "cells": [
  {
   "cell_type": "markdown",
   "metadata": {},
   "source": [
    "# TASK 1"
   ]
  },
  {
   "cell_type": "code",
   "execution_count": null,
   "metadata": {},
   "outputs": [],
   "source": []
  },
  {
   "cell_type": "code",
   "execution_count": 6,
   "metadata": {},
   "outputs": [
    {
     "name": "stderr",
     "output_type": "stream",
     "text": [
      "Matplotlib is building the font cache; this may take a moment.\n"
     ]
    }
   ],
   "source": [
    "import string\n",
    "from collections import Counter\n",
    "import matplotlib.pyplot as plt"
   ]
  },
  {
   "cell_type": "code",
   "execution_count": null,
   "metadata": {},
   "outputs": [],
   "source": []
  },
  {
   "cell_type": "code",
   "execution_count": 114,
   "metadata": {},
   "outputs": [],
   "source": [
    "import GetOldTweets3 as got\n",
    "def get_tweets(keyword,start,end,mxm):\n",
    "    tweet_criteria=got.manager.TweetCriteria().setQuerySearch(keyword).setSince(start).setUntil(end)\\\n",
    "    .setMaxTweets(mxm)\n",
    "    tweets=got.manager.TweetManager.getTweets(tweet_criteria)\n",
    "    text=[[tweet.text] for tweet in tweets]\n",
    "    return text"
   ]
  },
  {
   "cell_type": "code",
   "execution_count": 193,
   "metadata": {},
   "outputs": [],
   "source": [
    "# We are taking data one month prior to the corona outbreak in India\n",
    "# and one month after the outbreak here and comparing people's emotions"
   ]
  },
  {
   "cell_type": "code",
   "execution_count": 117,
   "metadata": {},
   "outputs": [],
   "source": [
    "before=get_tweets('corona virus', '2020-01-01','2020-02-15',1500)"
   ]
  },
  {
   "cell_type": "code",
   "execution_count": 118,
   "metadata": {},
   "outputs": [
    {
     "data": {
      "text/plain": [
       "[['Updated counts from Hubei Province, China: 2,420 new cases and 139 additional deaths #COVID-19 #COVID19 #coronavirus #JohnsHopkinsCSSE'],\n",
       " ['going on a 19days rampage because coronavirus a btch and slowed down the production of my daily serotonin content by 93%'],\n",
       " ['The number of new deaths in China’s central Hubei province from the coronavirus outbreak rises by 139 in one day, says the province’s health commission. '],\n",
       " ['China Now Censoring Coronavirus Critics in US '],\n",
       " [' Lo que debemos hacer para protegernos del coronavirus #Vídeo'],\n",
       " ['Coronavirus update. 66,887 infected 1,523 deaths 8,058 recovered https://gisanddata.maps.arcgis.com/apps/opsdashboard/index.html#/bda7594740fd40299423467b48e9ecf6 #Coronavirus #china #outbreak'],\n",
       " [\"Year of the lockdown… 6.5 per cent of the world's population under lockdown due to #coronavirus #COVID19\"],\n",
       " [\"British scientist leading coronavirus fight says forecasts for 400,000 UK deaths are 'not absurd' amid rising panic \"],\n",
       " ['It appears they have used the cover of the corona virus to round up people they consister dissidents. Were those people I’ll? Do you think they’ll become ill in confinement? Well, isn’t that convienient for the government. '],\n",
       " [\"I'm saying we should bite the coronavirus's ear. that shows dominance\"],\n",
       " ['Corona virus arrived Egypt !!'],\n",
       " [\"I was planning on being in Thailand today, getting lost in some warm jungle. But coronavirus cancelled my trip so I'm reading my stories from last year's adventures in Vietnam instead. http://medium.com/@brendanmulligan\"],\n",
       " ['Is this China? Look and sounds like Chinese Gov shooting at civilians. Please confirm. #coronavirus '],\n",
       " ['Oggi 14 febbraio questi i casi di #coronavirus confermati da @WHO. Ogni 1000 in Cina, 10 nel resto del mondo di cui 4 sulla #Diamond_Princess e 1 in Europa #COVID19'],\n",
       " ['Crece el temor: China deja al mundo en desconcierto con 1483 decesos por Coronavirus. https://bit.ly/2HmtoN2 .'],\n",
       " ['Aplican Sector Salud Estatal y Federal plan epidemiológico por probable caso de coronavirus @alejandromurat @visionpolitica7 @VoceriaGobOax @VMendozaTG @Donato_Casas @SSO_GobOax -'],\n",
       " ['@itzmoe Are you afraid of the corona virus?'],\n",
       " ['You Can Catch The Coronavirus More Than Once, And The 2nd Time May Be Deadlier - YouTube '],\n",
       " ['Prime Minister Voreqe Bainimarama says an article published in this newspaper which implied passengers on a cruise ship had not been screened for the coronavirus was “totally false”. #TimesNews #FijiNews #2019nCoV'],\n",
       " ['China en tiempo récord construyó un hospital solo para aislar y tratar casos de coronavirus, cumpliendo con los protocolos internacionales, y ha reiterado durante todo este tiempo su disposición a mantener la cooperación a fin de salvaguardar la salud pública. #@CagigasAliem '],\n",
       " ['Corona virus : The \"Biggest Sanction\" !!'],\n",
       " [\"Coronavirus inflicts growing toll on China's health workers | CBC News \"],\n",
       " ['I realised during the show tonight that actually, it’s you who is promoting the spread of coronavirus. Please rethink ur logo '],\n",
       " ['Actualización de coronavirus: - 66.887 casos en todo el mundo - 10,109 casos sospechosos - 1,523 muertes - 10,757 en estado grave / crítico - 7.720 recuperados - La mayoría de los casos en China - Hoy: primer caso en Egipto - 26 países que notifican casos'],\n",
       " ['#coronavirus #facebook'],\n",
       " [\"Tokyo Olympics 'on track' with no contingency plans in place amid coronavirus outbreak - CNN \"],\n",
       " ['Coronavirus will impact stocks more than earnings - https://is.gd/B7GbOa #VIXC #LatestComments'],\n",
       " ['2019 Novel Coronavirus (2019-nCoV) https://www.cdc.gov/coronavirus/2019-ncov/faq-sp.html a través de @@CDCgov'],\n",
       " [\"#China's centuries-old tradition of eating civets, porcupines and other exotic meat is facing renewed criticism as scientists tracking down the origin of the new #coronavirus zero in on bats as a potential host \"],\n",
       " ['@realDonaldTrump can you do a travel ban for China to stop coronavirus in us??? '],\n",
       " ['Latinoamérica no crece ni en los casos de coronavirus'],\n",
       " ['Coronavírus (14/Fev) 66376 Total de contaminados 10204 Casos graves 1521 Mortos 7979 Curados #coronavirus '],\n",
       " ['Ppl locked in cruiser: my heart goes out. Pls try this.Relieves sore throat, cough, shortness of breath and runny nose. Helped us manytimes. No scientific proof but I believe this prevents transmission. Do it 1min & repeat. Earlier the better. #RT #Dismondprincess #Coronavirus '],\n",
       " ['Attending along with the Coronavirus (now that it’s securely in the states). Latest news today said it’s galloping along in the states now. '],\n",
       " ['The death toll has risen to 1,523 with 66,887 confirmed cases worldwide.#coronavirus #WuhanLockDown #China'],\n",
       " ['No les hace ruido todo este tema del “coronavirus” paralizando China? #coronavairus'],\n",
       " ['CDC Contradicts Trump’s Prediction That Coronavirus Will ‘Miraculously’ Go Away by April Brave people.. '],\n",
       " ['New images of the novel coronavirus were released Friday from the National Institute of Allergy and Infectious Diseases’ Rocky Mountain Laboratories in Hamilton, Mont. '],\n",
       " ['You Can Catch The Coronavirus More Than Once, And The 2nd Time May Be De... https://youtu.be/MwJ5thwr4C8 via @YouTube'],\n",
       " ['Feeling unwell? Tolak angin. Headache? Tolak angin. Nausea? Tolak angin. Blasting from both ends? Tolak angin. Coronavirus? Tolak angin. The grim reaper meet you personally to give the sweet release of death? Yes of course tolak angin. '],\n",
       " ['SI LOS COORDINO CUBA, RUSIA Y CHINA SIN CORONAVIRUS. LOS MACRISTAS LO COORDINAN???'],\n",
       " ['North Dakota oil and natural gas output fell 2 to 3% in December, while the state’s minerals director cautioned that the coronavirus outbreak could weaken production in the coming months. '],\n",
       " ['China’s Doctors, Fighting the Coronavirus, Beg for Masks http://a.msn.com/01/en-us/BB100yng?ocid=st2'],\n",
       " ['Coronavirus UPDATE: Massive coverup exposed by bioweapons expert '],\n",
       " ['Two weeks later, first Santa Clara County coronavirus victim still isolated https://bayareane.ws/2UU08FA via @mercnews @JohnWoolfolk1'],\n",
       " ['Singapore Battles Coronavirus with Children’s Rap Song About Hand Washing | Breitbart '],\n",
       " ['Facebook Cancels Global Marketing Summit in San Francisco Over Coronavirus Fears | Breitbart '],\n",
       " ['If anyone visits #Chinatown from 2/11-20 thru ?, and contracts #Coronavirus as a result, you may be able to collect punitive and other damages based on what self proclaimed public figure @Laurie_Garrett has suggested. Remember, if you get sick, always consult with an #Attorney'],\n",
       " ['Asian cocoa conference in Singapore postponed due to coronavirus '],\n",
       " ['Eight planes locked down at Heathrow Airport over coronavirus fears https://nypost.com/2020/02/14/eight-planes-locked-down-at-heathrow-airport-over-coronavirus-fears/?utm_source=twitter_sitebuttons&amp;utm_medium=site%20buttons&amp;utm_campaign=site%20buttons via @nypost'],\n",
       " [\"William O'Neil + Co. Chief Executive Director, Research Analyst Raj Gupta was recently quoted in @usnews. Businesses are being hit by the impact of the #coronavirus as it ripples through the global economy - some more than others. \"],\n",
       " ['been sneezing. friends asked if I had cvirus. If it was transmitted by Wattsapp, I’d def ‘ve caught it yesterday. Futile attempt to buy correct masks to send to son holed up in HK where these are changing hands for £50 each. #healthandwellness #expats,#Epidemic,#coronavirus'],\n",
       " ['Doctors in #China are diagnosing #COVID19 #coronavirus with chest X-rays &amp; CT scans, which present similarly to SARS &amp; MERS. But the scans are only 1 of 5 things needed for valid diagnosis. –@AriaBendix/@businessinsider &gt;https://bit.ly/39z7B0I — #globalhealth #publichealth'],\n",
       " ['Woman returned from #China through #Shanghai this past week and had not been in an area with travel bans, such as #Hubei province. https://www.cbc.ca/amp/1.5464511 #Coronavirus #Wuhan #2019CoV #nCoV2019 #2019nCoV #China #CoronavirusOutbreak #COVID19 #WuhanCoronavirus #Wuhanvirus'],\n",
       " ['@TheOnion worthy insane. $15 for 10 straws? Grifters. Almost as bad as @JimBakkerShow selling snake oil to cure the #coronavirus '],\n",
       " ['Updated #coronavirus numbers Infected 66,687 Dead 1,523 Cured 8,058 https://gisanddata.maps.arcgis.com/apps/opsdashboard/index.html#/bda7594740fd40299423467b48e9ecf6'],\n",
       " [\"And that's *with* a vaccine available. The impact of Coronavirus will be much worse.\"],\n",
       " ['Esto demuestra que el peronismo es peor que el coronavirus'],\n",
       " [\"China's Hubei province reports 139 new coronavirus deaths \"],\n",
       " ['アフリカ大陸はパンデミックが起こりやすいって先週の #正義のミカタ 思い出した。 #肺炎 #コロナウイルス #Coronavirus #Pneumonia #COVID19 New coronavirus infection confirmed in Egypt '],\n",
       " ['Coronavirus: ¿por qué no se han reportado casos en América Latina? http://dlvr.it/RQ3xmZ'],\n",
       " ['#CoronaVirus New fatalities push nationwide death toll close to 1,400 and further 5,090 new cases take total infections near 65,000. @ndtv @Nidhi . China coronavirus outbreak: All the latest updates @AJENews'],\n",
       " [\"Maui Now: BREAKING: Japan Resident with Coronavirus was on Maui and O'ahu. https://mauinow.com/2020/02/14/breaking-japan-resident-with-coronavirus-was-on-maui-and-oahu/ via @GoogleNews\"],\n",
       " [' URGENT! Corona Virus Prediction Tool Update V1.3! (CoVID-19 Virus Pred... https://youtu.be/AXrYMPW4kLU via @YouTube'],\n",
       " ['China’s Doctors, Fighting the Coronavirus, Beg for Masks '],\n",
       " ['CDC director says coronavirus could stay in US through this year and beyond: CNN '],\n",
       " ['Turn off air-conditioners and open windows to reduce risk of being infected with #COVID19 , say experts #coronavirus '],\n",
       " ['@PrincessCruises The passengers really appreciate what the crew and #Captain are doing for all #quarantined on #DiamondPrincess but they are all struggling. #DavidAbel has requested @richardbranson help the Brits out of #COVIDｰ19 #coronavirus nightmare https://m.facebook.com/story.php?story_fbid=10220683436497963&amp;id=1297536431'],\n",
       " ['OMS denomina “Covid-19″ a la enfermedad provocada por nuevo coronavirus http://bit.ly/2uI2M6l #14Feb #EEUU'],\n",
       " ['My Bacteria, called Coronavirus, just wiped out the world in 512 days! #PlagueInc'],\n",
       " ['2,000 iPhones Were Handed to Cruise Ship Passengers Who Were Stuck on the Vessel Due to a Coronavirus Quarantine '],\n",
       " ['@SenFeinstein @Crof @SpeakerPelosi @SenSchumer #Coronavirus update: Nine more cases confirmed in #Singapore | THE BIG STORY https://youtu.be/_DcsigkZRxg via @YouTube Singapore considered model | USA needs #fund #COVID2019'],\n",
       " ['#Coronavirus '],\n",
       " [\"Yeah I was almost there on the verge of being fooled @Flipkart . Fortunately for all of us, you're not the only e-commerce website trying to take advantage of #coronavirus outbreak. Just know, that your consumers are aware of your cheap markup tactics. \"],\n",
       " ['President* Trump solutions to “Corona” virus: Let the April “HEAT” heat kill it Nuke it like a hurricane Cross it out with a President* Trump sharpie, aka “Trumpie” Put tariffs on Corona beer and win the trade war against the virus Very stable genius at work. '],\n",
       " ['The Coronavirus no go enter Ghana. Kai!'],\n",
       " ['While experts warn that smokers are at increased risk of coronavirus complications because #SARS2019 mainly infects men &amp; causes them severe illness, it would be nice to get the epi data. One more time, stop smoking to protect yourself from infection!'],\n",
       " [\"This is another excellent person to follow. @BhadeliaMD [Infectious Disease MD] She's tweeting &amp; retweeting a lot of info on #covid19. #coronavirus\"],\n",
       " ['How China Is Censoring Coronavirus Critics In The US | Zero Hedge '],\n",
       " ['Hong Kong Nurses Threaten Strike Over Coronavirus Fears : Goats and Soda'],\n",
       " ['Ningún país latinoamericano está a salvo del coronavirus '],\n",
       " ['Alerta de coronavirus '],\n",
       " [\"Quarantined for Coronavirus: What It's Like https://www.medscape.com/viewarticle/925228?src=soc_tw_share via @medscape\"],\n",
       " ['Took time out from the coronavirus response to see @JaneyGodley in Newport. There was something about cellars '],\n",
       " ['But but but coronavirus.'],\n",
       " ['the real terror will start in jpn, when the guys not related with chn collapse.. it’s just around corner all the nations should corporate to solve the environmental issues etc instead of competing each other any more #coronavirus'],\n",
       " ['CDC braces for a long fight as coronavirus toll mounts in China - CBS News #china #virus #america #bully'],\n",
       " ['Maui Now : BREAKING: Japan Resident with Coronavirus was on Maui and O‘ahu | Maybe we can all go on home now and work remotely. Takes a crisis for human to change bad habits. Bah #coronavirus #COVID19'],\n",
       " ['Coming up on your NL major news to 4pm: - The first #coronavirus case across @Interior_Health - #Kamloops staff starting planning this year for a fourth river crossing - @TranBC Ministers talks #BCHwy1 widening through #ChaseBC - Much more Listen here: http://goo.gl/B296iV'],\n",
       " ['They Documented the Coronavirus Crisis in Wuhan. Then They Vanished. '],\n",
       " ['#14Feb 1.523 las muertes por el #coronavirus #CIVID19 en #China y 66.292 casos confirmados.'],\n",
       " ['la coronavirus nea'],\n",
       " ['@NIAbbot 2020 flu epidemic 22million Americans with flu symptoms and 200,000 hospitalised and 12,000 deaths - should UK quarantine incoming personnel from US? Sounds more contagious and deadly than the China Coronavirus doesn’t it? Michael @Chichester'],\n",
       " [\"President Trump reportedly said that #coronavirus will 'go away' when the temperatures get warmer. Is this true? I discussed on @TeamCavuto @FoxNews. Full segment + subscribe: https://youtu.be/OglmRWqhQco\"],\n",
       " [\"1981 Dean Koontz Thriller 'The Eyes Of Darkness' Accurately Predicted Chinese Coronavirus Outbreak Even Named A Lab In Wuhan As Starting Point \"],\n",
       " [\"‘It's meant to help’: Harvard professor responds after government dismisses study on undetected coronavirus cases #jakpost\"],\n",
       " ['CONFIRMADO! Mientras se decía Q solo en Ibague había infectados con #Coronavirus, en realidad son 4 los Mpios del Tolima Q reportan casos En el siguiente vídeo se reporta la noticia con imágenes de cómo se ponen los pacientes y se dan 5 recomendaciones '],\n",
       " ['Eu estou do seu lado. Mas eu acho que o dólar aumentou antes do Corona vírus, e ele bateu 4 reais eu acho. E não teria muito haver com um vírus, a moeda da China é o Yen, se não me engano, e não o dólar'],\n",
       " [\"So where's all the GOP outrage over the Coronavirus under Trump? All we heard for fucking months was how President Obama was dropping the ball on the Ebola epidemic. Meanwhile CDC says the Coronavirus infections are ten times higher than reported.\"],\n",
       " ['Coronavirus gift set '],\n",
       " ['Coronavirus: un malade en Egypte, premier cas diagnostiqué en Afrique '],\n",
       " [\"Perhaps the only good side of the #coronavirus #COVID19 - the whole World can now see how cruel the SYSTEM in #China truly is. You can't un-see these pictures. You can't say anymore that you were not aware....\"],\n",
       " ['First coronavirus case in Africa recorded in Egypt https://misspetitenaijablog.com/2020/02/14/first-coronavirus-case-in-africa-recorded-in-egypt/'],\n",
       " [\"New study led by @mlipsitch: ''We found that the ability to detect imported cases among high surveillance countries is 40%, among intermediate surveillance countries it is 37%, and among low surveillance countries it is 11%'. #coronavirus\"],\n",
       " ['Seguro habrá alguien en china que ofrezca un mejor precio y seguro con la marca grabada con laser, eso sí, cuando pase lo del coronavirus'],\n",
       " ['Oggi 14 febbraio questi i casi di #coronavirus confermati da @WHO. Ogni 1000 in Cina, 10 nel resto del mondo di cui 4 sulla #Diamond_Princess e 1 in Europa #COVID19'],\n",
       " ['Mais 139 mortos por coronavírus na província chinesa de Hubei #coronavírus '],\n",
       " ['The seasonal flu kills an average of 55,000 ppl a year in the US alone, making it the most serious cause of death due to an infectious disease. World wide, salmonellosis has an impact far beyond the Wuhan coronavirus.'],\n",
       " ['I feel like Trump should go to Wuhan to find out what the hell is going on there. He’s the only American man enough to take on China and get to the bottom of this Coronavirus nonsense.'],\n",
       " ['The death toll from new coronavirus epidemic surged past 1,500 after 139 more people died in Hubei province, China. At least 1,519 people have now died from the outbreak. More than 66,000 people have now been infected. #Coronavirus #CoronaOutbreak #China #Covid19'],\n",
       " ['Why, because they did not have a seizure? What is the same is that people who are going about their daily business without any sense of medical emergency suddenly fall over and die. There is no sign of coughing or difficulty breathing, no sign of chest pain. #coronavirus'],\n",
       " ['people are so afraid of the Coronavirus but don’t wash their hands regularly or wipe down their grocery cart'],\n",
       " ['\"KLM apologizes for closing off toilet to Koreans amid coronavirus concerns on a recent flight\" '],\n",
       " ['Speriamo che il #datterino infame si becchi il #CoronaVirus. #veritapergiulioregeni #freepatrick #LineaNotte'],\n",
       " ['This asshole should be in prison sentenced with a lethal injection of the Coronavirus and left to rot in his cell. '],\n",
       " ['Malas nak gerak kl, kang balik melaka bawak sekali corona virus.. Yihhhhhh'],\n",
       " ['#coronavirus Que me perdonen .. pero los Argentinos que viven en China. Que se queden allá mamu. Porque van a traer la peste acá. Y ahí si se muere media Argentina.'],\n",
       " ['US health officials will check patients with flu-like symptoms for coronavirus '],\n",
       " [' Lo ha vuelto a hacer: China construye un hospital en tan solo 10 días para los afectados del coronavirus... '],\n",
       " ['Sube a 54.400 contagiados y 1.457 muertos el balance del nuevo coronavirus en Hubei https://elcomunista.net/2020/02/14/sube-a-54-400-contagiados-y-1-457-muertos-el-balance-del-nuevo-coronavirus-en-hubei/'],\n",
       " ['I think USA is considered somewhat insulated from Wuhan Coronavirus, so money from all over the world is flowing into USA assets, such as the dollar (and hence...), bonds, and stocks. This could change if a lot more cases appear in USA.'],\n",
       " ['Coronavirus is the end of the world... '],\n",
       " ['Coronavirus spreads to Africa as China confirms 46,550 cases http://dlvr.it/RQ3xhR'],\n",
       " [\"This man deserved a medal, honor. He is risking his life. God Bless.Wuhan's cat rescuer: the man saving pets abandoned during coronavirus outbreak – video \"],\n",
       " ['El Corona virus y ahora la canica espacial. ...ainss, bueno esperemos que el Lunes os veamos en Todo es mentira'],\n",
       " ['Oggi 14 febbraio questi i casi di #coronavirus confermati da @WHO. Ogni 1000 in Cina, 10 nel resto del mondo di cui 4 sulla #Diamond_Princess e 1 in Europa #COVID19'],\n",
       " ['The head of the IMF says global central banks and governments may need to unite to fight the economic fallout from the coronavirus. By @iaindrogers @IMFNews https://www.bloomberg.com/news/articles/2020-02-14/imf-chief-says-virus-might-warrant-coordinated-economic-response via @markets'],\n",
       " ['Coronavirus Kills 139 More In China, Death Count Crosses 1,500 '],\n",
       " ['Given the alarming headlines about the #coronavirus outbreak and the consumption of wildlife, the tradition of so-called wet markets now faces harsh scrutiny. But eating wildlife is not the only way diseases can spread from animals to people. http://bit.ly/2UOVzw0'],\n",
       " ['Cristaldo es peor que el corona virus!'],\n",
       " ['Just an update if somebody wants Coronavirus Epidemic Update 18: Cellphone Tracking, Increase in Hospitalizations, More Sleep Tips •Feb 14, 2020 '],\n",
       " ['Further concerning information #COVID-19 #coronavirus '],\n",
       " ['ハワイ滞在、帰国後発症した日本人男性について 「熱の症状がなかったことが幸い また、旅行中この男性はマスクをしてた」 #コロナウイルス #coronavirusjapan #Hawaii State: Japanese visitor recently in Hawaii confirmed to have coronavirus '],\n",
       " ['maybe out of the state b/c I’m not trying to get the coronavirus'],\n",
       " [\"Is the current coronavirus a Chinese Bio-warfare experiment/test? A discovered antidote will be a boon for pharma companies, you think? That's a new take on Capitalism by a Communist governed society. \"],\n",
       " ['The Minister of Health reveals the details of the first case of corona virus in Egypt https://www.eg24.news/2020/02/the-minister-of-health-reveals-the-details-of-the-first-case-of-corona-virus-in-egypt.html'],\n",
       " ['[THE NEW YORK TIMES] Cómo fue que las cifras del #coronavirus cambiaron tan drásticamente | Por Richard Pérez-Peña https://ibae.am/3bFVEZ5'],\n",
       " ['#Coronavirus '],\n",
       " ['Que hago....? Me como un corona virus ya? '],\n",
       " ['Coronavirus Heathrow Airport alert: United Airlines quarantined - ‘Passenger isolated’ '],\n",
       " ['La AIE advierte de las consecuencias del coronavirus en la demanda de petróleo http://dlvr.it/RQ3n8J (via @marjuli)'],\n",
       " ['Over 1,700 frontline medics likely infected with coronavirus in China, presenting new crisis for the government - CNN #dnptuhsjc'],\n",
       " ['5 U.S. cities to start testing patients with flu-like symptoms for coronavirus https://www.nbcnews.com/health/health-news/5-u-s-cities-start-testing-patients-flu-symptoms-coronavirus-n1136941 via @nbcnews'],\n",
       " ['IOC insists Tokyo Olympics will go ahead despite coronavirus '],\n",
       " ['\"corona virus can be caught multiple times\" we don\\'t know that yet.'],\n",
       " ['Tokyo Olympics Team: No Plan B Even if Coronavirus Spreads: https://www.thedailybeast.com/tokyo-olympic-organizers-say-no-plan-b-for-summer-games-even-if-coronavirus-spreads?via=newsletter via @thedailybeast'],\n",
       " ['http://bit.ly/321HnRV Indian exporters do not expect much disruption to trade from the coronavirus from China '],\n",
       " ['Scientists quash rumour that coronavirus was created in a lab '],\n",
       " ['Fifth case of coronavirus reported in British Columbia '],\n",
       " [\"I wanna see him on his graduation day, I'm very studious, so when it came to something academics, like, graduation, I always feel happy.. But, my Mom didn't allow me to go, it's coronavirus everyehere, &amp; she's a doctor, she became paranoid \"],\n",
       " ['NBC News: 5 US cities to start testing patients with flu-like symptoms for coronavirus. '],\n",
       " ['China reportó otros 139 muertos por el brote coronavirus, que superó la cifra total de mil 500 '],\n",
       " ['Is the #coronavirus situation sending a clear message that globalisation is a HUGE risk to the world? A massive centralised system that has no resilience and breaks altogether.'],\n",
       " [\"They are being sent there to protect ICE and Border Patrol agents for those in that community being quarantined for the Corona Virus. Some won't take kindly to being quarantined.\"],\n",
       " ['From #Aotearoa #NewZealand to #EastTurkistan #Xinjiang, Our hearts are with the #Uyghur #Uighur and other oppressed minorities facing the added horror of the #COVID19 #coronavirus. '],\n",
       " ['Iraq to send 70 tons of medical aids to China to combat corona virus.'],\n",
       " [\"Hello dear friend, CoronaVirus prevention for you here.. Have you ever wondered why some people get sick and others don't? How doctors and nurses do not get sick when they take care of sick people? https://knowthetruthaboutyou.com have answers and technology for you of why people get sick\"],\n",
       " ['En españa se han curado los 2'],\n",
       " ['Ok. So this seems strange to me...will type a b or c start being considered the coronavirus. If so...plan on america freaking out. Prepare now! '],\n",
       " ['Quite a question. Once again, how solid is it? Could the new coronavirus really kill 50 million people worldwide? '],\n",
       " ['If the Democrats had their way we would be in a Corona virus pandemic because the Democrats want open borders.....'],\n",
       " ['I’m tryna eat some Chinese food , but I ain’t tryna catch that corona virus'],\n",
       " ['E numa festa de 10 anos de uma menina aqui do meu prédio que uma boy disse pra outra que ela tava com corona virus e agora a menina tá aos prantos? HAHHAHAHAHA'],\n",
       " [\"Great. So while I'm worried about Josh getting coronavirus while in Sweden, it may be likely that it's here in Portsmouth. I give it a week or two before it's official. I fucking called it. Trying to calm myself down out of a panic attack. \"],\n",
       " ['Coronavirus '],\n",
       " ['Cecília tem coronavírus skksksks'],\n",
       " ['genial mi viejo tiro mi lente, luego lo limpio con el liquido de sus lentes que no sirve para el mío. Después lo perdió y ahora encontraron. Olvidense seguro me lo pongo y me agarta coronavirus.'],\n",
       " ['My hands are getting very dry thanks to Coronavirus'],\n",
       " [\"Televangelist sells $125 'Silver Solution' as cure for Coronavirus \"],\n",
       " ['IBM Pulls Out Of RSA Conference Due To Coronavirus Outbreak '],\n",
       " ['Egypt confirms coronavirus case, the first in Africa - Al Jazeera English http://dlvr.it/RQ3xc3'],\n",
       " ['Tainara tá com corona vírus e quer pq quer que a gente vá lá pegar tbm, Deus me free'],\n",
       " ['Ok Folks: Apparently The Coronavirus is MUCH MUCH worse then we ever Suspected! Cats are wearing coronavirus masks in China | Fox News '],\n",
       " ['Coronavirus: 139 nouveaux décès dans la province du Hubei, portant le nombre de morts en Chine à 1.519 https://rfi.my/5Nmk.t'],\n",
       " ['us coverage use coronavirus uncover could ultra cruise ucl city unless champions usa cities up comes'],\n",
       " ['Coronavirus. L’épidémie fait 139 morts supplémentaires dans la province du Hubei '],\n",
       " ['O melhor antídoto para o Coronavirus é o perfume Kaiak, é só passar na pessoa infectada que o vírus não vai aguentar o cheiro forte e vai morrer asfixiado'],\n",
       " [\"A 16-year-old boy in California's San Fernando Valley was physically attacked this week by bullies in his high school who accused him of having the coronavirus — simply because he is Asian American. \"],\n",
       " ['5 U.S. cities to start testing patients with flu-like symptoms for coronavirus. '],\n",
       " ['Coronavirus Cripples Communist China, But US Lab Needed Only 3 Hours To Find Vaccine: Report '],\n",
       " ['Duck...Ở tương lai mẹ sẽ có việc không tốt...Bố báo mộng...Hiện tại dịch Coronavirus cũng không bán được hàng, nợ như Chúa Chổm... '],\n",
       " ['Protect yourself and your family #COVID-19 #coronavirus '],\n",
       " ['Tracking coronavirus: Map, data and timeline - '],\n",
       " ['#Coronavirus Update : The death toll has risen to 1,523 with 66,887 confirmed cases worldwide.'],\n",
       " [\"Can coronavirus trigger a 'black swan' event? Gold price is watching the negatives - analysts \"],\n",
       " ['For the republicans among you (obviously you know I\\'m not one), this corona virus has given rise to memes in Spain. Corona is Spanish for Crown and so is the \"Crown virus\", accompanied by photos of the Royal family. Ingenious.'],\n",
       " [\"BBC News - WHO says fake coronavirus claims causing 'infodemic' \"],\n",
       " [\"Inovio's vaccine for COVID-19, as health officials have named the virus, could be ready as early as this summer. Not too worry, according Trump the summer heat will kill it. California lab says it discovered coronavirus vaccine in 3 hours https://news.yahoo.com/california-lab-says-discovered-coronavirus-123356925.html?soc_src=hl-viewer&amp;soc_trk=tw via @Yahoo\"],\n",
       " ['[#Mundo] Muchos planeaban vacaciones de pareja, otros recorridos románticos, pero la epidemia del #Coronavirus los ha hecho aplazar sus sueños o limitarse a mandar saludos y deseos a la distancia: '],\n",
       " ['Chinese Car Sales Plummet 18% Over Coronavirus, And It Could Get Worse | Carscoops #carscoops'],\n",
       " ['Tan confidencial es el video q no pudo confirmar la información. La verdad es q esas terribles imágenes corresponden al fallecimiento de una familia entera por inhalación de GAS Un video viejo q nada tiene que ver con el #Coronavirus solo manipula la información Pa generar likes'],\n",
       " ['@lookner Coronavirus latest news: Heathrow scare as passenger falls ill on flight from San Francisco https://www.telegraph.co.uk/news/2020/02/14/coronavirus-news-uk-london-china-latest/?WT.mc_id=tmg_share_tw via @telegraphnews'],\n",
       " ['The Science and Politics of the Coronavirus Outbreak https://youtu.be/Ji91oRuiLfk via @YouTube'],\n",
       " ['Coronavirus: Beijing orders 14-day quarantine for returnees '],\n",
       " ['The way the coronavirus is affecting my hours ain’t it chief.'],\n",
       " ['Espera que llegue el coronavirus al Congo y me explicas si contenerlo era urgente o no.'],\n",
       " ['How COVID-19 Kills: The New #Coronavirus Disease Can Take A Deadly Turn '],\n",
       " ['It was an international airline. Writing ‘Lavatory for cabin crews only’ in KOREAN ONLY means keeping a specific ethnicity from using the lavatory. The attendant explained it was to protect cabin crew from potential coronavirus carriers. Is it now clear to you?'],\n",
       " ['More Than 1,700 Health Workers In China Have Been Infected With New Coronavirus http://dlvr.it/RQ3xYP'],\n",
       " ['Bitcoin versus gold, you need THIS during outbreaks like coronavirus - analyst http://dlvr.it/RQ3xYF'],\n",
       " ['BHP INTENTA RETRASAR SUS ENVÍOS DE COBRE A CHINA POR CORONAVIRUS... '],\n",
       " ['He came here, spread it and dipped back to Japan. Foul!! Maui Now: BREAKING: Japan Resident with Coronavirus was on Maui and O‘ahu '],\n",
       " [\"Bloomberg Camp Points and Laughs at Trump's Coronavirus Comments: 'Everyone In This Room Is Now Dumber…' #Topbuzz\"],\n",
       " ['@RadioHabanaCuba #Esperanto #Coronavirus '],\n",
       " ['Coronavirus?'],\n",
       " ['Hubei Reports 116 New Coronavirus Deaths, 4,823 Cases; Over 160,000 Tracked | Zero Hedge '],\n",
       " ['contra coronavírus é foda kkkkkkkkkkkkk'],\n",
       " ['Medo do coronavírus cancela megaevento '],\n",
       " ['Coronavirus no detiene boda de pareja de médicos en hospital. La boda fue en un hospital designado para tratar a pacientes infectados. The post Coronavirus no detiene boda de pareja de médicos en hospital appeared first on Noticias Cristianas Evangélicas. #NoticiasCristianas'],\n",
       " ['#HAPPYHEARTDAY: LOVE In the Time of Corona Virus https://youtu.be/xvYAEMMkIVA via @YouTube'],\n",
       " ['@WHO #coronavirus #nCoV_2019 #COVID_19 සමග වැලන්ටයින් #ValentinesDay #ValentinesDay2020 #China'],\n",
       " ['Профессор Гарвардского общественного здравоохранения Mac Lipsitch, на #coronavirus : «Вероятно, мы увидим глобальную пандемию ... Если пандемия случится, от 40% до 70% людей во всем мире, вероятно, заразятся в следующем году». #covid19#coronavirusoutbreak'],\n",
       " [\"BBC News - Coronavirus Wuhan diary: 'He got a hospital bed three hours before he died' \"],\n",
       " ['Se vc fosse um cara informado estaria sabendo, a alta do dólar deu por conta da china, devido aos efeitos do corona vírus.'],\n",
       " ['The same CDC that \"accidentally\" released a coronavirus patient from hospital?'],\n",
       " ['YES!!! Exactly what I was thinking, and what about the coronavirus I truly believe there is something suspicious about it. Could it have anything to do with the Biden corruption or anyone else having sided with China in the past?? Is someone or China trying to hide something?'],\n",
       " ['Papel higiénico, entre los mejores regalos en tiempos de crisis por coronavirus. https://www.elespectador.com/economia/papel-higienico-entre-los-mejores-regalos-en-tiempos-de-crisis-por-coronavirus-articulo-904675'],\n",
       " [\"MOST READ TODAY #1: Coronavirus Epidemic Could Infect Two-Thirds of World's Population: WHO Scientist \"],\n",
       " ['Coronavirus Transmission From Mom to Baby Possible '],\n",
       " ['Ésta si es noticia, no el coronavirus. Más preocupación por lo que sucede en nuestro país'],\n",
       " [' #K2winter2020 Habla Mingma G Errores: -comenzar tarde -falta de planificación, pensó que el invierno era como en Hechos casuales: -Coronavirus: fallan comunicaciones, Gao Li decide abandonar para contactar con su familia en China -Mingma G, neumonía -Accidente 1 Sherpa '],\n",
       " ['TN : TE AVISO QUE ACABAN DE SAQUEAR A LOS JUBILADOS !!! PARA CON GESELL Y EL CORONAVIRUS !!!!!'],\n",
       " [' #coronavirus 1 520 morts 66 378 cas confirmés en #Chine'],\n",
       " ['De Interés: Amor en tiempos de coronavirus: ¿Cómo celebran San Valentín en China? , según publica @EFEnoticias, #14Feb. https://buff.ly/2UQSyv3'],\n",
       " ['Coronavirus, major earnings reports, and an overvalued market could slam investors this week—a perfect storm https://buff.ly/2GqO9qf by @skleb1234 https://buff.ly/2uBxzRZ via @Forbes'],\n",
       " ['None of that Corona Virus for you dude'],\n",
       " ['#MásDeportes | @Tokyo2020 sigue en pie a pesar de los rumores por el coronavirus | https://bit.ly/2tUAF3w'],\n",
       " ['Actualmente no existe una vacuna contra ningún tipo de coronavirus. Afortunadamente, en la mayoría de los casos se pueden aplicar los mismos cuidados de un resfriado común '],\n",
       " ['【メモ】 SARS-CoV-2: Severe Acute Respiratory Syndrome-related COronaVirus 2 COVID-19: COronaVIrus Disease 2019'],\n",
       " ['More than 3 million #Uyghurs and other Turkic people in #China’s concentration camps now face the risk of dying by starvation and #coronavirus.'],\n",
       " ['Mapping the Wuhan coronavirus outbreak https://storymaps.arcgis.com/stories/4fdc0d03d3a34aa485de1fb0d2650ee0 #StoryMaps'],\n",
       " ['Are Corona virus '],\n",
       " ['So, once the coronavirus hits poorer neighborhoods in this country, will DJT have a surgeon general announce that the virus gives you immunity from cancer?'],\n",
       " ['‘Thermometer Guns’ on Coronavirus Front Lines Are ‘Notoriously Not Accurate’ GET HERE ==&gt; http://BLACKFRIDAY.vuhere.com #virus #coronavirus #sars #flu #china #trump #tiktok'],\n",
       " ['#coronavirus #valentinesday https://www.instagram.com/p/B8kQSVKBywM/?igshid=158t0ao8tix9u'],\n",
       " [\"Senator Scott is doing a wonderful job for human societies. It must be some secrets in China's Coronavirus.\"],\n",
       " ['A lot of coronavirus panic/conspiracy articles have this vibe of \"could it break out of China and start infecting real people?\" and I hate it'],\n",
       " ['You and @boxmining have been providing more helpful coverage of the #coronavirus than the msm'],\n",
       " ['On Coronavirus; speaking truth instead of fear https://npgnetwork.wordpress.com/2020/02/14/on-coronavirus-speaking-truth-instead-of-fear/'],\n",
       " ['...And you thought the Coronavirus was Bad. #ProtectYourself #BePrepared #DontGetItInYourLungs @Bensonhurst, Brooklyn https://www.instagram.com/p/B8kQQ8ahMxa/?igshid=6hd8itw7s023'],\n",
       " ['Hope you meet Coronavirus '],\n",
       " ['Why is the CDC refusing to test these people for the coronavirus? It just makes no sense.'],\n",
       " ['O #coronavírus #covid19 já matou em 46 dias o dobro de pessoas que a SARS matou em 7 meses! Já são 1.523 mortos, dos quais somente 3 fora da China. De 66.887 casos confirmados, somente 595 são fora da China, dos quais 218 no navio ancorado no Japão.'],\n",
       " ['The Department of Health @DOHgov on Friday reported that 386 patients under investigation (PUIs) have tested negative for the coronavirus disease 2019 (Covid-19). #COVID19 Read it here: https://www.pna.gov.ph/articles/1093880'],\n",
       " ['#China - Around 500 million people in China are currently affected by policies put in place restricting movement, to contain the COVID-19 #coronavirus. https://www.abc.net.au/news/2020-02-15/coronavirus-lockdown-in-china-6.5-per-cent-worlds-population/11968114?sf230187888=1&amp;fbclid=IwAR2y4Vg47SEss-uvmhoc075loTe9ghqtLLD3NOJStkTxqg3iGXNy-tcgcUY via @ABCNews'],\n",
       " [\"China's ruler see the corona virus as a chance to tighten their grip. \"],\n",
       " ['Coronavirus outbreak: Tibet’s Nyingchi discourages tourists from visiting the remote region https://ift.tt/2uKUCu4'],\n",
       " ['Es cierto q el coronavirus no se te pega si tenes alcohol en la sangre?'],\n",
       " ['Have you noticed the decrease in Tik Tok Ads since this whole coronavirus thing?'],\n",
       " ['Longines Marie Little Jacobo ได้รับข้อความจากเซนต์เทเรเซียอันนี่เด็กพระเยซูอายุน้อย มีข้อความสาธารณะเกี่ยวกับ coronavirus ภาษาจีน คลาร่า Josefa Menendez กำลังร้องไห้เศร้าทุกวันในข่าวของ coronavirus จีน https://kolbemarie.blogspot.com/2020/02/blog-post_11.html?m=1'],\n",
       " ['Coronavirus: estas economías podrían ser fuertemente afectadas por el brote http://dlvr.it/RQ3xV1'],\n",
       " ['\"IBM pulls out of RSA Conference citing virus outbreak concerns: The coronavirus outbreak continues to wreck tech conferences as another big company pulls its participation from another major industry show. http://bit.ly/38A6pKA h/t LightReading'],\n",
       " ['pueden creer q me compré la ls de nct pero la tienen en aduana x el coronavirus????'],\n",
       " [' Actualización #Coronavirus update #COVID19 66,887 casos 10,109 sospechosos 1,523 muertos 10,757 criticos 7,720 recuperados 29 paises'],\n",
       " ['اكتشاف 15 الف مصاب جديد بفيروس كورونا بيوم واحد بعد أن تم إدخال التصوير بالأشعة للرئتين لفحص الناس بالصين طريقة فعالة للحد من انتشار الفيروس Coronavirus: Ny diagnosticering får antallet af smittede til at eksplodere '],\n",
       " ['Important message... #coronavirus #CoronavirusOutbreak #coronavirusjapan #coronavirusgermany #coronaviruschina #Coronavirusmexico #coronaviruswuhan #coronavirusthailand #coronavirusitalia #coronavirususa #coronaviruscanada #coronavirusfrance #COVID19'],\n",
       " ['Bullshit! WHO didn’t do right job , didn’t clarify to the whole world that how serious Wuhan Coronavirus really was, and that’s why epidemic from Wuhan in China is becoming international outbreak of pandemic ! WHO is becoming a sick joke !'],\n",
       " ['#SaintValentin2020 #FelizSanValentin2020 #FelizViernesATodos #LoQueElDiaSeLlevo SAN VALENTÍN EN TIEMPOS DEL CORONA VIRUS. (Los Amantes - René Magritte) '],\n",
       " ['Coronavirus is at the libyan/egytpian border. Ill put a rose in ur funerals, but only if i like you '],\n",
       " ['“Around 15,991 people across the country have been kept on community surveillance, 497 have been identified as the symptomatic cases and being monitored while 41 are hospitalised.” #coronavirus #coronavirusIndia #COVID19'],\n",
       " ['#coronavirus '],\n",
       " ['Coronavirus update: Addressing questions about risk and prevention | http://www.snohd.org/Blog.aspx?IID=12#item'],\n",
       " ['Check out my genius of a big brother, \\u2066@MattFrieman\\u2069 in the \\u2066@washingtonpost\\u2069 “US scientists study #coronavirus to combat covid-19 outbreak” - The Washington Post. #baltimore \\u2066@UMMC\\u2069'],\n",
       " [\"#coronavirus fears at Heathrow: 'EIGHT planes on lockdown' on runway https://mol.im/a/8004013 via @MailOnline\"],\n",
       " ['saw a lady in my neighborhood wearing a surgical mask in her car - are people already getting batty about coronavirus?'],\n",
       " ['Nothing new !? #CoronavirusUpdates #coronavirus #CoronaVirusCanada #coronaviruschina #coronaviruswuhan #coronavirusafrica #coronavirusuk #coronavirususa #Wuhan #WuhanCoronvirus #WuhanLockDown #WuhanOutbreak'],\n",
       " ['si j’ai le coronavirus j’suis vrmt naze'],\n",
       " ['ja sei vou de coronavirus p carnaval'],\n",
       " ['Five public labs across the United States will work with the Centers for Disease Control and Prevention to use its existing flu surveillance network to test individuals with flu-like symptoms for the novel coronavirus, the agency said Friday. '],\n",
       " [' te ha atacado el corona virus ?'],\n",
       " ['Japanese man confirmed as coronavirus patient after returning from Hawaii vacation - Honolulu Star-Advertiser '],\n",
       " [\"Hi Dear R U Looking #madeonFiverr to design your desire? Coronavirus_ Senior Chinese officials 'removed' as death toll rises- #BBCNews #Coronavirus http://bit.ly/2vxYRJm\"],\n",
       " ['On top of that we still have the coronavirus thing.'],\n",
       " [\"Griveaux La #France est en danger Il y a le #Coronavirus, La Grippe, Mais le pire c'est La Branlette Qui nous déglingue un pays\"],\n",
       " ['Facebook Cancels Global Marketing Summit in San Francisco Over Coronavirus Fears '],\n",
       " ['oh god my grandma just basically said corona virus is gos punishing chinese and everyone else on earth '],\n",
       " ['Money & Markets is posted. Coronavirus and the Currency War https://home.solari.com/catherines-money-markets-report-february-13-2020/'],\n",
       " ['COVID-19: #China Reports 139 More Virus Deaths In Hard-Hit Province #virus #worldpowers #climatesecurity #unsc #breaking #wuhan #news #wuhancoronavirus #wuhanvirus #wuhancoronavirus #sars #who #coronavirus https://lnkd.in/eyC_Dj2'],\n",
       " ['#coronavirus ya tenemos el dato de los nuevos contagiados por el virus en las últimas 24 horas, lo que hace un total a nivel mundial de 66887 de infectados. 1523 decesos y 8058 pacientes que han vencido al #COVID19'],\n",
       " ['Hubei Province (Wuhan) confirmed #coronavirus cases supposedly fell today from 4.8k to 2.4k today...but the city is now on increased \"wartime measures\" where you can\\'t even leave your home except for extreme reasons. @HuXijin_GT how do you shill propaganda w/ a straight face?'],\n",
       " ['další velká tech akce zrušena kvůli obavám z #coronavirus '],\n",
       " ['[Cult of Mac] Health officials distribute iPhones to cruise ship hit with coronavirus '],\n",
       " ['Love in the time of coronavirus is a complicated thing http://www.abc.net.au/news/2020-02-15/virginia-trioli-weekend-reads-love-in-the-age-of-coronavirus/11966896'],\n",
       " ['1716 medics infected, 6 dead, China finally reveal weeks into coronavirus outbreak - Hindustan Times http://dlvr.it/RQ3xMl'],\n",
       " ['Corona virus'],\n",
       " ['You rank right up there with the corona virus. You must be so proud. '],\n",
       " ['More than 1,700 healthcare workers in Wuhan have gotten the coronavirus. A study found that 29% of infections were in medical staff. '],\n",
       " ['Because #CoronaVirus was first detected in China, Asian-Americans are being attacked, you know, only in America! #FridayReads'],\n",
       " ['¿Tendran algo para prevenir el coronavirus?? '],\n",
       " [' PREPPER . Actualización de datos COVID-19 Casos de coronavirus:66,900 Muertes: 1,523 Recuperado: 8.074 '],\n",
       " ['La Semana de la Moda de Londres abrió sus puertas con cautela, eclipsada por el coronavirus '],\n",
       " ['10757 persone in condizioni serie o critiche. Non so se questo sia un account serio ma sarebbe pesantissimo come bilancio. #coronavirus '],\n",
       " ['Ahora el #CoronaVirus se llama #COVID19 porque fue reportado oficialmente el 30/12/2019 El oftalmólogo #LiWenliang vio SIETE pacientes atendidos en el Hospital de #Wuhan 4 días antes y avisó, de comedido, a su chat de amigos La policía china le obligó a retractarse el 30/12/2019:'],\n",
       " ['9. Februar 2020 Eine Nachricht von St. Theresia, dem jungen Jesus, an Longines Marie Little Great Jacobo „Jetzt sind die Chinesen, die an dem jetzt stürmenden Coronavirus sterben, besonders die Chinesen, Märtyrer.\" „Das war\\'s.\" https://kolbemarie.blogspot.com/2020/02/blog-post_11.html?m=1'],\n",
       " ['#Coronavirus is a public health crisis. If it comes to your state, You’ll need #Medicaid expansion, Before it’s too late. #HealthPolicyValentine'],\n",
       " ['Pede prós china ir pro RJ depois do carnaval pq não quero coronavirus nao'],\n",
       " ['Is it true the staff at Mar-a-Lago have been infected with the coronavirus?'],\n",
       " ['Trump-loving evangelical swindler says coronavirus can be easily cured with ‘silver solution’ https://dailysoundandfury.com/trump-loving-evangelical-swindler-says-coronavirus-can-be-easily-cured-with-silver-solution/ via @dailysoundnfury'],\n",
       " ['Coronavirus: China Implements ‘Close Contact Detector’ in Efforts to Curb Virus Spread https://latesttechnews.org/technology-news/apps/coronavirus-china-implements-close-contact-detector-in-efforts-to-curb-virus-spread/'],\n",
       " [\"China's Hubei province reports 139 new coronavirus deaths \"],\n",
       " ['Today my students went on “Blind Dates” with books from our class library, spending a few minutes deciding if they’d like to read it. When I explained the assigned, one of my students shouted, “Ms. Brothers I can’t do that they might have the Coronavirus!”'],\n",
       " ['Visit our Facebook page to see us join @SanDiegoCounty public health officials to deliver an update on Novel Coronavirus at 4:00 pm PST. https://twitter.com/SanDiegoCounty/status/1228465212321198082'],\n",
       " ['I love Heathrow because it is very well connected with city center. #coronavirus #coronavirusuk #london #coronaviruswuhan #nCoV2019 #COVID19'],\n",
       " [\"Tokyo Olympics 'on track' with no contingency plans in place amid coronavirus outbreak - CNN \"],\n",
       " ['The cruise ship Diamond Princess has been quarantined for 2 weeks. They just let 11 people off today. Over 3500 passengers & crew still on board. Over 200 cases of coronavirus on that ship so far.'],\n",
       " ['Amid coronavirus fears, a second wave of flu hits US kids https://news.yahoo.com/amid-coronavirus-fears-second-wave-174350180.html?soc_src=community&amp;soc_trk=tw via @Yahoo'],\n",
       " [' y según las estadísticas también es igual al coronavirus? Cuyas cifras \"oficiales\" de los últimos días superan las 100 muertes diarias.'],\n",
       " ['In Shocking Admission, WHO Advisor Says Coronavirus May Infect Over 5 Billion People. '],\n",
       " ['We are fine. The orange leader shall cast his orange glow and decoronize the corona virus. We are fine.'],\n",
       " ['Coronavirus ha infectado a más de 64.000 personas http://enp.la/4317'],\n",
       " ['#coronavirus : et pendant qu on balance des informations sans preuves aucunes, le virus se propagerait dans l eau, dans l air et qu il serait résistant pendant plusieurs jours..on continue le fret international, avec des colis Amazon et made in china!Mais la blague intersidérale'],\n",
       " ['Only makes sense if you are a nutter! corona virus can be caught multiple times so you are just suggesting we kill the weak! there is no moral high ground in your offer unless you volunteer to get it first..confirmed'],\n",
       " ['#CoronaVirus #COVID19'],\n",
       " ['@jennyyangtv USA ill be quick, i (Binged) https://www.youtube.com/watch?v=OtPn6qDy5GU its 4 thousand miles away. Its too far and i have the Coronavirus '],\n",
       " ['Yo aveces no entiendo a los panameños, fren taban todos preocupados por el coronavirus, pero quieren una playa en una bahía contaminada . El proyecto de Fabregas no esta mal, pero quizas en un futuro. Si de verdad le importara iría mejorando el resto de la city por mientras.'],\n",
       " ['One Passenger from cruise ship docked in Sydney cleared of coronavirus fears '],\n",
       " ['80 ans tu as le coronavirus, papo, voilà'],\n",
       " ['Corona virus in one tweet. I’d still smash the back doors outta that tho. Bat chunks anyone?'],\n",
       " [\"The coronavirus has reportedly spread to North Korea. Experts say the country isn't equipped to f... https://news.yahoo.com/coronavirus-reportedly-spread-north-korea-163908984.html?soc_src=community&amp;soc_trk=tw via @Yahoo\"],\n",
       " ['Edmonton businesses seeing impact of China manufacturing disruptions from coronavirus.. #2019nCoV #Coronavirus AgNP Protection &gt;&gt; https://amzn.to/39p9RYi &lt;&lt;'],\n",
       " ['China reveals massive toll of coronavirus on health workers - ABC News - https://abcn.ws/38pNzpa via @ABC'],\n",
       " ['China’s Doctors, Fighting the Coronavirus, Beg for Masks http://a.msn.com/01/en-us/BB100yng?ocid=st2'],\n",
       " [\"Sur le long terme, le coronavirus a bien plus de chance d'accoucher d'un totalitarisme biosécuritaire que de déstabiliser Xi Jinping et d'imposer la liberté d'expression en Chine. Excellente analyse de @goldkorn\"],\n",
       " ['We were having a serious conversation about my having the coronavirus smh And also weird I didn’t get suspended too XD'],\n",
       " ['Coronavirus es cosa sería. Algunos entendidos dicen que es un arma biológica.'],\n",
       " ['Coronavirus spam emails are spreading Emotet Malware - https://ift.tt/2wbEBO2'],\n",
       " [\"Medical experts fear the coronavirus outbreak in China could be bigger than reported, the U.S. Army is taking steps to coordinate more with Europe over Russia, and this year's Oscars winner is a foreign film. http://themotleyexperience.com/2020/02/14/newsworthy-february-14th-2020/ #newsworthy #coronavirus #china #oscars\"],\n",
       " ['Amid coronavirus fears, a second wave of flu hits U.S. kids https://ti.me/39B4nK0?utm_source=twitter.com&amp;utm_medium=social&amp;utm_campaign=social-share-article'],\n",
       " ['California lab says it discovered coronavirus vaccine in 3 hours '],\n",
       " ['Javier Méndez acaba de inventar un nuevo tipo de Coronavirus.'],\n",
       " ['Cranberry Township man returns from Wuhan, China, while coronavirus has city under quarantine '],\n",
       " ['#14Feb El coronavirus causa pérdidas de más de 4.000 millones de dólares a aerolíneas http://bit.ly/3bCWi9D'],\n",
       " ['#COVID19 #coronavirus #China #Mercados #Oro #Forex $XAU'],\n",
       " [\"I'm not scared of no coronavirus cause i got my boys Ozzy and Drix proteccing me \"],\n",
       " ['En visita del Pdte @DiazCanelB a la Embajada de #China reiteró apoyo y solidaridad de #Cuba con el hermano pueblo chino afectado por el coronavirus Covid-19. Resaltó eficaz respuesta del gbno chino ante esta difícil situación y su convicción de q ganarán la batalla vs la epidemia '],\n",
       " ['Dos diputados británicos se aíslan por el coronavirus tras un congreso http://dlvr.it/RQ3xLb'],\n",
       " ['There is a Wilson in quarantine for coronavirus. We have someone on the front lines.'],\n",
       " ['I am more worried about catching the flu than I am about Corona virus. That is why I got my flu shot as well this year.'],\n",
       " ['This #coronavirus never runs out of surprises. '],\n",
       " ['Coronavirus don enter Africa. Chai make I go my village '],\n",
       " ['GENTE, QUIÉN GANO EL OSCAR A MEJOR PELÍCULA?? QUÉ ONDA EL CORONAVIRUS, YA MATÓ A TODOS?? Preguntas que me estuve haciendo estos días en el medio de la nada.'],\n",
       " ['China Reports Nearly Half a Million People Have Had Close Contact With Coronavirus Patients '],\n",
       " ['» ¡Impactante! Mhoni Vidente le pone fecha al fin del coronavirus (Video) https://epmundo.com/2020/impactante-mhoni-vidente-le-pone-fecha-al-fin-del-coronavirus-video/'],\n",
       " ['Yes @GregHunt &amp;our(?)CMO has us looking at #coronavirus ZERO deaths 15confirmed(10infected+5ok) While our aged per Royal Commish are dying on over2yr homecare wait 1200 people mostly appvd @NDIS dead(disabled does not mean terminal) hospital wait lists Negligent &amp; Jail!'],\n",
       " ['Se o Governo investir numa vacina contra o Coronavirus, Maia vai no STF exigindo que proteja o Coronavirus pos o mesmo é um ser vivo e não pode ser exterminado por um Governo de ultra-direita. Vai pro raio que o parta Rodrigo Maia!'],\n",
       " ['#Coronavirus #COVID19'],\n",
       " ['Hyperbolic, but not clickbait. It’s a fine line between the two, I know, but I’d say clickbait would be more like: “Here’s how the terrified tech industry is protecting themselves from the coronavirus”. Then the article reveals - gasp - it’s by some not shaking hands.'],\n",
       " ['Coronavirus contagion fears in Silicon Valley SEE DETAILS AT ==&gt; http://allexpressnews.com/virus.html #virus #coronavirus #sars #flu #deathtoll #china #trump #tiktok'],\n",
       " ['Checked your site. You are NOT updating accurate numbers on the COVID-19 cases in Japan spanning from Okinawa, Wakayama, Tokyo, Chiba, to the northernmost island of Hokkaido. There’s NO mention in your statement a/b the 1st FATALITY in Kanagawa Prefecture. #coronavirus #COVID19'],\n",
       " ['Brote epidémico extraño desata alerta en Nigeria causando 15 muertos #OtraDimensiónVzla #misterios https://codigooculto.com/2020/02/brote-epidemico-extranio-desata-alerta-nigeria-causando-15-muertos/ #brote #coronavirus #enfermedad #epidemia #fiebrelassa #nigeria #pandemia vía @codigoocultocom'],\n",
       " ['Reminder in the midst of all the Coronavirus news - wash your hands '],\n",
       " ['Iba caminando por la vereda pasan dos nenitos y uno me grito CORONAVIRUS!!! Que te pasa pendejo QUERES QUE TE ESTORNUDE ENCIMA???????? ni que fuera china enserio'],\n",
       " ['Es hora que las naciones de occidente le den una mano a China para resolver el problema del coronavirus. Es tiempo de soluciones. '],\n",
       " ['#Coronavirus ha infectado a más de 64,000 personas '],\n",
       " ['KLM apologizes for closing off toilet to Koreans amid coronavirus concerns on a recent flight '],\n",
       " [\"Can Morrison government cope with coronavirus with impact of Chinese pressure, education, tourism impacts, and China economy decline on exports. Guess not #auspol 'Things are changing so quickly': will Australia cope with coronavirus if the worst happens? \"],\n",
       " ['AUD/USD: Coronavirus not over, Australian labor data awaited http://dlvr.it/RQ3xHD'],\n",
       " ['China: 139 new coronavirus deaths in Hubei Province https://www.jpost.com/Breaking-News/China-139-new-coronavirus-deaths-in-Hubei-Province-617631?utm_source=dlvr.it&amp;utm_medium=twitter'],\n",
       " [\"At the rate this #coronavirus is spreading, back of the napkin math suggests in Two Months, almost a BILLION people will have been exposed to it. #Asymptomatic transmission is happening. #CoronavirusOutbreak #Coronavirustruth John's Hopkins data. https://gisanddata.maps.arcgis.com/apps/opsdashboard/index.html#/bda7594740fd40299423467b48e9ecf6\"],\n",
       " ['Gentiloni cree que el impacto del coronavirus dependerá de \"la duración del brote\" '],\n",
       " ['Exercițiile fizice, o alegere înțeleaptă! Unii chinezi profită din plin de timpul lor de stat în carantină #coronavirus #FightVirus'],\n",
       " ['Rick Scott defrauded Medicare, and now his friends are in charge of #coronavirus for Florida? @SenRickScott @SenSasse @SenatorTimScott @SenShelby @SenDanSullivan @SenThomTillis @SenToomey @SenatorWicker @SenToddYoung @GOP @SenateGOP @HouseGOP @GOPChairwoman @GOPLeader'],\n",
       " ['Das lesenswerte Porträt über \\u2066@WHO\\u2069 Chef \\u2066@DrTedros\\u2069 von \\u2066@kakape\\u2069 jetzt auf deutsch im \\u2066@Tagesspiegel\\u2069 Kampf gegen Coronavirus-Epidemie - Der WHO-Chef: Ein Arzt an seinen Grenzen #SDG3 #GobalHealth #Coronavirus #Ebola'],\n",
       " ['#Coronavirus latest: Beijing to quarantine all arrivals for 14 days '],\n",
       " ['Why the #coronavirus outbreak might be much bigger than we know by \\u2066@juliaoftoronto\\u2069'],\n",
       " ['Does a mask really help? #coronavirus #COVID19 #Bitcoin'],\n",
       " ['Coronavirus: Deutsche Experten hoffen auf Eindämmung von COVID-19 '],\n",
       " ['Going into week 3 of all schools in Vietnam on a forced government shut down because of the coronavirus. I’ve started to go a bit mad because of no work, and I know this because I’ve started running in my free time again, unprecedented madness '],\n",
       " ['You Can Catch The Coronavirus More Than Once, And The 2nd Time May Be De... https://youtu.be/MwJ5thwr4C8 via @YouTube'],\n",
       " ['Ué?¿ como assim?¿ não eram os chineses que foram para a Coreia que sofreram xenofobia por causa do surto do corona virus na china ???? Ele nem chinês é '],\n",
       " ['Coronavirus AKA COVID-9 ! GET YOUR BUTT MOVING &amp; GET FOOD AND WATER !!! https://youtu.be/X3wtfu_v19U via @YouTube'],\n",
       " ['China reporta otros 139 muertos por coronavirus en Hubei. #NoticiasTVN https://www.tvn-2.com/mundo/asia/China-reporta-muertos-coronavirus-Hubei_0_5511198909.html'],\n",
       " [\"So with all this Coronavirus craziness, is Madagascar's port still open? \"],\n",
       " ['CORONA VIRUS HAIR? SORRY!'],\n",
       " [\"Coronavirus m'a permis de faire ma plus belle PV en bourse en seulement 15 jours merci #novacyt\"],\n",
       " ['#Egypt confirms first #coronavirus case in #Africa http://bit.ly/38vfkwL #CoronaVtj'],\n",
       " ['Coronavirus contagion fears in Silicon Valley SEE DETAILS AT ==&gt; http://allexpressnews.com/virus.html #virus #coronavirus #sars #flu #china #trump #tiktok'],\n",
       " ['Redmi Note 8 Price in India Hiked, Xiaomi Blames Supply Chain Troubles Over Coronavirus Outbreak https://latesttechnews.org/technology-news/android/redmi-note-8-price-in-india-hiked-xiaomi-blames-supply-chain-troubles-over-coronavirus-outbreak/'],\n",
       " ['Some people don’t like others using #CoronaVirus in distasteful jokes as you have. Suggesting death to innocent members of society &amp; your fear of a continent because of 1,000 deaths coupled with your foul attitude also come across as crude, prejudice and narrow minded'],\n",
       " [\"Man kept 'in isolation' over coronavirus fears at Heriot-Watt University given all clear https://www.dailyrecord.co.uk/news/scottish-news/man-kept-in-isolation-over-21499161 via @sportsdrag #sportsdrag\"],\n",
       " ['Person evaluated for coronavirus returned to ICE '],\n",
       " ['Bloomberg Camp Mocks Trump’s Coronavirus Comments in New Video: ‘Everyone In This Room Is Now Dumber…’ https://www.mediaite.com/election-2020/bloomberg-camp-points-and-laughs-at-trumps-coronavirus-comments-everyone-in-this-room-is-now-dumber/ #SmartNews'],\n",
       " ['Stasera sono venuti due cinesi a mangiare, e io mi sento già il corona virus '],\n",
       " ['Coronavirus: Everyone returning to Beijing must go into quarantine or be punished, China warns - https://www.alhuria.com/2020/02/108551/coronavirus-everyone-returning-to-beijing-must-go-into-quarantine-or-be-punished-china-warns/'],\n",
       " ['As big of a deal they have made about Coronavirus or w/e and they’re not doing anything about 2020 Olympics. Lol oh'],\n",
       " ['Cambridge students told by racists to go back to own country amid coronavirus Racism directed towards East Asian students studying at elite Cambridge University has increased amid the global coronavirus outbreak '],\n",
       " [\"Unfortunately I am sure the Corona virus isn't helping any. But yeah seems pretty likely. There may be some wiggle room on that price because of the ability to discount bulk purchases but not too much.\"],\n",
       " [\"Tokyo Olympics 'on track' with no contingency plans in place amid coronavirus outbreak - CNN \"],\n",
       " [\"Don't bring the dreaded coronavirus back to the USA.\"],\n",
       " ['Hari ini BNPB, Kemenkes, Kemenko PMK, WHO dan rekan2 media. Mohon doa restu dari masyarakat untuk proses pemulangan 238 peserta yg telah diobservasi di Natuna dan dinyatakan sehat. #CoronaAlert #COVID_19 #Covid #coronavirus #SiapUntukselamat @KemenkesRI @kemenkopmk @WHOIndonesia'],\n",
       " ['Y q coronavirus'],\n",
       " ['เนปาลประกาศตรวจเข้มผู้เดินทางจาก\\u200bจีน\\u200bและไทย\\u200bที่เดินทางถึงสนามบิน\\u200bTribhuvanเพื่อคัดกรองเชื้อ\\u200b #coronavirus (#COVID19) หากเจ้าหน้าที่สงสัยว่าติดเชื้อ จะต้องอยู่ในโรงพยาบาลหรือถูกกักกัน #โคโรนาไวรัส\\u200b #ไวรัสโคโรน่าสายพันธุ์ใหม่2019 #COVID_19'],\n",
       " ['Atualizações sobre o #coronavirus (15/02) -&gt; 66,900 casos em 29 países -&gt; 10,759 em estado grave -&gt; 8,074 curados -&gt; 1,523 mortos #Convid19 #CoronavirusUpdates'],\n",
       " ['Mesir mengkonfirmasi kasus coronavirus, yang pertama kali dilaporkan di Afrika Orang yang trinfeksi merupakan WNA dan telah dimasukkan ke dalam isolasi di rumah sakit Pasien belum menunjukkan gejala dan dalam kondisi stabil #CoronavirusOutbreak'],\n",
       " ['Si, el coronavirus es una quimera de alto grado de mutabilidad....eso significa que puede contagiarse a personas, animales y durar en el ambiente durante semanas.... No te lo van a decir porque es un gobierno autoritario y porque piensan que así lo pueden controlar '],\n",
       " ['Thank you very much Christophe. Appreciate the focus on the impact of the Coronavirus on the Chinese economy. Have a great weekend.'],\n",
       " ['Según Global Times hay 1716 miembros del cuerpo medico en #China infectados por el coronavirus , de los cuales han muerto 6. El ultimo informe indica que ya son 63720 infectados por coronavirus y 1521 muertos. #COVID19 #Mercados #Oro #Bitcoin'],\n",
       " ['Paper money and coins transmit the #coronavirus. Pay with #cryptos #bitcoin'],\n",
       " ['Xiaomi Sees Q1 Sales Hit Over Coronavirus, Believes Demand Will Bounce Back https://latesttechnews.org/technology-news/xiaomi-sees-q1-sales-hit-over-coronavirus-believes-demand-will-bounce-back/'],\n",
       " ['The New Coronavirus: New Coronavirus Has Likely Already Spread Globally https://www.spiegel.de/international/world/new-coronavirus-has-likely-already-spread-globally-a-f0c171b4-ed60-46ac-ae5b-5473cb49e806 via @derspiegel'],\n",
       " ['corona virus???'],\n",
       " ['CORONA VIRUS Y GAS SARIN Son la misma cosa usada en la 1a Gmundial. A nadie se le ha ocurrido que esto es un CHERNOBYL de armas químicas? Como es posible que los chinos, sin saber realmente la consecuencia se lanzarán a hacer un hospital gigantesco en 19 días? Sabían la causa?'],\n",
       " ['*coronavirus mirando desde atrás*'],\n",
       " ['“At least 6.5 per cent of the world’s population is under lockdown due to coronavirus” Is it worth asking \\u2066@ABCFactCheck\\u2069 for a “Fact Check” on that figure?'],\n",
       " ['El coronavirus obliga a más de 280 millones de escolares chinos a estudiar en casa por Internet https://elpais.com/sociedad/2020/02/14/actualidad/1581691357_050998.html @ulahybelpez @renatocanales @MantillaIgnacio @catiquinto @florezjavier @suertedetrebol @Solano @Piris @maravilla71 @Brigittelgb'],\n",
       " ['Oggi nessuno aveva paura del coronavirus'],\n",
       " ['BBC News - Coronavirus: How do you self-isolate successfully? '],\n",
       " ['Se suma Egipto a los países con alguna persona contagiada con el coronavirus, la primera en el continente africano. https://www.excelsior.com.mx/global/el-coronavirus-llega-a-africa-confirman-el-primer-contagio/1364182'],\n",
       " ['CORONAVIRUS - LATEST?! YIKES!. 14TH FEB!! https://youtu.be/SZYGVm95OPA via @YouTube'],\n",
       " ['Mil 700 profesionales médicos de China han perdido la vida en la batalla contra el coronavirus '],\n",
       " ['Aminda Smith, Of Martyrs and Maladies: Some Thoughts on the Coronavirus – positions politics http://positionswebsite.org/aminda-smith-of-martyrs-and-maladies-some-thoughts-on-the-coronavirus/'],\n",
       " ['Mientras más distancia ponga usted, más saludable. Eso es peor que el coronavirus.'],\n",
       " ['Hope the movie doesn’t say Coronavirus outbreak was due to Indian Government conspiracy '],\n",
       " ['ACTUALIZACIÓN: Llegan los datos del día desde #China : - 66.279 infectados por #coronavirus en el país (2.420 más que ayer) - 10.730 de ellos están en estado crítico (621 más que ayer) - 1.520 fallecidos (161 más que ayer) - 7.635 recuperados del virus (912 más que ayer)'],\n",
       " ['pray for me. nothing happened to me it’s just that corona virus is in San Antonio and immune system is close to dead'],\n",
       " [\"Nigeria should put measures in place against this Corona virus. It's only money they budgeted, no news about quarantine centers, medical supplies, research, sensitization etc. It's #362m that we only heard about.\"],\n",
       " ['Oggi 14 febbraio questi i casi di #coronavirus confermati da @WHO. Ogni 1000 in Cina, 10 nel resto del mondo di cui 4 sulla #Diamond_Princess e 1 in Europa #COVID19'],\n",
       " ['Bueno el coronavirus no me preocupa porque Panama es de temperatura caliente. .COMO CIUDADANO ME PREOCUPAN USTEDES LOS POLITICOS '],\n",
       " ['@realDonaldTrump send your best doctors to Cambodia and Vietnam and look hard at this Wuhan Coronavirus.'],\n",
       " [\"Ronaldinho Gaúcho e seus amigos superestimaram quantidade de casos não notificados do coronavírus. 'Eu vi no Não Salvo', diz OMS https://glo.bo/38ula1d\"],\n",
       " ['He says the coronavirus will be gone in April so he’ll have to come up with a different excuse '],\n",
       " ['Global Oil Demand ‘Hit Hard’ by Coronavirus, IEA Says In Forecast What does the Coronavirus have to do with the demand of global oil markets? '],\n",
       " ['#financial stocks relative to #technology since the #coronavirus outbreak. The largest sector that controls the price movement of the $SPY is still being bought by Institutions (IMF). The game plan is to $BTFD on Technology Stocks $AAPL $MSFT https://koyfin.com/s/PAfCAAC5Ts'],\n",
       " ['Funeral Home Workers Across China Sent to Coronavirus Epicenter of Wuhan to Handle Cadavers Piling Up '],\n",
       " ['Yo no sé ustedes, pero yo no me creo para nada las cifras que da el gobierno chino de víctimas de coronavirus.'],\n",
       " ['Cientistas superestimaram quantidade de casos não notificados do coronavírus, diz OMS https://glo.bo/38ula1d'],\n",
       " ['Chinês é condenado a 1 ano e 4 meses por agredir oficial de combate ao coronavírus https://glo.bo/38vjh4j'],\n",
       " ['You Can Catch The Coronavirus More Than Once, And The 2nd Time May Be De... https://youtu.be/MwJ5thwr4C8 via @YouTube'],\n",
       " ['Nemak resentiría \\x91contagio\\x92 de automotrices por coronavirus http://dlvr.it/RQ3x5H'],\n",
       " ['A day of life in #china - #coronavirus '],\n",
       " ['minha prima perguntando pro meu irmão se ele vai tomar a vacina do coronavirus amanhã meu irmão dizendo pra minha prima que o coronavirus não vai chegar no Brasil pq dados científicos dizem que o calor mata o vírus os dois a 80 km/h'],\n",
       " ['China is killing dogs inhumanely esp on Coronavirus scare. Hope something can be done?!'],\n",
       " ['TCAACCGCTG'],\n",
       " ['For the Centers for Disease Control & Prevention (CDC), central to the battle against the coronavirus, Trump proposed a drop in discretionary funding to $5.627 billion. In contrast, Congress raised this CDC budget from $6.544 billion in fiscal 2019 to $6.917 in fiscal 2020. '],\n",
       " ['I rarely cuss, but OUR STATE OF HAWAII GOT ME ALL THE WAY FUCKED UP!! This is their fault that the #CORONAVIRUS is most likely here, this shit all could have been prevented..'],\n",
       " ['« Le pangolin tient-il sa revanche avec le nouveau coronavirus ? »...'],\n",
       " ['Malam tadi aku mimpi pasal Corona virus dowh. Ada sorang lelaki chinese datang kat aku. Pakai macam doc, sarung tangan bagai ah. Tapi dia bawak seekor itik. Dia nak sebarkan virus tu. Semorang pakai baju tutup semua siap keselamatan lagi. Aku je yg tak. Dia kejar aku dowh. Taguna'],\n",
       " ['No one seems to be as worried about this as they are about the Coronavirus.'],\n",
       " ['Ps: eu não estou com Corona vírus.'],\n",
       " ['#新冠肺炎 19名康复医务人员捐献血浆. 9名新冠肺炎重症患者输入抗体血浆明显好转. ※2/15/2020,长江日报 #武汉加油 #武汉挺住 #新型肺炎 #coronavirus #Wuhan #武汉 #武漢 #China #中国 #frontpage #newspapers #2020年のToday'],\n",
       " ['Coronavirus contagion fears in Silicon Valley SEE DETAILS AT ==&gt; http://SURGICALMASK.vuhere.com #virus #coronavirus #sars #flu #china #trump #tiktok'],\n",
       " ['Explosão em casos de coronavírus envia ouro para 10 dias de alta https://blockchainoticias.com/2020/02/14/explosao-em-casos-de-coronavirus-envia-ouro-para-10-dias-de-alta/'],\n",
       " ['Coronel debe ser porque al coronavirus se le esta dando demasiada propaganda quizas por que geopoliticamente conviene. No se'],\n",
       " [\"#Coronavirus Scénario possible : le coronavirus arrive en Afrique. Les clandestins arrivent comme dab par bateau. Destination Italie France ou Espagne. Le sud de l'Europe va morfler grave.\"],\n",
       " ['Even on Valentine’s Day i gotta beat my own meat.......smh this coronavirus got my love life fucked up'],\n",
       " ['From China with #coronavirus '],\n",
       " ['This where coronavirus, Ebola, pneumonia and all that shit came from '],\n",
       " ['Be aware of coronavirus, are you from wuhan'],\n",
       " [\"Coronavirus spreads to Egypt as country confirms Africa's first case #CoronavirusOutbreak\"],\n",
       " ['Contro coronavirus 2020 Per commemorare quello successo a Wuhan Se qualcuni aziende vogliono fare la contribuzione (maschera, vestiti protetivi...) al medico personale dellacina, mi potrete contrattare o… https://www.instagram.com/p/B8kPv6zI99U/?igshid=l6eemxjl9gdb'],\n",
       " ['komplo teorisi 1523 ölüm vakası var coronavirus ile 1 japon hariç istisnasız ölen hepsi çin uyruklu ölenlerin 80% 60 yaş üzere çinin nüfus sıkıntısı olduğu malum gerisini siz düşünün artık benden bu kadar #coronavairus'],\n",
       " ['China registra 139 mortos por Coronavírus em Hubei http://atarde.uol.com.br/saude/noticias/2119279-china-registra-139-mortos-por-coronavirus-em-hubei'],\n",
       " ['Dicen qué ahí te pegan el coronavirus '],\n",
       " ['The head of the IMF says global central banks and governments may need to unite to fight the economic fallout from the coronavirus. '],\n",
       " ['The head of the IMF says global central banks and governments may need to unite to fight the economic fallout from the coronavirus. '],\n",
       " ['During this #coronavirus epidemic in China, we see more and more long lines forming across the entire country. They’re running low on food and supplies. If the world’s second largest economy can’t handle COVIN19 disaster, what about other countries? '],\n",
       " ['¡Increíble! Esto fue lo que dijo Nostradamus del coronavirus (Profecía) http://j.mp/2OPkmfF ,.,'],\n",
       " ['Going through a thought experiment about the coronavirus and how long we might be able to stay at home and not interact with other people.'],\n",
       " ['Coronavirus Costs China’s Economy | NTDTV https://youtu.be/8nyXDH8wxiA @YouTubeさんから'],\n",
       " ['Wilkmaster is doing me now in his likes with the coronavirus like the mask from my last videoclip and he repeated 4 like the number in the video before, he is imitating me like always, now with virus not CW '],\n",
       " ['A yo this Corona virus is bigger than what the news is reporting. Why is the US not talking about this. It’s some serious shit going on.'],\n",
       " ['Drunk toffs on the train. Some discussing driving home from Shawford (they’re drunk) and now should they be going near “Asians” because of corona virus. Temptation to sneeze over them is high...'],\n",
       " ['Each time I saw a bad news from East Turkistan I said to myself but worse and worse...Now Uyghurs are exposed to the coronavirus in concentration camps and famine threat outside the camps... Maybe there will be even wrose... '],\n",
       " ['Provincia Hubei informó 2420 nuevos casos de #coronavirus el 14 de febrero, con 139 nuevas muertes. El número total de infecciones en la provincia aumentó a 54406, con 1457 muertes.(Global Times) YA ES DIFÍCIL BUSCAR DATOS TOTALES CHINOS. PORQUE? #COVID19'],\n",
       " ['Wait, why would coronavirus affect the production???? '],\n",
       " ['Reminder: Coronavirus Emergency Does Not Trump HIPAA Privacy Rule '],\n",
       " ['Fifth case of coronavirus reported in British Columbia | Vancouver Sun “She came home from Shanghai through YVR and travelled by private vehicle to her home in the Interior” The flights from China to Vancouver continue every single day. #coronavirus '],\n",
       " ['COVID-19 coronavirus spreads to Africa as Egypt confirms first case '],\n",
       " ['World Health Organization: Coronavirus Must Generate ‘solidarity Not Stigma’ https://www.scoop.co.nz/stories/WO2002/S00101/world-health-organization-coronavirus-must-generate-solidarity-not-stigma.htm'],\n",
       " ['New images of the novel coronavirus were released Friday from the National Institute of Allergy and Infectious Diseases’ Rocky Mountain Laboratories in Hamilton, Mont. '],\n",
       " ['YOU NEVER VISIT JAPAN AND CHINA!!!TOKYO OLYMPIC CANCELLATION SOON!!! @realDonaldTrump @Tokyo2020 @Olympics @olympicchannel #coronavirus #2019nCoV #COVID19 #China #TOKYO2020'],\n",
       " ['Facts Vs. Fears: Five Things To Help Weigh Your Coronavirus Risk https://khn.org/MTA1MjM2NA via @KHNews'],\n",
       " ['Atlanta (GA) Business Journal: Atlanta developers design blockchain-enabled hashlog to track coronavirus outbreak'],\n",
       " [\"Coronavirus: Beijing orders 14-day quarantine for returnees: People returning to China's capital are told to stay at home for two weeks, or face punishment. http://dlvr.it/RQ3x1b\"],\n",
       " ['La enfermedad del coronavirus se ha cobrado la vida de más de 1.400 personas y se ha extendido a una gran cantidad de países en el mundo. '],\n",
       " ['Not good when the healthcare workers die from it. China says 6 health workers have died from coronavirus and another 1,716 have been infected '],\n",
       " ['Thank you @avatorl for your hard work on this... #coronavirus #CoronavirusOutbreak #COVID19'],\n",
       " ['With ya all the way on this. Have seen Jim Baker selling miracle a cure to the coronavirus? For $300. It is the same fucking thing'],\n",
       " ['#Vietnam announced it has blocked one #CruiseShip from docking over fears of the #Coronavirus that is sweeping through #China, according to state media outlets. It isn’t clear if there are any confirmed cases of #COVID19 onboard the ship.'],\n",
       " ['A coronavirus prank by two teens at an Illinois Walmart results in a $10,000 loss... #CoronavirusOutbreak #COVID19 #UnitedStates #Coronavirus #Walmart #Illinois'],\n",
       " ['#14Feb | Esta es la lista de los países y territorios que notificaron contagios y fallecimientos por el nuevo coronavirus, surgido en diciembre en la ciudad china de Wuhan y que ha dejado al menos 1.380 muertos y unos 64.000 contagiados en China. '],\n",
       " ['Impacto del brote de coronavirus en turismo global llegaría a US$80 mil millones http://bit.ly/31WzvBl'],\n",
       " ['It seems just about every day we hear about an incredible medical breakthrough. FOX 11’s Gina Silva found one company that could make a mark in the effort to stop the coronavirus. @ginasilvafox11'],\n",
       " ['¿#Tokio2020 en peligro? Esto dice la #OMS sobre cancelar las Olimpiadas por #coronavirus https://mile.io/3bDXeup'],\n",
       " ['Yu Hui asegura ser víctima de bullying por el coronavirus: \"Me dicen que tengo el virus, que me aleje\" https://www.publimetro.cl/cl/entretenimiento/2020/02/14/yu-hui-bullying-coronavirus-me-dicen-tengo-virus.html'],\n",
       " ['@IBM pulling out of @RSAConference. Is this an overreaction? There are only two confirmed cases of #coronavirus in the #BayArea and most vendors from central China have cancelled attendance at RSA.'],\n",
       " [' Debido a la escalada de contagios de coronavirus, en China crearon una app para identificar a personas que han estado en riesgo de infectarse; la intención es alertar a los usuarios para que tomen precauciones '],\n",
       " ['Coronavirus COVID-19 Global Cases by Johns Hopkins CSSE Last Updated at (M/D/YYYY) 2/15/2020 8:33:02 午前 https://gisanddata.maps.arcgis.com/apps/opsdashboard/index.html#/bda7594740fd40299423467b48e9ecf6'],\n",
       " ['Raga sono andata un attimo in bagno, mi sono persa il momento in cui a #propagandalive hanno smesso di parlare di Sanremo e coronavirus e hanno fatto un appello per Patrick George Zaki? Perché vi si vuole un gran bene, ma quei braccialetti gialli vorranno pur dire qualcosa.'],\n",
       " ['#coronavirus #ValentinesDayMemes #UmbrellaCorporation'],\n",
       " ['Corona virus in a box for dinner tonight #FridayNight'],\n",
       " ['Coronavirus podría ser causal de suspensión del Festival de #Viña del #Mar • La Seremi de Salud precisó que tras decretarse la alerta sanitaria, se cuenta con la facultad de suspender actividades masivas, entre ellas, el certamen viñamarino. https://m.facebook.com/story.php?story_fbid=2270853259884750&amp;id=1575838689386214'],\n",
       " ['Trump wants Congress to cut the budget for the National Institute of Allergy & Infectious Diseases (NIAID) by $430 million to $5.446 billion for 2021. @HouseDemocrats want the 2020 budget for NIAID, key in combating the coronavirus, raised from $5.545 billion to $5.876 billion '],\n",
       " ['We are calling on the PNP spokesman on health to issue a statement about the fact that all 3 people in isolation have all tested negative for the corona virus. @JamaicaPNP @PNPYOJa @LambertBrownJa @2Brushie @pnporangearmy'],\n",
       " ['Coronavirus plasma injection | Malibu Colony Tribune '],\n",
       " ['Doctors fight coronavirus outbreak with drugs that target HIV, malaria and Ebola '],\n",
       " [\"I'm not into conspiracies, but has anyone suggested that perhaps this coronavirus may have come from Chinese labs who were attempting to create bio-terrorist methods? That somehow it escaped the labs?\"],\n",
       " ['Hey @TomPerez, FUCK YOU for what you just did to Iowa! The app issue was your fault and you were more than happy to let the IDP take the blame. I hope you get coronavirus.'],\n",
       " ['Podria ser que estaban infectádos y que hubiera otro agente viral/bacteria.No leí que se hicieron test de otros probables agentes causales. O ya habían establecido que se les hacen el panel de otros coronavirus y demás. ?? El comportamiento por edad y sexo es interesante'],\n",
       " [\"Counties Effected: 28 R0 : 2.6 (Imperial) R0 : pronounced R-nought It's the value that approximates the average number of new cases that result from one case Per CCP, Asymptomatic Patients are no longer be counted as officially confirmed #COVID19 #Coronavirus\"],\n",
       " [\"Coronavirus can be spread by people who don't show symptoms, CDC warns SURVIVE SEE DETAILS AT ==&gt; http://CORONAVIRUS.VUHERE.com #virus #coronavirus #sars #flu #china #trump #tiktok\"],\n",
       " ['#LEPInternacional Se eleva a 1,524 el número de muertos por el nuevo #coronavirus en China. '],\n",
       " ['Tianjin, una ciudad del norte de China, comenzó a prohibir el consumo de animales salvajes para combatir el #coronavirus. '],\n",
       " ['#WHO accused of being ‘affiliated’ with Beijing #Coronavirus '],\n",
       " ['#JabatanPeneranganTerengganu #SayangiMalaysiaku #BeautifulTerengganu #KemakmuranBersama #PMRKtrG #JPTU #watlakerdoh #coronavirus '],\n",
       " ['Eu doente fudido e a minha tia entra no quarto falando pra eu me isolar no quarto que eu tô com Corona vírus BLZZZZZZZZ,,'],\n",
       " ['#Cairo #Coronavirus: l’Afrique enregistre son premier cas en #Egypte -'],\n",
       " ['#WuhanStrain #2019_nCov #COVID19 \"In summary, somebody was entangled with the evolution of 2019-nCoV coronavirus. In addition to origins of natural recombination and intermediate host, the killer coronavirus probably originated from a laboratory in Wuhan.” '],\n",
       " ['#CORONAVIRUS #COVID19 #VIRUSCORONA Situación global: 23:00 hrs GMT - 14.02.20 (+) = incremento últimas 24 hrs. #Infectados: 66.900 (+6.493) #Críticos: 10.759 (16,1%) #Fallecidos : 1.523 (+153) todos en China menos 3 #Total_países: 29 (+1) Link: https://worldometers.info/coronavirus/'],\n",
       " ['Why are you running a sustained anti #China campaign David ? I am NOT running an anti-China campaign. Just reporting what is out there. 90% of my #coronavirus tweets are by Chinese people living in China now. By the reposne rate [1k to 5k] of each post, people like to see it.'],\n",
       " ['Roses are red, IBM is Big Blue. It’s out of RSA Conference after coronavirus review: IBMers will not attend infosec event over ‘health concerns’ https://anith.com/roses-are-red-ibm-is-big-blue-its-out-of-rsa-conference-after-coronavirus-review-ibmers-will-not-attend-infosec-event-over-health-concerns/'],\n",
       " ['مقطع مسرب من الصين عن قتلى فيروس كورونا واعتقال المصور Corona Virus https://youtu.be/DDKvG2MNUqM عبر @YouTube'],\n",
       " [\"As Coronavirus Affects 'One Human Family,' WCC Emphasizes Accurate Information, Practicing Prevention https://ift.tt/326808x\"],\n",
       " ['Pasa no sólo en Ecuador. Para quienes gustan de llamar \"aldeas\" a nuestras ciudades. El temor es alto y causa reacciones frente a la desinformación rf #coronavirus '],\n",
       " ['China: más de 1.700 trabajadores de la salud con el coronavirus https://oncubanews.com/articulos-revista/china-mas-de-1-700-trabajadores-de-la-salud-con-el-coronavirus/'],\n",
       " [' Serpientes, murciélagos, civetas… ¿de dónde proviene el coronavirus de Wuhan? #Análisis'],\n",
       " [\"That Shit ain't Funny Teens Prank Riders by Spilling ‘Coronavirus’ on Subway — But MTA Isn’t Laughing http://a.msn.com/03/en-us/BBZX0In?ocid=st\"],\n",
       " [\"Televangelist sells $125 'Silver Solution' as cure for Coronavirus \"],\n",
       " ['#JabatanPeneranganTerengganu #SayangiMalaysiaku #BeautifulTerengganu #KemakmuranBersama #PMRKtrG #JPTU #watlakerdoh #coronavirus '],\n",
       " ['Gonna be live at 8pm EST for the first time all week. I had the corona virus SORRY&lt;3 '],\n",
       " [\"Coronavirus can be spread by people who don't show symptoms, CDC warns SEE DETAILS AT ==&gt; http://SURGICALMASK.vuhere.com #virus #coronavirus #sars #flu #china #trump #tiktok\"],\n",
       " ['gente a @biaa_maximo tá com coronavirus ,n cheguem perto dela'],\n",
       " ['Me duele la garganta y hace años que no me pongo malo así que creo que es el coronavirus ayuda donadme al paypal '],\n",
       " ['“I think this might result in a significant change in thinking in terms of how people do this sort of outsourcing work.” You frickin think? @realDonaldTrump told U all that 3 yrs ago Biotech start-ups hit by coronavirus work stoppages https://cen.acs.org/content/cen/articles/98/i7/Biotech-firms-consider-contingency-as-the-coronavirus-outbreak-hits-CROs.html via @cenmag'],\n",
       " ['Avanza, avanza. Tenetevi pronti e non pensate di essere salvi. #coronavirus '],\n",
       " ['エジプトで初めてのコロナウイルスの感染者、病院に隔離されたが、詳細は不明。 First case of coronavirus confirmed in Egypt: Health ministry - Politics - Egypt - Ahram Online '],\n",
       " ['cc @mikequindazzi @antgrasso @fisher85m How contagious is the Wuhan coronavirus? http://wef.ch/2RDj1u8 #disease #health rt @wef'],\n",
       " [' VÍDEO: Lo que debemos hacer para protegernos del coronavirus '],\n",
       " ['The escalation of the TRUMP machine and the CDC stating that the coronavirus could possibly affect 67% of the worlds population. That’s billions of people. Makes me think of the END OF DAYS or ARMAGEDDON. @lainasivas @LorettaYoung3 @pglynn61 @lainasivas @vancitydwell'],\n",
       " ['NYT記事もファクトベースで大変読みやすいのでおすすめ。How Bad Will the Coronavirus Outbreak Get? Here Are 6 Key Factors - The New York Times '],\n",
       " ['#新冠肺炎 零点以后，战疫在继续…… ——直击夜幕下的城市守护者. ※2/15/2020,长江日报 #武汉加油 #武汉挺住 #新型肺炎 #coronavirus #Wuhan #武汉 #武漢 #China #中国 #frontpage #newspapers #2020年のToday'],\n",
       " ['\"We\\'re seeking further clarity on how clinical diagnosis is being met to ensure OTHER respiratory illnesses, INCLUDING INFLUENZA, are not getting mixed into the [coronavirus] data,\" WHO Director-General Dr. Tedros Adhanom Ghebreyesus said during a briefing Friday.'],\n",
       " ['Corona virus sweater lookin fire'],\n",
       " ['Corona vírus '],\n",
       " ['Vancouver liquor store shamed over #coronavirus joke has many scratching their heads #vanpoli'],\n",
       " ['#新冠肺炎 2/13-2/14/2020 https://twitter.com/menghu_nankuru/status/1228283838452752384?s=21 #武汉加油 #武汉挺住 #WuhanPneumonia #新型肺炎 #coronavirus #Wuhan #武汉 #武漢 #China #中国 #上海 #Shanghai #frontpage #newspapers #2020年のToday'],\n",
       " ['You Can Catch The Coronavirus More Than Once, And The 2nd Time May Be Deadlier https://youtu.be/MwJ5thwr4C8 via @chrismartenson'],\n",
       " ['Nobody trusts Senate \"No Witnesses Coverup\" Republicans with #coronavirus truths, @MikeLeeforUtah @SenMcSallyAZ @MarthaMcSally @JerryMoran @lisamurkowski @RandPaul @sendavidperdue @senrobportman @robportman @SenatorRisch @SenPatRoberts @SenatorRounds @SenatorRomney @marcorubio'],\n",
       " [\"Coronavirus airvirus supervirus we shall never serve them in God's name\"],\n",
       " ['Better watch out little protestors. BC has another case of coronavirus! Coronavirus update: 5th case revealed in B.C. '],\n",
       " ['Fake flyers and face-mask fear: California fights coronavirus discrimination - http://www.latestcommentary.com/fake-flyers-and-face-mask-fear-california-fights-coronavirus-discrimination/ #LatestComments'],\n",
       " ['Just the flu they say! #CoronaVirus #WuFlu #CoVid19'],\n",
       " [\"延期するなら中止でいいと思う。 Tokyo Olympics have no 'Plan B' for coronavirus, organizers say https://nypost.com/2020/02/14/tokyo-olympics-have-no-plan-b-for-coronavirus-organizers-say/?utm_source=twitter_sitebuttons&amp;utm_medium=site%20buttons&amp;utm_campaign=site%20buttons via @nypost\"],\n",
       " ['En direct de Yokohama... #coronavirus '],\n",
       " ['* as there are reports the numbers which are Much Higher than CCP Official numbers ** numbers are down because the CCP changed how they count Possible #COVID19 #Coronavirus'],\n",
       " ['Found a take worse than \"eat silver to kill the coronavirus\" '],\n",
       " [\"Coronavirus can be spread by people who don't show symptoms, CDC warns TRADE GOODS IN A CRISIS WITH==&gt; http://BLACKFRIDAY.vuhere.com #virus #coronavirus #sars #flu #china #trump #tiktok\"],\n",
       " ['tava dormindo na moral hj de tarde ai meu pai falou q eu acordei do nada e comecei a falar de coronavirus ???'],\n",
       " ['Cuando Colombia está preocupada por el #coronavirus #googletrends'],\n",
       " ['We just got lucky with a shipment of mask!!! Come get them they will be gone fast! #2heartsmedical #webstertx #coronavírus #mask #facemask #halyard #immunesupport #immunesystem #lowimmunesystem @2 Hearts Medical https://www.instagram.com/p/B8kPkUdnEG_/?igshid=cugqecsk537s'],\n",
       " ['No tenemos coronavirus pero estamos en terapia intensiva por el correavirus, y su SSXXIvirus que ataca lentamente y es más mortal, contagiados por Cuba y Venezuela, Chile está siendo atacado!...Argentina con una metástasis de SSXXI-corrupciónvirus... '],\n",
       " ['You Can Catch The Coronavirus More Than Once, And The 2nd Time May Be De... https://youtu.be/MwJ5thwr4C8 via @YouTube'],\n",
       " ['Lo que pides en aliexpress / El corona virus que te llega '],\n",
       " ['¡Adiós coronavirus! Los dos pacientes que tenían Covid-19 ya fueron dados de alta. #España https://www.vanguardiaveracruz.mx/ya-no-hay-coronavirus-en-espana/'],\n",
       " ['No hay Plan B, los Juegos Olímpicos serán en Tokio No hay un Plan B para los Juegos Olímpicos programados para dentro de cinco meses en Tokio a pesar del brote de coronavirus en la vecina China. http://beckyreynoso.mx/2020/02/no-hay-plan-b-los-juegos-olimpicos-seran-en-tokio/'],\n",
       " [\"The health of IBMers is our primary concern as we continue to monitor upcoming events and travel relative to Novel Coronavirus (COVID-19). We are cancelling our participation in this year's RSA conference.\"],\n",
       " ['#e_RadioUS Families trying to adopt from China are facing indefinite delays due to coronavirus: ‘It’s heartbreaking’ https://e-radio.us/families-trying-to-adopt-from-china-are-facing-indefinite-delays-due-to-coronavirus-its-heartbreaking/'],\n",
       " ['ICYMI: Hey, coronavirus and the rest of the world, give China a break! — RT World News '],\n",
       " ['Indicador político | @carlosramirezh | Ni Lozoya, ni rifa de avión, ni INE, ni coronavirus, ni jueces, sino el PIB '],\n",
       " ['#China reporta otros 139 muertos por #coronavirus en Hubei. ►http://bit.ly/2OUKjKO'],\n",
       " ['#JabatanPeneranganTerengganu #SayangiMalaysiaku #BeautifulTerengganu #KemakmuranBersama #PMRKtrG #JPTU #watlakerdoh #coronavirus '],\n",
       " [' \"Peso perfila ganancia semanal y mejor nivel en 18 meses pese al coronavirus\" - '],\n",
       " [\"We'll soon see if you're a man or a woman when Coronavirus gets you since it only kills men.\"],\n",
       " ['A musical ode to Covid19. #COVID19 #coronavirus #healthcarevalentines #ShareTheLove'],\n",
       " ['U.S. concerned about North Korea’s “vulnerability” to coronavirus outbreak '],\n",
       " ['Jim Baker has a cure for that and coronavirus too.$300. Such a deal.'],\n",
       " ['Sopa de murciélago: \"Coronavirus\". Sopa de caracol: \"Guatanericonsu\".'],\n",
       " ['Se imaginan el Coronavirus en México dónde se comparte la caguama, el tabaco y la pareja, nombre nos lleva la verga en 2 días.'],\n",
       " ['Two European Tour tournaments off because of coronavirus http://www.bbc.co.uk/sport/golf/51509815 via @BCLGA'],\n",
       " ['Cats are wearing coronavirus masks in China '],\n",
       " ['Oremos por. Nuestro hermanos chinos y por el mundo para que se encuentre rapido la cura del coronavirus que tiene el mundo en suspenso, Dios ayudanos escucha nuestra suplicas'],\n",
       " ['Cases studies... #coronavirus #CoronavirusOutbreak #Coronaoutbreak'],\n",
       " ['News: Coronavirus Update '],\n",
       " ['Watched many outbreaks come and go and watched the media incite unwarranted fear for ratings. Now we see them downplaying coronavirus when all the evidence--or lack thereof--gives great cause for concern. #coronavirus #WuhanOutbreak #Chernobyl'],\n",
       " ['Ozzy Osbourne is the reason we have coronavirus, those fucking bats are getting revenge now.'],\n",
       " ['New: SO2 levels spike in #Shanghai after #ChinaCoronaVirus announces \"wartime controls\" for the city. #coronavirus #COVID19 #CoronavirusOutbreak #ncp #nCoV2019 #ncov'],\n",
       " ['Coronavirus contagion fears in Silicon Valley SEE DETAILS AT ==&gt; http://STOCKUP.vuhere.com #virus #coronavirus #sars #flu #china #trump #tiktok'],\n",
       " ['Too bad the Corona virus will kill all the employees'],\n",
       " ['I have no idea why indonesia has been so immune to corona virus so far but keep going bro. Lov u for that'],\n",
       " ['La pequeña de cuatro meses que se convirtió en el primer bebé en superar el coronavirus http://j.mp/2SoRPj9 -'],\n",
       " ['Overigens wens ik u te feliciteren met uw analyses inzake het #coronavirus #topviroloog'],\n",
       " ['On Feb. 10, the Fielding School and the @uclachina presented a symposium addressing novel #coronavirus COVID-19, \"What Do We Know and What\\'s Next?\" Access #UCLAFSPH ’s info portal to view the video, find experts, and link to external resources. http://ph.ucla.edu/coronavirus'],\n",
       " ['Russian Media Outlets are Blaming the Coronavirus on the United States '],\n",
       " ['Ahora es la oportunidad de los anti vacunas de demostrarnos que tienen razón; vayan a China a curar a los infectados del coronavirus ! No sean cobardes ! Es su cuarto de hora de gloria ! '],\n",
       " ['Ya le queda poco tiempo de vida a mis amiguitos :( maldito Coronavirus &lt;\\\\3'],\n",
       " [\"Le Corona virus c'est rien devant ce que je peux attraper dans l'eau là Mieux je cuit en silence\"],\n",
       " ['#ULTIMAHORA | #China reporta otros 139 muertos por el #coronavirus en Hubei (oficial) vía: AFP '],\n",
       " ['#SeñalDeportiva La Organización Mundial de la Salud aseguró este viernes que no ha emitido opinión sobre la disputa de los Juegos Olímpicos de #Tokio2020 ante la epidemia del nuevo #coronavirus '],\n",
       " ['Corona vírus'],\n",
       " [\"Hah! Unfortunately I'm caught in #coronavirus limbo with an indeterminate delay before I get the 100 prototypes from my CM... Orders were placed before the epidemic started so now I'm stuck with wait and see what happens. \"],\n",
       " ['COVID-19 coronavirus spreads to Africa as Egypt confirms first case https://youtu.be/x_WIUA76QBE via @YouTube'],\n",
       " ['Es más fácil hallar la cura para el coronavirus a que @Rayados califique a la liguilla.'],\n",
       " ['Come on now. You can project better than that. Didn’t even include Trump created the coronavirus and sent an exploding package of it to Wuhan.'],\n",
       " ['Roses are red, IBM is Big Blue. It’s out of RSA Conference after coronavirus review: IBMers will not attend infosec event over ‘health concerns’ '],\n",
       " ['US Flu (2017~2018) vs COVID-19 786 infected to 1 death vs 49 infected to 1 death COVID-19 is not a Flu; Novel means it’s New, humans have no natural antibody protection against it, as it never infected humans before #COVID19 #Coronavirus'],\n",
       " [\"日本、フェイクニース多いからWHOのコロナウイルスの情報を使います。アルコール手指消毒剤。親の介護施設でも徹底してもらおうと思う。 Don't get confused by fake news about Corona virus、following WHO site, using alcohol-based hand rub at nursing home in JPN. \"],\n",
       " ['Is THIS Why Most Coronavirus Deaths Have Been In Chinese Men? | Zero Hedge | Zero Hedge '],\n",
       " ['Illegal pangolin trade may have played a part in coronavirus outbreak https://news.mongabay.com/2020/02/illegal-pangolin-trade-may-have-played-a-part-in-coronavirus-outbreak/ via @Mongabay'],\n",
       " ['would’ve invited you but you got the coronavirus. '],\n",
       " ['False recover? R u 4 real? If u look at the graph, Trump freaking inherited a healthy economy that even he couldn’t destroy-but will-with his stupid policies! Watch how Corona virus will affect u! U r presently in a delicate situation &amp; the virus will drive u under!'],\n",
       " ['Hyundai bet big on China. Now coronavirus is twisting its supply chain '],\n",
       " ['Take a look. This is what the new coronavirus looks like under a microscope. https://www.bloomberg.com/news/articles/2020-02-14/pictures-of-coronavirus-electron-microscope-images via @business'],\n",
       " ['Medo de estourar o plástico bolha dessa encomenda (o ar é da China) vai que tem coronavírus! '],\n",
       " ['This doctor explains how the coronavirus kills you. He breaks it down further on his channel, on how sleeping 7-9 hours makes it way less likely for you to get it. '],\n",
       " ['Masks are so scarce in Wuhan that doctors and nurses are using tape to patch them up. Chinese medical workers at the forefront of the fight against the coronavirus epidemic are now becoming its victims -- 1,716 infected, 6 dead. w @chubailiang @amyyqin'],\n",
       " ['There is, as yet, no proven way for clinicians to distinguish whether lung damage seen on a CT scan is caused by coronavirus or other types of infection, such as the flu.'],\n",
       " ['H5N6 avian influenza has occurred in Sichuan, China. Swine cholera → New coronavirus → Highly pathogenic H5N6 bird flu ← New '],\n",
       " [\"Coronavirus can be spread by people who don't show symptoms, CDC warns SURVIVE SEE DETAILS AT ==&gt; http://CORONAVIRUS.vuhere.com #virus #coronavirus #sars #flu #china #trump #tiktok\"],\n",
       " ['Coronavirus outbreak: senior US official accuses China of lack of transparency SEE DETAILS AT ==&gt; http://SURGICALMASK.vuhere.com #virus #coronavirus #sars #flu #china #tiktok'],\n",
       " ['The Japanese government has not taken any measures. When you come to Japan, you get a virus. Japan is still in the office even if infected. 日本政府は対策を全くしてません。 日本に来るとウィルス感染します。 日本は感染しても出社しています。 #coronavirus'],\n",
       " [\"Watch @ResistanceChics's broadcast: Trump Tweets: Roger Stone; Avenatti Found Guilty, Coronavirus #'s Spike, Weekly Round-up 2/14/20 \"],\n",
       " [\"The number of new deaths in China's central Hubei province from the coronavirus outbreak rose by 139 as of Friday. \"],\n",
       " ['@BorisJohnson This needs to be a priority Coronavirus could kill 400,000 Brits if deadly bug sweeps across the nation, ‘concerned’ expert warns '],\n",
       " ['JeepersHangouts is streaming News on DLive https://dlive.tv/JeepersHangouts?ref=jeepershangouts #coronavirus #COVID19'],\n",
       " ['Mi madre me compro x cosa en Miniso y me dice \"lavalo bien que puede traer el coronavirus\"....'],\n",
       " ['God is sparing America from the Corona virus because of Trump? Like god would side with Satan LOL! Virus and White House kinda rhyme? Cough cough. '],\n",
       " ['Vaccine 4 CoronaVirus update '],\n",
       " ['x essere ottimista , al momento (dati ufficiali) 1523 morti, 8058 guariti 16% morti, 84% guariti #coronavirus'],\n",
       " ['2420 nuovi casi e 139 morti di coronavirus Mamma mia.!'],\n",
       " ['Una víctima más del coronavirus: GSMA cancela oficialmente el #MWC20'],\n",
       " ['Felon Stalker Plagiarist [THOMAS SCHOENBERGER] has devoted his Long Goodbye YT Ch to push fear porn, his gourmet food of choice to feed his narcissistic supply. His latest porn offering is intended to cause people to fear their own pets! Misinfo re Corona Virus. I left a comment. '],\n",
       " [\"Now I don't like to make predictions on here, but Bloomberg and his campaign are absolutely gonna catch the coronavirus and spread it to like 14 states\"],\n",
       " ['Coronavirus contagion fears in Silicon Valley SURVIVE SEE DETAILS AT ==&gt; http://CORONAVIRUS.vuhere.com #virus #coronavirus #sars #flu #deathtoll #CHINA #tiktok'],\n",
       " ['An absolute departure from past by #China to neutralise ill effects of world wide critical views of #coronavirus emanating from #Wuhan. Impeccable language proficiency of the #Chinese speaker to counter any other critical views expressed against China from any source'],\n",
       " ['Se eleva a 1.521 el número de muertos por el nuevo coronavirus en China '],\n",
       " ['none of us caught the corona virus this year jenny stans can’t relate '],\n",
       " ['Coronavirus tiene todos los ingredientes para favorecer la propagación del miedo y temores entre los ciudadanos. A este desconocido virus solo se superará con emociones positivas. Es muy elevada la cantidad de contagio y muchos más fallecidos. Mienten Ocultando cifras COVID-19 '],\n",
       " ['Japanese man confirmed as coronavirus patient after returning from Hawaii vacation via @staradvertiser'],\n",
       " [\"#Quarantine day 10. Happy Valentine's day! I did not take this picture, I just think it is perfect for this special day. So grateful for the love and support I received, thank you. I am a better person after this, I wish the world is a better place as well. #coronavirus \"],\n",
       " ['meu deus, como é b.rra, rato não transmite coronavirus, vai estudar maternal'],\n",
       " ['VAR a bigger threat than Corona virus '],\n",
       " ['Menos mal que el #coronavirus, lo transmite la sopa de murciélago y no la sopa de lenteja, en Venezuela no quedaría nadie vivo..'],\n",
       " ['Kkkkkkkkk \"olha o coronavirus\" '],\n",
       " ['New images of the novel coronavirus were released Friday from the National Institute of Allergy and Infectious Diseases’ Rocky Mountain Laboratories in Hamilton, Mont. '],\n",
       " ['El mapa del coronavirus en el mundo. Aqui lo puedes er en tiempo real.https://gisanddata.maps.arcgis.com/apps/opsdashboard/index.html#/bda7594740fd40299423467b48e9ecf6 #coronavirusus'],\n",
       " ['Thanks Jay, it was this bit I misread: \"The attendee who has caught the disease is among nine people diagnosed with coronavirus in the UK.\"'],\n",
       " ['Side effect of coronavirus?'],\n",
       " ['Interesting, informative and clickable Coronavirus map. Coronavirus COVID-19 Global Cases by Johns Hopkins https://gisanddata.maps.arcgis.com/apps/opsdashboard/index.html#/bda7594740fd40299423467b48e9ecf6'],\n",
       " [\"Coronavirus fears at Heathrow: 'EIGHT planes on lockdown' on runway https://mol.im/a/8004013 via @MailOnline\"],\n",
       " ['RT @BNODesk: Coronavirus update: - 66,887 cases worldwide - 10,109 suspected cases - 1,523 fatalities - 10,757 in serious/critical condition - 7,720 recovered - Most cases in China - Today: First case in Egypt - 26 countries reporting cases'],\n",
       " ['CDC Director Warns Coronavirus Soon Widespread Throughout United States: ‘It’s Coming’ '],\n",
       " [\"The mission will touch down this weekend. Meanwhile, the US says it can't assess coronavirus data out of China.\"],\n",
       " ['#COVD19 | El coronavirus pasó en pocas semanas de una emergencia local en China a una epidemia que amenaza al planeta. '],\n",
       " ['COVID-19 CORONAVIRUS OUTBREAK Last update: February 14, 2020, 23:32 GMT #Coronavirus #Wuhan #2019CoV #nCoV2019 #2019nCoV #China #CoronavirusOutbreak #COVID19 #WuhanCoronavirus #Wuhanvirus #COVID #egypt #canada https://j.mp/LiveCoronaVirus'],\n",
       " ['Bts album map of the souls 7 Taekook jikook jihope jinkook taehyung Jungkook jimin loona stan loona taekookau corona virus China save so what mommy daddy 18+ Everglow leak album new flop '],\n",
       " ['1700 health workers with coronavirus in China. What does this tell us about previous lies, equipment and hygiene? #healthcare, #travel, #coronavirusoutbreak'],\n",
       " ['New Article: Coronavirus could effect two-third of the world population, says Hong Kong’s epidemiologist https://tradeforprofit.net/2020/02/coronavirus-could-effect-two-third-of-the-world-population-says-hong-kongs-epidemiologist/ #businessNews February 14, 2020'],\n",
       " ['Facebook canceled a 5,000-person conference in San Francisco because of coronavirus '],\n",
       " [\"El perill no és el #coronavirus.... El perill d'Espanya és el #boinavirus... Paletoland\"],\n",
       " ['A person from the Nebraska US quarantine site has developed symptoms and is now being tested for coronavirus. They will be separated from the other 57 evacuees and preparations for proper care are taking place #COVID19 #coronavirus '],\n",
       " ['You Can Catch The #Coronavirus More Than Once, And The 2nd Time May Be Deadlier '],\n",
       " ['coronavirus '],\n",
       " ['der Unterschied zwischen meinem #Hausarzt und dem Gesundheitsminister ist, dass mein #Arzt nur über Sachen spricht wenn er sie auch verstanden hat. Spahn redet viel und gerne über Sachen von denen er nichts versteht, z.B. #Gesundheit, #Pandemien oder das #Coronavirus'],\n",
       " ['Mientras hablamos del coronavirus, una epidemia para la que sí existe vacuna ha matado a más de 4.000 niños en la República Democrática del Congo. La OMS lleva meses pidiendo ayuda, pero la situación se ha perdido en el olvido. '],\n",
       " ['Charting the latest Offical numbers* #COVID19 #Coronavirus '],\n",
       " ['Are you KIDDING me? #CoronavirusOutbreak #coronavirus #Trump2020 #AmericaFirst #Doctor #DoctorStrange #DoctorWho #quack #TrumpNotFitForOffice'],\n",
       " ['But the wild animals carry the #CoronaVirus, often they do not show any symptoms themselves because they´re immune against them, but eating their meat transmits the virus on humans!!! '],\n",
       " ['El corona virus es una mamada. Despues de casi un mes y en Japon no ha pasado nada. Ya denle next a esa noticia.'],\n",
       " ['\"KLM apologizes for closing off toilet to Koreans amid coronavirus concerns on a recent flight\" '],\n",
       " ['Coronavirus COVID-19 (2019-nCoV) https://gisanddata.maps.arcgis.com/apps/opsdashboard/index.html?fbclid=IwAR2lTI24GdyKGSSwPczadG14JfrPZHIgUotg_kqV1KbMMNE8CpV7HWflzkE#/bda7594740fd40299423467b48e9ecf6'],\n",
       " ['concept: coronavirus escape room'],\n",
       " ['China doctor wraps up his wedding in 10 minutes, rushes back to treat coronavirus patients https://hypercitigh.com/international-news/china-doctor-wraps-up-his-wedding-in-10-minutes-rushes-back-to-treat-coronavirus-patients/'],\n",
       " [\"Wuhan's cat rescuer: the man saving pets abandoned during coronavirus outbreak – video \"],\n",
       " ['Não é alergia é o corona vírus bem'],\n",
       " ['#nCoV2019 #Coronavirus #COVID19 Stay strong! My Friends stay strong! You will be stronger as ever before @ceo_espressif @stanzawj @EspressifSystem @rakwirelessyu @RAKWireless @M5Stack @electro_dragon @rda5981 @esp32pro send you deep @mbsings'],\n",
       " ['Man Personally Washes Playground So That Kids Can Play While Staying Safe From Coronavirus https://blackculturenews.com/2020/02/man-personally-washes-playground-so-that-kids-can-play-while-staying-safe-from-coronavirus'],\n",
       " ['Quando uno si dimostra deficiente 1, 10, 100 volte allora è proprio senza speranza. #Coronavirus, #Buffon nella bufera. Firma autografo a un tifoso cinese: «Attento al Corona, c***o sei di Wuhan?» https://www.ilgazzettino.it/sport/calcio/buffon_coronavirus_autografo_cinese_ultime_notizie-5051629.html @Gazzettino'],\n",
       " ['Egypt has reported first case of the coronavirus. Contrary to the unspoken hopes and prayers of many Africans, the deadly virus has crept its way into Africa. The case in Egypt was confirmed by the WHO. #UpdateswithRuki'],\n",
       " ['Era anticipable mi apreciada @florciampoli es casi como el coronavirus- ahora vendrán las otras calificadoras con la misma acción de alerta - a trabajar con más ahínco #seguimos'],\n",
       " ['El coronavirus, es el virus d la sumisión a las grandes potencias vigente en España desde el siglo XIX. En un mundo tan multipolar como el q vivimos, el Estado español no debería seguir subordinado a ninguno de los grandes estados. Ni los EEUU, ni Alemania '],\n",
       " ['Wow wow (and wow) Coronavirus vs Sars '],\n",
       " [\"Coronavirus spreads to Egypt as country confirms 'foreigner' infected https://www.dailymail.co.uk/news/article-8005101/Coronavirus-spreads-Egypt-country-confirms-foreigner-infected.html?ito=amp_twitter_share-top via @MailOnline\"],\n",
       " ['Coronavirus got my flight to Hong Kong cancelled sooooo Argentina or Australia??'],\n",
       " ['A ver voy a poner guiño MIENTRAS DOBLO pero por qué no te vas a hacer culiar por un camión lleno de burros con coronavirus hijodemilpú'],\n",
       " ['Ad rather have corona virus cheers cock'],\n",
       " ['Ralph Lauren Expects Coronavirus to Affect Q4 Sales in Asia $NKE $VFC $RL $PVH'],\n",
       " [\"Coronavirus is killing substantial number of healthworkers handling patients. It's a real tragedy.\"],\n",
       " ['Stai c@zzi. #coronavirus'],\n",
       " ['Feelin well funny deffo got Coronavirus'],\n",
       " ['US flu patients who test negative for flu will be tested for #coronavirus in Seattle, LA, SF, Chicago and New York City per new CDC order. Expect an eye opening number of newly found US cases. #COVID19'],\n",
       " ['This is how Singapore protect their people from novel corona virus. https://www.facebook.com/1320557059/posts/10221248548026165/?sfnsn=mo&amp;d=n&amp;vh=e'],\n",
       " ['Today’s (2/15/20) Offical Numbers* 66,375(+2,622) Confirmed 10,121(-3,314**) Possible 7,759(+1,022) Recovered 1,151(+34) Dead +/- compared to yesterday’s tweet #CoronaVirus #COVID19'],\n",
       " ['A epidemia \"cancela\" é pior do que o surto de Coronavirus, afirmam cientistas Chineses'],\n",
       " ['Hay preocupación por la persona que dio positivo de #coronavirus en Londres , ya que dias antes esta persona estuvo en una conferencia de 250 personas en la ciudad. La cancilleria de #Colombia informa que el 22 de febrero se evacuaran a los colombianos que estan en Wuhan.'],\n",
       " ['which journalists are writing real coverage of this public health emergency? #coronavirus #COVID #COVID19 this is a disaster unfolding globally. we need journalists who will help educate and provide real coverage, not garbage like this'],\n",
       " [\"I'm not *currently* concerned about Wuhan Coronavirus in SF, but I *did* make sure my emergency kit was up to date with food, water, and masks. The virus could easily take hold in SF, especially with our poor public sanitation. This is irresponsible journalism from Recode. \"],\n",
       " ['#ÚLTIMAHORA | #Coronavirus ha infectado a más de 64.000 personas https://cutt.ly/lrXA0Dy'],\n",
       " [\"ok. we have ebola, corona virus, is sccience fit enough do give answers? it seems like she doesn't\"],\n",
       " ['https://www.lavanguardia.com/vivo/psicologia/20200214/473537018132/coronavirus-miedo-emocion-contagio-virus.html?utm_campaign=botones_sociales&amp;utm_medium=social&amp;utm_source=twitter #Psicología #miedo #coronavirus'],\n",
       " [\"'An introvert's dream': Here's what it's like for passengers on board the quarantined coronavirus cruise \"],\n",
       " ['@apurva91179 i am not so sure about it $BKNG $EXPE and $RCL did pretty well today giving the coronavirus circumstances'],\n",
       " ['Our thoughts are with those battling or who have fallen victim to #COVID19 #coronavirus Chinese manufacturing is shut down until at least 1 March. This impacts hundreds of thousands of brands worldwide including GeminiJets. As a result, there will be no releases for March 2020.'],\n",
       " ['Após coronavírus, comunidade asiática é alvo de preconceito '],\n",
       " ['6:10 PM EST coronavirus: Map, data and timeline - https://bnonews.com/index.php/2020/02/the-latest-coronavirus-cases/ @AdamMilstein @AviKaner @BarryStagner @CarolineGlick @RealJackHibbs @joelpollak @jamesmsimpson @nu_antisemitism @NoahPollak @OliveTreeMin @sfrantzman @Watchman61088 @jdfarag @wordonpolitics @mikepompeo'],\n",
       " ['Wuhan ?? As in the corona virus wuhan ??'],\n",
       " ['Entre soledad y miedo, así vive un doctor que lucha contra el #coronavirus en Hong Kong http://mile.io/2SGXEHI'],\n",
       " ['Confirmed: 66,887 (+2425) Recovered: 8,058 (+887) Deaths: 1,523 (+139) #Coronavirus #CoronavirusOutbreak #Wuhan #2019nCoV #COVID19'],\n",
       " ['Building management should check for elevator spitting or have regular cleaning per ride #coronavirus #covid19'],\n",
       " ['This chart shows the effect of #coronavirus on the 2-3rd largest sector of the #ES_F since its outbreak. https://koyfin.com/s/YyxVrWH8R2'],\n",
       " [\"Coronavirus can be spread by people who don't show symptoms, CDC warns SEE DETAILS AT ==&gt; http://allexpressnews.com/virus.html #virus #coronavirus #sars #flu #china #trump #tiktok\"],\n",
       " ['Coronavirus live updates: Cases surge again in China; more than 1,700 medical workers infected - The Washington Post '],\n",
       " ['While the ISM index rebounded in January after five consecutive months of contraction, our manufacturing economy remains volatile due to the ongoing trade wars. In the coming weeks, I will keep a close eye on the coronavirus outbreak and its impact on our manufacturing economy.'],\n",
       " ['Vigila con el coronavirus jajjajjajajja'],\n",
       " ['The coronavirus epidemic is a threat to our global economy as well as our public health. An integrated supply chain is the backbone of our economy in Michigan, and I am increasingly concerned by the potential effects of this crisis on our manufacturers. '],\n",
       " ['How well do masks help prevent spread of coronavirus? '],\n",
       " ['That joint got the Corona Virus '],\n",
       " ['En cuestiones de salud pública la opinión individual sobre qué es una droga dura no es relevante. No tendría sentido votar si el coronavirus es peligroso. Si genera enfermedad en dosis habituales es tóxico y si es tóxico debería ser ilegal su venta, como la comida caducada.'],\n",
       " ['que concerto do crl quem não gosta de Plutónio ou é muito burro ou tem coronavirus'],\n",
       " ['The Coronavirus Outbreak Just Made This the World’s Worst Job http://feedproxy.google.com/~r/BitcoinIndependentNewsAndBlog/~3/8oNk4iBA7Qw/'],\n",
       " ['Coronavirus, el lado oscuro de Washington contra China '],\n",
       " ['Because in America \"what bleeds leads\" Most avoid intelligent dialogue like it will give them coronavirus This large US group craves drama, needs to virtue signal, abhors depth, prefers low-resolution thinking. Naturally, Pelosi &amp; AOC are their natural heroes.'],\n",
       " ['El coronavirus llega a África, confirman el primer contagio http://www.noticieroaltavoz.com/el-coronavirus-llega-a-africa-confirman-el-primer-contagio/'],\n",
       " ['I hope humanity dies from Coronavirus because we are starting to devolve.'],\n",
       " ['China Using Drones in Increasingly Dystopian Ways to Combat Coronavirus Outbreak The Coronavirus Robot Is Real Swole But Real Dumb '],\n",
       " ['They say the 2nd go round is much more deadlier. Causes heart failure. #coverup #coronavirusus #coronavirusus #coronavirusoutbreak #coronavirus'],\n",
       " ['5 segundos hacen falta para darte cuenta de cuando una persona es imbécil. Lit eso es lo que había pasado desde que entró la amiga de mi mamá y ya me tuvo que hacer un chistesito quemado e idiota sobre lo que estaba escuchando y el coronavirus'],\n",
       " [\"Coronavirus Wuhan diary: 'He got a hospital bed three hours before he died' \"],\n",
       " ['#Overreaction #fear from #coronavirus or doing Wright things #California #covid-19 #usa'],\n",
       " ['Vino San Valentín y se fue el coronavirus... ¿Cuál será la próxima tendencia?'],\n",
       " [\"What is the matter with us when COVID-19 Coronavirus SARS-2 isn't number one trending in the world!? Maybe because the Chinese residents they aren't allowed to Twitter. Now all we see tweeting are consumerist bullshit trying to sell you crap you don't need. #StarTrekPicard #Valen\"],\n",
       " ['Carnaval e os bloquinhos chegaram, logo esqueceram da epidemia... Já tô vendo povo contraindo corona vírus nesses próximos meses além de sapinho kk Boa sorte..'],\n",
       " ['Falta que me agarre el coronavirus'],\n",
       " ['Cara, eles tem corona vírus e são japoneses.'],\n",
       " ['Coronavirus, el lado oscuro de Washington contra China '],\n",
       " ['What if the Corona virus started from Ozzy Osborne'],\n",
       " ['Inside the CDC’s coronavirus ‘war room’ '],\n",
       " ['Coochie gone catch the Coronavirus '],\n",
       " ['Nah I’m going all in before I die of coronavirus which I think I have'],\n",
       " ['#Coronavirus causes #China #Crude disruption #crudeoil #tankers #seabornetrade #oiltrade #shipping https://www.hellenicshippingnews.com/coronavirus-causes-china-crude-disruption/'],\n",
       " ['CRAZY CONSPIRACY THEORIES! (*CORONAVIRUS PART 2*) https://youtu.be/ODj_FYLdzuc via @YouTube UPDATE CONSPIRSCY VIDEO! GO GO GO!!'],\n",
       " ['Las consecuencias económicas del coronavirus '],\n",
       " [\"Plusieurs patients avaient d'autre infections associées: bactéries et champignons, avec en particulier un Acinetobacter baumannii très résistant aux antibiotiques. C'est du au taux de lymphocytes très bas à cause du Corona virus. http://dlvr.it/RPblHB… http://dlvr.it/RQ3wfQ\"],\n",
       " ['More than 1,700 health workers infected by coronavirus in China '],\n",
       " ['Coronavirus contagion fears in Silicon Valley SEE DETAILS AT ==&gt; http://SURGICALMASK.vuhere.com #virus #coronavirus #sars #flu #china #trump #tiktok'],\n",
       " ['Merci le Coronavirus mdr'],\n",
       " ['Coronavírus: China registra 1.380 mortos e 63.581 infectados '],\n",
       " ['Coronavirus - cosa sta succedendo? QUESTO tutti devono saperlo https://youtu.be/6_E2MMboxT0 di @YouTube'],\n",
       " [\"A true #GabrielGarciaMarquez @ElGabo moment #LoveInTheTimesOfCholera albeit in a new #HappyValentinesDay #Hubei #Wuhan #CoronaVirus #Avataar @i_D #LoveInTheTimeOfCorona @Tyvek @DuPont_News to #Bride's rescue with #WeddingDress in #Tyvek #BioDegradable ! https://youtu.be/RoH7DH8kTYc\"],\n",
       " ['Coronavirus crisis deepens as Chinese quarantine squads crack down '],\n",
       " ['coronavirus has entered africa. ah '],\n",
       " ['上海便欠航前の話。CAの方がマスクをして搭乗させてほしいといったところ会社側からは反対。サービス業だからとか乗客が怖がるとか。しかし、その便のパイロット会社へ抗議。「もしマスクを許可しないなら飛行機は飛ばさない」と。 http://youtu.be/5PEsQfELmNc @YouTubeより #coronavirus'],\n",
       " ['@coronavirus_ita'],\n",
       " ['New images of the novel coronavirus were released Friday from the National Institute of Allergy and Infectious Diseases’ Rocky Mountain Laboratories in Hamilton, Mont. '],\n",
       " ['More than 1,700 health workers infected by coronavirus in China https://www.theguardian.com/world/2020/feb/14/more-than-1700-health-workers-infected-by-coronavirus-in-china?CMP=Share_AndroidApp_Tweet'],\n",
       " ['Coronavírus já está controlado fora da China '],\n",
       " ['PROMISING NEWS RE: CORONAVIRUS VACCINE. AIM ImmunoTech Inc. of Ocala, FL announced results of animal testing that suggested its target treatment for SARS, a type of coronavirus, can have effectiveness in treating the new virus type. 16 See '],\n",
       " ['China reporta 1.524 muertos por coronavirus https://buff.ly/38vEwmF'],\n",
       " ['China admits six hospital staff have died and over 1,700 health workers have caught coronavirus '],\n",
       " ['But the us has cases the coronavirus'],\n",
       " ['#coronavirus deaths #COVID19 deaths Last Thursday Night : 635 Friday Night: 717 Saturday night : 803 Sunday night: 908 Monday night: 1013 Tuesday night: 1113 Wednesday Night: 1355 Last Night: 1483 Tonight: 1523 deaths'],\n",
       " ['The County Health and Human Services Agency, Centers for Disease Control and Prevention and local hospital representatives will give an update on Covid-19, the novel coronavirus today at 4 p.m. We will live tweet the update.'],\n",
       " [\"Comme dans l'Asie du Sud Est où il fait actuellement entre 25 et 30 degrés ? Singapour par exemple. Le #coronavirus a l'air de très bien s'acclimater à la chaleur.\"],\n",
       " ['Papel higiénico, entre los mejores regalos en tiempos de crisis por coronavirus. http://ow.ly/WNTg50ymYHo'],\n",
       " ['There’s yet another case of coronavirus in the United States http://dlvr.it/RQ3wcb'],\n",
       " ['First case of coronavirus confirmed in Egypt: Health ministry http://english.ahram.org.eg/News/363503.aspx via @ahramonline'],\n",
       " ['Yu Hui sufre trolleo en Chile por el coronavirus: “Me han dicho que tengo el virus, que me aleje” '],\n",
       " ['Will the Coronavirus outbreak cause a break in the supply chain? Be sure to check with your suppliers and wholesalers importing from impacted regions #spirituslaw #alcohol #alcohollaw #regulatorycompliance'],\n",
       " ['Coronavirus provocó reducción de ingresos de entre $4.000 y $5.000 millones a las aerolíneas del mundo INFORME: '],\n",
       " ['The new coronavirus? The LA Times explains. \"Scientists race to find the answer https://buff.ly/2Sq1dDb When an outbreak involves a never-before-seen virus, there are no shortcuts epidemiologists can take to determine how many people have gotten sick and how many have died...\"'],\n",
       " ['In order to better understand how the Coronavirus may influence the market (and your portfolio) look beyond the headlines. '],\n",
       " ['Amid coronavirus fears, a second wave of flu hits US kids '],\n",
       " ['#Coronavirus live updates: Cases rise to more than 65,000 globally - CNN https://cnn.it/38y8LcI #CoronaVtj'],\n",
       " ['Incrementa a mil 363 los muertos por coronavirus en China '],\n",
       " ['Passengers outraged as airline bans fliers from toilet on 10-hour flight over #coronavirus https://www.express.co.uk/travel/articles/1242528/coronavirus-flights-klm-south-korea-plane-toilet-ban-discrimination-news-latest'],\n",
       " ['#Coronavirus | Organización de Aviación Civil Internacional informó que aerolíneas chinas reportan grandes pérdidas económicas por coronavirus. ¡Datos completos aquí! '],\n",
       " ['United Flight from #SanFrancisco is in lockdown at #Heathrow after passenger complained of #coronavirus symptoms. Multiple other planes are also being held as well. United Flight From SFO Locked Down in #London For Coronavirus Scare: Report https://www.nbcbayarea.com/news/local/united-flight-from-sfo-locked-down-in-london-for-coronavirus-scare-report/2234125/ #covid19'],\n",
       " ['YouTube has been demonetizing and deleting videos talking about coronavirus, have not seen it for live stream but let’s hope it isn’t a YouTube thing.'],\n",
       " ['The elixer for the Coronavirus and the coffee are the same thing - 2 for 1 deal.'],\n",
       " ['You Can Catch The Coronavirus More Than Once, And The 2nd Time May Be De... https://youtu.be/MwJ5thwr4C8 via @YouTube'],\n",
       " [\"In carrying out the order to protect the country up against #coronavirus the health quarantine guy's at the KRTairport are doing a great job with only one little problem the health department hall is too small #SMS 2 @SudanPMHamdok\"],\n",
       " ['desinfeta das minhas mentions rata que eu não quero pegar coronavírus'],\n",
       " ['Coronavirus Cases Seemed to Be Leveling Off. Not Anymore. https://www.nytimes.com/2020/02/12/health/coronavirus-cases-china.html #Covid19 #China'],\n",
       " ['Ta l’coronavirus'],\n",
       " ['#英字記事100本チャレンジ 47/100/365 New coronavirus cases further spread in Japan, some infection routes unknown - The Mainichi https://mainichi.jp/english/articles/20200214/p2g/00m/0na/044000c'],\n",
       " ['Coronavirus, in Cina altri 139 morti nella provincia di Hubei #coronavirus https://www.tgcom24.mediaset.it/mondo/coronavirus-in-cina-altri-139-morti-nella-provincia-di-hubei_14825562-202002a.shtml'],\n",
       " ['Day 11: Travel Day. Everybody celebrating Valentine’s Day, I’m over here trying to figure out if I need to sneak back into the United States with this Coronavirus hysteria. #CurrentMood #Taiwan #Taipei… https://www.instagram.com/p/B8kPIfnjI0B/?igshid=1mgkyah7r6sw8'],\n",
       " ['#coronavirus '],\n",
       " ['#備忘録 #COVID19 Coronavirus disease 2019'],\n",
       " ['Lo peor de cuervos y gaviotas es que otros animales carroñeros pueden aparecer allí guiadas por las aves #coronavirus'],\n",
       " ['There are currently 66,900 confirmed cases and 1,523 deaths from the coronavirus COVID-19 outbreak as of February 14, 2020, 23:32 GMT.'],\n",
       " ['China: asciende a 1381 los fallecidos por el coronavirus https://youtu.be/0XINvCY7eBE vía @YouTube'],\n",
       " [\"Of course we should take this seriously, but how likely is it really? Harvard Professor Sounds Alarm on 'Likely' Coronavirus Pandemic: 40% to 70% of World Could Be Infected This Year http://mediaite.com/a/azrgg via @mediaite\"],\n",
       " ['Turkey to export coronavirus detection kits giving faster results #koronavirus #Turkey #China'],\n",
       " ['Brasil só tem 4 casos investigados de coronavírus | publicado em Blogosfera da Rede PT - Rede PT - http://redept.org/blogosfera/index.php/2020/02/14/brasil-so-tem-4-casos-investigados-de-coronavirus/ - Curta nossa Página: https://www.facebook.com/ptribeiraopreto/ #LulaLivre #LulaInocente #PTRibeirao #RedePT #40anosPT'],\n",
       " ['AG Noticias: Egipto confirma el primer caso de coronavirus en África '],\n",
       " [\"L'alternativa è: sardine, Sanremo, Renzi, prescrizione, vitalizi, Giorgetti, le svastiche, Assad kattivo, il sindaco porno, Regeni, i fassisti, il gender, Harry e Megan... Preferisco interessarmi di coronavirus. \"],\n",
       " ['C’est le délai de livraison d’Aliexpress en temps de coronavirus.'],\n",
       " ['William Barr, Coronavirus, Harvey Weinstein: Your Friday Briefing '],\n",
       " [\"Who doesn't want china to contain the virus. As far as the current situation, given the fact that we now know Coronavirus fatality rate is similar to flu, the repercussion china is taking , although slow, but seems to be a lot better than how others handle the flu.\"],\n",
       " [\"@MarbellaNews Man Utd forced to change Marbella hotel over coronavirus fears Ole Gunnar Solskjaer's squad were due to stay at the Westin La Quinta hotel but changed their plans after learning that Chinese club Dalian Yifang had stayed there days before \"],\n",
       " ['Almost all masks that construction workers wear are made in China, so even the mask won’t protect them from the corona virus gg'],\n",
       " ['Oro avanza por fobia al coronavirus, riesgos alcistas predominan para activos defensivos '],\n",
       " ['Con corona virus incluido '],\n",
       " [\"The planet is broken. The nation is broken. I'm talking about any candidate that isn't forthrightly devoted to changing the plot. I'm post-human in my thinking. I'd love for the coronavirus to cut the human population by 50%, just to give all species a chance. That's where I am.\"],\n",
       " ['When you go Corona virus to dog bite but hodling is life'],\n",
       " ['Coronavirus Live Updates: Beijing Sets Stringent New Quarantine Rules http://dlvr.it/RQ3wYY'],\n",
       " ['Hold on, I need to google how many coronavirus cases there are in Texas first.'],\n",
       " ['El coronavirus llegó a Africa: Egipto confirmó el primer caso en el continente '],\n",
       " ['パニックはダメ。全体的に不幸になる。正しく理解して正しく行動することが大事。でも残念ながら正しい情報は入ってこないのだから不安になるし、過剰な行動言動に走る。 #coronavirus'],\n",
       " ['Let’s be honest is there anyone out there besides @jeremycorbyn that would Coronavirus and racism in one sentence? '],\n",
       " ['China’s #Hubei province reports 139 new #coronavirus deaths '],\n",
       " ['El coronavirus llegó a África con un caso confirmado en Egipto.'],\n",
       " ['Coronavirus: Beijing orders 14-day quarantine for returnees '],\n",
       " ['NEWS ABOUT COVID-19 - NOVEL CORONA VIRUS https://newsaboutcovid19.blogspot.com/?spref=tw'],\n",
       " ['I’ve never been less worried about anything than the coronavirus'],\n",
       " ['Never trust the thuggish CCP regime. It refused the help from CDC afraid the US found out the Wuhan coronavirus was actually researched and unleashed by CCP!'],\n",
       " ['Vocês sabiam que o nome Coronavírus se dá por conta do formato do vírus, que tem a forma de uma coroa?'],\n",
       " ['Merecemos el Coronavirus, no mames. '],\n",
       " ['Do you know where your U.S. Quarantine Station is located? #COVID19 #CORONAVIRUS #CORONAVIRUSTRUTH https://www.cdc.gov/quarantine/quarantine-stations-us.html'],\n",
       " ['16,000 lies from these guys, who trusts them on #coronavirus? @SenTedCruz @SteveDaines @SenatorEnzi @SenatorFischer @SenCoryGardner @LindseyGrahamSC @ChuckGrassley @HawleyMO @SenJohnHoeven @SenHydeSmith @JimInhofe @SenatorIsakson @RonJohnsonWI @SenJohnKennedy @SenatorLankford'],\n",
       " ['#Coronavirus #COVID19'],\n",
       " ['Hmm. You mean cities w/ major airports and commercial ports, centers of international trade/travel, w/ strong commercial and manufacturing ties to large firms and industries worldwide? Yeah, those places are likely to see coronavirus before it gets to East Bumblef*ck County '],\n",
       " ['Que casualidad ! En plena guerra comercial entre China y EEUU aparece un virus mortal en china #coronavirus Después de ver el video de la matanza de cerdos no cabe duda que atrás de esto esta EEUU!'],\n",
       " [\"'It's Coming': CDC Director Warns Coronavirus To Become Widespread Throughout United States, 'Probably Beyond 2020' | Zero Hedge \"],\n",
       " ['New images of the novel coronavirus were released Friday from the National Institute of Allergy and Infectious Diseases’ Rocky Mountain Laboratories in Hamilton, Mont. '],\n",
       " [' VÍDEO: Lo que debemos hacer para protegernos del coronavirus '],\n",
       " ['NHS GLASGOW launches coronavirus testing. '],\n",
       " ['#Coronavirus Update: Currently the risk is low both on campus and in Southern Arizona. Get the facts on Coronavirus and how to protect yourself and others – practice compassion. http://bit.ly/2UWim9d'],\n",
       " ['Hubei Province has reported 2420 new cases of #coronavirus infections (including 1138 clinically diagnosed cases) on Feb 14, with 139 new deaths - state media. The numbers are expected to keep rising at this rate for some time.'],\n",
       " ['Coronavirus Exposes China‘s Monopoly on U.S. Drug, Medical Supplies http://bit.ly/2HmUCDb via @BreitbartNews'],\n",
       " ['What employers need to know amid growing concerns of the coronavirus and its potential impact on the workforce #Coronavirus #workplace #workplacesafety'],\n",
       " ['Coronavirus’s Effects on Global Markets Will Be Delayed https://dinezh.com/coronaviruss-effects-on-global-markets-will-be-delayed/'],\n",
       " [\"Coronavirus, le immagini 'apocalittiche' della disinfestazione delle strade a Wuhan (VIDEO) - https://www.blogsicilia.it/oltrelostretto/coronavirus-wuhan-disinfestazione/518428/ #blogsicilianotizie\"],\n",
       " ['It’s “apocalyptic,” Shanghai-based photographer Nicoco says about the desolate Chinese streets amid the coronavirus outbreak. Our special report airs tonight at 7 p.m. ET. https://cnb.cx/3bB9ago'],\n",
       " ['Alex Sobel MP attended the same conference as a patient diagnosed with Coronavirus '],\n",
       " ['Japanese man confirmed as coronavirus patient after returning from Hawaii vacation via @staradvertiser'],\n",
       " ['Asian cocoa conference in Singapore postponed due to coronavirus '],\n",
       " ['Mr. Azar, the virus’s official name is SARS-CoV-2, or you can call it novel coronavirus. Calling it “China cronovirus” in your interviews with NPR and CNBC is incorrect, misleading, and disrepectful, especially as a high-level US official. Thank you.'],\n",
       " ['A la espera aduanales de medidas de salud por el coronavirus https://www.cambiodigital.com.mx/mosno.php?nota=434467 @Man_rey @AAAPVER'],\n",
       " ['Storm coming and Coronavirus, think I’ll stay indoors this weekend '],\n",
       " ['Pues actúen pendejo con decirlo no van a solucionar ni madres ineptos #HDP #ElCacasMISOGINO #ElCacasNoSomosRobots #LopezElFracasoPresidencial #LopezNosEstaMatando #coronavirus #MexicoEnPeligroDeExtincion #LopezVergüenzaNacional'],\n",
       " ['No. Cuando aprecies a lana apreciaré a las coronavirus esas.'],\n",
       " ['Love is in the air, so is coronavirus'],\n",
       " [\"@talkRADIO @LBCNews @LBC @9NewsAUS @7NewsAustralia @smh #Coronavirus spreads to #Egypt as country confirms Africa's first case #CoronavirusOutbreak @Iromg\"],\n",
       " [\"Quarantined By Coronavirus, Cruise Ship Passengers Make 'Life-Long Friends' \"],\n",
       " [' Informa @melchorcope El @realmadrid presentará a @ReinierJesus_19 el próximo martes 18 de febrero El domingo ante el @RCCelta la plantilla del @realmadrid saltará al campo con camisetas de apoyo al pueblo chino por el coronavirus #PartidazoCOPE'],\n",
       " ['NO TENGAN MIEDO DEL CORONAVIRUS, TENGAN MIEDO DE LA GEOPOLÍTICA: No tengan miedo del… '],\n",
       " ['Maybe they should focus on fighting the virus instead? Wtf. #covid2019 #coronavirus '],\n",
       " ['That damn virus he must got it when he went to visit Peru. Damn peru and their coronavirus '],\n",
       " ['Update: Singapore has confirmed 9 new cases of #coronavirus raising their total to 67.'],\n",
       " ['È del PRIMO GIORNO che gridano in modo isterico al razzismo contro i cinesi e all’allarmismo sul #coronavirus. DAL PRIMO GIORNO!!! Sono credibili esattamente quanto lo sono quelli che hanno paura solo di guardarli i cinesi.Tutti gli altri,i più,per ora,fanno bene ad essere cauti'],\n",
       " ['#coronavirus #coronavirusus #coronavirusbrasil #CoronavirusOutbreak #CoronaVirusFacts'],\n",
       " ['le he pegado el coronavirus a @ismaelmorenoo7'],\n",
       " ['Hubei, na China, registra 139 mortes por coronavírus e 2.420 novos casos https://wp.me/p7K2Bq-fM75'],\n",
       " ['Eu também sonho em ir pro Maranhão em Junho se o coronavírus deixar '],\n",
       " ['Mi hermano está hace unos días con tos y ahora entramos a su cuarto y estaba llorando re mal pobre y le preguntamos porque era y es porque cree que tiene el corONAVIRUS AJJAJAJAJAJAAJAJAJJAJA ayuda quiero un hermano normal'],\n",
       " [\"Good. When you're there make sure to shake hands and kiss any coronavirus infected person.\"],\n",
       " ['We knew this was coming. There will be so much snake oil around coronavirus. Preying on fear. Tell ya what, avoid the silver sold by charlatans. Wash your hands properly instead. Wear a seatbelt. Quit smoking. '],\n",
       " ['Coronavirus seems to be winding down now.'],\n",
       " ['Mínimo un coronavirus te agarras en solar del este'],\n",
       " ['HKBN and Microsoft partner to provide free remote working tools during coronavirus outbreak http://dlvr.it/RQ3wVJ'],\n",
       " [\"#worldNews China's Hubei province reports 139 new coronavirus deaths on Feb. 14 http://dlvr.it/RQ3wVC\"],\n",
       " ['BREAKING: Coronavirus death toll hits 1521 #News #Economy #Politics'],\n",
       " ['BREAKING: 139 new coronavirus deaths in Hubei province #News #Economy #Politics'],\n",
       " ['Breaking News: 2,420 new cases of #2019nCoV confirmed in Hubei province and 139 new deaths. #coronavirus'],\n",
       " ['Coronavirus: el Gobierno busca ayuda de otros países para sacar de China a los argentinos que piden ser repatriados - '],\n",
       " [\"TiD, jokingly: Do you want to go to Trump's fundraiser in Mar a Lago Me: Only if I have coronavirus\"],\n",
       " ['Royal Caribbean Trims 2020 View Due to Coronavirus Outbreak $CCL $RCL $MSG $WW'],\n",
       " ['Elle va souffler très fort a la frontière pour que le virus ne rentre pas en France Franceinfo: VIDEO. Coronavirus Covid-19 : \"Il est très probable que nous ayons de nouveaux cas\" en France, affirme la m.... https://www.francetvinfo.fr/sante/maladie/coronavirus/video-coronavirus-covid-19-il-est-tres-probable-que-nous-ayons-de-nouveaux-cas-en-france-affirme-la-ministre-agnes-buzyn_3825797.html via @GoogleNews'],\n",
       " ['Chen Quishi demonstrates signs of affinity through his citizen journalism by connecting the audience emotionally with those suffering from coronavirus in China. These patients weren’t treated fairly. @KarenERiggs #MDIA4120A'],\n",
       " [\"#Drentse in #China: ' Veel paniek- en sensatienieuws over #coronavirus ' \"],\n",
       " ['@canal26noticias Los videos que estan pasando de lo cerdos sacrificados, son del año pasado, cuando había una gripe porcina, no tiene ninguna relación con el coronavirus, solo el de uds de generar pánico entre la gente que los mira #china #FakeNews'],\n",
       " ['Outils de précison utilisé par le gouvernement Chinois pour donner les chiffres du Coronavirus '],\n",
       " ['Corruptive Tedros failed in warning Corona virus before outbreak.'],\n",
       " ['My fav explanation of Covid-19 name? COVID = \"China OK! virus is dead!\" #coronavirus #COVID_19 #coronaviruswuhan'],\n",
       " ['Burners are better prepared to deal with #coronavirus contamination (avoidance) than the population at large. Start holding awareness/preparations instructions seminars. Dust provides a good visualization of it and we already know how to use respirators.'],\n",
       " [\"Whelp. If this doesn't make you cry, then frankly, you have no heart. #coronavirus \"],\n",
       " [\"Happy Valentine's day How is the stock market doing with corona virus spreading globally?\"],\n",
       " ['coronavírus amiga'],\n",
       " ['Se eleva a 1.521 el número de muertos por el nuevo coronavirus en China https://es.rt.com/7cr4'],\n",
       " ['[Comment] Cancer patients in SARS-CoV-2 infection: a nationwide analysis in China: China and the rest of the world are experiencing an outbreak of a novel betacoronavirus known as severe acute respiratory syndrome corona virus 2 (SARS-CoV-2).1 By… http://bioportfol.io/RQ3wPV #Cancer'],\n",
       " ['about 30000bp Let’s see NCBI Wuhan coronavirus'],\n",
       " ['Would you like perspective on the Coronavirus a/k/a COVID-19? @NBCNightlyNews reports 14,000 American have died from the flu. Wash your hands and try to avoid touching your face. Of course get a flu shot. COVID-19 is a potential threat but the flu is actually here.'],\n",
       " ['New images of the novel coronavirus were released Friday from the National Institute of Allergy and Infectious Diseases’ Rocky Mountain Laboratories in Hamilton, Mont. '],\n",
       " ['Edmonton businesses seeing impact of China manufacturing disruptions from coronavirus – Edmonton https://theleaderassumpta.com/edmonton-businesses-seeing-impact-of-china-manufacturing-disruptions-from-coronavirus-edmonton/'],\n",
       " ['US flu patients who test negative for flu will be tested for #coronavirus in Seattle, LA, SF, Chicago and New York City per new CDC order. Expect an eye opening number of newly found US cases. #2019nCoV #COVID19'],\n",
       " ['Its turns out that he has a regular flu not coronavirus'],\n",
       " ['Cifra de fallecidos por coronavirus en China ascendió a 1.484 http://bit.ly/2wgrVpi'],\n",
       " [\"Quarantined for Coronavirus: What It's Like https://buff.ly/2StJKtD\"],\n",
       " ['And still nobody can name where these 40 new hospitals are going to be built, maybe they’ll be portacabons thrown up when coronavirus takes hold.'],\n",
       " ['#SouthAfrica: Many people recover from coronavirus in China: Lin Songtian http://southafrica.watsupafrica.com/news/many-people-recover-from-coronavirus-in-china-lin-songtian/'],\n",
       " ['Reminder: How to avoid getting the novel Coronavirus infection https://new.medicine.com.my/2020/02/how-to-avoid-getting-the-novel-coronavirus-infection/'],\n",
       " [\"This is the crap that's gets focused on? I DONT CARE what the President of #Mexico's name is. I care that our border is wide open to drugs, guns, Coronavirus &amp; terrorists. Knowing a name isnt a qualifier unless you're in the #Media #Trump2020 #MAGA\"],\n",
       " ['Onyx coronavirus.'],\n",
       " ['IOC insists Tokyo Olympics will go ahead despite coronavirus '],\n",
       " ['Is it true that in China if you die from complications due to coronavirus it is not listed on your death certificate as that?'],\n",
       " ['China eleva el número de fallecidos por el nuevo coronavirus a 1.380 '],\n",
       " ['ÚLTIMO MOMENTO: Se eleva a 1.524 el número de muertos por el nuevo coronavirus en China '],\n",
       " ['#Coronavirus #COVID19 Sucede ahora mismo en #wuhan china, no se sabe si son infectados por el coronavirus o si son personas que rompieron la cuarentena, seguí nuestra página para enterarte de todas de las noticias. #coronaviruschino'],\n",
       " ['@realwbonner @jornalnacional por favor, parem de falar que as pessoas estão sendo CONTAMINADAS pelo novo Coronavirus. Contamina-se o que é inanimado ou superfícies das coisas. Quando o agente entra num organismo vivo, está INFECTANDO.'],\n",
       " [\"Quand les géants du web discutent avec l'OMS, pour contrôler la désinformation sur le #coronavirus #COVID2019, et potentiellement le contrôle de toute information non vérifiée. Le cas de figure est inédit. La question est, pourquoi est-ce nécessaire aujourd'hui ?\"],\n",
       " ['Coronavirus live updates: China more isolated as airlines cancel flights, Hubei confirms 2,447 new cases, 69 deaths '],\n",
       " ['A researcher helping to try to develop a vaccine for the Coronavirus says with no “herd immunity” for this virus, it would be expected that 70-80% of the world population will become infected?? Well that’s comforting...they’d better figure out what China hasn’t told us. '],\n",
       " ['U.S. Northern Command is executing plans to prepare for a potential pandemic of the novel coronavirus, now called #COVID19, according to Navy and Marine Corps service-wide messages issued this week.'],\n",
       " ['The stimulation was called Event 201 and they did used coronavirus as the Virus which was unknown to the world in OCT 2019 .. #CAPS'],\n",
       " [\"I've been told that I'm exaggerating the Coronavirus threat by @rinohunting. What'dya think?\"],\n",
       " ['1,000 Indeed staff in Dublin told to stay home fearing coronavirus outbreak - Silicon Republic Full Story: https://tinyurl.com/qlhwrvk #encodde'],\n",
       " ['We report not only on coronavirus but on the deadliest flu season in a decade for kids in the US. @CBSEveningNews'],\n",
       " ['Why the coronavirus outbreak might be much bigger than we know https://www.vox.com/2020/2/14/21134473/coronavirus-outbreak-singapore-us-symptoms-pandemic?utm_campaign=vox&amp;utm_content=entry&amp;utm_medium=social&amp;utm_source=twitter via @voxdotcom'],\n",
       " ['Para Ma Qin Hua , piloto de Fórmula E , el gobierno de su país actuó correctamente ante el Coronavirus '],\n",
       " ['Científicos Rusos: \"EE:UU creó al CORONAVIRUS contra CHINA\" https://youtu.be/ad2UXUzNLtQ vía @YouTube'],\n",
       " ['They should have stricter laws against illegals they just killed a person with corona virus in Korea!'],\n",
       " ['As Foreigners Flee China, Pakistan Tells Its Citizens to Stay https://nyti.ms/37fyPYD #coronavirus #Covid19'],\n",
       " ['Next one month or so, no workshop. Following activities are lined up: 1. @elearnmarkets webinar. 2. Updating OptionsOracle, new feature. 3. May have to travel overseas, but seeing possibility of avoiding it because of coronavirus spread.'],\n",
       " [\"NEWS: The UN's global aviation agency ICAO estimates the #Coronavirus could force a hit to global airlines of $4-5bn for just the current quarter, based on a passenger capacity drop of ~40% or 16-20mn passengers. https://www.flightglobal.com/air-transport/icao-flags-4-5-billion-loss-from-covid-19-outbreak/136754.article #COVID19 #WuhanOutbreak\"],\n",
       " ['Hey #Skippy are you reading this? @JustinTrudeau your a national disgrace. There are over 61K ppl infected with this #CoronaVirus while your on your African safari with private chefs. Your inability to prioritize what’s serious should scare us all. @AndrewScheer @ErinOTooleMP'],\n",
       " ['mi madre me ha comprado una mascarilla DE PINTOR para combatir el coronavirus de viaje '],\n",
       " ['IMF chief hopes for global policy response to mitigate coronavirus impact https://globalrubbermarkets.com/198524/imf-chief-hopes-for-global-policy-response-to-mitigate-coronavirus-impact.html'],\n",
       " ['Se eleva a 1.524 el número de muertos por el nuevo coronavirus en China https://hch.tv/2020/02/14/se-eleva-a-1-524-el-numero-de-muertos-por-el-nuevo-coronavirus-en-china/'],\n",
       " [\"Coronavirus Outbreak: Here's What We Know As Of Friday : Goats and Soda. \"],\n",
       " ['El coronavirus es duro, pero más duro era la forma en la que él te mentía '],\n",
       " ['El domingo en el Bernabéu antes del inicio del @realmadrid @RCCelta se guardará un minuto de silencio por David Gistau. Además los jugadores saldrán con unas camiseta en apoyo de China por las víctimas del coronavirus. '],\n",
       " ['The easiest way to stop the spread disease is washing your hands...heard that before? Sadly, like tipping Uber and Lyft drivers, this is more the exception than the rule https://www.theatlantic.com/ideas/archive/2020/02/coronavirus-and-other-diseases-airports/606550/ @conor64 #soap #cleanliness #disease #coronavirus'],\n",
       " ['Graduada de la Unnoba integra equipo que creó un método para detectar el coronavirus • Diario Democracia • Noticias de Argentina, Buenos Aires, Junín '],\n",
       " ['WHO EXPERTS SAY THE CORONAVIRUS INCUBATION IS 24 DAYS. YET, QUARANTINE IS SET AT 14 DAYS. THIS VIRUS IS SMARTER THAN MOST. A DUMB VIRUS KILLS ITS HOST FAST &amp; DIES. THE LONG INCUBATION PERIOD MEANS THIS VIRUS WAS DESIGNED TO SPREAD WIDELY AND SECRETLY. https://dailymail.co.uk/news/article-7986663/Incubation-period-new-coronavirus-long-24-DAYS-expert-claims.html?ito=amp_twitter_share-top 09'],\n",
       " ['My son he is sick he have corona virus'],\n",
       " ['You Can Catch The Coronavirus More Than Once, And The 2nd Time May Be Deadlier '],\n",
       " ['Cats are wearing coronavirus masks in China Well okay then . . . '],\n",
       " ['Does travel insurance cover the coronavirus? Probably not... unless you bought a pricey policy. '],\n",
       " ['Coronavirus: Are cruise ships really floating Petri dishes? https://usahitman.com/cvacsrfpd/ #Coronavirus #PetriDish #CruiseShip #Virus #Outbreak'],\n",
       " ['Say hello. #coronavirus image by researchers. Credit @bloomberg https://ift.tt/38vlnBg'],\n",
       " ['Ele sempre chegou a deixar lá o lenço com o coronavirus?'],\n",
       " ['Whistleblower claims Chinese government tried to spread Coronavirus bioweapon to U.S. military during Wuhan Military World Games event '],\n",
       " ['Aqui no Brasil não é o coronavírus que preocupa, e sim a DEMÊNCIAVÍRUS'],\n",
       " [\"Catching up. Shiver, cough, cough, hack, hack... awcheeew. (Not coronavirus, but maybe not much better...) What's worthy of retweet last 5 days?\"],\n",
       " ['Unexpected consequences of Covid-19: Contagion headlines are masking critical #shipping business interruptions #COVID19 #coronavirus #2019nCoV #trade https://www.hellenicshippingnews.com/unexpected-consequences-of-covid-19-contagion-headlines-are-masking-critical-shipping-business-interruptions/'],\n",
       " ['Coronavirus Cases: 66,900 Deaths: 1,525 Recovered: 8,074 '],\n",
       " ['4 diferencias entre gripe y coronavirus, para aprender a reconocerlo #COVID19 http://bit.ly/2uL65K8'],\n",
       " ['Factbox: Airlines suspend some flights to China over coronavirus '],\n",
       " ['First West Australian diagnosed with coronavirus after positive test on board cruise ship https://australia.jobsdomain.org/first-west-australian-diagnosed-with-coronavirus-after-positive-test-on-board-cruise-ship/'],\n",
       " ['Consejos para la población acerca de los rumores sobre el nuevo #coronavirus #COVID19'],\n",
       " ['Onyx coronavirus.'],\n",
       " [\"'It's clearly working': Coronavirus misinformation surges, fueled by clout chasers https://www.nbcnews.com/tech/social-media/coronavirus-misinformation-surges-fueled-chase-attention-n1126511 via @nbcnews\"],\n",
       " ['Um.... Cats are wearing coronavirus masks in China | Fox News '],\n",
       " ['#coronavirus #COVID19 Wuhan 2019-nCoV Get the facts! LATEST 2/14 35 mins Dr. Chris Martenson PhD pathology neurotoxicology WATCH &amp; LEARN! M #wolfwolfpack #Kockoling drinking team news @7NewsWatertown speculation news'],\n",
       " [' | Hubei reporta 139 fallecidos más y la cifra sobrepasa los 1500 por el Coronavirus'],\n",
       " ['La cura del coronavirus!!!'],\n",
       " ['Perquè \\u2066@tv3cat\\u2069 no informa com bloomberg? Coronavirus Could Infect Two-Thirds of Globe, Research Shows '],\n",
       " ['You Can Catch The Coronavirus More Than Once, And The 2nd Time May Be Deadlier https://youtu.be/MwJ5thwr4C8 via @YouTube'],\n",
       " ['Spanish Flu (1918) killed 50 -100 million, 675K Americans. This was 100 Years ago with limited global transport. #coronavirus '],\n",
       " ['How the coronavirus is affecting the drinks industry https://www.thedrinksbusiness.com/2020/02/how-the-coronavirus-is-affecting-the-drinks-industry/ via @teamdb'],\n",
       " ['.@CDCgov is ramping up its response to the coronavirus outbreak by establishing 5 U.S. labs where those with flu-like symptoms can be tested. In Wuhan, officials have adopted draconian measures in hopes of stopping the spread. Here’s @CarterEvans https://cbsn.ws/31UelUl'],\n",
       " ['Ahora que esta lo del CORONAVIRUS, les recomiendo las películas de \"VIRUS\" y la de \"EPIDEMIA\" ambas están en NETFLIX.'],\n",
       " ['Fear, Fury and the Coronavirus. https://dts.podtrac.com/redirect.mp3/rss.art19.com/episodes/cc1835d0-c0e6-4fd9-a087-11d5dd227741.mp3'],\n",
       " ['The Chinese Restaurant that I order from texted me a “Happy Valentines Day”, and to inform me that their establishment is safe from the Coronavirus.'],\n",
       " [\"Fighting Stigma : How to Dispel Your Child's Fears About the New Coronavirus: Honesty and directness are key when talking to your child about this new virus, said Diane Bales, associate professor of human development and ... http://dlvr.it/RQ3wKX\"],\n",
       " ['The best coronavirus story yet and the bravest. '],\n",
       " ['Overwatch League moves canceled matches to South Korea amid coronavirus outbreak: The league’s statement is a start to solving the logistical challenges brought on by the virus. http://dlvr.it/RQ3wF2 #25thAmendmentNow #ImpeachTrump #TheResistance'],\n",
       " ['Coronavirus: #HongKong tourist arrival numbers go into free fall amid cross-border restrictions to tackle deadly outbreak'],\n",
       " ['Fighting Stigma : Chinese Propaganda Attempts to Blame the US for Coronavirus: From government spokespersons to teachers in schools, the Chinese authorities are trying to divert attention from their inability to deal with the ... http://dlvr.it/RQ3wJY'],\n",
       " ['Facebook canceled a 5,000-person conference in San Francisco because of coronavirus https://www.vox.com/recode/2020/2/14/21138181/facebook-coronavirus-conference-covid19-san-francisco-google-china-silicon-valley-tech-san-francisco?utm_campaign=vox&amp;utm_content=entry&amp;utm_medium=social&amp;utm_source=twitter via @voxdotcom'],\n",
       " ['BBC News - Coronavirus: Beijing orders 14-day quarantine for returnees '],\n",
       " ['Reporting on the Coronavirus: Spreading Truth, Not Panic GET HERE ==&gt; http://BLACKFRIDAY.vuhere.com #virus #coronavirus #sars #flu #china #trump #tiktok'],\n",
       " ['Coronavirus is a problem. Eurozone will continue to stabilise and improve as it has done over the last 20 years. We have a problem on Dec 31 from the sound of it, but let’s see what happens.'],\n",
       " ['#WHO #CoronaVirus '],\n",
       " ['Coronavirus Live Updates: Beijing Sets Stringent New Quarantine Rules - The New York Times '],\n",
       " [' | URGENTE - CORONAVIRUS: Hubei reporta 139 muertos más, y la cifra sobrepasa los 1500 en total.'],\n",
       " ['#Coronavirus #COVD19 #TheEconomist señala que impacto para el #Turismo podría alcanzar a los $80.000 millones de dólares y podría tardar hasta un año en recuperarse. Un tema complejo para economías pequeñas donde esta industria tiene alta participación.'],\n",
       " ['\"Conosco gente con così scarsa igiene personale da sconfiggere il coronavirus togliendosi semplicemente le scarpe.\" (da \"La peste\" di Albert Camus) #coronavirus'],\n",
       " ['There’s various types of coronavirus'],\n",
       " ['Pero tu Haa visto q aún tiene el árbol en su casa y dice q no lo quita?? Todo el día pensando en fotos y el Pajini, por su culpa tenemos el #Coronavirus'],\n",
       " ['#Coronavirus #COVID19 Quienes regresen a Beijing deben someterse sin excepciones a una cuarentena de 14 días. La orden impartida x líderes del PC local x tv, demora la vuelta a la producción de decenas de millones que salieron de vacaciones, vía @nytimes https://nyti.ms/2P8fTVJ'],\n",
       " ['Global tourism to take a US$80 billion hit and a year to shake off the effects of coronavirus outbreak '],\n",
       " ['Coronavirus. Deal with it now.'],\n",
       " ['Edmonton businesses seeing impact of China manufacturing disruptions from coronavirus - Edmonton | http://Globalnews.ca'],\n",
       " [\"Roses are red, IBM is Big Blue. It's out of RSA Conference after coronavirus review #conference #ibm #rsa http://dlvr.it/RQ3wCR\"],\n",
       " ['L’allarme #coronavirus dimostra ancora una volta come l’ignoranza alimenti paura odio e intolleranza @traversoroby'],\n",
       " ['#coronavirus #COVID19 #China #WuhanVirus #WuhanCoronavirus #WTF ???'],\n",
       " [\"Coronavirus spreads to Egypt as country confirms Africa's first case #CoronavirusOutbreak\"],\n",
       " ['Coronavirus cases not rising dramatically outside China - WHO '],\n",
       " ['The new coronavirus has emerged as a threat to the industry, since the outbreak could force Chinese rare-earth facilities to shut down. Such an event would impact the global supply chain for electric vehicles and smartphones #rareearth #Lynas #SupplyChain'],\n",
       " [\"Patient in Wuhan's makeshift hospital records video to thank health care workers on frontline of novel #coronavirus fight \"],\n",
       " ['#OMS no buscará cancelar los Juegos Olímpicos Tokio por el #coronavirus http://mile.io/3bDXeup'],\n",
       " ['Global tourism to take a US$80 billion hit and a year to shake off the effects of coronavirus outbreak '],\n",
       " ['Looks like your new depopulation plan is coming along well #NCOV19 #coronavirus'],\n",
       " ['Given the #Coronavirus impact on the economy, what do you think the #PBoC can do next?'],\n",
       " ['Princess Cruise ship (NOT the Diamond Princess) finds 370 passengers sick… but officials say don’t worry, it’s not the coronavirus - https://go.shr.lc/3bCbWC5 via @shareaholic'],\n",
       " ['Coronavirus, 254 morti in un solo giorno in Cina. Usa: «Delusi da numeri falsi» - Il http://Mattino.it'],\n",
       " ['If the uni was on lockdown due to #Coronavirus concerns, this is beyond irresponsible. Do read the thread. '],\n",
       " ['Many infected with coronavirus after thousands shared meals; Funeral hom... https://youtu.be/uZKvwqoXdCA via @YouTube'],\n",
       " ['I’d bet you don’t. Coronavirus is exploding.'],\n",
       " ['Coronavirus en el mundo. https://gisanddata.maps.arcgis.com/apps/opsdashboard/index.html#/bda7594740fd40299423467b48e9ecf6'],\n",
       " ['\"A lot of retailers are feeling the pinch and they cannot take it.\" Several members of the #Singapore Retailers Association have said they are unable to pay rent due to the fall in sales. http://bt.sg/4dgP #retail #Covid19 #virus #coronavirus'],\n",
       " ['I know this Corona virus is emotional I want to get it together! Help you need it! Let get it right! For people!'],\n",
       " ['Recovered patients of the coronavirus Covid-19 can continue to infect. The classic face mask is useless. \"The Lancet\". Medical workers have to be fully protected with special high level protection goggles, clothes, mask and gloves. https://www.thelancet.com/journals/lanres/article/PIIS2213-2600(20)30066-7/fulltext'],\n",
       " ['Oxygen therapy working for coronavirus patient, Seoul says https://upi.com/6985126t via @upi'],\n",
       " ['Coronavirus update: - 66,887 cases worldwide - 10,109 suspected cases - 1,523 fatalities - 10,757 in serious/critical condition - 7,720 recovered - Most cases in China - Today: First case in Egypt - 26 countries reporting cases #COVID19'],\n",
       " ['Taiwanese prof view #coronavirus '],\n",
       " ['WHO says joint China mission to start coronavirus probe this weekend https://reut.rs/37o3cMA'],\n",
       " ['Coronavirus: Xi Jinping calls for overhaul of China’s health crisis response system '],\n",
       " ['Ganfeng Lithium affected by coronavirus but share price keeps on rising https://lithium-news.com/2020/02/14/ganfeng-lithium-affected-by-coronavirus-but-share-price-keeps-on-rising/'],\n",
       " [\"Here's a look back at the biggest stories from this past week. @bianca_nobilo reports. • 'Parasite' sweeps Oscars • New Hampshire primary • Coronavirus crisis • Prosecutors quit Roger Stone case • Syrians flee Idlib https://cnn.it/31TRQPr\"],\n",
       " ['Coronavirus A Bioweapon? White House Investigates, As Military Sets Up Quarantine Sites Across U.S. https://www.activistpost.com/2020/02/coronavirus-a-bioweapon-white-house-investigates-as-military-sets-up-quarantine-sites-across-u-s.html via @activistpost'],\n",
       " ['Coronavirus vaccine: Inovio Pharmaceuticals lab in San Diego identifies possible vaccine in 3 hours, but testing will take months - CBS News \\u2066@DrJLi\\u2069 \\u2066@PaulSaxMD\\u2069'],\n",
       " ['Esse silêncio do corona vírus no brasil me assusta...'],\n",
       " ['The #HongKong hospital founder who raced to Wuhan coronavirus epicentre knowing full well of impending lockdown '],\n",
       " [\"I wish I had that Q list of suckers to market to. North Korea Summit coins $100. Coronavirus cure {Clorox in an old Jack Daniels bottle} $200 Copies of the secret coming indictments of the Clintons, the Obama's, Rick Wilson, CNN Schiff, printed on a bar napkin $500 per\"],\n",
       " ['How the Coronavirus Numbers Changed So Sharply https://nyti.ms/3bAfl4q #China #Covid19'],\n",
       " ['actualité 24 h sur tous les médias , Un homme politique candidat au sol à Paris ! @coronavirus 1400 morts en chine '],\n",
       " ['How Will the Coronavirus Crisis Affect the Daigou Business in South Korea? http://ow.ly/Ayur30qhxmC @jingdaily #China #coronavirus #daigou #luxury'],\n",
       " ...]"
      ]
     },
     "execution_count": 118,
     "metadata": {},
     "output_type": "execute_result"
    }
   ],
   "source": [
    "before"
   ]
  },
  {
   "cell_type": "code",
   "execution_count": 26,
   "metadata": {},
   "outputs": [
    {
     "name": "stderr",
     "output_type": "stream",
     "text": [
      "[nltk_data] Downloading package punkt to\n",
      "[nltk_data]     /home/harshvardhan/nltk_data...\n",
      "[nltk_data]   Unzipping tokenizers/punkt.zip.\n"
     ]
    },
    {
     "data": {
      "text/plain": [
       "True"
      ]
     },
     "execution_count": 26,
     "metadata": {},
     "output_type": "execute_result"
    }
   ],
   "source": [
    "import nltk\n",
    "nltk.download('punkt')"
   ]
  },
  {
   "cell_type": "code",
   "execution_count": 194,
   "metadata": {},
   "outputs": [],
   "source": [
    "text_before=''\n",
    "for i in range(0,len(before)):\n",
    "    text_before=text_before+'. '+before[i][0]\n",
    "lower=text_before.lower()\n",
    "\n",
    "cleaned_text=lower.translate(str.maketrans('','',string.punctuation))\n",
    "\n",
    "from nltk.tokenize import word_tokenize\n",
    "tokens=word_tokenize(cleaned_text,'english')"
   ]
  },
  {
   "cell_type": "code",
   "execution_count": 195,
   "metadata": {},
   "outputs": [
    {
     "data": {
      "text/plain": [
       "29244"
      ]
     },
     "execution_count": 195,
     "metadata": {},
     "output_type": "execute_result"
    }
   ],
   "source": [
    "len(tokens)"
   ]
  },
  {
   "cell_type": "code",
   "execution_count": 30,
   "metadata": {},
   "outputs": [
    {
     "name": "stderr",
     "output_type": "stream",
     "text": [
      "[nltk_data] Downloading package stopwords to\n",
      "[nltk_data]     /home/harshvardhan/nltk_data...\n",
      "[nltk_data]   Unzipping corpora/stopwords.zip.\n"
     ]
    },
    {
     "data": {
      "text/plain": [
       "True"
      ]
     },
     "execution_count": 30,
     "metadata": {},
     "output_type": "execute_result"
    }
   ],
   "source": [
    "nltk.download('stopwords')"
   ]
  },
  {
   "cell_type": "code",
   "execution_count": 196,
   "metadata": {},
   "outputs": [],
   "source": [
    "stop_words=stopwords.words('english')\n",
    "stop_words.remove('nor')\n",
    "stop_words.remove('no')\n",
    "stop_words.remove('not')"
   ]
  },
  {
   "cell_type": "code",
   "execution_count": 197,
   "metadata": {},
   "outputs": [],
   "source": [
    "from nltk.corpus import stopwords\n",
    "words=[word for word in tokens if word not in stop_words]"
   ]
  },
  {
   "cell_type": "code",
   "execution_count": 198,
   "metadata": {},
   "outputs": [
    {
     "data": {
      "text/plain": [
       "22048"
      ]
     },
     "execution_count": 198,
     "metadata": {},
     "output_type": "execute_result"
    }
   ],
   "source": [
    "len(words)"
   ]
  },
  {
   "cell_type": "code",
   "execution_count": 37,
   "metadata": {},
   "outputs": [
    {
     "name": "stderr",
     "output_type": "stream",
     "text": [
      "[nltk_data] Downloading package wordnet to\n",
      "[nltk_data]     /home/harshvardhan/nltk_data...\n",
      "[nltk_data]   Unzipping corpora/wordnet.zip.\n"
     ]
    },
    {
     "data": {
      "text/plain": [
       "True"
      ]
     },
     "execution_count": 37,
     "metadata": {},
     "output_type": "execute_result"
    }
   ],
   "source": [
    "nltk.download('wordnet')"
   ]
  },
  {
   "cell_type": "code",
   "execution_count": 199,
   "metadata": {},
   "outputs": [],
   "source": [
    "from nltk.stem import WordNetLemmatizer\n",
    "lemma=[(WordNetLemmatizer().lemmatize(word)) for word in words]"
   ]
  },
  {
   "cell_type": "code",
   "execution_count": 200,
   "metadata": {},
   "outputs": [
    {
     "data": {
      "text/plain": [
       "22048"
      ]
     },
     "execution_count": 200,
     "metadata": {},
     "output_type": "execute_result"
    }
   ],
   "source": [
    "len(lemma)"
   ]
  },
  {
   "cell_type": "code",
   "execution_count": 201,
   "metadata": {},
   "outputs": [],
   "source": [
    "clear_line=''\n",
    "emotion_list=[]\n",
    "with open('Downloads/emotions.txt','r') as file:\n",
    "    for line in file:\n",
    "        clear_line=line.replace(\"\\n\",'').replace(\" \",\"\").replace(\",\",\" \").replace(\"'\",\"\").strip()\n",
    "        word,emotion=clear_line.split(':')\n",
    "        if word in lemma:\n",
    "            emotion_list.append(emotion)\n",
    "            \n",
    "w=Counter(emotion_list)"
   ]
  },
  {
   "cell_type": "code",
   "execution_count": 202,
   "metadata": {},
   "outputs": [
    {
     "data": {
      "image/png": "[encoded data removed]",
      "text/plain": [
       "<Figure size 864x432 with 1 Axes>"
      ]
     },
     "metadata": {
      "needs_background": "light"
     },
     "output_type": "display_data"
    }
   ],
   "source": [
    "fig,ax=plt.subplots(figsize=(12,6))\n",
    "ax.bar(w.keys(),w.values())\n",
    "fig.autofmt_xdate()\n",
    "plt.show()"
   ]
  },
  {
   "cell_type": "code",
   "execution_count": 88,
   "metadata": {},
   "outputs": [
    {
     "name": "stderr",
     "output_type": "stream",
     "text": [
      "[nltk_data] Downloading package vader_lexicon to\n",
      "[nltk_data]     /home/harshvardhan/nltk_data...\n"
     ]
    },
    {
     "data": {
      "text/plain": [
       "True"
      ]
     },
     "execution_count": 88,
     "metadata": {},
     "output_type": "execute_result"
    }
   ],
   "source": [
    "nltk.download('vader_lexicon')"
   ]
  },
  {
   "cell_type": "code",
   "execution_count": 203,
   "metadata": {},
   "outputs": [
    {
     "data": {
      "text/plain": [
       "{'neg': 0.106, 'neu': 0.83, 'pos': 0.065, 'compound': -1.0}"
      ]
     },
     "execution_count": 203,
     "metadata": {},
     "output_type": "execute_result"
    }
   ],
   "source": [
    "from nltk.sentiment.vader import SentimentIntensityAnalyzer\n",
    "sia=SentimentIntensityAnalyzer()\n",
    "sia.polarity_scores(cleaned_text)"
   ]
  },
  {
   "cell_type": "code",
   "execution_count": 135,
   "metadata": {},
   "outputs": [],
   "source": [
    "# After the outbreak\n",
    "after=get_tweets('corona virus','2020-03-25','2020-04-30',1500)"
   ]
  },
  {
   "cell_type": "code",
   "execution_count": 204,
   "metadata": {},
   "outputs": [],
   "source": [
    "text_after=''\n",
    "for i in range(0,len(after)):\n",
    "    text_after=text_after+'. '+after[i][0]\n",
    "lower_after=text_after.lower()\n",
    "\n",
    "cleaned_after=lower_after.translate(str.maketrans('','',string.punctuation))\n",
    "\n",
    "words_a=word_tokenize(cleaned_after,'english')"
   ]
  },
  {
   "cell_type": "code",
   "execution_count": 205,
   "metadata": {},
   "outputs": [
    {
     "data": {
      "text/plain": [
       "32921"
      ]
     },
     "execution_count": 205,
     "metadata": {},
     "output_type": "execute_result"
    }
   ],
   "source": [
    "len(words_a)"
   ]
  },
  {
   "cell_type": "code",
   "execution_count": 206,
   "metadata": {},
   "outputs": [
    {
     "data": {
      "text/plain": [
       "26082"
      ]
     },
     "execution_count": 206,
     "metadata": {},
     "output_type": "execute_result"
    }
   ],
   "source": [
    "words_as=[word for word in words_a if word not in stop_words]\n",
    "len(words_as)"
   ]
  },
  {
   "cell_type": "code",
   "execution_count": 207,
   "metadata": {},
   "outputs": [
    {
     "data": {
      "text/plain": [
       "26082"
      ]
     },
     "execution_count": 207,
     "metadata": {},
     "output_type": "execute_result"
    }
   ],
   "source": [
    "lemma_a=[WordNetLemmatizer().lemmatize(word) for word in words_as]\n",
    "len(lemma_a)"
   ]
  },
  {
   "cell_type": "code",
   "execution_count": 208,
   "metadata": {},
   "outputs": [],
   "source": [
    "clear_line=''\n",
    "emotion_list=[]\n",
    "with open('Downloads/emotions.txt','r') as file:\n",
    "    for line in file:\n",
    "        clear_line=line.replace(\"\\n\",'').replace(\" \",\"\").replace(\",\",\" \").replace(\"'\",\"\").strip()\n",
    "        word,emotion=clear_line.split(':')\n",
    "        if word in lemma_a:\n",
    "            emotion_list.append(emotion)\n",
    "            \n",
    "w1=Counter(emotion_list)"
   ]
  },
  {
   "cell_type": "code",
   "execution_count": null,
   "metadata": {},
   "outputs": [],
   "source": []
  },
  {
   "cell_type": "code",
   "execution_count": 209,
   "metadata": {},
   "outputs": [
    {
     "data": {
      "image/png": "[encoded data removed]",
      "text/plain": [
       "<Figure size 720x432 with 1 Axes>"
      ]
     },
     "metadata": {
      "needs_background": "light"
     },
     "output_type": "display_data"
    }
   ],
   "source": [
    "fig,ax=plt.subplots(figsize=(10,6))\n",
    "ax.bar(w1.keys(),w1.values())\n",
    "fig.autofmt_xdate()\n",
    "plt.show()"
   ]
  },
  {
   "cell_type": "code",
   "execution_count": 192,
   "metadata": {},
   "outputs": [
    {
     "data": {
      "text/plain": [
       "{'neg': 0.101, 'neu': 0.835, 'pos': 0.064, 'compound': -1.0}"
      ]
     },
     "execution_count": 192,
     "metadata": {},
     "output_type": "execute_result"
    }
   ],
   "source": [
    "sia=SentimentIntensityAnalyzer()\n",
    "sia.polarity_scores(cleaned_after)"
   ]
  },
  {
   "cell_type": "code",
   "execution_count": 210,
   "metadata": {},
   "outputs": [],
   "source": [
    "# We can clearly see from the two graphs that intensity of Sadness has increased tremendously"
   ]
  },
  {
   "cell_type": "code",
   "execution_count": null,
   "metadata": {},
   "outputs": [],
   "source": []
  },
  {
   "cell_type": "code",
   "execution_count": null,
   "metadata": {},
   "outputs": [],
   "source": []
  },
  {
   "cell_type": "markdown",
   "metadata": {},
   "source": [
    "# TASK 2"
   ]
  },
  {
   "cell_type": "code",
   "execution_count": null,
   "metadata": {},
   "outputs": [],
   "source": []
  },
  {
   "cell_type": "code",
   "execution_count": 252,
   "metadata": {},
   "outputs": [],
   "source": [
    "text=''\n",
    "with open('task2.txt','r') as file:\n",
    "    for line in file:\n",
    "        text=text+''+line"
   ]
  },
  {
   "cell_type": "code",
   "execution_count": 253,
   "metadata": {},
   "outputs": [],
   "source": [
    "text=text.replace('\\n',' ')"
   ]
  },
  {
   "cell_type": "code",
   "execution_count": 254,
   "metadata": {},
   "outputs": [
    {
     "name": "stdout",
     "output_type": "stream",
     "text": [
      "300\n",
      "174\n",
      "174\n"
     ]
    }
   ],
   "source": [
    "lower=text.lower()\n",
    "cleaned=lower.translate(str.maketrans('?','.',string.punctuation))\n",
    "tokens=word_tokenize(cleaned,'english')\n",
    "print(len(tokens))\n",
    "\n",
    "words=[word for word in tokens if word not in stop_words]\n",
    "print(len(words))\n",
    "\n",
    "lemma=[WordNetLemmatizer().lemmatize(word) for word in words]\n",
    "print(len(lemma))"
   ]
  },
  {
   "cell_type": "code",
   "execution_count": 255,
   "metadata": {},
   "outputs": [
    {
     "data": {
      "text/plain": [
       "'two madhya pradesh officials were transferred on friday after bjps national general secretary kailash vijayvargiya questioned the police action against traders and the local youth of the states khargone district for celebrating the groundbreaking ceremony of the ram mandir in ayodhya with fireworks on the streets why is the khargone police behaving like bengal police kailash vijayvargiya said on twitter while strongly condemning the police action  the senior bjp leader while sharing a video of the incident on twitter wrote prime minister narendra modi ji has said that today is a day of glory for the country the foundation stone of the ram temple was laid in ayodhya the whole country is celebrating in such a situation police action on youths celebrating and cheering at the saraffa bazar of khargone is unfair  mr vijavargiya also tagged state home minister narrotam mishra on his post and advised him to make his police force understand  on wednesday as the groundbreaking ceremony of the ram temple was underway in ayodhya some traders and the local youth came together in the saraffa bazar area and began bursting crackers on the streets to celebrate the event the police fearing a law and order situation in the communally sensitive area took action against them  the traders alleged that many of those celebrating in the area were detained by the police for almost an hour they also accused the police of beating up a person for bursting crackers  the video of which has now gone viral on social media  the ruling bjp along with the vishwa hindu parishad and other outfits protested in khargone on thursday against the police action on the traders  khargone with over 850 cases of coronavirus and 18 related deaths has emerged as the second worstaffected district under the nimar region after indore'"
      ]
     },
     "execution_count": 255,
     "metadata": {},
     "output_type": "execute_result"
    }
   ],
   "source": [
    "cleaned"
   ]
  },
  {
   "cell_type": "code",
   "execution_count": 256,
   "metadata": {},
   "outputs": [
    {
     "name": "stdout",
     "output_type": "stream",
     "text": [
      "['two', 'madhya', 'pradesh', 'official', 'transferred', 'friday', 'bjps', 'national', 'general', 'secretary', 'kailash', 'vijayvargiya', 'questioned', 'police', 'action', 'trader', 'local', 'youth', 'state', 'khargone', 'district', 'celebrating', 'groundbreaking', 'ceremony', 'ram', 'mandir', 'ayodhya', 'firework', 'street', 'khargone', 'police', 'behaving', 'like', 'bengal', 'police', 'kailash', 'vijayvargiya', 'said', 'twitter', 'strongly', 'condemning', 'police', 'action', 'senior', 'bjp', 'leader', 'sharing', 'video', 'incident', 'twitter', 'wrote', 'prime', 'minister', 'narendra', 'modi', 'ji', 'said', 'today', 'day', 'glory', 'country', 'foundation', 'stone', 'ram', 'temple', 'laid', 'ayodhya', 'whole', 'country', 'celebrating', 'situation', 'police', 'action', 'youth', 'celebrating', 'cheering', 'saraffa', 'bazar', 'khargone', 'unfair', 'mr', 'vijavargiya', 'also', 'tagged', 'state', 'home', 'minister', 'narrotam', 'mishra', 'post', 'advised', 'make', 'police', 'force', 'understand', 'wednesday', 'groundbreaking', 'ceremony', 'ram', 'temple', 'underway', 'ayodhya', 'trader', 'local', 'youth', 'came', 'together', 'saraffa', 'bazar', 'area', 'began', 'bursting', 'cracker', 'street', 'celebrate', 'event', 'police', 'fearing', 'law', 'order', 'situation', 'communally', 'sensitive', 'area', 'took', 'action', 'trader', 'alleged', 'many', 'celebrating', 'area', 'detained', 'police', 'almost', 'hour', 'also', 'accused', 'police', 'beating', 'person', 'bursting', 'cracker', 'video', 'gone', 'viral', 'social', 'medium', 'ruling', 'bjp', 'along', 'vishwa', 'hindu', 'parishad', 'outfit', 'protested', 'khargone', 'thursday', 'police', 'action', 'trader', 'khargone', '850', 'case', 'coronavirus', '18', 'related', 'death', 'emerged', 'second', 'worstaffected', 'district', 'nimar', 'region', 'indore']\n"
     ]
    }
   ],
   "source": [
    "print(lemma)"
   ]
  },
  {
   "cell_type": "code",
   "execution_count": 257,
   "metadata": {},
   "outputs": [],
   "source": [
    "clear_line=''\n",
    "emotion_list=[]\n",
    "with open('Downloads/emotions.txt','r') as file:\n",
    "    for line in file:\n",
    "        clear_line=line.replace(\"\\n\",'').replace(\" \",\"\").replace(\",\",\" \").replace(\"'\",\"\").strip()\n",
    "        word,emotion=clear_line.split(':')\n",
    "        if word in lemma:\n",
    "            emotion_list.append(emotion)\n",
    "            \n",
    "w=Counter(emotion_list)"
   ]
  },
  {
   "cell_type": "code",
   "execution_count": 258,
   "metadata": {},
   "outputs": [
    {
     "data": {
      "image/png": "[encoded data removed]",
      "text/plain": [
       "<Figure size 864x432 with 1 Axes>"
      ]
     },
     "metadata": {
      "needs_background": "light"
     },
     "output_type": "display_data"
    }
   ],
   "source": [
    "fig,ax=plt.subplots(figsize=(12,6))\n",
    "ax.bar(w.keys(),w.values())\n",
    "fig.autofmt_xdate()\n",
    "plt.show()"
   ]
  },
  {
   "cell_type": "code",
   "execution_count": 259,
   "metadata": {},
   "outputs": [
    {
     "data": {
      "text/plain": [
       "{'neg': 0.054, 'neu': 0.847, 'pos': 0.1, 'compound': 0.9524}"
      ]
     },
     "execution_count": 259,
     "metadata": {},
     "output_type": "execute_result"
    }
   ],
   "source": [
    "sia.polarity_scores(cleaned)"
   ]
  },
  {
   "cell_type": "code",
   "execution_count": 260,
   "metadata": {},
   "outputs": [],
   "source": [
    "# Emotions has been added to emotions.txt file based on words included in the document task2.txt"
   ]
  },
  {
   "cell_type": "code",
   "execution_count": null,
   "metadata": {},
   "outputs": [],
   "source": []
  },
  {
   "cell_type": "code",
   "execution_count": null,
   "metadata": {},
   "outputs": [],
   "source": []
  },
  {
   "cell_type": "markdown",
   "metadata": {},
   "source": [
    "# TASK 3"
   ]
  },
  {
   "cell_type": "code",
   "execution_count": 299,
   "metadata": {},
   "outputs": [],
   "source": [
    "s1= ['''The following assignment is the very first assignment for Natural Language Processing given to us. \n",
    "The objective is to create two documents and create a bag of words. We are also supposed to identify how many \n",
    "words of one document also appears in other document.''']\n",
    "\n",
    "s2= ['''This is the second document of bag of words assignment. Lets apply the concepts of Natural Language \n",
    "Processing and count vectorizer taught in the live class on these documents to check the \n",
    "similarity of words between the two documents.''']"
   ]
  },
  {
   "cell_type": "code",
   "execution_count": null,
   "metadata": {},
   "outputs": [],
   "source": []
  },
  {
   "cell_type": "code",
   "execution_count": 300,
   "metadata": {},
   "outputs": [],
   "source": [
    "from sklearn.feature_extraction.text import CountVectorizer"
   ]
  },
  {
   "cell_type": "code",
   "execution_count": 301,
   "metadata": {},
   "outputs": [
    {
     "name": "stdout",
     "output_type": "stream",
     "text": [
      "['also', 'appears', 'assignment', 'bag', 'create', 'document', 'documents', 'first', 'following', 'given', 'identify', 'language', 'many', 'natural', 'objective', 'one', 'processing', 'supposed', 'two', 'us', 'words']\n"
     ]
    }
   ],
   "source": [
    "cvect=CountVectorizer(stop_words=stopwords.words('english'))\n",
    "cvect.fit_transform(s1)\n",
    "print(cvect.get_feature_names())"
   ]
  },
  {
   "cell_type": "code",
   "execution_count": 302,
   "metadata": {},
   "outputs": [
    {
     "data": {
      "text/plain": [
       "{'following': 8,\n",
       " 'assignment': 2,\n",
       " 'first': 7,\n",
       " 'natural': 13,\n",
       " 'language': 11,\n",
       " 'processing': 16,\n",
       " 'given': 9,\n",
       " 'us': 19,\n",
       " 'objective': 14,\n",
       " 'create': 4,\n",
       " 'two': 18,\n",
       " 'documents': 6,\n",
       " 'bag': 3,\n",
       " 'words': 20,\n",
       " 'also': 0,\n",
       " 'supposed': 17,\n",
       " 'identify': 10,\n",
       " 'many': 12,\n",
       " 'one': 15,\n",
       " 'document': 5,\n",
       " 'appears': 1}"
      ]
     },
     "execution_count": 302,
     "metadata": {},
     "output_type": "execute_result"
    }
   ],
   "source": [
    "cvect.vocabulary_"
   ]
  },
  {
   "cell_type": "code",
   "execution_count": 303,
   "metadata": {},
   "outputs": [],
   "source": [
    "cnew=cvect.transform(s2)\n",
    "cnew=cnew.toarray()"
   ]
  },
  {
   "cell_type": "code",
   "execution_count": null,
   "metadata": {},
   "outputs": [],
   "source": []
  },
  {
   "cell_type": "code",
   "execution_count": 304,
   "metadata": {},
   "outputs": [],
   "source": [
    "import pandas as pd"
   ]
  },
  {
   "cell_type": "code",
   "execution_count": 305,
   "metadata": {},
   "outputs": [
    {
     "data": {
      "text/html": [
       "<div>\n",
       "<style scoped>\n",
       "    .dataframe tbody tr th:only-of-type {\n",
       "        vertical-align: middle;\n",
       "    }\n",
       "\n",
       "    .dataframe tbody tr th {\n",
       "        vertical-align: top;\n",
       "    }\n",
       "\n",
       "    .dataframe thead th {\n",
       "        text-align: right;\n",
       "    }\n",
       "</style>\n",
       "<table border=\"1\" class=\"dataframe\">\n",
       "  <thead>\n",
       "    <tr style=\"text-align: right;\">\n",
       "      <th></th>\n",
       "      <th>also</th>\n",
       "      <th>appears</th>\n",
       "      <th>assignment</th>\n",
       "      <th>bag</th>\n",
       "      <th>create</th>\n",
       "      <th>document</th>\n",
       "      <th>documents</th>\n",
       "      <th>first</th>\n",
       "      <th>following</th>\n",
       "      <th>given</th>\n",
       "      <th>...</th>\n",
       "      <th>language</th>\n",
       "      <th>many</th>\n",
       "      <th>natural</th>\n",
       "      <th>objective</th>\n",
       "      <th>one</th>\n",
       "      <th>processing</th>\n",
       "      <th>supposed</th>\n",
       "      <th>two</th>\n",
       "      <th>us</th>\n",
       "      <th>words</th>\n",
       "    </tr>\n",
       "  </thead>\n",
       "  <tbody>\n",
       "    <tr>\n",
       "      <th>0</th>\n",
       "      <td>0</td>\n",
       "      <td>0</td>\n",
       "      <td>1</td>\n",
       "      <td>1</td>\n",
       "      <td>0</td>\n",
       "      <td>1</td>\n",
       "      <td>2</td>\n",
       "      <td>0</td>\n",
       "      <td>0</td>\n",
       "      <td>0</td>\n",
       "      <td>...</td>\n",
       "      <td>1</td>\n",
       "      <td>0</td>\n",
       "      <td>1</td>\n",
       "      <td>0</td>\n",
       "      <td>0</td>\n",
       "      <td>1</td>\n",
       "      <td>0</td>\n",
       "      <td>1</td>\n",
       "      <td>0</td>\n",
       "      <td>2</td>\n",
       "    </tr>\n",
       "  </tbody>\n",
       "</table>\n",
       "<p>1 rows × 21 columns</p>\n",
       "</div>"
      ],
      "text/plain": [
       "   also  appears  assignment  bag  create  document  documents  first  \\\n",
       "0     0        0           1    1       0         1          2      0   \n",
       "\n",
       "   following  given  ...  language  many  natural  objective  one  processing  \\\n",
       "0          0      0  ...         1     0        1          0    0           1   \n",
       "\n",
       "   supposed  two  us  words  \n",
       "0         0    1   0      2  \n",
       "\n",
       "[1 rows x 21 columns]"
      ]
     },
     "execution_count": 305,
     "metadata": {},
     "output_type": "execute_result"
    }
   ],
   "source": [
    "rep=pd.DataFrame(cnew,columns=cvect.get_feature_names())\n",
    "rep"
   ]
  },
  {
   "cell_type": "code",
   "execution_count": 306,
   "metadata": {},
   "outputs": [
    {
     "data": {
      "text/plain": [
       "11"
      ]
     },
     "execution_count": 306,
     "metadata": {},
     "output_type": "execute_result"
    }
   ],
   "source": [
    "cnew.sum()"
   ]
  },
  {
   "cell_type": "code",
   "execution_count": 307,
   "metadata": {},
   "outputs": [],
   "source": [
    "# Therefore, we can say that a total of 11 repetitions of B are present in A"
   ]
  },
  {
   "cell_type": "code",
   "execution_count": 308,
   "metadata": {},
   "outputs": [],
   "source": [
    "# To know the words that are being repeated"
   ]
  },
  {
   "cell_type": "code",
   "execution_count": 309,
   "metadata": {},
   "outputs": [
    {
     "name": "stdout",
     "output_type": "stream",
     "text": [
      "{'assignment': 1, 'bag': 1, 'document': 1, 'documents': 2, 'language': 1, 'natural': 1, 'processing': 1, 'two': 1, 'words': 2}\n"
     ]
    }
   ],
   "source": [
    "cols=rep.columns\n",
    "dic={}\n",
    "for col in cols:\n",
    "    if rep[col].sum()>=1:\n",
    "        dic[col]=rep[col].sum()\n",
    "print(dic)"
   ]
  },
  {
   "cell_type": "code",
   "execution_count": 310,
   "metadata": {},
   "outputs": [
    {
     "data": {
      "text/plain": [
       "9"
      ]
     },
     "execution_count": 310,
     "metadata": {},
     "output_type": "execute_result"
    }
   ],
   "source": [
    "# In order to know how many words of B are present in A\n",
    "len(dic.keys())"
   ]
  },
  {
   "cell_type": "code",
   "execution_count": null,
   "metadata": {},
   "outputs": [],
   "source": []
  }
 ],
 "metadata": {
  "kernelspec": {
   "display_name": "Python 3",
   "language": "python",
   "name": "python3"
  },
  "language_info": {
   "codemirror_mode": {
    "name": "ipython",
    "version": 3
   },
   "file_extension": ".py",
   "mimetype": "text/x-python",
   "name": "python",
   "nbconvert_exporter": "python",
   "pygments_lexer": "ipython3",
   "version": "3.8.2"
  }
 },
 "nbformat": 4,
 "nbformat_minor": 4
}
