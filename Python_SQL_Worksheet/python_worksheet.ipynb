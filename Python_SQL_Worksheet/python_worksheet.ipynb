{
 "cells": [
  {
   "cell_type": "code",
   "execution_count": 2,
   "metadata": {},
   "outputs": [
    {
     "data": {
      "text/plain": [
       "104"
      ]
     },
     "execution_count": 2,
     "metadata": {},
     "output_type": "execute_result"
    }
   ],
   "source": [
    "ord('h')"
   ]
  },
  {
   "cell_type": "code",
   "execution_count": 4,
   "metadata": {},
   "outputs": [
    {
     "name": "stdout",
     "output_type": "stream",
     "text": [
      "I Love Python\n"
     ]
    }
   ],
   "source": [
    "s='I+Love+Python'\n",
    "s=s.replace('+',' ')\n",
    "print(s)"
   ]
  },
  {
   "cell_type": "code",
   "execution_count": 15,
   "metadata": {},
   "outputs": [],
   "source": [
    "def quad():\n",
    "    a=int(input('Enter a in (ax**2+bx+c)'))\n",
    "    b=int(input('Enter b in (ax**2+bx+c)'))\n",
    "    c=int(input('Enter c in (ax**2+bx+c)'))\n",
    "    \n",
    "    if a!=0:\n",
    "        if (b**2 - (4*a*c))>=0:\n",
    "            root_1= (-1*b - ((b**2 - 4*a*c)**0.5))/(2*a)\n",
    "            root_2= (-1*b + ((b**2 - 4*a*c)**0.5))/(2*a)\n",
    "            return root_1, root_2\n",
    "        else:\n",
    "            print(\"Real roots don't exist\")\n",
    "    else:\n",
    "        print(\"Invalid value for 'a' (can't be zero). Please try again\")\n",
    "        quad()"
   ]
  },
  {
   "cell_type": "code",
   "execution_count": 16,
   "metadata": {
    "scrolled": true
   },
   "outputs": [
    {
     "name": "stdout",
     "output_type": "stream",
     "text": [
      "Enter a in (ax**2+bx+c)0\n",
      "Enter b in (ax**2+bx+c)2\n",
      "Enter c in (ax**2+bx+c)4\n",
      "Invalid value for 'a' (can't be zero). Please try again\n",
      "Enter a in (ax**2+bx+c)3\n",
      "Enter b in (ax**2+bx+c)2\n",
      "Enter c in (ax**2+bx+c)4\n",
      "Real roots don't exist\n"
     ]
    }
   ],
   "source": [
    "quad()"
   ]
  },
  {
   "cell_type": "code",
   "execution_count": 17,
   "metadata": {},
   "outputs": [
    {
     "name": "stdout",
     "output_type": "stream",
     "text": [
      "Enter a natural number: 10\n"
     ]
    },
    {
     "data": {
      "text/plain": [
       "55.0"
      ]
     },
     "execution_count": 17,
     "metadata": {},
     "output_type": "execute_result"
    }
   ],
   "source": [
    "def sum_n_num():\n",
    "    n=int(input('Enter a natural number: '))\n",
    "    s=(n*(n+1))/2\n",
    "    return s\n",
    "\n",
    "sum_n_num()"
   ]
  },
  {
   "cell_type": "code",
   "execution_count": null,
   "metadata": {},
   "outputs": [],
   "source": []
  }
 ],
 "metadata": {
  "kernelspec": {
   "display_name": "Python 3",
   "language": "python",
   "name": "python3"
  },
  "language_info": {
   "codemirror_mode": {
    "name": "ipython",
    "version": 3
   },
   "file_extension": ".py",
   "mimetype": "text/x-python",
   "name": "python",
   "nbconvert_exporter": "python",
   "pygments_lexer": "ipython3",
   "version": "3.8.2"
  }
 },
 "nbformat": 4,
 "nbformat_minor": 4
}
