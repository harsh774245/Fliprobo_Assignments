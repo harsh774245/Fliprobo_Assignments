{
  "nbformat": 4,
  "nbformat_minor": 0,
  "metadata": {
    "colab": {
      "name": "assignment_3_2.ipynb",
      "provenance": [],
      "collapsed_sections": []
    },
    "kernelspec": {
      "name": "python3",
      "display_name": "Python 3"
    },
    "accelerator": "GPU"
  },
  "cells": [
    {
      "cell_type": "code",
      "metadata": {
        "id": "AfSM5sScbR17",
        "colab_type": "code",
        "colab": {
          "base_uri": "https://localhost:8080/",
          "height": 34
        },
        "outputId": "f56fdab4-38ef-4610-e4e7-3e16772ab885"
      },
      "source": [
        "from zipfile import ZipFile\n",
        "filename='/assign_3_data.zip'\n",
        "with ZipFile(filename,'r') as zip:\n",
        "  zip.extractall()\n",
        "  print('Done')"
      ],
      "execution_count": 1,
      "outputs": [
        {
          "output_type": "stream",
          "text": [
            "Done\n"
          ],
          "name": "stdout"
        }
      ]
    },
    {
      "cell_type": "code",
      "metadata": {
        "id": "FE9JlH8fuSgU",
        "colab_type": "code",
        "colab": {}
      },
      "source": [
        "# various trials were run. Checkout the final trial to see the final accuracy."
      ],
      "execution_count": 2,
      "outputs": []
    },
    {
      "cell_type": "code",
      "metadata": {
        "id": "GH6JYWCQds5H",
        "colab_type": "code",
        "colab": {
          "base_uri": "https://localhost:8080/",
          "height": 655
        },
        "outputId": "48f6a740-83e5-4d8e-cb05-f776f3d25744"
      },
      "source": [
        "# Trial 1\n",
        "from keras.models import Sequential\n",
        "from keras.layers import Conv2D\n",
        "from keras.layers import MaxPooling2D\n",
        "from keras.layers import Flatten\n",
        "from keras.layers import Dense,Dropout\n",
        "\n",
        "# Initialising the CNN\n",
        "classifier = Sequential()\n",
        "\n",
        "# Step 1 - Convolution\n",
        "classifier.add(Conv2D(32, (3, 3), input_shape = (64, 64, 3), activation = 'relu'))\n",
        "\n",
        "# Step 2 - Pooling\n",
        "classifier.add(MaxPooling2D(pool_size = (2, 2)))\n",
        "\n",
        "\n",
        "classifier.add(Conv2D(64, (3, 3), activation = 'relu'))\n",
        "classifier.add(MaxPooling2D(pool_size = (2, 2)))\n",
        "# classifier.add(Dropout(0.5))\n",
        "\n",
        "classifier.add(Conv2D(128, (3, 3), activation = 'relu'))\n",
        "classifier.add(MaxPooling2D(pool_size = (2, 2)))\n",
        "# classifier.add(Dropout(0.5))\n",
        "\n",
        "classifier.add(Conv2D(256, (3, 3), activation = 'relu'))\n",
        "classifier.add(MaxPooling2D(pool_size = (2, 2)))\n",
        "classifier.add(Dropout(0.5))\n",
        "\n",
        "\n",
        "# Step 3 - Flattening\n",
        "classifier.add(Flatten())\n",
        "\n",
        "# Step 4 - Full connection\n",
        "classifier.add(Dense(units = 128, activation = 'relu'))\n",
        "# classifier.add(Dropout(0.5))\n",
        "classifier.add(Dense(units = 64, activation = 'relu'))\n",
        "classifier.add(Dropout(0.25))\n",
        "\n",
        "classifier.add(Dense(units=3, activation = 'softmax'))\n",
        "\n",
        "# Compiling the CNN\n",
        "classifier.compile(optimizer = 'adam', loss = 'categorical_crossentropy', metrics = ['accuracy'])\n",
        "\n",
        "# Part 2 - Fitting the CNN to the images\n",
        "\n",
        "from keras.preprocessing.image import ImageDataGenerator\n",
        "\n",
        "train_datagen = ImageDataGenerator(rescale = 1./255)\n",
        "valid_datagen = ImageDataGenerator(rescale = 1./255)\n",
        "\n",
        "training_set = train_datagen.flow_from_directory('/content/assign_3_data/train',\n",
        "                                                 target_size = (64, 64),\n",
        "                                                 batch_size = 32,\n",
        "                                                 class_mode = 'categorical')\n",
        "\n",
        "valid_set = valid_datagen.flow_from_directory('/content/assign_3_data/test',\n",
        "                                            target_size = (64, 64),\n",
        "                                            batch_size = 32,\n",
        "                                            class_mode = 'categorical')\n",
        "\n",
        "classifier.summary()\n",
        "\n"
      ],
      "execution_count": null,
      "outputs": [
        {
          "output_type": "stream",
          "text": [
            "Found 1920 images belonging to 3 classes.\n",
            "Found 60 images belonging to 3 classes.\n",
            "Model: \"sequential_3\"\n",
            "_________________________________________________________________\n",
            "Layer (type)                 Output Shape              Param #   \n",
            "=================================================================\n",
            "conv2d_9 (Conv2D)            (None, 62, 62, 32)        896       \n",
            "_________________________________________________________________\n",
            "max_pooling2d_9 (MaxPooling2 (None, 31, 31, 32)        0         \n",
            "_________________________________________________________________\n",
            "conv2d_10 (Conv2D)           (None, 29, 29, 64)        18496     \n",
            "_________________________________________________________________\n",
            "max_pooling2d_10 (MaxPooling (None, 14, 14, 64)        0         \n",
            "_________________________________________________________________\n",
            "conv2d_11 (Conv2D)           (None, 12, 12, 128)       73856     \n",
            "_________________________________________________________________\n",
            "max_pooling2d_11 (MaxPooling (None, 6, 6, 128)         0         \n",
            "_________________________________________________________________\n",
            "conv2d_12 (Conv2D)           (None, 4, 4, 256)         295168    \n",
            "_________________________________________________________________\n",
            "max_pooling2d_12 (MaxPooling (None, 2, 2, 256)         0         \n",
            "_________________________________________________________________\n",
            "dropout_5 (Dropout)          (None, 2, 2, 256)         0         \n",
            "_________________________________________________________________\n",
            "flatten_3 (Flatten)          (None, 1024)              0         \n",
            "_________________________________________________________________\n",
            "dense_7 (Dense)              (None, 128)               131200    \n",
            "_________________________________________________________________\n",
            "dense_8 (Dense)              (None, 64)                8256      \n",
            "_________________________________________________________________\n",
            "dropout_6 (Dropout)          (None, 64)                0         \n",
            "_________________________________________________________________\n",
            "dense_9 (Dense)              (None, 3)                 195       \n",
            "=================================================================\n",
            "Total params: 528,067\n",
            "Trainable params: 528,067\n",
            "Non-trainable params: 0\n",
            "_________________________________________________________________\n"
          ],
          "name": "stdout"
        }
      ]
    },
    {
      "cell_type": "code",
      "metadata": {
        "id": "D-_JI57-ev0V",
        "colab_type": "code",
        "colab": {
          "base_uri": "https://localhost:8080/",
          "height": 50
        },
        "outputId": "68f3f864-b11f-4bae-97d8-bcfd03eeed44"
      },
      "source": [
        "# training model for trail 1\n",
        "model = classifier.fit_generator(training_set,\n",
        "                         steps_per_epoch=2000,\n",
        "                         epochs = 1,\n",
        "                          validation_data = valid_set,\n",
        "                          validation_steps=1000)"
      ],
      "execution_count": null,
      "outputs": [
        {
          "output_type": "stream",
          "text": [
            "Epoch 1/1\n",
            "2000/2000 [==============================] - 221s 110ms/step - loss: 0.1193 - accuracy: 0.9462 - val_loss: 0.7520 - val_accuracy: 0.9167\n"
          ],
          "name": "stdout"
        }
      ]
    },
    {
      "cell_type": "code",
      "metadata": {
        "id": "40fG3ta6fAhg",
        "colab_type": "code",
        "colab": {
          "base_uri": "https://localhost:8080/",
          "height": 50
        },
        "outputId": "4c4e4da2-d2ad-4335-fdc1-73df35b95996"
      },
      "source": [
        "# training model for trail 1\n",
        "model = classifier.fit_generator(training_set,\n",
        "                         steps_per_epoch=4000,\n",
        "                         epochs = 1,\n",
        "                          validation_data = valid_set,\n",
        "                          validation_steps=1000)"
      ],
      "execution_count": null,
      "outputs": [
        {
          "output_type": "stream",
          "text": [
            "Epoch 1/1\n",
            "4000/4000 [==============================] - 328s 82ms/step - loss: 0.0035 - accuracy: 0.9990 - val_loss: 0.5747 - val_accuracy: 0.8833\n"
          ],
          "name": "stdout"
        }
      ]
    },
    {
      "cell_type": "code",
      "metadata": {
        "id": "X74cWnc4gP0o",
        "colab_type": "code",
        "colab": {
          "base_uri": "https://localhost:8080/",
          "height": 655
        },
        "outputId": "93898af1-e73c-48ce-b00a-af154ac68afc"
      },
      "source": [
        "# trial 2\n",
        "from keras.models import Sequential\n",
        "from keras.layers import Conv2D\n",
        "from keras.layers import MaxPooling2D\n",
        "from keras.layers import Flatten\n",
        "from keras.layers import Dense,Dropout\n",
        "\n",
        "# Initialising the CNN\n",
        "classifier = Sequential()\n",
        "\n",
        "# Step 1 - Convolution\n",
        "classifier.add(Conv2D(32, (7, 7), input_shape = (64, 64, 3), activation = 'relu'))\n",
        "\n",
        "# Step 2 - Pooling\n",
        "classifier.add(MaxPooling2D(pool_size = (2, 2)))\n",
        "\n",
        "\n",
        "classifier.add(Conv2D(64, (3, 3), activation = 'relu'))\n",
        "classifier.add(MaxPooling2D(pool_size = (2, 2)))\n",
        "# classifier.add(Dropout(0.5))\n",
        "\n",
        "classifier.add(Conv2D(128, (3, 3), activation = 'relu'))\n",
        "classifier.add(MaxPooling2D(pool_size = (2, 2)))\n",
        "# classifier.add(Dropout(0.5))\n",
        "\n",
        "# classifier.add(Conv2D(256, (3, 3), activation = 'relu'))\n",
        "# classifier.add(MaxPooling2D(pool_size = (2, 2)))\n",
        "classifier.add(Dropout(0.5))\n",
        "\n",
        "\n",
        "# Step 3 - Flattening\n",
        "classifier.add(Flatten())\n",
        "\n",
        "# Step 4 - Full connection\n",
        "classifier.add(Dense(units = 128, activation = 'relu'))\n",
        "# classifier.add(Dropout(0.5))\n",
        "classifier.add(Dense(units = 256, activation = 'relu'))\n",
        "classifier.add(Dropout(0.25))\n",
        "classifier.add(Dense(units = 256, activation = 'relu'))\n",
        "classifier.add(Dropout(0.3))\n",
        "\n",
        "classifier.add(Dense(units=3, activation = 'softmax'))\n",
        "\n",
        "# Compiling the CNN\n",
        "classifier.compile(optimizer = 'adam', loss = 'categorical_crossentropy', metrics = ['accuracy'])\n",
        "\n",
        "# Part 2 - Fitting the CNN to the images\n",
        "\n",
        "from keras.preprocessing.image import ImageDataGenerator\n",
        "\n",
        "train_datagen = ImageDataGenerator(rescale = 1./255)\n",
        "valid_datagen = ImageDataGenerator(rescale = 1./255)\n",
        "\n",
        "training_set = train_datagen.flow_from_directory('/content/assign_3_data/train',\n",
        "                                                 target_size = (64, 64),\n",
        "                                                 batch_size = 32,\n",
        "                                                 class_mode = 'categorical')\n",
        "\n",
        "valid_set = valid_datagen.flow_from_directory('/content/assign_3_data/test',\n",
        "                                            target_size = (64, 64),\n",
        "                                            batch_size = 32,\n",
        "                                            class_mode = 'categorical')\n",
        "\n",
        "classifier.summary()\n",
        "\n"
      ],
      "execution_count": null,
      "outputs": [
        {
          "output_type": "stream",
          "text": [
            "Found 1920 images belonging to 3 classes.\n",
            "Found 60 images belonging to 3 classes.\n",
            "Model: \"sequential_5\"\n",
            "_________________________________________________________________\n",
            "Layer (type)                 Output Shape              Param #   \n",
            "=================================================================\n",
            "conv2d_17 (Conv2D)           (None, 58, 58, 32)        4736      \n",
            "_________________________________________________________________\n",
            "max_pooling2d_17 (MaxPooling (None, 29, 29, 32)        0         \n",
            "_________________________________________________________________\n",
            "conv2d_18 (Conv2D)           (None, 27, 27, 64)        18496     \n",
            "_________________________________________________________________\n",
            "max_pooling2d_18 (MaxPooling (None, 13, 13, 64)        0         \n",
            "_________________________________________________________________\n",
            "conv2d_19 (Conv2D)           (None, 11, 11, 128)       73856     \n",
            "_________________________________________________________________\n",
            "max_pooling2d_19 (MaxPooling (None, 5, 5, 128)         0         \n",
            "_________________________________________________________________\n",
            "dropout_10 (Dropout)         (None, 5, 5, 128)         0         \n",
            "_________________________________________________________________\n",
            "flatten_5 (Flatten)          (None, 3200)              0         \n",
            "_________________________________________________________________\n",
            "dense_14 (Dense)             (None, 128)               409728    \n",
            "_________________________________________________________________\n",
            "dense_15 (Dense)             (None, 256)               33024     \n",
            "_________________________________________________________________\n",
            "dropout_11 (Dropout)         (None, 256)               0         \n",
            "_________________________________________________________________\n",
            "dense_16 (Dense)             (None, 256)               65792     \n",
            "_________________________________________________________________\n",
            "dropout_12 (Dropout)         (None, 256)               0         \n",
            "_________________________________________________________________\n",
            "dense_17 (Dense)             (None, 3)                 771       \n",
            "=================================================================\n",
            "Total params: 606,403\n",
            "Trainable params: 606,403\n",
            "Non-trainable params: 0\n",
            "_________________________________________________________________\n"
          ],
          "name": "stdout"
        }
      ]
    },
    {
      "cell_type": "code",
      "metadata": {
        "id": "NsI_IAPeiTui",
        "colab_type": "code",
        "colab": {
          "base_uri": "https://localhost:8080/",
          "height": 50
        },
        "outputId": "d4ae356a-d0bc-444f-abb4-425f6f8412be"
      },
      "source": [
        "# training model for trail 2\n",
        "model = classifier.fit_generator(training_set,\n",
        "                         steps_per_epoch=2000,\n",
        "                         epochs = 1,\n",
        "                          validation_data = valid_set,\n",
        "                          validation_steps=500)"
      ],
      "execution_count": null,
      "outputs": [
        {
          "output_type": "stream",
          "text": [
            "Epoch 1/1\n",
            "2000/2000 [==============================] - 181s 91ms/step - loss: 0.1394 - accuracy: 0.9358 - val_loss: 0.5758 - val_accuracy: 0.9333\n"
          ],
          "name": "stdout"
        }
      ]
    },
    {
      "cell_type": "code",
      "metadata": {
        "id": "F5YCfX8qi1ca",
        "colab_type": "code",
        "colab": {
          "base_uri": "https://localhost:8080/",
          "height": 50
        },
        "outputId": "f756967b-aa01-40cb-f577-fdd752b0a787"
      },
      "source": [
        "# training model for trail 2\n",
        "model = classifier.fit_generator(training_set,\n",
        "                         steps_per_epoch=2000,\n",
        "                         epochs = 1,\n",
        "                          validation_data = valid_set,\n",
        "                          validation_steps=500)"
      ],
      "execution_count": null,
      "outputs": [
        {
          "output_type": "stream",
          "text": [
            "Epoch 1/1\n",
            "2000/2000 [==============================] - 176s 88ms/step - loss: 0.0170 - accuracy: 0.9945 - val_loss: 1.0368 - val_accuracy: 0.9167\n"
          ],
          "name": "stdout"
        }
      ]
    },
    {
      "cell_type": "code",
      "metadata": {
        "id": "smUV0fDKjmSu",
        "colab_type": "code",
        "colab": {
          "base_uri": "https://localhost:8080/",
          "height": 50
        },
        "outputId": "fde3c16e-b1bb-446a-8ccd-411143ad7ad6"
      },
      "source": [
        "# training model for trail 2\n",
        "model = classifier.fit_generator(training_set,\n",
        "                         steps_per_epoch=2000,\n",
        "                         epochs = 1,\n",
        "                          validation_data = valid_set,\n",
        "                          validation_steps=500)"
      ],
      "execution_count": null,
      "outputs": [
        {
          "output_type": "stream",
          "text": [
            "Epoch 1/1\n",
            "2000/2000 [==============================] - 183s 91ms/step - loss: 0.0121 - accuracy: 0.9964 - val_loss: 0.5980 - val_accuracy: 0.9000\n"
          ],
          "name": "stdout"
        }
      ]
    },
    {
      "cell_type": "code",
      "metadata": {
        "id": "dV8gqo1rkZX1",
        "colab_type": "code",
        "colab": {
          "base_uri": "https://localhost:8080/",
          "height": 50
        },
        "outputId": "efa317cd-64f7-4c76-f99e-d42c6b967a0f"
      },
      "source": [
        "# training model for trail 2\n",
        "model = classifier.fit_generator(training_set,\n",
        "                         steps_per_epoch=2000,\n",
        "                         epochs = 1,\n",
        "                          validation_data = valid_set,\n",
        "                          validation_steps=500)"
      ],
      "execution_count": null,
      "outputs": [
        {
          "output_type": "stream",
          "text": [
            "Epoch 1/1\n",
            "2000/2000 [==============================] - 172s 86ms/step - loss: 0.0103 - accuracy: 0.9972 - val_loss: 3.0583 - val_accuracy: 0.9000\n"
          ],
          "name": "stdout"
        }
      ]
    },
    {
      "cell_type": "code",
      "metadata": {
        "id": "EoliT3rclN6h",
        "colab_type": "code",
        "colab": {
          "base_uri": "https://localhost:8080/",
          "height": 689
        },
        "outputId": "99ef8ac8-7126-4475-8220-209b9f903f8f"
      },
      "source": [
        "# trial 3\n",
        "from keras.models import Sequential\n",
        "from keras.layers import Conv2D\n",
        "from keras.layers import MaxPooling2D\n",
        "from keras.layers import Flatten\n",
        "from keras.layers import Dense,Dropout\n",
        "\n",
        "# Initialising the CNN\n",
        "classifier = Sequential()\n",
        "\n",
        "# Step 1 - Convolution\n",
        "classifier.add(Conv2D(64, (3, 3), input_shape = (128, 128, 3), activation = 'relu'))\n",
        "classifier.add(Conv2D(64, (3, 3), activation = 'relu'))\n",
        "classifier.add(MaxPooling2D(pool_size = (2, 2)))\n",
        "\n",
        "classifier.add(Conv2D(128, (3, 3), activation = 'relu'))\n",
        "classifier.add(Conv2D(128, (3, 3), activation = 'relu'))\n",
        "classifier.add(MaxPooling2D(pool_size = (2, 2)))\n",
        "\n",
        "classifier.add(Conv2D(256, (3, 3), activation = 'relu'))\n",
        "classifier.add(Conv2D(256, (3, 3), activation = 'relu'))\n",
        "classifier.add(Conv2D(256, (3, 3), activation = 'relu'))\n",
        "classifier.add(MaxPooling2D(pool_size = (2, 2)))\n",
        "\n",
        "# classifier.add(Conv2D(512, (3, 3), activation = 'relu'))\n",
        "# classifier.add(Conv2D(512, (3, 3), activation = 'relu'))\n",
        "# classifier.add(Conv2D(512, (3, 3), activation = 'relu'))\n",
        "# classifier.add(MaxPooling2D(pool_size = (2, 2)))\n",
        "\n",
        "# classifier.add(Conv2D(512, (3, 3), activation = 'relu'))\n",
        "# classifier.add(Conv2D(512, (3, 3), activation = 'relu'))\n",
        "# classifier.add(Conv2D(512, (3, 3), activation = 'relu'))\n",
        "# classifier.add(MaxPooling2D(pool_size = (2, 2)))\n",
        "\n",
        "\n",
        "\n",
        "# Step 3 - Flattening\n",
        "classifier.add(Flatten())\n",
        "\n",
        "# Step 4 - Full connection\n",
        "classifier.add(Dense(units = 4096, activation = 'relu'))\n",
        "# classifier.add(Dropout(0.5))\n",
        "classifier.add(Dense(units = 4096, activation = 'relu'))\n",
        "# classifier.add(Dropout(0.25))\n",
        "classifier.add(Dense(units = 4096, activation = 'relu'))\n",
        "# classifier.add(Dropout(0.3))\n",
        "\n",
        "classifier.add(Dense(units=3, activation = 'softmax'))\n",
        "\n",
        "# Compiling the CNN\n",
        "classifier.compile(optimizer = 'adam', loss = 'categorical_crossentropy', metrics = ['accuracy'])\n",
        "\n",
        "# Part 2 - Fitting the CNN to the images\n",
        "\n",
        "from keras.preprocessing.image import ImageDataGenerator\n",
        "\n",
        "train_datagen = ImageDataGenerator(rescale = 1./255)\n",
        "valid_datagen = ImageDataGenerator(rescale = 1./255)\n",
        "\n",
        "training_set = train_datagen.flow_from_directory('/content/assign_3_data/train',\n",
        "                                                 target_size = (128, 128),\n",
        "                                                 batch_size = 32,\n",
        "                                                 class_mode = 'categorical')\n",
        "\n",
        "valid_set = valid_datagen.flow_from_directory('/content/assign_3_data/test',\n",
        "                                            target_size = (128, 128),\n",
        "                                            batch_size = 32,\n",
        "                                            class_mode = 'categorical')\n",
        "\n",
        "classifier.summary()"
      ],
      "execution_count": null,
      "outputs": [
        {
          "output_type": "stream",
          "text": [
            "Found 1920 images belonging to 3 classes.\n",
            "Found 60 images belonging to 3 classes.\n",
            "Model: \"sequential_8\"\n",
            "_________________________________________________________________\n",
            "Layer (type)                 Output Shape              Param #   \n",
            "=================================================================\n",
            "conv2d_40 (Conv2D)           (None, 126, 126, 64)      1792      \n",
            "_________________________________________________________________\n",
            "conv2d_41 (Conv2D)           (None, 124, 124, 64)      36928     \n",
            "_________________________________________________________________\n",
            "max_pooling2d_27 (MaxPooling (None, 62, 62, 64)        0         \n",
            "_________________________________________________________________\n",
            "conv2d_42 (Conv2D)           (None, 60, 60, 128)       73856     \n",
            "_________________________________________________________________\n",
            "conv2d_43 (Conv2D)           (None, 58, 58, 128)       147584    \n",
            "_________________________________________________________________\n",
            "max_pooling2d_28 (MaxPooling (None, 29, 29, 128)       0         \n",
            "_________________________________________________________________\n",
            "conv2d_44 (Conv2D)           (None, 27, 27, 256)       295168    \n",
            "_________________________________________________________________\n",
            "conv2d_45 (Conv2D)           (None, 25, 25, 256)       590080    \n",
            "_________________________________________________________________\n",
            "conv2d_46 (Conv2D)           (None, 23, 23, 256)       590080    \n",
            "_________________________________________________________________\n",
            "max_pooling2d_29 (MaxPooling (None, 11, 11, 256)       0         \n",
            "_________________________________________________________________\n",
            "flatten_6 (Flatten)          (None, 30976)             0         \n",
            "_________________________________________________________________\n",
            "dense_18 (Dense)             (None, 4096)              126881792 \n",
            "_________________________________________________________________\n",
            "dense_19 (Dense)             (None, 4096)              16781312  \n",
            "_________________________________________________________________\n",
            "dense_20 (Dense)             (None, 4096)              16781312  \n",
            "_________________________________________________________________\n",
            "dense_21 (Dense)             (None, 3)                 12291     \n",
            "=================================================================\n",
            "Total params: 162,192,195\n",
            "Trainable params: 162,192,195\n",
            "Non-trainable params: 0\n",
            "_________________________________________________________________\n"
          ],
          "name": "stdout"
        }
      ]
    },
    {
      "cell_type": "code",
      "metadata": {
        "id": "BoHKkDTZnHz8",
        "colab_type": "code",
        "colab": {}
      },
      "source": [
        "# training model for trial 3\n",
        "# training interrupted by keyboard because model was performing worse. val_accuracy was 32%\n",
        "\n",
        "\n",
        "# model = classifier.fit_generator(training_set,\n",
        "#                          steps_per_epoch=2000,\n",
        "#                          epochs = 1,\n",
        "#                           validation_data = valid_set,\n",
        "#                           validation_steps=500)"
      ],
      "execution_count": 3,
      "outputs": []
    },
    {
      "cell_type": "code",
      "metadata": {
        "id": "5dnl1-Bqn3TB",
        "colab_type": "code",
        "colab": {
          "base_uri": "https://localhost:8080/",
          "height": 655
        },
        "outputId": "e60d9746-58e6-4cec-a25d-81a5ad23ab29"
      },
      "source": [
        "# trail 4\n",
        "from keras.models import Sequential\n",
        "from keras.layers import Conv2D\n",
        "from keras.layers import MaxPooling2D\n",
        "from keras.layers import Flatten\n",
        "from keras.layers import Dense,Dropout\n",
        "\n",
        "# Initialising the CNN\n",
        "classifier = Sequential()\n",
        "\n",
        "# Step 1 - Convolution\n",
        "classifier.add(Conv2D(32, (7, 7), input_shape = (128, 128, 3), activation = 'relu'))\n",
        "\n",
        "# Step 2 - Pooling\n",
        "classifier.add(MaxPooling2D(pool_size = (2, 2)))\n",
        "\n",
        "\n",
        "classifier.add(Conv2D(64, (5, 5), activation = 'relu'))\n",
        "classifier.add(MaxPooling2D(pool_size = (2, 2)))\n",
        "# classifier.add(Dropout(0.5))\n",
        "\n",
        "classifier.add(Conv2D(128, (3, 3), activation = 'relu'))\n",
        "classifier.add(MaxPooling2D(pool_size = (2, 2)))\n",
        "# classifier.add(Dropout(0.5))\n",
        "\n",
        "# classifier.add(Conv2D(256, (3, 3), activation = 'relu'))\n",
        "# classifier.add(MaxPooling2D(pool_size = (2, 2)))\n",
        "classifier.add(Dropout(0.5))\n",
        "\n",
        "\n",
        "# Step 3 - Flattening\n",
        "classifier.add(Flatten())\n",
        "\n",
        "# Step 4 - Full connection\n",
        "classifier.add(Dense(units = 128, activation = 'relu'))\n",
        "# classifier.add(Dropout(0.5))\n",
        "classifier.add(Dense(units = 256, activation = 'relu'))\n",
        "classifier.add(Dropout(0.25))\n",
        "classifier.add(Dense(units = 256, activation = 'relu'))\n",
        "classifier.add(Dropout(0.3))\n",
        "\n",
        "classifier.add(Dense(units=3, activation = 'softmax'))\n",
        "\n",
        "# Compiling the CNN\n",
        "classifier.compile(optimizer = 'adam', loss = 'categorical_crossentropy', metrics = ['accuracy'])\n",
        "\n",
        "# Part 2 - Fitting the CNN to the images\n",
        "\n",
        "from keras.preprocessing.image import ImageDataGenerator\n",
        "\n",
        "train_datagen = ImageDataGenerator(rescale = 1./255)\n",
        "valid_datagen = ImageDataGenerator(rescale = 1./255)\n",
        "\n",
        "training_set = train_datagen.flow_from_directory('/content/assign_3_data/train',\n",
        "                                                 target_size = (128, 128),\n",
        "                                                 batch_size = 64,\n",
        "                                                 class_mode = 'categorical')\n",
        "\n",
        "valid_set = valid_datagen.flow_from_directory('/content/assign_3_data/test',\n",
        "                                            target_size = (128, 128),\n",
        "                                            batch_size = 64,\n",
        "                                            class_mode = 'categorical')\n",
        "\n",
        "classifier.summary()\n",
        "\n"
      ],
      "execution_count": null,
      "outputs": [
        {
          "output_type": "stream",
          "text": [
            "Found 1920 images belonging to 3 classes.\n",
            "Found 60 images belonging to 3 classes.\n",
            "Model: \"sequential_10\"\n",
            "_________________________________________________________________\n",
            "Layer (type)                 Output Shape              Param #   \n",
            "=================================================================\n",
            "conv2d_50 (Conv2D)           (None, 122, 122, 32)      4736      \n",
            "_________________________________________________________________\n",
            "max_pooling2d_33 (MaxPooling (None, 61, 61, 32)        0         \n",
            "_________________________________________________________________\n",
            "conv2d_51 (Conv2D)           (None, 57, 57, 64)        51264     \n",
            "_________________________________________________________________\n",
            "max_pooling2d_34 (MaxPooling (None, 28, 28, 64)        0         \n",
            "_________________________________________________________________\n",
            "conv2d_52 (Conv2D)           (None, 26, 26, 128)       73856     \n",
            "_________________________________________________________________\n",
            "max_pooling2d_35 (MaxPooling (None, 13, 13, 128)       0         \n",
            "_________________________________________________________________\n",
            "dropout_16 (Dropout)         (None, 13, 13, 128)       0         \n",
            "_________________________________________________________________\n",
            "flatten_8 (Flatten)          (None, 21632)             0         \n",
            "_________________________________________________________________\n",
            "dense_26 (Dense)             (None, 128)               2769024   \n",
            "_________________________________________________________________\n",
            "dense_27 (Dense)             (None, 256)               33024     \n",
            "_________________________________________________________________\n",
            "dropout_17 (Dropout)         (None, 256)               0         \n",
            "_________________________________________________________________\n",
            "dense_28 (Dense)             (None, 256)               65792     \n",
            "_________________________________________________________________\n",
            "dropout_18 (Dropout)         (None, 256)               0         \n",
            "_________________________________________________________________\n",
            "dense_29 (Dense)             (None, 3)                 771       \n",
            "=================================================================\n",
            "Total params: 2,998,467\n",
            "Trainable params: 2,998,467\n",
            "Non-trainable params: 0\n",
            "_________________________________________________________________\n"
          ],
          "name": "stdout"
        }
      ]
    },
    {
      "cell_type": "code",
      "metadata": {
        "id": "bcUOrywYp9RY",
        "colab_type": "code",
        "colab": {
          "base_uri": "https://localhost:8080/",
          "height": 50
        },
        "outputId": "19e0b49e-3d36-41dd-8d6e-49284b2a97e3"
      },
      "source": [
        "# training model for trail 4\n",
        "model = classifier.fit_generator(training_set,\n",
        "                         steps_per_epoch=2000,\n",
        "                         epochs = 1,\n",
        "                          validation_data = valid_set,\n",
        "                          validation_steps=1500)"
      ],
      "execution_count": null,
      "outputs": [
        {
          "output_type": "stream",
          "text": [
            "Epoch 1/1\n",
            "2000/2000 [==============================] - 611s 306ms/step - loss: 0.0482 - accuracy: 0.9789 - val_loss: 1.0449 - val_accuracy: 0.9000\n"
          ],
          "name": "stdout"
        }
      ]
    },
    {
      "cell_type": "code",
      "metadata": {
        "id": "XdtXMWRnqTce",
        "colab_type": "code",
        "colab": {
          "base_uri": "https://localhost:8080/",
          "height": 50
        },
        "outputId": "18822a4b-a592-4d55-d8c4-58b41705af41"
      },
      "source": [
        "# training continued for trail 4\n",
        "model = classifier.fit_generator(training_set,\n",
        "                         steps_per_epoch=2000,\n",
        "                         epochs = 1,\n",
        "                          validation_data = valid_set,\n",
        "                          validation_steps=1500)"
      ],
      "execution_count": null,
      "outputs": [
        {
          "output_type": "stream",
          "text": [
            "Epoch 1/1\n",
            "2000/2000 [==============================] - 616s 308ms/step - loss: 0.0071 - accuracy: 0.9981 - val_loss: 1.2878 - val_accuracy: 0.9167\n"
          ],
          "name": "stdout"
        }
      ]
    },
    {
      "cell_type": "code",
      "metadata": {
        "id": "HPBYRynEs7uw",
        "colab_type": "code",
        "colab": {
          "base_uri": "https://localhost:8080/",
          "height": 84
        },
        "outputId": "8356c116-d299-47b6-eab2-b064c96b4c60"
      },
      "source": [
        "# training continued for trail 4\n",
        "model = classifier.fit_generator(training_set,\n",
        "                         steps_per_epoch=2000,\n",
        "                         epochs = 2,\n",
        "                          validation_data = valid_set,\n",
        "                          validation_steps=1500)"
      ],
      "execution_count": null,
      "outputs": [
        {
          "output_type": "stream",
          "text": [
            "Epoch 1/2\n",
            "2000/2000 [==============================] - 561s 280ms/step - loss: 0.0013 - accuracy: 0.9997 - val_loss: 0.8932 - val_accuracy: 0.9333\n",
            "Epoch 2/2\n",
            "2000/2000 [==============================] - 529s 265ms/step - loss: 0.0064 - accuracy: 0.9986 - val_loss: 0.8492 - val_accuracy: 0.9167\n"
          ],
          "name": "stdout"
        }
      ]
    },
    {
      "cell_type": "code",
      "metadata": {
        "id": "4zQOIsIHvfUp",
        "colab_type": "code",
        "colab": {
          "base_uri": "https://localhost:8080/",
          "height": 655
        },
        "outputId": "1d6d4b46-56c3-49ed-a0cd-1de2fe96e1c1"
      },
      "source": [
        "# trail 5\n",
        "from keras.models import Sequential\n",
        "from keras.layers import Conv2D\n",
        "from keras.layers import MaxPooling2D\n",
        "from keras.layers import Flatten\n",
        "from keras.layers import Dense,Dropout\n",
        "\n",
        "# Initialising the CNN\n",
        "classifier = Sequential()\n",
        "\n",
        "# Step 1 - Convolution\n",
        "classifier.add(Conv2D(32, (7, 7), input_shape = (64, 64, 3), activation = 'relu'))\n",
        "\n",
        "# Step 2 - Pooling\n",
        "classifier.add(MaxPooling2D(pool_size = (2, 2)))\n",
        "\n",
        "\n",
        "classifier.add(Conv2D(64, (3, 3), activation = 'relu'))\n",
        "classifier.add(MaxPooling2D(pool_size = (2, 2)))\n",
        "# classifier.add(Dropout(0.5))\n",
        "\n",
        "classifier.add(Conv2D(128, (3, 3), activation = 'relu'))\n",
        "classifier.add(MaxPooling2D(pool_size = (2, 2)))\n",
        "# classifier.add(Dropout(0.5))\n",
        "\n",
        "# classifier.add(Conv2D(256, (3, 3), activation = 'relu'))\n",
        "# classifier.add(MaxPooling2D(pool_size = (2, 2)))\n",
        "classifier.add(Dropout(0.5))\n",
        "\n",
        "\n",
        "# Step 3 - Flattening\n",
        "classifier.add(Flatten())\n",
        "\n",
        "# Step 4 - Full connection\n",
        "classifier.add(Dense(units = 128, activation = 'relu'))\n",
        "# classifier.add(Dropout(0.5))\n",
        "classifier.add(Dense(units = 256, activation = 'relu'))\n",
        "classifier.add(Dropout(0.25))\n",
        "classifier.add(Dense(units = 256, activation = 'relu'))\n",
        "classifier.add(Dropout(0.3))\n",
        "\n",
        "classifier.add(Dense(units=3, activation = 'softmax'))\n",
        "\n",
        "# Compiling the CNN\n",
        "classifier.compile(optimizer = 'adam', loss = 'categorical_crossentropy', metrics = ['accuracy'])\n",
        "\n",
        "# Part 2 - Fitting the CNN to the images\n",
        "\n",
        "from keras.preprocessing.image import ImageDataGenerator\n",
        "\n",
        "train_datagen = ImageDataGenerator(rescale = 1./255)\n",
        "valid_datagen = ImageDataGenerator(rescale = 1./255)\n",
        "\n",
        "training_set = train_datagen.flow_from_directory('/content/assign_3_data/train',\n",
        "                                                 target_size = (64, 64),\n",
        "                                                 batch_size = 32,\n",
        "                                                 class_mode = 'categorical')\n",
        "\n",
        "valid_set = valid_datagen.flow_from_directory('/content/assign_3_data/test',\n",
        "                                            target_size = (64, 64),\n",
        "                                            batch_size = 32,\n",
        "                                            class_mode = 'categorical')\n",
        "\n",
        "classifier.summary()"
      ],
      "execution_count": null,
      "outputs": [
        {
          "output_type": "stream",
          "text": [
            "Found 1920 images belonging to 3 classes.\n",
            "Found 60 images belonging to 3 classes.\n",
            "Model: \"sequential_2\"\n",
            "_________________________________________________________________\n",
            "Layer (type)                 Output Shape              Param #   \n",
            "=================================================================\n",
            "conv2d_4 (Conv2D)            (None, 58, 58, 32)        4736      \n",
            "_________________________________________________________________\n",
            "max_pooling2d_4 (MaxPooling2 (None, 29, 29, 32)        0         \n",
            "_________________________________________________________________\n",
            "conv2d_5 (Conv2D)            (None, 27, 27, 64)        18496     \n",
            "_________________________________________________________________\n",
            "max_pooling2d_5 (MaxPooling2 (None, 13, 13, 64)        0         \n",
            "_________________________________________________________________\n",
            "conv2d_6 (Conv2D)            (None, 11, 11, 128)       73856     \n",
            "_________________________________________________________________\n",
            "max_pooling2d_6 (MaxPooling2 (None, 5, 5, 128)         0         \n",
            "_________________________________________________________________\n",
            "dropout_4 (Dropout)          (None, 5, 5, 128)         0         \n",
            "_________________________________________________________________\n",
            "flatten_2 (Flatten)          (None, 3200)              0         \n",
            "_________________________________________________________________\n",
            "dense_5 (Dense)              (None, 128)               409728    \n",
            "_________________________________________________________________\n",
            "dense_6 (Dense)              (None, 256)               33024     \n",
            "_________________________________________________________________\n",
            "dropout_5 (Dropout)          (None, 256)               0         \n",
            "_________________________________________________________________\n",
            "dense_7 (Dense)              (None, 256)               65792     \n",
            "_________________________________________________________________\n",
            "dropout_6 (Dropout)          (None, 256)               0         \n",
            "_________________________________________________________________\n",
            "dense_8 (Dense)              (None, 3)                 771       \n",
            "=================================================================\n",
            "Total params: 606,403\n",
            "Trainable params: 606,403\n",
            "Non-trainable params: 0\n",
            "_________________________________________________________________\n"
          ],
          "name": "stdout"
        }
      ]
    },
    {
      "cell_type": "code",
      "metadata": {
        "id": "6wlEV28_ilzf",
        "colab_type": "code",
        "colab": {
          "base_uri": "https://localhost:8080/",
          "height": 185
        },
        "outputId": "5bb2f500-58f1-49fb-8798-efc79e86a944"
      },
      "source": [
        "# training model for trail 5\n",
        "model = classifier.fit_generator(training_set,\n",
        "                         steps_per_epoch=2000,\n",
        "                         epochs = 5,\n",
        "                          validation_data = valid_set,\n",
        "                          validation_steps=1500)"
      ],
      "execution_count": null,
      "outputs": [
        {
          "output_type": "stream",
          "text": [
            "Epoch 1/5\n",
            "2000/2000 [==============================] - 294s 147ms/step - loss: 0.1224 - accuracy: 0.9471 - val_loss: 1.1601 - val_accuracy: 0.9000\n",
            "Epoch 2/5\n",
            "2000/2000 [==============================] - 290s 145ms/step - loss: 0.0146 - accuracy: 0.9952 - val_loss: 0.6456 - val_accuracy: 0.9000\n",
            "Epoch 3/5\n",
            "2000/2000 [==============================] - 293s 147ms/step - loss: 0.0115 - accuracy: 0.9966 - val_loss: 3.5032 - val_accuracy: 0.9000\n",
            "Epoch 4/5\n",
            "2000/2000 [==============================] - 293s 146ms/step - loss: 0.0095 - accuracy: 0.9975 - val_loss: 0.7790 - val_accuracy: 0.9333\n",
            "Epoch 5/5\n",
            "2000/2000 [==============================] - 291s 145ms/step - loss: 0.0140 - accuracy: 0.9968 - val_loss: 1.2769 - val_accuracy: 0.9333\n"
          ],
          "name": "stdout"
        }
      ]
    },
    {
      "cell_type": "code",
      "metadata": {
        "id": "9raAVXEeit46",
        "colab_type": "code",
        "colab": {
          "base_uri": "https://localhost:8080/",
          "height": 521
        },
        "outputId": "8dd78ed7-5b01-4feb-fddb-d593997884e1"
      },
      "source": [
        "# training continued model for trail 5\n",
        "model2 = classifier.fit_generator(training_set,\n",
        "                         steps_per_epoch=2000,\n",
        "                         epochs = 15,\n",
        "                          validation_data = valid_set,\n",
        "                          validation_steps=1500)"
      ],
      "execution_count": null,
      "outputs": [
        {
          "output_type": "stream",
          "text": [
            "Epoch 1/15\n",
            "2000/2000 [==============================] - 289s 145ms/step - loss: 0.0057 - accuracy: 0.9985 - val_loss: 1.5470 - val_accuracy: 0.9167\n",
            "Epoch 2/15\n",
            "2000/2000 [==============================] - 286s 143ms/step - loss: 0.0084 - accuracy: 0.9983 - val_loss: 2.7452 - val_accuracy: 0.9000\n",
            "Epoch 3/15\n",
            "2000/2000 [==============================] - 295s 147ms/step - loss: 0.0099 - accuracy: 0.9981 - val_loss: 4.6748 - val_accuracy: 0.9000\n",
            "Epoch 4/15\n",
            "2000/2000 [==============================] - 292s 146ms/step - loss: 0.0053 - accuracy: 0.9988 - val_loss: 1.4489 - val_accuracy: 0.9167\n",
            "Epoch 5/15\n",
            "2000/2000 [==============================] - 293s 146ms/step - loss: 0.0081 - accuracy: 0.9984 - val_loss: 1.0150 - val_accuracy: 0.9333\n",
            "Epoch 6/15\n",
            "2000/2000 [==============================] - 293s 147ms/step - loss: 0.0080 - accuracy: 0.9983 - val_loss: 1.3307 - val_accuracy: 0.9167\n",
            "Epoch 7/15\n",
            "2000/2000 [==============================] - 294s 147ms/step - loss: 0.0088 - accuracy: 0.9983 - val_loss: 0.5619 - val_accuracy: 0.9500\n",
            "Epoch 8/15\n",
            "2000/2000 [==============================] - 293s 146ms/step - loss: 0.0054 - accuracy: 0.9989 - val_loss: 1.7238 - val_accuracy: 0.9500\n",
            "Epoch 9/15\n",
            "2000/2000 [==============================] - 293s 147ms/step - loss: 0.0068 - accuracy: 0.9990 - val_loss: 3.6621 - val_accuracy: 0.9333\n",
            "Epoch 10/15\n",
            "2000/2000 [==============================] - 291s 146ms/step - loss: 0.0085 - accuracy: 0.9986 - val_loss: 1.7449 - val_accuracy: 0.9000\n",
            "Epoch 11/15\n",
            "2000/2000 [==============================] - 290s 145ms/step - loss: 0.0059 - accuracy: 0.9991 - val_loss: 7.8172 - val_accuracy: 0.9000\n",
            "Epoch 12/15\n",
            "2000/2000 [==============================] - 289s 145ms/step - loss: 0.0121 - accuracy: 0.9984 - val_loss: 3.0088 - val_accuracy: 0.9500\n",
            "Epoch 13/15\n",
            "2000/2000 [==============================] - 292s 146ms/step - loss: 0.0088 - accuracy: 0.9989 - val_loss: 6.6774 - val_accuracy: 0.9000\n",
            "Epoch 14/15\n",
            "2000/2000 [==============================] - 287s 144ms/step - loss: 0.0090 - accuracy: 0.9990 - val_loss: 0.0252 - val_accuracy: 0.9333\n",
            "Epoch 15/15\n",
            "2000/2000 [==============================] - 292s 146ms/step - loss: 0.0071 - accuracy: 0.9993 - val_loss: 4.5953 - val_accuracy: 0.9167\n"
          ],
          "name": "stdout"
        }
      ]
    },
    {
      "cell_type": "code",
      "metadata": {
        "id": "aYqdkC4Kqf1s",
        "colab_type": "code",
        "colab": {
          "base_uri": "https://localhost:8080/",
          "height": 588
        },
        "outputId": "d909acba-b34a-4622-bd87-373121c81c62"
      },
      "source": [
        "# trial 6\n",
        "from keras.models import Sequential\n",
        "from keras.layers import Conv2D\n",
        "from keras.layers import MaxPooling2D\n",
        "from keras.layers import Flatten\n",
        "from keras.layers import Dense,Dropout\n",
        "\n",
        "# Initialising the CNN\n",
        "classifier = Sequential()\n",
        "\n",
        "# Step 1 - Convolution\n",
        "classifier.add(Conv2D(32, (5, 5), input_shape = (64, 64, 3), activation = 'relu'))\n",
        "\n",
        "# Step 2 - Pooling\n",
        "classifier.add(MaxPooling2D(pool_size = (2, 2)))\n",
        "\n",
        "\n",
        "classifier.add(Conv2D(64, (3, 3), activation = 'relu'))\n",
        "classifier.add(MaxPooling2D(pool_size = (2, 2)))\n",
        "# classifier.add(Dropout(0.5))\n",
        "\n",
        "classifier.add(Conv2D(128, (3, 3), activation = 'relu'))\n",
        "classifier.add(MaxPooling2D(pool_size = (2, 2)))\n",
        "# classifier.add(Dropout(0.5))\n",
        "\n",
        "# classifier.add(Conv2D(256, (3, 3), activation = 'relu'))\n",
        "# classifier.add(MaxPooling2D(pool_size = (2, 2)))\n",
        "# classifier.add(Dropout(0.5))\n",
        "\n",
        "\n",
        "# Step 3 - Flattening\n",
        "classifier.add(Flatten())\n",
        "\n",
        "# Step 4 - Full connection\n",
        "classifier.add(Dense(units = 128, activation = 'relu'))\n",
        "# classifier.add(Dropout(0.5))\n",
        "classifier.add(Dense(units = 256, activation = 'relu'))\n",
        "# classifier.add(Dropout(0.25))\n",
        "classifier.add(Dense(units = 256, activation = 'relu'))\n",
        "classifier.add(Dropout(0.3))\n",
        "\n",
        "classifier.add(Dense(units=3, activation = 'softmax'))\n",
        "\n",
        "# Compiling the CNN\n",
        "classifier.compile(optimizer = 'adam', loss = 'categorical_crossentropy', metrics = ['accuracy'])\n",
        "\n",
        "# Part 2 - Fitting the CNN to the images\n",
        "\n",
        "from keras.preprocessing.image import ImageDataGenerator\n",
        "\n",
        "train_datagen = ImageDataGenerator(rescale = 1./255)\n",
        "valid_datagen = ImageDataGenerator(rescale = 1./255)\n",
        "\n",
        "training_set = train_datagen.flow_from_directory('/content/assign_3_data/train',\n",
        "                                                 target_size = (64, 64),\n",
        "                                                 batch_size = 32,\n",
        "                                                 class_mode = 'categorical')\n",
        "\n",
        "valid_set = valid_datagen.flow_from_directory('/content/assign_3_data/test',\n",
        "                                            target_size = (64, 64),\n",
        "                                            batch_size = 32,\n",
        "                                            class_mode = 'categorical')\n",
        "\n",
        "classifier.summary()"
      ],
      "execution_count": null,
      "outputs": [
        {
          "output_type": "stream",
          "text": [
            "Found 1920 images belonging to 3 classes.\n",
            "Found 60 images belonging to 3 classes.\n",
            "Model: \"sequential_3\"\n",
            "_________________________________________________________________\n",
            "Layer (type)                 Output Shape              Param #   \n",
            "=================================================================\n",
            "conv2d_7 (Conv2D)            (None, 60, 60, 32)        2432      \n",
            "_________________________________________________________________\n",
            "max_pooling2d_7 (MaxPooling2 (None, 30, 30, 32)        0         \n",
            "_________________________________________________________________\n",
            "conv2d_8 (Conv2D)            (None, 28, 28, 64)        18496     \n",
            "_________________________________________________________________\n",
            "max_pooling2d_8 (MaxPooling2 (None, 14, 14, 64)        0         \n",
            "_________________________________________________________________\n",
            "conv2d_9 (Conv2D)            (None, 12, 12, 128)       73856     \n",
            "_________________________________________________________________\n",
            "max_pooling2d_9 (MaxPooling2 (None, 6, 6, 128)         0         \n",
            "_________________________________________________________________\n",
            "flatten_3 (Flatten)          (None, 4608)              0         \n",
            "_________________________________________________________________\n",
            "dense_9 (Dense)              (None, 128)               589952    \n",
            "_________________________________________________________________\n",
            "dense_10 (Dense)             (None, 256)               33024     \n",
            "_________________________________________________________________\n",
            "dense_11 (Dense)             (None, 256)               65792     \n",
            "_________________________________________________________________\n",
            "dropout_7 (Dropout)          (None, 256)               0         \n",
            "_________________________________________________________________\n",
            "dense_12 (Dense)             (None, 3)                 771       \n",
            "=================================================================\n",
            "Total params: 784,323\n",
            "Trainable params: 784,323\n",
            "Non-trainable params: 0\n",
            "_________________________________________________________________\n"
          ],
          "name": "stdout"
        }
      ]
    },
    {
      "cell_type": "code",
      "metadata": {
        "id": "mCN8WxKb7qql",
        "colab_type": "code",
        "colab": {
          "base_uri": "https://localhost:8080/",
          "height": 521
        },
        "outputId": "c83469c5-424e-4ec3-fc55-c7811b0a3556"
      },
      "source": [
        "# training model for trail 6\n",
        "model2 = classifier.fit_generator(training_set,\n",
        "                         steps_per_epoch=2000,\n",
        "                         epochs = 15,\n",
        "                          validation_data = valid_set,\n",
        "                          validation_steps=1000)"
      ],
      "execution_count": null,
      "outputs": [
        {
          "output_type": "stream",
          "text": [
            "Epoch 1/15\n",
            "2000/2000 [==============================] - 244s 122ms/step - loss: 0.0675 - accuracy: 0.9695 - val_loss: 0.3531 - val_accuracy: 0.9167\n",
            "Epoch 2/15\n",
            "2000/2000 [==============================] - 241s 120ms/step - loss: 1.8464e-06 - accuracy: 1.0000 - val_loss: 0.0417 - val_accuracy: 0.9167\n",
            "Epoch 3/15\n",
            "2000/2000 [==============================] - 241s 120ms/step - loss: 3.4689e-07 - accuracy: 1.0000 - val_loss: 1.7145 - val_accuracy: 0.9167\n",
            "Epoch 4/15\n",
            "2000/2000 [==============================] - 241s 120ms/step - loss: 1.4120e-07 - accuracy: 1.0000 - val_loss: 1.0727 - val_accuracy: 0.9167\n",
            "Epoch 5/15\n",
            "2000/2000 [==============================] - 242s 121ms/step - loss: 3.4678e-08 - accuracy: 1.0000 - val_loss: 3.3576 - val_accuracy: 0.9167\n",
            "Epoch 6/15\n",
            "2000/2000 [==============================] - 243s 122ms/step - loss: 2.2659e-08 - accuracy: 1.0000 - val_loss: 1.5474 - val_accuracy: 0.9167\n",
            "Epoch 7/15\n",
            "2000/2000 [==============================] - 243s 121ms/step - loss: 5.0012e-09 - accuracy: 1.0000 - val_loss: 3.9874 - val_accuracy: 0.9167\n",
            "Epoch 8/15\n",
            "2000/2000 [==============================] - 244s 122ms/step - loss: 2.1160e-09 - accuracy: 1.0000 - val_loss: 3.1008 - val_accuracy: 0.9333\n",
            "Epoch 9/15\n",
            "2000/2000 [==============================] - 243s 121ms/step - loss: 1.0282e-09 - accuracy: 1.0000 - val_loss: 2.6754 - val_accuracy: 0.9167\n",
            "Epoch 10/15\n",
            "2000/2000 [==============================] - 243s 121ms/step - loss: 4.7870e-10 - accuracy: 1.0000 - val_loss: 4.4351 - val_accuracy: 0.9167\n",
            "Epoch 11/15\n",
            "2000/2000 [==============================] - 244s 122ms/step - loss: 9.8720e-11 - accuracy: 1.0000 - val_loss: 1.9281 - val_accuracy: 0.9167\n",
            "Epoch 12/15\n",
            "2000/2000 [==============================] - 244s 122ms/step - loss: 2.9802e-11 - accuracy: 1.0000 - val_loss: 3.6712 - val_accuracy: 0.9167\n",
            "Epoch 13/15\n",
            "2000/2000 [==============================] - 243s 122ms/step - loss: 3.9116e-11 - accuracy: 1.0000 - val_loss: 2.0361 - val_accuracy: 0.9167\n",
            "Epoch 14/15\n",
            "2000/2000 [==============================] - 242s 121ms/step - loss: 0.0227 - accuracy: 0.9943 - val_loss: 2.5369 - val_accuracy: 0.9167\n",
            "Epoch 15/15\n",
            "2000/2000 [==============================] - 242s 121ms/step - loss: 6.3573e-07 - accuracy: 1.0000 - val_loss: 1.2537 - val_accuracy: 0.9167\n"
          ],
          "name": "stdout"
        }
      ]
    },
    {
      "cell_type": "code",
      "metadata": {
        "id": "mEU5hfvk7xJY",
        "colab_type": "code",
        "colab": {
          "base_uri": "https://localhost:8080/",
          "height": 588
        },
        "outputId": "eb47a9ac-0a98-4b31-c19b-0f5dab359fa1"
      },
      "source": [
        "# trial 7\n",
        "from keras.models import Sequential\n",
        "from keras.layers import Conv2D\n",
        "from keras.layers import MaxPooling2D\n",
        "from keras.layers import Flatten\n",
        "from keras.layers import Dense,Dropout\n",
        "\n",
        "# Initialising the CNN\n",
        "classifier = Sequential()\n",
        "\n",
        "# Step 1 - Convolution\n",
        "classifier.add(Conv2D(32, (5, 5), input_shape = (64, 64, 3), activation = 'relu'))\n",
        "\n",
        "# Step 2 - Pooling\n",
        "classifier.add(MaxPooling2D(pool_size = (2, 2)))\n",
        "\n",
        "\n",
        "classifier.add(Conv2D(64, (3, 3), activation = 'relu'))\n",
        "classifier.add(MaxPooling2D(pool_size = (2, 2)))\n",
        "# classifier.add(Dropout(0.5))\n",
        "\n",
        "classifier.add(Conv2D(128, (3, 3), activation = 'relu'))\n",
        "classifier.add(MaxPooling2D(pool_size = (2, 2)))\n",
        "# classifier.add(Dropout(0.5))\n",
        "\n",
        "# classifier.add(Conv2D(256, (3, 3), activation = 'relu'))\n",
        "# classifier.add(MaxPooling2D(pool_size = (2, 2)))\n",
        "# classifier.add(Dropout(0.5))\n",
        "\n",
        "\n",
        "# Step 3 - Flattening\n",
        "classifier.add(Flatten())\n",
        "\n",
        "# Step 4 - Full connection\n",
        "classifier.add(Dense(units = 128, activation = 'relu'))\n",
        "# classifier.add(Dropout(0.5))\n",
        "classifier.add(Dense(units = 256, activation = 'relu'))\n",
        "# classifier.add(Dropout(0.25))\n",
        "classifier.add(Dense(units = 256, activation = 'relu'))\n",
        "classifier.add(Dropout(0.3))\n",
        "\n",
        "classifier.add(Dense(units=3, activation = 'softmax'))\n",
        "\n",
        "# Compiling the CNN\n",
        "classifier.compile(optimizer = 'adam', loss = 'categorical_crossentropy', metrics = ['accuracy'])\n",
        "\n",
        "# Part 2 - Fitting the CNN to the images\n",
        "\n",
        "from keras.preprocessing.image \n",
        "import ImageDataGenerator\n",
        "\n",
        "train_datagen = ImageDataGenerator(rescale = 1./255)\n",
        "valid_datagen = ImageDataGenerator(rescale = 1./255)\n",
        "\n",
        "training_set = train_datagen.flow_from_directory('/content/assign_3_data/train',\n",
        "                                                 target_size = (64, 64),\n",
        "                                                 batch_size = 32,\n",
        "                                                 class_mode = 'categorical')\n",
        "\n",
        "valid_set = valid_datagen.flow_from_directory('/content/assign_3_data/test',\n",
        "                                            target_size = (64, 64),\n",
        "                                            batch_size = 32,\n",
        "                                            class_mode = 'categorical')\n",
        "\n",
        "classifier.summary()"
      ],
      "execution_count": null,
      "outputs": [
        {
          "output_type": "stream",
          "text": [
            "Found 1920 images belonging to 3 classes.\n",
            "Found 60 images belonging to 3 classes.\n",
            "Model: \"sequential_4\"\n",
            "_________________________________________________________________\n",
            "Layer (type)                 Output Shape              Param #   \n",
            "=================================================================\n",
            "conv2d_10 (Conv2D)           (None, 60, 60, 32)        2432      \n",
            "_________________________________________________________________\n",
            "max_pooling2d_10 (MaxPooling (None, 30, 30, 32)        0         \n",
            "_________________________________________________________________\n",
            "conv2d_11 (Conv2D)           (None, 28, 28, 64)        18496     \n",
            "_________________________________________________________________\n",
            "max_pooling2d_11 (MaxPooling (None, 14, 14, 64)        0         \n",
            "_________________________________________________________________\n",
            "conv2d_12 (Conv2D)           (None, 12, 12, 128)       73856     \n",
            "_________________________________________________________________\n",
            "max_pooling2d_12 (MaxPooling (None, 6, 6, 128)         0         \n",
            "_________________________________________________________________\n",
            "flatten_4 (Flatten)          (None, 4608)              0         \n",
            "_________________________________________________________________\n",
            "dense_13 (Dense)             (None, 128)               589952    \n",
            "_________________________________________________________________\n",
            "dense_14 (Dense)             (None, 256)               33024     \n",
            "_________________________________________________________________\n",
            "dense_15 (Dense)             (None, 256)               65792     \n",
            "_________________________________________________________________\n",
            "dropout_8 (Dropout)          (None, 256)               0         \n",
            "_________________________________________________________________\n",
            "dense_16 (Dense)             (None, 3)                 771       \n",
            "=================================================================\n",
            "Total params: 784,323\n",
            "Trainable params: 784,323\n",
            "Non-trainable params: 0\n",
            "_________________________________________________________________\n"
          ],
          "name": "stdout"
        }
      ]
    },
    {
      "cell_type": "code",
      "metadata": {
        "id": "AVMTsHtzKTIW",
        "colab_type": "code",
        "colab": {
          "base_uri": "https://localhost:8080/",
          "height": 353
        },
        "outputId": "f5800ea7-4b65-43a1-f8dc-90f631167097"
      },
      "source": [
        "# # training model for trail 7\n",
        "model2 = classifier.fit_generator(training_set,\n",
        "                         steps_per_epoch=4000,\n",
        "                         epochs = 10,\n",
        "                          validation_data = valid_set,\n",
        "                          validation_steps=2000)"
      ],
      "execution_count": null,
      "outputs": [
        {
          "output_type": "stream",
          "text": [
            "Epoch 1/10\n",
            "4000/4000 [==============================] - 484s 121ms/step - loss: 0.0340 - accuracy: 0.9843 - val_loss: 0.2170 - val_accuracy: 0.9333\n",
            "Epoch 2/10\n",
            "4000/4000 [==============================] - 483s 121ms/step - loss: 1.3623e-07 - accuracy: 1.0000 - val_loss: 1.3255 - val_accuracy: 0.9333\n",
            "Epoch 3/10\n",
            "4000/4000 [==============================] - 485s 121ms/step - loss: 7.3332e-09 - accuracy: 1.0000 - val_loss: 0.0000e+00 - val_accuracy: 0.9333\n",
            "Epoch 4/10\n",
            "4000/4000 [==============================] - 481s 120ms/step - loss: 0.0103 - accuracy: 0.9970 - val_loss: 3.9322e-05 - val_accuracy: 0.9000\n",
            "Epoch 5/10\n",
            "4000/4000 [==============================] - 486s 122ms/step - loss: 1.8581e-07 - accuracy: 1.0000 - val_loss: 3.8899 - val_accuracy: 0.9167\n",
            "Epoch 6/10\n",
            "4000/4000 [==============================] - 486s 122ms/step - loss: 4.1619e-08 - accuracy: 1.0000 - val_loss: 2.2431 - val_accuracy: 0.9167\n",
            "Epoch 7/10\n",
            "4000/4000 [==============================] - 488s 122ms/step - loss: 4.0009e-09 - accuracy: 1.0000 - val_loss: 5.6564 - val_accuracy: 0.9167\n",
            "Epoch 8/10\n",
            "4000/4000 [==============================] - 488s 122ms/step - loss: 0.0077 - accuracy: 0.9980 - val_loss: 1.2822 - val_accuracy: 0.9000\n",
            "Epoch 9/10\n",
            "4000/4000 [==============================] - 482s 121ms/step - loss: 1.4970e-07 - accuracy: 1.0000 - val_loss: 1.4355 - val_accuracy: 0.9000\n",
            "Epoch 10/10\n",
            "4000/4000 [==============================] - 486s 121ms/step - loss: 0.0061 - accuracy: 0.9983 - val_loss: 5.6417 - val_accuracy: 0.9167\n"
          ],
          "name": "stdout"
        }
      ]
    },
    {
      "cell_type": "code",
      "metadata": {
        "id": "WpIwKprjKdQm",
        "colab_type": "code",
        "colab": {
          "base_uri": "https://localhost:8080/",
          "height": 588
        },
        "outputId": "e7e8ba37-fa5a-413a-95ac-3ca1767cdecf"
      },
      "source": [
        "# trial 8\n",
        "from keras.models import Sequential\n",
        "from keras.layers import Conv2D\n",
        "from keras.layers import MaxPooling2D\n",
        "from keras.layers import Flatten\n",
        "from keras.layers import Dense,Dropout\n",
        "\n",
        "# Initialising the CNN\n",
        "classifier = Sequential()\n",
        "\n",
        "# Step 1 - Convolution\n",
        "classifier.add(Conv2D(32, (5, 5), input_shape = (64, 64, 3), activation = 'relu'))\n",
        "\n",
        "# Step 2 - Pooling\n",
        "classifier.add(MaxPooling2D(pool_size = (2, 2)))\n",
        "\n",
        "\n",
        "classifier.add(Conv2D(64, (3, 3), activation = 'relu'))\n",
        "classifier.add(MaxPooling2D(pool_size = (2, 2)))\n",
        "# classifier.add(Dropout(0.5))\n",
        "\n",
        "classifier.add(Conv2D(128, (3, 3), activation = 'relu'))\n",
        "classifier.add(MaxPooling2D(pool_size = (2, 2)))\n",
        "# classifier.add(Dropout(0.5))\n",
        "\n",
        "# classifier.add(Conv2D(256, (3, 3), activation = 'relu'))\n",
        "# classifier.add(MaxPooling2D(pool_size = (2, 2)))\n",
        "# classifier.add(Dropout(0.5))\n",
        "\n",
        "\n",
        "# Step 3 - Flattening\n",
        "classifier.add(Flatten())\n",
        "\n",
        "# Step 4 - Full connection\n",
        "classifier.add(Dense(units = 128, activation = 'relu'))\n",
        "# classifier.add(Dropout(0.5))\n",
        "classifier.add(Dense(units = 256, activation = 'relu'))\n",
        "# classifier.add(Dropout(0.25))\n",
        "classifier.add(Dense(units = 256, activation = 'relu'))\n",
        "classifier.add(Dropout(0.3))\n",
        "\n",
        "classifier.add(Dense(units=3, activation = 'softmax'))\n",
        "\n",
        "# Compiling the CNN\n",
        "classifier.compile(optimizer = 'adam', loss = 'categorical_crossentropy', metrics = ['accuracy'])\n",
        "\n",
        "# Part 2 - Fitting the CNN to the images\n",
        "\n",
        "from keras.preprocessing.image import ImageDataGenerator\n",
        "\n",
        "train_datagen = ImageDataGenerator(rescale = 1./255)\n",
        "valid_datagen = ImageDataGenerator(rescale = 1./255)\n",
        "\n",
        "training_set = train_datagen.flow_from_directory('/content/assign_3_data/train',\n",
        "                                                 target_size = (64, 64),\n",
        "                                                 batch_size = 32,\n",
        "                                                 class_mode = 'categorical')\n",
        "\n",
        "valid_set = valid_datagen.flow_from_directory('/content/assign_3_data/test',\n",
        "                                            target_size = (64, 64),\n",
        "                                            batch_size = 32,\n",
        "                                            class_mode = 'categorical')\n",
        "\n",
        "classifier.summary()"
      ],
      "execution_count": null,
      "outputs": [
        {
          "output_type": "stream",
          "text": [
            "Found 1920 images belonging to 3 classes.\n",
            "Found 60 images belonging to 3 classes.\n",
            "Model: \"sequential_5\"\n",
            "_________________________________________________________________\n",
            "Layer (type)                 Output Shape              Param #   \n",
            "=================================================================\n",
            "conv2d_13 (Conv2D)           (None, 60, 60, 32)        2432      \n",
            "_________________________________________________________________\n",
            "max_pooling2d_13 (MaxPooling (None, 30, 30, 32)        0         \n",
            "_________________________________________________________________\n",
            "conv2d_14 (Conv2D)           (None, 28, 28, 64)        18496     \n",
            "_________________________________________________________________\n",
            "max_pooling2d_14 (MaxPooling (None, 14, 14, 64)        0         \n",
            "_________________________________________________________________\n",
            "conv2d_15 (Conv2D)           (None, 12, 12, 128)       73856     \n",
            "_________________________________________________________________\n",
            "max_pooling2d_15 (MaxPooling (None, 6, 6, 128)         0         \n",
            "_________________________________________________________________\n",
            "flatten_5 (Flatten)          (None, 4608)              0         \n",
            "_________________________________________________________________\n",
            "dense_17 (Dense)             (None, 128)               589952    \n",
            "_________________________________________________________________\n",
            "dense_18 (Dense)             (None, 256)               33024     \n",
            "_________________________________________________________________\n",
            "dense_19 (Dense)             (None, 256)               65792     \n",
            "_________________________________________________________________\n",
            "dropout_9 (Dropout)          (None, 256)               0         \n",
            "_________________________________________________________________\n",
            "dense_20 (Dense)             (None, 3)                 771       \n",
            "=================================================================\n",
            "Total params: 784,323\n",
            "Trainable params: 784,323\n",
            "Non-trainable params: 0\n",
            "_________________________________________________________________\n"
          ],
          "name": "stdout"
        }
      ]
    },
    {
      "cell_type": "code",
      "metadata": {
        "id": "jrZ8VmIXdhQU",
        "colab_type": "code",
        "colab": {
          "base_uri": "https://localhost:8080/",
          "height": 890
        },
        "outputId": "cfb040fe-966f-4fdb-9a5e-efe6268733a2"
      },
      "source": [
        "# # training model for trail 8\n",
        "model = classifier.fit_generator(training_set,\n",
        "                         steps_per_epoch=8000,\n",
        "                         epochs = 50,\n",
        "                          validation_data = valid_set,\n",
        "                          validation_steps=2000)"
      ],
      "execution_count": null,
      "outputs": [
        {
          "output_type": "stream",
          "text": [
            "Epoch 1/50\n",
            "8000/8000 [==============================] - 778s 97ms/step - loss: 0.0172 - accuracy: 0.9921 - val_loss: 4.1281 - val_accuracy: 0.9333\n",
            "Epoch 2/50\n",
            "8000/8000 [==============================] - 778s 97ms/step - loss: 0.0116 - accuracy: 0.9954 - val_loss: 2.4907 - val_accuracy: 0.9500\n",
            "Epoch 3/50\n",
            "8000/8000 [==============================] - 776s 97ms/step - loss: 0.0026 - accuracy: 0.9991 - val_loss: 5.2665 - val_accuracy: 0.9500\n",
            "Epoch 4/50\n",
            "8000/8000 [==============================] - 775s 97ms/step - loss: 1.5324e-08 - accuracy: 1.0000 - val_loss: 2.2551 - val_accuracy: 0.9500\n",
            "Epoch 5/50\n",
            "8000/8000 [==============================] - 765s 96ms/step - loss: 0.0026 - accuracy: 0.9992 - val_loss: 2.3460 - val_accuracy: 0.9500\n",
            "Epoch 6/50\n",
            "8000/8000 [==============================] - 772s 97ms/step - loss: 0.0024 - accuracy: 0.9993 - val_loss: 1.9912 - val_accuracy: 0.9500\n",
            "Epoch 7/50\n",
            "8000/8000 [==============================] - 777s 97ms/step - loss: 4.4634e-08 - accuracy: 1.0000 - val_loss: 1.6783 - val_accuracy: 0.9500\n",
            "Epoch 8/50\n",
            "8000/8000 [==============================] - 781s 98ms/step - loss: 6.7893e-10 - accuracy: 1.0000 - val_loss: 1.8000 - val_accuracy: 0.9500\n",
            "Epoch 9/50\n",
            "8000/8000 [==============================] - 782s 98ms/step - loss: 3.3062e-11 - accuracy: 1.0000 - val_loss: 4.0126 - val_accuracy: 0.9500\n",
            "Epoch 10/50\n",
            "8000/8000 [==============================] - 780s 98ms/step - loss: 1.8626e-12 - accuracy: 1.0000 - val_loss: 1.9106 - val_accuracy: 0.9667\n",
            "Epoch 11/50\n",
            "8000/8000 [==============================] - 780s 98ms/step - loss: 2.3283e-12 - accuracy: 1.0000 - val_loss: 1.9011 - val_accuracy: 0.9500\n",
            "Epoch 12/50\n",
            "8000/8000 [==============================] - 782s 98ms/step - loss: 4.6566e-13 - accuracy: 1.0000 - val_loss: 4.3206 - val_accuracy: 0.9500\n",
            "Epoch 13/50\n",
            "8000/8000 [==============================] - 757s 95ms/step - loss: 0.0019 - accuracy: 0.9995 - val_loss: 1.9441 - val_accuracy: 0.9500\n",
            "Epoch 14/50\n",
            "8000/8000 [==============================] - 768s 96ms/step - loss: 1.0589e-07 - accuracy: 1.0000 - val_loss: 0.0000e+00 - val_accuracy: 0.9500\n",
            "Epoch 15/50\n",
            "8000/8000 [==============================] - 775s 97ms/step - loss: 1.2265e-09 - accuracy: 1.0000 - val_loss: 5.0260 - val_accuracy: 0.9500\n",
            "Epoch 16/50\n",
            "8000/8000 [==============================] - 767s 96ms/step - loss: 0.0027 - accuracy: 0.9995 - val_loss: 2.5012 - val_accuracy: 0.9500\n",
            "Epoch 17/50\n",
            "8000/8000 [==============================] - 769s 96ms/step - loss: 3.8862e-08 - accuracy: 1.0000 - val_loss: 2.8676 - val_accuracy: 0.9500\n",
            "Epoch 18/50\n",
            "8000/8000 [==============================] - 773s 97ms/step - loss: 7.4875e-10 - accuracy: 1.0000 - val_loss: 6.0538 - val_accuracy: 0.9500\n",
            "Epoch 19/50\n",
            "8000/8000 [==============================] - 763s 95ms/step - loss: 0.0028 - accuracy: 0.9996 - val_loss: 4.9880 - val_accuracy: 0.9500\n",
            "Epoch 20/50\n",
            "8000/8000 [==============================] - 774s 97ms/step - loss: 1.5310e-06 - accuracy: 1.0000 - val_loss: 7.4778 - val_accuracy: 0.9500\n",
            "Epoch 21/50\n",
            "8000/8000 [==============================] - 779s 97ms/step - loss: 0.0016 - accuracy: 0.9997 - val_loss: 0.7389 - val_accuracy: 0.9167\n",
            "Epoch 22/50\n",
            "8000/8000 [==============================] - 775s 97ms/step - loss: 0.0019 - accuracy: 0.9997 - val_loss: 8.3575 - val_accuracy: 0.9167\n",
            "Epoch 23/50\n",
            "8000/8000 [==============================] - 767s 96ms/step - loss: 0.0053 - accuracy: 0.9994 - val_loss: 0.4807 - val_accuracy: 0.9000\n",
            "Epoch 24/50\n",
            "8000/8000 [==============================] - 775s 97ms/step - loss: 0.0014 - accuracy: 0.9997 - val_loss: 2.0597 - val_accuracy: 0.9000\n",
            "Epoch 25/50\n",
            "8000/8000 [==============================] - 784s 98ms/step - loss: 0.0038 - accuracy: 0.9993 - val_loss: 1.7712 - val_accuracy: 0.9333\n",
            "Epoch 26/50\n",
            "3303/8000 [===========>..................] - ETA: 5:41 - loss: 1.3794e-05 - accuracy: 1.0000"
          ],
          "name": "stdout"
        }
      ]
    },
    {
      "cell_type": "code",
      "metadata": {
        "id": "kHXrwB-YdwOS",
        "colab_type": "code",
        "colab": {}
      },
      "source": [
        "# The training got interrupted in between because kernel got disconnected automatically."
      ],
      "execution_count": null,
      "outputs": []
    },
    {
      "cell_type": "code",
      "metadata": {
        "id": "XvVpSfiR0A5A",
        "colab_type": "code",
        "colab": {
          "base_uri": "https://localhost:8080/",
          "height": 672
        },
        "outputId": "1260e75c-ebe8-4379-eeed-31e93f1c5cc2"
      },
      "source": [
        "# building model on trial 4\n",
        "\n",
        "# trail 4\n",
        "from keras.models import Sequential\n",
        "from keras.layers import Conv2D\n",
        "from keras.layers import MaxPooling2D\n",
        "from keras.layers import Flatten\n",
        "from keras.layers import Dense,Dropout\n",
        "\n",
        "# Initialising the CNN\n",
        "classifier = Sequential()\n",
        "\n",
        "# Step 1 - Convolution\n",
        "classifier.add(Conv2D(32, (7, 7), input_shape = (128, 128, 3), activation = 'relu'))\n",
        "\n",
        "# Step 2 - Pooling\n",
        "classifier.add(MaxPooling2D(pool_size = (2, 2)))\n",
        "\n",
        "\n",
        "classifier.add(Conv2D(64, (5, 5), activation = 'relu'))\n",
        "classifier.add(MaxPooling2D(pool_size = (2, 2)))\n",
        "# classifier.add(Dropout(0.5))\n",
        "\n",
        "classifier.add(Conv2D(128, (3, 3), activation = 'relu'))\n",
        "classifier.add(MaxPooling2D(pool_size = (2, 2)))\n",
        "# classifier.add(Dropout(0.5))\n",
        "\n",
        "# classifier.add(Conv2D(256, (3, 3), activation = 'relu'))\n",
        "# classifier.add(MaxPooling2D(pool_size = (2, 2)))\n",
        "classifier.add(Dropout(0.5))\n",
        "\n",
        "\n",
        "# Step 3 - Flattening\n",
        "classifier.add(Flatten())\n",
        "\n",
        "# Step 4 - Full connection\n",
        "classifier.add(Dense(units = 128, activation = 'relu'))\n",
        "# classifier.add(Dropout(0.5))\n",
        "classifier.add(Dense(units = 256, activation = 'relu'))\n",
        "classifier.add(Dropout(0.25))\n",
        "classifier.add(Dense(units = 256, activation = 'relu'))\n",
        "classifier.add(Dropout(0.3))\n",
        "\n",
        "classifier.add(Dense(units=3, activation = 'softmax'))\n",
        "\n",
        "# Compiling the CNN\n",
        "classifier.compile(optimizer = 'adam', loss = 'categorical_crossentropy', metrics = ['accuracy'])\n",
        "\n",
        "# Part 2 - Fitting the CNN to the images\n",
        "\n",
        "from keras.preprocessing.image import ImageDataGenerator\n",
        "\n",
        "train_datagen = ImageDataGenerator(rescale = 1./255)\n",
        "valid_datagen = ImageDataGenerator(rescale = 1./255)\n",
        "\n",
        "training_set = train_datagen.flow_from_directory('/content/assign_3_data/train',\n",
        "                                                 target_size = (128, 128),\n",
        "                                                 batch_size = 64,\n",
        "                                                 class_mode = 'categorical')\n",
        "\n",
        "valid_set = valid_datagen.flow_from_directory('/content/assign_3_data/test',\n",
        "                                            target_size = (128, 128),\n",
        "                                            batch_size = 64,\n",
        "                                            class_mode = 'categorical')\n",
        "\n",
        "classifier.summary()\n",
        "\n"
      ],
      "execution_count": 4,
      "outputs": [
        {
          "output_type": "stream",
          "text": [
            "Using TensorFlow backend.\n"
          ],
          "name": "stderr"
        },
        {
          "output_type": "stream",
          "text": [
            "Found 1920 images belonging to 3 classes.\n",
            "Found 60 images belonging to 3 classes.\n",
            "Model: \"sequential_1\"\n",
            "_________________________________________________________________\n",
            "Layer (type)                 Output Shape              Param #   \n",
            "=================================================================\n",
            "conv2d_1 (Conv2D)            (None, 122, 122, 32)      4736      \n",
            "_________________________________________________________________\n",
            "max_pooling2d_1 (MaxPooling2 (None, 61, 61, 32)        0         \n",
            "_________________________________________________________________\n",
            "conv2d_2 (Conv2D)            (None, 57, 57, 64)        51264     \n",
            "_________________________________________________________________\n",
            "max_pooling2d_2 (MaxPooling2 (None, 28, 28, 64)        0         \n",
            "_________________________________________________________________\n",
            "conv2d_3 (Conv2D)            (None, 26, 26, 128)       73856     \n",
            "_________________________________________________________________\n",
            "max_pooling2d_3 (MaxPooling2 (None, 13, 13, 128)       0         \n",
            "_________________________________________________________________\n",
            "dropout_1 (Dropout)          (None, 13, 13, 128)       0         \n",
            "_________________________________________________________________\n",
            "flatten_1 (Flatten)          (None, 21632)             0         \n",
            "_________________________________________________________________\n",
            "dense_1 (Dense)              (None, 128)               2769024   \n",
            "_________________________________________________________________\n",
            "dense_2 (Dense)              (None, 256)               33024     \n",
            "_________________________________________________________________\n",
            "dropout_2 (Dropout)          (None, 256)               0         \n",
            "_________________________________________________________________\n",
            "dense_3 (Dense)              (None, 256)               65792     \n",
            "_________________________________________________________________\n",
            "dropout_3 (Dropout)          (None, 256)               0         \n",
            "_________________________________________________________________\n",
            "dense_4 (Dense)              (None, 3)                 771       \n",
            "=================================================================\n",
            "Total params: 2,998,467\n",
            "Trainable params: 2,998,467\n",
            "Non-trainable params: 0\n",
            "_________________________________________________________________\n"
          ],
          "name": "stdout"
        }
      ]
    },
    {
      "cell_type": "code",
      "metadata": {
        "id": "HI996xEr0Edc",
        "colab_type": "code",
        "colab": {
          "base_uri": "https://localhost:8080/",
          "height": 118
        },
        "outputId": "eca6ad80-43a6-4138-f2d4-e98ff1b66fb5"
      },
      "source": [
        "# training for trail 4\n",
        "model = classifier.fit_generator(training_set,\n",
        "                         steps_per_epoch=2000,\n",
        "                         epochs = 3,\n",
        "                          validation_data = valid_set,\n",
        "                          validation_steps=1500)"
      ],
      "execution_count": 5,
      "outputs": [
        {
          "output_type": "stream",
          "text": [
            "Epoch 1/3\n",
            "2000/2000 [==============================] - 437s 218ms/step - loss: 0.0525 - accuracy: 0.9770 - val_loss: 0.7089 - val_accuracy: 0.8833\n",
            "Epoch 2/3\n",
            "2000/2000 [==============================] - 432s 216ms/step - loss: 0.0062 - accuracy: 0.9984 - val_loss: 1.5248 - val_accuracy: 0.9167\n",
            "Epoch 3/3\n",
            "2000/2000 [==============================] - 428s 214ms/step - loss: 0.0064 - accuracy: 0.9986 - val_loss: 1.1979 - val_accuracy: 0.8833\n"
          ],
          "name": "stdout"
        }
      ]
    },
    {
      "cell_type": "code",
      "metadata": {
        "id": "fBbI8rj50Pfx",
        "colab_type": "code",
        "colab": {
          "base_uri": "https://localhost:8080/",
          "height": 50
        },
        "outputId": "dabe1014-7aa5-4116-fdf7-b4f5eeca343e"
      },
      "source": [
        "model = classifier.fit_generator(training_set,\n",
        "                         steps_per_epoch=2000,\n",
        "                         epochs = 1,\n",
        "                          validation_data = valid_set,\n",
        "                          validation_steps=1500)"
      ],
      "execution_count": 6,
      "outputs": [
        {
          "output_type": "stream",
          "text": [
            "Epoch 1/1\n",
            "2000/2000 [==============================] - 434s 217ms/step - loss: 0.0024 - accuracy: 0.9994 - val_loss: 1.1678 - val_accuracy: 0.8833\n"
          ],
          "name": "stdout"
        }
      ]
    },
    {
      "cell_type": "code",
      "metadata": {
        "id": "nptm3zsO7Fos",
        "colab_type": "code",
        "colab": {
          "base_uri": "https://localhost:8080/",
          "height": 655
        },
        "outputId": "db316af8-4777-4d77-8d21-aa073b346202"
      },
      "source": [
        "# final trial \n",
        "from keras.models import Sequential\n",
        "from keras.layers import Conv2D\n",
        "from keras.layers import MaxPooling2D\n",
        "from keras.layers import Flatten\n",
        "from keras.layers import Dense,Dropout\n",
        "\n",
        "# Initialising the CNN\n",
        "classifier = Sequential()\n",
        "\n",
        "# Step 1 - Convolution\n",
        "classifier.add(Conv2D(32, (3, 3), input_shape = (128, 128, 3), activation = 'relu'))\n",
        "\n",
        "# Step 2 - Pooling\n",
        "classifier.add(MaxPooling2D(pool_size = (2, 2)))\n",
        "\n",
        "\n",
        "classifier.add(Conv2D(64, (3, 3), activation = 'relu'))\n",
        "classifier.add(MaxPooling2D(pool_size = (2, 2)))\n",
        "# classifier.add(Dropout(0.5))\n",
        "\n",
        "classifier.add(Conv2D(128, (3, 3), activation = 'relu'))\n",
        "classifier.add(MaxPooling2D(pool_size = (2, 2)))\n",
        "classifier.add(Dropout(0.5))\n",
        "\n",
        "classifier.add(Conv2D(256, (3, 3), activation = 'relu'))\n",
        "classifier.add(MaxPooling2D(pool_size = (2, 2)))\n",
        "# classifier.add(Dropout(0.5))\n",
        "\n",
        "\n",
        "# Step 3 - Flattening\n",
        "classifier.add(Flatten())\n",
        "\n",
        "# Step 4 - Full connection\n",
        "classifier.add(Dense(units = 128, activation = 'relu'))\n",
        "classifier.add(Dropout(0.3))\n",
        "classifier.add(Dense(units = 128, activation = 'relu'))\n",
        "\n",
        "classifier.add(Dense(units=3, activation = 'softmax'))\n",
        "\n",
        "# Compiling the CNN\n",
        "classifier.compile(optimizer = 'adam', loss = 'categorical_crossentropy', metrics = ['accuracy'])\n",
        "\n",
        "# Part 2 - Fitting the CNN to the images\n",
        "\n",
        "from keras.preprocessing.image import ImageDataGenerator\n",
        "\n",
        "train_datagen = ImageDataGenerator(rescale = 1./255)\n",
        "valid_datagen = ImageDataGenerator(rescale = 1./255)\n",
        "\n",
        "training_set = train_datagen.flow_from_directory('/content/assign_3_data/train',\n",
        "                                                 target_size = (128, 128),\n",
        "                                                 batch_size = 32,\n",
        "                                                 class_mode = 'categorical')\n",
        "\n",
        "valid_set = valid_datagen.flow_from_directory('/content/assign_3_data/test',\n",
        "                                            target_size = (128, 128),\n",
        "                                            batch_size = 32,\n",
        "                                            class_mode = 'categorical')\n",
        "\n",
        "classifier.summary()"
      ],
      "execution_count": 7,
      "outputs": [
        {
          "output_type": "stream",
          "text": [
            "Found 1920 images belonging to 3 classes.\n",
            "Found 60 images belonging to 3 classes.\n",
            "Model: \"sequential_2\"\n",
            "_________________________________________________________________\n",
            "Layer (type)                 Output Shape              Param #   \n",
            "=================================================================\n",
            "conv2d_4 (Conv2D)            (None, 126, 126, 32)      896       \n",
            "_________________________________________________________________\n",
            "max_pooling2d_4 (MaxPooling2 (None, 63, 63, 32)        0         \n",
            "_________________________________________________________________\n",
            "conv2d_5 (Conv2D)            (None, 61, 61, 64)        18496     \n",
            "_________________________________________________________________\n",
            "max_pooling2d_5 (MaxPooling2 (None, 30, 30, 64)        0         \n",
            "_________________________________________________________________\n",
            "conv2d_6 (Conv2D)            (None, 28, 28, 128)       73856     \n",
            "_________________________________________________________________\n",
            "max_pooling2d_6 (MaxPooling2 (None, 14, 14, 128)       0         \n",
            "_________________________________________________________________\n",
            "dropout_4 (Dropout)          (None, 14, 14, 128)       0         \n",
            "_________________________________________________________________\n",
            "conv2d_7 (Conv2D)            (None, 12, 12, 256)       295168    \n",
            "_________________________________________________________________\n",
            "max_pooling2d_7 (MaxPooling2 (None, 6, 6, 256)         0         \n",
            "_________________________________________________________________\n",
            "flatten_2 (Flatten)          (None, 9216)              0         \n",
            "_________________________________________________________________\n",
            "dense_5 (Dense)              (None, 128)               1179776   \n",
            "_________________________________________________________________\n",
            "dropout_5 (Dropout)          (None, 128)               0         \n",
            "_________________________________________________________________\n",
            "dense_6 (Dense)              (None, 128)               16512     \n",
            "_________________________________________________________________\n",
            "dense_7 (Dense)              (None, 3)                 387       \n",
            "=================================================================\n",
            "Total params: 1,585,091\n",
            "Trainable params: 1,585,091\n",
            "Non-trainable params: 0\n",
            "_________________________________________________________________\n"
          ],
          "name": "stdout"
        }
      ]
    },
    {
      "cell_type": "code",
      "metadata": {
        "id": "9Bj0RFlo94Zn",
        "colab_type": "code",
        "colab": {
          "base_uri": "https://localhost:8080/",
          "height": 185
        },
        "outputId": "c68e713a-4f18-4789-aca3-ba5a2c908bb5"
      },
      "source": [
        "# training and testing for final trial\n",
        "model = classifier.fit_generator(training_set,\n",
        "                         steps_per_epoch=1000,\n",
        "                         epochs = 5,\n",
        "                          validation_data = valid_set,\n",
        "                          validation_steps=500)"
      ],
      "execution_count": 8,
      "outputs": [
        {
          "output_type": "stream",
          "text": [
            "Epoch 1/5\n",
            "1000/1000 [==============================] - 95s 95ms/step - loss: 0.2160 - accuracy: 0.8981 - val_loss: 0.2751 - val_accuracy: 0.9500\n",
            "Epoch 2/5\n",
            "1000/1000 [==============================] - 93s 93ms/step - loss: 0.0283 - accuracy: 0.9903 - val_loss: 0.1314 - val_accuracy: 0.9667\n",
            "Epoch 3/5\n",
            "1000/1000 [==============================] - 95s 95ms/step - loss: 0.0210 - accuracy: 0.9929 - val_loss: 0.1367 - val_accuracy: 0.9333\n",
            "Epoch 4/5\n",
            "1000/1000 [==============================] - 94s 94ms/step - loss: 0.0177 - accuracy: 0.9951 - val_loss: 0.5839 - val_accuracy: 0.9833\n",
            "Epoch 5/5\n",
            "1000/1000 [==============================] - 94s 94ms/step - loss: 0.0074 - accuracy: 0.9978 - val_loss: 0.0966 - val_accuracy: 0.9667\n"
          ],
          "name": "stdout"
        }
      ]
    },
    {
      "cell_type": "code",
      "metadata": {
        "id": "hiIVR6-a9-rh",
        "colab_type": "code",
        "colab": {}
      },
      "source": [
        ""
      ],
      "execution_count": 12,
      "outputs": []
    },
    {
      "cell_type": "code",
      "metadata": {
        "id": "XeCabN7m_74G",
        "colab_type": "code",
        "colab": {}
      },
      "source": [
        ""
      ],
      "execution_count": 12,
      "outputs": []
    },
    {
      "cell_type": "code",
      "metadata": {
        "id": "m_x1e4jcCBhQ",
        "colab_type": "code",
        "colab": {}
      },
      "source": [
        ""
      ],
      "execution_count": null,
      "outputs": []
    }
  ]
}