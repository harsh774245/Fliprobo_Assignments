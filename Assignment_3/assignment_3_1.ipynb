{
  "nbformat": 4,
  "nbformat_minor": 0,
  "metadata": {
    "colab": {
      "name": "assignment_3_1.ipynb",
      "provenance": [],
      "collapsed_sections": []
    },
    "kernelspec": {
      "name": "python3",
      "display_name": "Python 3"
    },
    "accelerator": "GPU"
  },
  "cells": [
    {
      "cell_type": "code",
      "metadata": {
        "id": "AfSM5sScbR17",
        "colab_type": "code",
        "colab": {
          "base_uri": "https://localhost:8080/",
          "height": 34
        },
        "outputId": "aaea6fac-5969-46a3-e8b0-d011d22635cc"
      },
      "source": [
        "from zipfile import ZipFile\n",
        "filename='/assign_3_data.zip'\n",
        "with ZipFile(filename,'r') as zip:\n",
        "  zip.extractall()\n",
        "  print('Done')"
      ],
      "execution_count": 1,
      "outputs": [
        {
          "output_type": "stream",
          "text": [
            "Done\n"
          ],
          "name": "stdout"
        }
      ]
    },
    {
      "cell_type": "code",
      "metadata": {
        "id": "mnG2dYpXt8p6",
        "colab_type": "code",
        "colab": {}
      },
      "source": [
        "# 9 different trials were run. Checkout the final trial (9) to see the final accuracy."
      ],
      "execution_count": 2,
      "outputs": []
    },
    {
      "cell_type": "code",
      "metadata": {
        "id": "GH6JYWCQds5H",
        "colab_type": "code",
        "colab": {
          "base_uri": "https://localhost:8080/",
          "height": 655
        },
        "outputId": "48f6a740-83e5-4d8e-cb05-f776f3d25744"
      },
      "source": [
        "# trial 1\n",
        "from keras.models import Sequential\n",
        "from keras.layers import Conv2D\n",
        "from keras.layers import MaxPooling2D\n",
        "from keras.layers import Flatten\n",
        "from keras.layers import Dense,Dropout\n",
        "\n",
        "# Initialising the CNN\n",
        "classifier = Sequential()\n",
        "\n",
        "# Step 1 - Convolution\n",
        "classifier.add(Conv2D(32, (3, 3), input_shape = (64, 64, 3), activation = 'relu'))\n",
        "\n",
        "# Step 2 - Pooling\n",
        "classifier.add(MaxPooling2D(pool_size = (2, 2)))\n",
        "\n",
        "\n",
        "classifier.add(Conv2D(64, (3, 3), activation = 'relu'))\n",
        "classifier.add(MaxPooling2D(pool_size = (2, 2)))\n",
        "# classifier.add(Dropout(0.5))\n",
        "\n",
        "classifier.add(Conv2D(128, (3, 3), activation = 'relu'))\n",
        "classifier.add(MaxPooling2D(pool_size = (2, 2)))\n",
        "# classifier.add(Dropout(0.5))\n",
        "\n",
        "classifier.add(Conv2D(256, (3, 3), activation = 'relu'))\n",
        "classifier.add(MaxPooling2D(pool_size = (2, 2)))\n",
        "classifier.add(Dropout(0.5))\n",
        "\n",
        "\n",
        "# Step 3 - Flattening\n",
        "classifier.add(Flatten())\n",
        "\n",
        "# Step 4 - Full connection\n",
        "classifier.add(Dense(units = 128, activation = 'relu'))\n",
        "# classifier.add(Dropout(0.5))\n",
        "classifier.add(Dense(units = 64, activation = 'relu'))\n",
        "classifier.add(Dropout(0.25))\n",
        "\n",
        "classifier.add(Dense(units=3, activation = 'softmax'))\n",
        "\n",
        "# Compiling the CNN\n",
        "classifier.compile(optimizer = 'adam', loss = 'categorical_crossentropy', metrics = ['accuracy'])\n",
        "\n",
        "# Part 2 - Fitting the CNN to the images\n",
        "\n",
        "from keras.preprocessing.image import ImageDataGenerator\n",
        "\n",
        "train_datagen = ImageDataGenerator(rescale = 1./255)\n",
        "valid_datagen = ImageDataGenerator(rescale = 1./255)\n",
        "\n",
        "training_set = train_datagen.flow_from_directory('/content/assign_3_data/train',\n",
        "                                                 target_size = (64, 64),\n",
        "                                                 batch_size = 32,\n",
        "                                                 class_mode = 'categorical')\n",
        "\n",
        "valid_set = valid_datagen.flow_from_directory('/content/assign_3_data/test',\n",
        "                                            target_size = (64, 64),\n",
        "                                            batch_size = 32,\n",
        "                                            class_mode = 'categorical')\n",
        "\n",
        "classifier.summary()\n",
        "\n"
      ],
      "execution_count": null,
      "outputs": [
        {
          "output_type": "stream",
          "text": [
            "Found 1920 images belonging to 3 classes.\n",
            "Found 60 images belonging to 3 classes.\n",
            "Model: \"sequential_3\"\n",
            "_________________________________________________________________\n",
            "Layer (type)                 Output Shape              Param #   \n",
            "=================================================================\n",
            "conv2d_9 (Conv2D)            (None, 62, 62, 32)        896       \n",
            "_________________________________________________________________\n",
            "max_pooling2d_9 (MaxPooling2 (None, 31, 31, 32)        0         \n",
            "_________________________________________________________________\n",
            "conv2d_10 (Conv2D)           (None, 29, 29, 64)        18496     \n",
            "_________________________________________________________________\n",
            "max_pooling2d_10 (MaxPooling (None, 14, 14, 64)        0         \n",
            "_________________________________________________________________\n",
            "conv2d_11 (Conv2D)           (None, 12, 12, 128)       73856     \n",
            "_________________________________________________________________\n",
            "max_pooling2d_11 (MaxPooling (None, 6, 6, 128)         0         \n",
            "_________________________________________________________________\n",
            "conv2d_12 (Conv2D)           (None, 4, 4, 256)         295168    \n",
            "_________________________________________________________________\n",
            "max_pooling2d_12 (MaxPooling (None, 2, 2, 256)         0         \n",
            "_________________________________________________________________\n",
            "dropout_5 (Dropout)          (None, 2, 2, 256)         0         \n",
            "_________________________________________________________________\n",
            "flatten_3 (Flatten)          (None, 1024)              0         \n",
            "_________________________________________________________________\n",
            "dense_7 (Dense)              (None, 128)               131200    \n",
            "_________________________________________________________________\n",
            "dense_8 (Dense)              (None, 64)                8256      \n",
            "_________________________________________________________________\n",
            "dropout_6 (Dropout)          (None, 64)                0         \n",
            "_________________________________________________________________\n",
            "dense_9 (Dense)              (None, 3)                 195       \n",
            "=================================================================\n",
            "Total params: 528,067\n",
            "Trainable params: 528,067\n",
            "Non-trainable params: 0\n",
            "_________________________________________________________________\n"
          ],
          "name": "stdout"
        }
      ]
    },
    {
      "cell_type": "code",
      "metadata": {
        "id": "D-_JI57-ev0V",
        "colab_type": "code",
        "colab": {
          "base_uri": "https://localhost:8080/",
          "height": 50
        },
        "outputId": "68f3f864-b11f-4bae-97d8-bcfd03eeed44"
      },
      "source": [
        "# # training model for trail 1\n",
        "model = classifier.fit_generator(training_set,\n",
        "                         steps_per_epoch=2000,\n",
        "                         epochs = 1,\n",
        "                          validation_data = valid_set,\n",
        "                          validation_steps=1000)"
      ],
      "execution_count": null,
      "outputs": [
        {
          "output_type": "stream",
          "text": [
            "Epoch 1/1\n",
            "2000/2000 [==============================] - 221s 110ms/step - loss: 0.1193 - accuracy: 0.9462 - val_loss: 0.7520 - val_accuracy: 0.9167\n"
          ],
          "name": "stdout"
        }
      ]
    },
    {
      "cell_type": "code",
      "metadata": {
        "id": "40fG3ta6fAhg",
        "colab_type": "code",
        "colab": {
          "base_uri": "https://localhost:8080/",
          "height": 50
        },
        "outputId": "4c4e4da2-d2ad-4335-fdc1-73df35b95996"
      },
      "source": [
        "# training continued for trail 4\n",
        "model = classifier.fit_generator(training_set,\n",
        "                         steps_per_epoch=4000,\n",
        "                         epochs = 1,\n",
        "                          validation_data = valid_set,\n",
        "                          validation_steps=1000)"
      ],
      "execution_count": null,
      "outputs": [
        {
          "output_type": "stream",
          "text": [
            "Epoch 1/1\n",
            "4000/4000 [==============================] - 328s 82ms/step - loss: 0.0035 - accuracy: 0.9990 - val_loss: 0.5747 - val_accuracy: 0.8833\n"
          ],
          "name": "stdout"
        }
      ]
    },
    {
      "cell_type": "code",
      "metadata": {
        "id": "X74cWnc4gP0o",
        "colab_type": "code",
        "colab": {
          "base_uri": "https://localhost:8080/",
          "height": 655
        },
        "outputId": "93898af1-e73c-48ce-b00a-af154ac68afc"
      },
      "source": [
        "# trial 2\n",
        "from keras.models import Sequential\n",
        "from keras.layers import Conv2D\n",
        "from keras.layers import MaxPooling2D\n",
        "from keras.layers import Flatten\n",
        "from keras.layers import Dense,Dropout\n",
        "\n",
        "# Initialising the CNN\n",
        "classifier = Sequential()\n",
        "\n",
        "# Step 1 - Convolution\n",
        "classifier.add(Conv2D(32, (7, 7), input_shape = (64, 64, 3), activation = 'relu'))\n",
        "\n",
        "# Step 2 - Pooling\n",
        "classifier.add(MaxPooling2D(pool_size = (2, 2)))\n",
        "\n",
        "\n",
        "classifier.add(Conv2D(64, (3, 3), activation = 'relu'))\n",
        "classifier.add(MaxPooling2D(pool_size = (2, 2)))\n",
        "# classifier.add(Dropout(0.5))\n",
        "\n",
        "classifier.add(Conv2D(128, (3, 3), activation = 'relu'))\n",
        "classifier.add(MaxPooling2D(pool_size = (2, 2)))\n",
        "# classifier.add(Dropout(0.5))\n",
        "\n",
        "# classifier.add(Conv2D(256, (3, 3), activation = 'relu'))\n",
        "# classifier.add(MaxPooling2D(pool_size = (2, 2)))\n",
        "classifier.add(Dropout(0.5))\n",
        "\n",
        "\n",
        "# Step 3 - Flattening\n",
        "classifier.add(Flatten())\n",
        "\n",
        "# Step 4 - Full connection\n",
        "classifier.add(Dense(units = 128, activation = 'relu'))\n",
        "# classifier.add(Dropout(0.5))\n",
        "classifier.add(Dense(units = 256, activation = 'relu'))\n",
        "classifier.add(Dropout(0.25))\n",
        "classifier.add(Dense(units = 256, activation = 'relu'))\n",
        "classifier.add(Dropout(0.3))\n",
        "\n",
        "classifier.add(Dense(units=3, activation = 'softmax'))\n",
        "\n",
        "# Compiling the CNN\n",
        "classifier.compile(optimizer = 'adam', loss = 'categorical_crossentropy', metrics = ['accuracy'])\n",
        "\n",
        "# Part 2 - Fitting the CNN to the images\n",
        "\n",
        "from keras.preprocessing.image import ImageDataGenerator\n",
        "\n",
        "train_datagen = ImageDataGenerator(rescale = 1./255)\n",
        "valid_datagen = ImageDataGenerator(rescale = 1./255)\n",
        "\n",
        "training_set = train_datagen.flow_from_directory('/content/assign_3_data/train',\n",
        "                                                 target_size = (64, 64),\n",
        "                                                 batch_size = 32,\n",
        "                                                 class_mode = 'categorical')\n",
        "\n",
        "valid_set = valid_datagen.flow_from_directory('/content/assign_3_data/test',\n",
        "                                            target_size = (64, 64),\n",
        "                                            batch_size = 32,\n",
        "                                            class_mode = 'categorical')\n",
        "\n",
        "classifier.summary()\n",
        "\n"
      ],
      "execution_count": null,
      "outputs": [
        {
          "output_type": "stream",
          "text": [
            "Found 1920 images belonging to 3 classes.\n",
            "Found 60 images belonging to 3 classes.\n",
            "Model: \"sequential_5\"\n",
            "_________________________________________________________________\n",
            "Layer (type)                 Output Shape              Param #   \n",
            "=================================================================\n",
            "conv2d_17 (Conv2D)           (None, 58, 58, 32)        4736      \n",
            "_________________________________________________________________\n",
            "max_pooling2d_17 (MaxPooling (None, 29, 29, 32)        0         \n",
            "_________________________________________________________________\n",
            "conv2d_18 (Conv2D)           (None, 27, 27, 64)        18496     \n",
            "_________________________________________________________________\n",
            "max_pooling2d_18 (MaxPooling (None, 13, 13, 64)        0         \n",
            "_________________________________________________________________\n",
            "conv2d_19 (Conv2D)           (None, 11, 11, 128)       73856     \n",
            "_________________________________________________________________\n",
            "max_pooling2d_19 (MaxPooling (None, 5, 5, 128)         0         \n",
            "_________________________________________________________________\n",
            "dropout_10 (Dropout)         (None, 5, 5, 128)         0         \n",
            "_________________________________________________________________\n",
            "flatten_5 (Flatten)          (None, 3200)              0         \n",
            "_________________________________________________________________\n",
            "dense_14 (Dense)             (None, 128)               409728    \n",
            "_________________________________________________________________\n",
            "dense_15 (Dense)             (None, 256)               33024     \n",
            "_________________________________________________________________\n",
            "dropout_11 (Dropout)         (None, 256)               0         \n",
            "_________________________________________________________________\n",
            "dense_16 (Dense)             (None, 256)               65792     \n",
            "_________________________________________________________________\n",
            "dropout_12 (Dropout)         (None, 256)               0         \n",
            "_________________________________________________________________\n",
            "dense_17 (Dense)             (None, 3)                 771       \n",
            "=================================================================\n",
            "Total params: 606,403\n",
            "Trainable params: 606,403\n",
            "Non-trainable params: 0\n",
            "_________________________________________________________________\n"
          ],
          "name": "stdout"
        }
      ]
    },
    {
      "cell_type": "code",
      "metadata": {
        "id": "NsI_IAPeiTui",
        "colab_type": "code",
        "colab": {
          "base_uri": "https://localhost:8080/",
          "height": 50
        },
        "outputId": "d4ae356a-d0bc-444f-abb4-425f6f8412be"
      },
      "source": [
        "# training model for trail 2\n",
        "model = classifier.fit_generator(training_set,\n",
        "                         steps_per_epoch=2000,\n",
        "                         epochs = 1,\n",
        "                          validation_data = valid_set,\n",
        "                          validation_steps=500)"
      ],
      "execution_count": null,
      "outputs": [
        {
          "output_type": "stream",
          "text": [
            "Epoch 1/1\n",
            "2000/2000 [==============================] - 181s 91ms/step - loss: 0.1394 - accuracy: 0.9358 - val_loss: 0.5758 - val_accuracy: 0.9333\n"
          ],
          "name": "stdout"
        }
      ]
    },
    {
      "cell_type": "code",
      "metadata": {
        "id": "F5YCfX8qi1ca",
        "colab_type": "code",
        "colab": {
          "base_uri": "https://localhost:8080/",
          "height": 50
        },
        "outputId": "f756967b-aa01-40cb-f577-fdd752b0a787"
      },
      "source": [
        "# training continued for trail 2\n",
        "model = classifier.fit_generator(training_set,\n",
        "                         steps_per_epoch=2000,\n",
        "                         epochs = 1,\n",
        "                          validation_data = valid_set,\n",
        "                          validation_steps=500)"
      ],
      "execution_count": null,
      "outputs": [
        {
          "output_type": "stream",
          "text": [
            "Epoch 1/1\n",
            "2000/2000 [==============================] - 176s 88ms/step - loss: 0.0170 - accuracy: 0.9945 - val_loss: 1.0368 - val_accuracy: 0.9167\n"
          ],
          "name": "stdout"
        }
      ]
    },
    {
      "cell_type": "code",
      "metadata": {
        "id": "smUV0fDKjmSu",
        "colab_type": "code",
        "colab": {
          "base_uri": "https://localhost:8080/",
          "height": 50
        },
        "outputId": "fde3c16e-b1bb-446a-8ccd-411143ad7ad6"
      },
      "source": [
        "# training continued for trail 2\n",
        "model = classifier.fit_generator(training_set,\n",
        "                         steps_per_epoch=2000,\n",
        "                         epochs = 1,\n",
        "                          validation_data = valid_set,\n",
        "                          validation_steps=500)"
      ],
      "execution_count": null,
      "outputs": [
        {
          "output_type": "stream",
          "text": [
            "Epoch 1/1\n",
            "2000/2000 [==============================] - 183s 91ms/step - loss: 0.0121 - accuracy: 0.9964 - val_loss: 0.5980 - val_accuracy: 0.9000\n"
          ],
          "name": "stdout"
        }
      ]
    },
    {
      "cell_type": "code",
      "metadata": {
        "id": "dV8gqo1rkZX1",
        "colab_type": "code",
        "colab": {
          "base_uri": "https://localhost:8080/",
          "height": 50
        },
        "outputId": "efa317cd-64f7-4c76-f99e-d42c6b967a0f"
      },
      "source": [
        "# training continued for trail 2\n",
        "model = classifier.fit_generator(training_set,\n",
        "                         steps_per_epoch=2000,\n",
        "                         epochs = 1,\n",
        "                          validation_data = valid_set,\n",
        "                          validation_steps=500)"
      ],
      "execution_count": null,
      "outputs": [
        {
          "output_type": "stream",
          "text": [
            "Epoch 1/1\n",
            "2000/2000 [==============================] - 172s 86ms/step - loss: 0.0103 - accuracy: 0.9972 - val_loss: 3.0583 - val_accuracy: 0.9000\n"
          ],
          "name": "stdout"
        }
      ]
    },
    {
      "cell_type": "code",
      "metadata": {
        "id": "EoliT3rclN6h",
        "colab_type": "code",
        "colab": {
          "base_uri": "https://localhost:8080/",
          "height": 689
        },
        "outputId": "99ef8ac8-7126-4475-8220-209b9f903f8f"
      },
      "source": [
        "# trial 3\n",
        "from keras.models import Sequential\n",
        "from keras.layers import Conv2D\n",
        "from keras.layers import MaxPooling2D\n",
        "from keras.layers import Flatten\n",
        "from keras.layers import Dense,Dropout\n",
        "\n",
        "# Initialising the CNN\n",
        "classifier = Sequential()\n",
        "\n",
        "# Step 1 - Convolution\n",
        "classifier.add(Conv2D(64, (3, 3), input_shape = (128, 128, 3), activation = 'relu'))\n",
        "classifier.add(Conv2D(64, (3, 3), activation = 'relu'))\n",
        "classifier.add(MaxPooling2D(pool_size = (2, 2)))\n",
        "\n",
        "classifier.add(Conv2D(128, (3, 3), activation = 'relu'))\n",
        "classifier.add(Conv2D(128, (3, 3), activation = 'relu'))\n",
        "classifier.add(MaxPooling2D(pool_size = (2, 2)))\n",
        "\n",
        "classifier.add(Conv2D(256, (3, 3), activation = 'relu'))\n",
        "classifier.add(Conv2D(256, (3, 3), activation = 'relu'))\n",
        "classifier.add(Conv2D(256, (3, 3), activation = 'relu'))\n",
        "classifier.add(MaxPooling2D(pool_size = (2, 2)))\n",
        "\n",
        "# classifier.add(Conv2D(512, (3, 3), activation = 'relu'))\n",
        "# classifier.add(Conv2D(512, (3, 3), activation = 'relu'))\n",
        "# classifier.add(Conv2D(512, (3, 3), activation = 'relu'))\n",
        "# classifier.add(MaxPooling2D(pool_size = (2, 2)))\n",
        "\n",
        "# classifier.add(Conv2D(512, (3, 3), activation = 'relu'))\n",
        "# classifier.add(Conv2D(512, (3, 3), activation = 'relu'))\n",
        "# classifier.add(Conv2D(512, (3, 3), activation = 'relu'))\n",
        "# classifier.add(MaxPooling2D(pool_size = (2, 2)))\n",
        "\n",
        "\n",
        "\n",
        "# Step 3 - Flattening\n",
        "classifier.add(Flatten())\n",
        "\n",
        "# Step 4 - Full connection\n",
        "classifier.add(Dense(units = 4096, activation = 'relu'))\n",
        "# classifier.add(Dropout(0.5))\n",
        "classifier.add(Dense(units = 4096, activation = 'relu'))\n",
        "# classifier.add(Dropout(0.25))\n",
        "classifier.add(Dense(units = 4096, activation = 'relu'))\n",
        "# classifier.add(Dropout(0.3))\n",
        "\n",
        "classifier.add(Dense(units=3, activation = 'softmax'))\n",
        "\n",
        "# Compiling the CNN\n",
        "classifier.compile(optimizer = 'adam', loss = 'categorical_crossentropy', metrics = ['accuracy'])\n",
        "\n",
        "# Part 2 - Fitting the CNN to the images\n",
        "\n",
        "from keras.preprocessing.image import ImageDataGenerator\n",
        "\n",
        "train_datagen = ImageDataGenerator(rescale = 1./255)\n",
        "valid_datagen = ImageDataGenerator(rescale = 1./255)\n",
        "\n",
        "training_set = train_datagen.flow_from_directory('/content/assign_3_data/train',\n",
        "                                                 target_size = (128, 128),\n",
        "                                                 batch_size = 32,\n",
        "                                                 class_mode = 'categorical')\n",
        "\n",
        "valid_set = valid_datagen.flow_from_directory('/content/assign_3_data/test',\n",
        "                                            target_size = (128, 128),\n",
        "                                            batch_size = 32,\n",
        "                                            class_mode = 'categorical')\n",
        "\n",
        "classifier.summary()"
      ],
      "execution_count": null,
      "outputs": [
        {
          "output_type": "stream",
          "text": [
            "Found 1920 images belonging to 3 classes.\n",
            "Found 60 images belonging to 3 classes.\n",
            "Model: \"sequential_8\"\n",
            "_________________________________________________________________\n",
            "Layer (type)                 Output Shape              Param #   \n",
            "=================================================================\n",
            "conv2d_40 (Conv2D)           (None, 126, 126, 64)      1792      \n",
            "_________________________________________________________________\n",
            "conv2d_41 (Conv2D)           (None, 124, 124, 64)      36928     \n",
            "_________________________________________________________________\n",
            "max_pooling2d_27 (MaxPooling (None, 62, 62, 64)        0         \n",
            "_________________________________________________________________\n",
            "conv2d_42 (Conv2D)           (None, 60, 60, 128)       73856     \n",
            "_________________________________________________________________\n",
            "conv2d_43 (Conv2D)           (None, 58, 58, 128)       147584    \n",
            "_________________________________________________________________\n",
            "max_pooling2d_28 (MaxPooling (None, 29, 29, 128)       0         \n",
            "_________________________________________________________________\n",
            "conv2d_44 (Conv2D)           (None, 27, 27, 256)       295168    \n",
            "_________________________________________________________________\n",
            "conv2d_45 (Conv2D)           (None, 25, 25, 256)       590080    \n",
            "_________________________________________________________________\n",
            "conv2d_46 (Conv2D)           (None, 23, 23, 256)       590080    \n",
            "_________________________________________________________________\n",
            "max_pooling2d_29 (MaxPooling (None, 11, 11, 256)       0         \n",
            "_________________________________________________________________\n",
            "flatten_6 (Flatten)          (None, 30976)             0         \n",
            "_________________________________________________________________\n",
            "dense_18 (Dense)             (None, 4096)              126881792 \n",
            "_________________________________________________________________\n",
            "dense_19 (Dense)             (None, 4096)              16781312  \n",
            "_________________________________________________________________\n",
            "dense_20 (Dense)             (None, 4096)              16781312  \n",
            "_________________________________________________________________\n",
            "dense_21 (Dense)             (None, 3)                 12291     \n",
            "=================================================================\n",
            "Total params: 162,192,195\n",
            "Trainable params: 162,192,195\n",
            "Non-trainable params: 0\n",
            "_________________________________________________________________\n"
          ],
          "name": "stdout"
        }
      ]
    },
    {
      "cell_type": "code",
      "metadata": {
        "id": "BoHKkDTZnHz8",
        "colab_type": "code",
        "colab": {}
      },
      "source": [
        "# training model for trail 3\n",
        "# training interrupted by keyboard because model was performing worse. val_accuracy was 32%\n",
        "\n",
        "\n",
        "# model = classifier.fit_generator(training_set,\n",
        "#                          steps_per_epoch=2000,\n",
        "#                          epochs = 1,\n",
        "#                           validation_data = valid_set,\n",
        "#                           validation_steps=500)"
      ],
      "execution_count": 3,
      "outputs": []
    },
    {
      "cell_type": "code",
      "metadata": {
        "id": "5dnl1-Bqn3TB",
        "colab_type": "code",
        "colab": {
          "base_uri": "https://localhost:8080/",
          "height": 655
        },
        "outputId": "be5f35de-4662-4b4b-855f-e6bcc1a61e9d"
      },
      "source": [
        "# trial 4\n",
        "from keras.models import Sequential\n",
        "from keras.layers import Conv2D\n",
        "from keras.layers import MaxPooling2D\n",
        "from keras.layers import Flatten\n",
        "from keras.layers import Dense,Dropout\n",
        "\n",
        "# Initialising the CNN\n",
        "classifier = Sequential()\n",
        "\n",
        "# Step 1 - Convolution\n",
        "classifier.add(Conv2D(32, (7, 7), input_shape = (128, 128, 3), activation = 'relu'))\n",
        "\n",
        "# Step 2 - Pooling\n",
        "classifier.add(MaxPooling2D(pool_size = (2, 2)))\n",
        "\n",
        "\n",
        "classifier.add(Conv2D(64, (5, 5), activation = 'relu'))\n",
        "classifier.add(MaxPooling2D(pool_size = (2, 2)))\n",
        "# classifier.add(Dropout(0.5))\n",
        "\n",
        "classifier.add(Conv2D(128, (3, 3), activation = 'relu'))\n",
        "classifier.add(MaxPooling2D(pool_size = (2, 2)))\n",
        "# classifier.add(Dropout(0.5))\n",
        "\n",
        "classifier.add(Conv2D(256, (3, 3), activation = 'relu'))\n",
        "classifier.add(MaxPooling2D(pool_size = (2, 2)))\n",
        "# classifier.add(Dropout(0.5))\n",
        "\n",
        "\n",
        "# Step 3 - Flattening\n",
        "classifier.add(Flatten())\n",
        "\n",
        "# Step 4 - Full connection\n",
        "classifier.add(Dense(units = 128, activation = 'relu'))\n",
        "# classifier.add(Dropout(0.5))\n",
        "classifier.add(Dense(units = 256, activation = 'relu'))\n",
        "# classifier.add(Dropout(0.25))\n",
        "classifier.add(Dense(units = 256, activation = 'relu'))\n",
        "classifier.add(Dropout(0.3))\n",
        "\n",
        "classifier.add(Dense(units=3, activation = 'softmax'))\n",
        "\n",
        "# Compiling the CNN\n",
        "classifier.compile(optimizer = 'adam', loss = 'categorical_crossentropy', metrics = ['accuracy'])\n",
        "\n",
        "# Part 2 - Fitting the CNN to the images\n",
        "\n",
        "from keras.preprocessing.image import ImageDataGenerator\n",
        "\n",
        "train_datagen = ImageDataGenerator(rescale = 1./255)\n",
        "valid_datagen = ImageDataGenerator(rescale = 1./255)\n",
        "\n",
        "training_set = train_datagen.flow_from_directory('/content/assign_3_data/train',\n",
        "                                                 target_size = (128, 128),\n",
        "                                                 batch_size = 64,\n",
        "                                                 class_mode = 'categorical')\n",
        "\n",
        "valid_set = valid_datagen.flow_from_directory('/content/assign_3_data/test',\n",
        "                                            target_size = (128, 128),\n",
        "                                            batch_size = 64,\n",
        "                                            class_mode = 'categorical')\n",
        "\n",
        "classifier.summary()\n",
        "\n"
      ],
      "execution_count": null,
      "outputs": [
        {
          "output_type": "stream",
          "text": [
            "Found 1920 images belonging to 3 classes.\n",
            "Found 60 images belonging to 3 classes.\n",
            "Model: \"sequential_2\"\n",
            "_________________________________________________________________\n",
            "Layer (type)                 Output Shape              Param #   \n",
            "=================================================================\n",
            "conv2d_5 (Conv2D)            (None, 122, 122, 32)      4736      \n",
            "_________________________________________________________________\n",
            "max_pooling2d_5 (MaxPooling2 (None, 61, 61, 32)        0         \n",
            "_________________________________________________________________\n",
            "conv2d_6 (Conv2D)            (None, 57, 57, 64)        51264     \n",
            "_________________________________________________________________\n",
            "max_pooling2d_6 (MaxPooling2 (None, 28, 28, 64)        0         \n",
            "_________________________________________________________________\n",
            "conv2d_7 (Conv2D)            (None, 26, 26, 128)       73856     \n",
            "_________________________________________________________________\n",
            "max_pooling2d_7 (MaxPooling2 (None, 13, 13, 128)       0         \n",
            "_________________________________________________________________\n",
            "conv2d_8 (Conv2D)            (None, 11, 11, 256)       295168    \n",
            "_________________________________________________________________\n",
            "max_pooling2d_8 (MaxPooling2 (None, 5, 5, 256)         0         \n",
            "_________________________________________________________________\n",
            "flatten_2 (Flatten)          (None, 6400)              0         \n",
            "_________________________________________________________________\n",
            "dense_5 (Dense)              (None, 128)               819328    \n",
            "_________________________________________________________________\n",
            "dense_6 (Dense)              (None, 256)               33024     \n",
            "_________________________________________________________________\n",
            "dense_7 (Dense)              (None, 256)               65792     \n",
            "_________________________________________________________________\n",
            "dropout_2 (Dropout)          (None, 256)               0         \n",
            "_________________________________________________________________\n",
            "dense_8 (Dense)              (None, 3)                 771       \n",
            "=================================================================\n",
            "Total params: 1,343,939\n",
            "Trainable params: 1,343,939\n",
            "Non-trainable params: 0\n",
            "_________________________________________________________________\n"
          ],
          "name": "stdout"
        }
      ]
    },
    {
      "cell_type": "code",
      "metadata": {
        "id": "bcUOrywYp9RY",
        "colab_type": "code",
        "colab": {
          "base_uri": "https://localhost:8080/",
          "height": 185
        },
        "outputId": "90630a16-7b48-4b51-a106-14816173074e"
      },
      "source": [
        "# training model for trail 4\n",
        "model = classifier.fit_generator(training_set,\n",
        "                         steps_per_epoch=2000,\n",
        "                         epochs = 5,\n",
        "                          validation_data = valid_set,\n",
        "                          validation_steps=1500)"
      ],
      "execution_count": null,
      "outputs": [
        {
          "output_type": "stream",
          "text": [
            "Epoch 1/5\n",
            "2000/2000 [==============================] - 405s 203ms/step - loss: 0.0472 - accuracy: 0.9778 - val_loss: 1.7194 - val_accuracy: 0.9333\n",
            "Epoch 2/5\n",
            "2000/2000 [==============================] - 401s 201ms/step - loss: 2.9719e-07 - accuracy: 1.0000 - val_loss: 1.7460 - val_accuracy: 0.9333\n",
            "Epoch 3/5\n",
            "2000/2000 [==============================] - 402s 201ms/step - loss: 1.8061e-07 - accuracy: 1.0000 - val_loss: 1.8203 - val_accuracy: 0.9333\n",
            "Epoch 4/5\n",
            "2000/2000 [==============================] - 411s 205ms/step - loss: 2.6636e-08 - accuracy: 1.0000 - val_loss: 2.0639 - val_accuracy: 0.9333\n",
            "Epoch 5/5\n",
            "2000/2000 [==============================] - 410s 205ms/step - loss: 9.6941e-09 - accuracy: 1.0000 - val_loss: 2.1319 - val_accuracy: 0.9333\n"
          ],
          "name": "stdout"
        }
      ]
    },
    {
      "cell_type": "code",
      "metadata": {
        "id": "cfsBzq1Tr7Qh",
        "colab_type": "code",
        "colab": {}
      },
      "source": [
        "# training continued for trial 4\n",
        "# training interrupted by keyboard because model loss kept on increasing.\n",
        "\n",
        "\n",
        "# model2 = classifier.fit_generator(training_set,\n",
        "#                          steps_per_epoch=2000,\n",
        "#                          epochs = 10,\n",
        "#                           validation_data = valid_set,\n",
        "#                           validation_steps=750)"
      ],
      "execution_count": 4,
      "outputs": []
    },
    {
      "cell_type": "code",
      "metadata": {
        "id": "XdtXMWRnqTce",
        "colab_type": "code",
        "colab": {
          "base_uri": "https://localhost:8080/",
          "height": 722
        },
        "outputId": "d318e535-0fd2-4ef9-de10-e54408a0005d"
      },
      "source": [
        "# trial 5\n",
        "from keras.models import Sequential\n",
        "from keras.layers import Conv2D\n",
        "from keras.layers import MaxPooling2D\n",
        "from keras.layers import Flatten\n",
        "from keras.layers import Dense,Dropout\n",
        "\n",
        "# Initialising the CNN\n",
        "classifier = Sequential()\n",
        "\n",
        "# Step 1 - Convolution\n",
        "classifier.add(Conv2D(32, (7, 7), input_shape = (128, 128, 3), activation = 'relu'))\n",
        "\n",
        "# Step 2 - Pooling\n",
        "classifier.add(MaxPooling2D(pool_size = (2, 2)))\n",
        "\n",
        "\n",
        "classifier.add(Conv2D(64, (5, 5), activation = 'relu'))\n",
        "classifier.add(MaxPooling2D(pool_size = (2, 2)))\n",
        "# classifier.add(Dropout(0.5))\n",
        "\n",
        "classifier.add(Conv2D(128, (3, 3), activation = 'relu'))\n",
        "classifier.add(MaxPooling2D(pool_size = (2, 2)))\n",
        "# classifier.add(Dropout(0.5))\n",
        "\n",
        "classifier.add(Conv2D(256, (3, 3), activation = 'relu'))\n",
        "classifier.add(MaxPooling2D(pool_size = (2, 2)))\n",
        "classifier.add(Dropout(0.3))\n",
        "\n",
        "\n",
        "# Step 3 - Flattening\n",
        "classifier.add(Flatten())\n",
        "\n",
        "# Step 4 - Full connection\n",
        "classifier.add(Dense(units = 128, activation = 'relu'))\n",
        "classifier.add(Dropout(0.3))\n",
        "classifier.add(Dense(units = 256, activation = 'relu'))\n",
        "# classifier.add(Dropout(0.25))\n",
        "classifier.add(Dense(units = 256, activation = 'relu'))\n",
        "classifier.add(Dropout(0.3))\n",
        "\n",
        "classifier.add(Dense(units=3, activation = 'softmax'))\n",
        "\n",
        "# Compiling the CNN\n",
        "classifier.compile(optimizer = 'adam', loss = 'categorical_crossentropy', metrics = ['accuracy'])\n",
        "\n",
        "# Part 2 - Fitting the CNN to the images\n",
        "\n",
        "from keras.preprocessing.image import ImageDataGenerator\n",
        "\n",
        "train_datagen = ImageDataGenerator(rescale = 1./255)\n",
        "valid_datagen = ImageDataGenerator(rescale = 1./255)\n",
        "\n",
        "training_set = train_datagen.flow_from_directory('/content/assign_3_data/train',\n",
        "                                                 target_size = (128, 128),\n",
        "                                                 batch_size = 64,\n",
        "                                                 class_mode = 'categorical')\n",
        "\n",
        "valid_set = valid_datagen.flow_from_directory('/content/assign_3_data/test',\n",
        "                                            target_size = (128, 128),\n",
        "                                            batch_size = 64,\n",
        "                                            class_mode = 'categorical')\n",
        "\n",
        "classifier.summary()\n",
        "\n"
      ],
      "execution_count": null,
      "outputs": [
        {
          "output_type": "stream",
          "text": [
            "Found 1920 images belonging to 3 classes.\n",
            "Found 60 images belonging to 3 classes.\n",
            "Model: \"sequential_3\"\n",
            "_________________________________________________________________\n",
            "Layer (type)                 Output Shape              Param #   \n",
            "=================================================================\n",
            "conv2d_9 (Conv2D)            (None, 122, 122, 32)      4736      \n",
            "_________________________________________________________________\n",
            "max_pooling2d_9 (MaxPooling2 (None, 61, 61, 32)        0         \n",
            "_________________________________________________________________\n",
            "conv2d_10 (Conv2D)           (None, 57, 57, 64)        51264     \n",
            "_________________________________________________________________\n",
            "max_pooling2d_10 (MaxPooling (None, 28, 28, 64)        0         \n",
            "_________________________________________________________________\n",
            "conv2d_11 (Conv2D)           (None, 26, 26, 128)       73856     \n",
            "_________________________________________________________________\n",
            "max_pooling2d_11 (MaxPooling (None, 13, 13, 128)       0         \n",
            "_________________________________________________________________\n",
            "conv2d_12 (Conv2D)           (None, 11, 11, 256)       295168    \n",
            "_________________________________________________________________\n",
            "max_pooling2d_12 (MaxPooling (None, 5, 5, 256)         0         \n",
            "_________________________________________________________________\n",
            "dropout_3 (Dropout)          (None, 5, 5, 256)         0         \n",
            "_________________________________________________________________\n",
            "flatten_3 (Flatten)          (None, 6400)              0         \n",
            "_________________________________________________________________\n",
            "dense_9 (Dense)              (None, 128)               819328    \n",
            "_________________________________________________________________\n",
            "dropout_4 (Dropout)          (None, 128)               0         \n",
            "_________________________________________________________________\n",
            "dense_10 (Dense)             (None, 256)               33024     \n",
            "_________________________________________________________________\n",
            "dense_11 (Dense)             (None, 256)               65792     \n",
            "_________________________________________________________________\n",
            "dropout_5 (Dropout)          (None, 256)               0         \n",
            "_________________________________________________________________\n",
            "dense_12 (Dense)             (None, 3)                 771       \n",
            "=================================================================\n",
            "Total params: 1,343,939\n",
            "Trainable params: 1,343,939\n",
            "Non-trainable params: 0\n",
            "_________________________________________________________________\n"
          ],
          "name": "stdout"
        }
      ]
    },
    {
      "cell_type": "code",
      "metadata": {
        "id": "HPBYRynEs7uw",
        "colab_type": "code",
        "colab": {
          "base_uri": "https://localhost:8080/",
          "height": 185
        },
        "outputId": "77e84d94-6e06-4bfa-9928-96abfc782e1a"
      },
      "source": [
        "# training model for trail 5\n",
        "model = classifier.fit_generator(training_set,\n",
        "                         steps_per_epoch=2000,\n",
        "                         epochs = 5,\n",
        "                          validation_data = valid_set,\n",
        "                          validation_steps=750)"
      ],
      "execution_count": null,
      "outputs": [
        {
          "output_type": "stream",
          "text": [
            "Epoch 1/5\n",
            "2000/2000 [==============================] - 330s 165ms/step - loss: 0.0872 - accuracy: 0.9609 - val_loss: 1.5494 - val_accuracy: 0.8833\n",
            "Epoch 2/5\n",
            "2000/2000 [==============================] - 322s 161ms/step - loss: 0.0111 - accuracy: 0.9969 - val_loss: 1.4612 - val_accuracy: 0.8667\n",
            "Epoch 3/5\n",
            "2000/2000 [==============================] - 321s 160ms/step - loss: 0.0081 - accuracy: 0.9978 - val_loss: 0.5318 - val_accuracy: 0.9333\n",
            "Epoch 4/5\n",
            "2000/2000 [==============================] - 320s 160ms/step - loss: 0.0075 - accuracy: 0.9985 - val_loss: 1.8278 - val_accuracy: 0.8833\n",
            "Epoch 5/5\n",
            "2000/2000 [==============================] - 320s 160ms/step - loss: 0.0069 - accuracy: 0.9983 - val_loss: 1.8089 - val_accuracy: 0.8500\n"
          ],
          "name": "stdout"
        }
      ]
    },
    {
      "cell_type": "code",
      "metadata": {
        "id": "4zQOIsIHvfUp",
        "colab_type": "code",
        "colab": {
          "base_uri": "https://localhost:8080/",
          "height": 655
        },
        "outputId": "75dc8c6c-22b1-4ff3-b4b8-c583630e2605"
      },
      "source": [
        "# trial 6\n",
        "from keras.models import Sequential\n",
        "from keras.layers import Conv2D\n",
        "from keras.layers import MaxPooling2D\n",
        "from keras.layers import Flatten\n",
        "from keras.layers import Dense,Dropout\n",
        "\n",
        "# Initialising the CNN\n",
        "classifier = Sequential()\n",
        "\n",
        "# Step 1 - Convolution\n",
        "classifier.add(Conv2D(32, (7, 7), input_shape = (128, 128, 3), activation = 'relu'))\n",
        "\n",
        "# Step 2 - Pooling\n",
        "classifier.add(MaxPooling2D(pool_size = (2, 2)))\n",
        "\n",
        "\n",
        "classifier.add(Conv2D(64, (5, 5), activation = 'relu'))\n",
        "classifier.add(MaxPooling2D(pool_size = (2, 2)))\n",
        "# classifier.add(Dropout(0.5))\n",
        "\n",
        "classifier.add(Conv2D(128, (3, 3), activation = 'relu'))\n",
        "classifier.add(MaxPooling2D(pool_size = (2, 2)))\n",
        "# classifier.add(Dropout(0.5))\n",
        "\n",
        "classifier.add(Conv2D(256, (3, 3), activation = 'relu'))\n",
        "classifier.add(MaxPooling2D(pool_size = (2, 2)))\n",
        "# classifier.add(Dropout(0.3))\n",
        "\n",
        "\n",
        "# Step 3 - Flattening\n",
        "classifier.add(Flatten())\n",
        "\n",
        "# Step 4 - Full connection\n",
        "classifier.add(Dense(units = 128, activation = 'relu'))\n",
        "# classifier.add(Dropout(0.3))\n",
        "classifier.add(Dense(units = 256, activation = 'relu'))\n",
        "# classifier.add(Dropout(0.25))\n",
        "classifier.add(Dense(units = 256, activation = 'relu'))\n",
        "classifier.add(Dropout(0.3))\n",
        "\n",
        "classifier.add(Dense(units=3, activation = 'softmax'))\n",
        "\n",
        "# Compiling the CNN\n",
        "classifier.compile(optimizer = 'adam', loss = 'categorical_crossentropy', metrics = ['accuracy'])\n",
        "\n",
        "# Part 2 - Fitting the CNN to the images\n",
        "\n",
        "from keras.preprocessing.image import ImageDataGenerator\n",
        "\n",
        "train_datagen = ImageDataGenerator(rescale = 1./255)\n",
        "valid_datagen = ImageDataGenerator(rescale = 1./255)\n",
        "\n",
        "training_set = train_datagen.flow_from_directory('/content/assign_3_data/train',\n",
        "                                                 target_size = (128, 128),\n",
        "                                                 batch_size = 64,\n",
        "                                                 class_mode = 'categorical')\n",
        "\n",
        "valid_set = valid_datagen.flow_from_directory('/content/assign_3_data/test',\n",
        "                                            target_size = (128, 128),\n",
        "                                            batch_size = 64,\n",
        "                                            class_mode = 'categorical')\n",
        "\n",
        "classifier.summary()\n",
        "\n"
      ],
      "execution_count": null,
      "outputs": [
        {
          "output_type": "stream",
          "text": [
            "Found 1920 images belonging to 3 classes.\n",
            "Found 60 images belonging to 3 classes.\n",
            "Model: \"sequential_4\"\n",
            "_________________________________________________________________\n",
            "Layer (type)                 Output Shape              Param #   \n",
            "=================================================================\n",
            "conv2d_13 (Conv2D)           (None, 122, 122, 32)      4736      \n",
            "_________________________________________________________________\n",
            "max_pooling2d_13 (MaxPooling (None, 61, 61, 32)        0         \n",
            "_________________________________________________________________\n",
            "conv2d_14 (Conv2D)           (None, 57, 57, 64)        51264     \n",
            "_________________________________________________________________\n",
            "max_pooling2d_14 (MaxPooling (None, 28, 28, 64)        0         \n",
            "_________________________________________________________________\n",
            "conv2d_15 (Conv2D)           (None, 26, 26, 128)       73856     \n",
            "_________________________________________________________________\n",
            "max_pooling2d_15 (MaxPooling (None, 13, 13, 128)       0         \n",
            "_________________________________________________________________\n",
            "conv2d_16 (Conv2D)           (None, 11, 11, 256)       295168    \n",
            "_________________________________________________________________\n",
            "max_pooling2d_16 (MaxPooling (None, 5, 5, 256)         0         \n",
            "_________________________________________________________________\n",
            "flatten_4 (Flatten)          (None, 6400)              0         \n",
            "_________________________________________________________________\n",
            "dense_13 (Dense)             (None, 128)               819328    \n",
            "_________________________________________________________________\n",
            "dense_14 (Dense)             (None, 256)               33024     \n",
            "_________________________________________________________________\n",
            "dense_15 (Dense)             (None, 256)               65792     \n",
            "_________________________________________________________________\n",
            "dropout_6 (Dropout)          (None, 256)               0         \n",
            "_________________________________________________________________\n",
            "dense_16 (Dense)             (None, 3)                 771       \n",
            "=================================================================\n",
            "Total params: 1,343,939\n",
            "Trainable params: 1,343,939\n",
            "Non-trainable params: 0\n",
            "_________________________________________________________________\n"
          ],
          "name": "stdout"
        }
      ]
    },
    {
      "cell_type": "code",
      "metadata": {
        "id": "S4kOCjInh2FB",
        "colab_type": "code",
        "colab": {
          "base_uri": "https://localhost:8080/",
          "height": 353
        },
        "outputId": "4269d3b5-ca9b-430c-e3f3-af7a491cf7f1"
      },
      "source": [
        "# training model for trail 6\n",
        "model = classifier.fit_generator(training_set,\n",
        "                         steps_per_epoch=2000,\n",
        "                         epochs = 10,\n",
        "                          validation_data = valid_set,\n",
        "                          validation_steps=1000)"
      ],
      "execution_count": null,
      "outputs": [
        {
          "output_type": "stream",
          "text": [
            "Epoch 1/10\n",
            "2000/2000 [==============================] - 351s 175ms/step - loss: 0.0565 - accuracy: 0.9746 - val_loss: 1.1808 - val_accuracy: 0.8667\n",
            "Epoch 2/10\n",
            "2000/2000 [==============================] - 348s 174ms/step - loss: 0.0017 - accuracy: 0.9994 - val_loss: 1.9507 - val_accuracy: 0.8833\n",
            "Epoch 3/10\n",
            "2000/2000 [==============================] - 346s 173ms/step - loss: 2.4087e-07 - accuracy: 1.0000 - val_loss: 1.9796 - val_accuracy: 0.9167\n",
            "Epoch 4/10\n",
            "2000/2000 [==============================] - 347s 173ms/step - loss: 1.1690e-07 - accuracy: 1.0000 - val_loss: 2.1598 - val_accuracy: 0.9000\n",
            "Epoch 5/10\n",
            "2000/2000 [==============================] - 348s 174ms/step - loss: 9.5580e-08 - accuracy: 1.0000 - val_loss: 2.3210 - val_accuracy: 0.9167\n",
            "Epoch 6/10\n",
            "2000/2000 [==============================] - 346s 173ms/step - loss: 2.0349e-09 - accuracy: 1.0000 - val_loss: 2.4159 - val_accuracy: 0.9167\n",
            "Epoch 7/10\n",
            "2000/2000 [==============================] - 352s 176ms/step - loss: 9.1176e-10 - accuracy: 1.0000 - val_loss: 2.3781 - val_accuracy: 0.9167\n",
            "Epoch 8/10\n",
            "2000/2000 [==============================] - 351s 176ms/step - loss: 0.0133 - accuracy: 0.9956 - val_loss: 2.3409 - val_accuracy: 0.9167\n",
            "Epoch 9/10\n",
            "2000/2000 [==============================] - 353s 176ms/step - loss: 1.6114e-07 - accuracy: 1.0000 - val_loss: 2.7449 - val_accuracy: 0.9167\n",
            "Epoch 10/10\n",
            "2000/2000 [==============================] - 346s 173ms/step - loss: 5.9010e-08 - accuracy: 1.0000 - val_loss: 2.8784 - val_accuracy: 0.9167\n"
          ],
          "name": "stdout"
        }
      ]
    },
    {
      "cell_type": "code",
      "metadata": {
        "id": "IqymyTJO3Ttu",
        "colab_type": "code",
        "colab": {
          "base_uri": "https://localhost:8080/",
          "height": 655
        },
        "outputId": "2448854d-0874-44d6-88d1-355c84a0dd35"
      },
      "source": [
        "# trial 7\n",
        "from keras.models import Sequential\n",
        "from keras.layers import Conv2D\n",
        "from keras.layers import MaxPooling2D\n",
        "from keras.layers import Flatten\n",
        "from keras.layers import Dense,Dropout\n",
        "\n",
        "# Initialising the CNN\n",
        "classifier = Sequential()\n",
        "\n",
        "# Step 1 - Convolution\n",
        "classifier.add(Conv2D(32, (7, 7), input_shape = (128, 128, 3), activation = 'relu'))\n",
        "\n",
        "# Step 2 - Pooling\n",
        "classifier.add(MaxPooling2D(pool_size = (2, 2)))\n",
        "\n",
        "\n",
        "classifier.add(Conv2D(64, (5, 5), activation = 'relu'))\n",
        "classifier.add(MaxPooling2D(pool_size = (2, 2)))\n",
        "# classifier.add(Dropout(0.5))\n",
        "\n",
        "classifier.add(Conv2D(128, (3, 3), activation = 'relu'))\n",
        "classifier.add(MaxPooling2D(pool_size = (2, 2)))\n",
        "# classifier.add(Dropout(0.5))\n",
        "\n",
        "classifier.add(Conv2D(256, (3, 3), activation = 'relu'))\n",
        "classifier.add(MaxPooling2D(pool_size = (2, 2)))\n",
        "# classifier.add(Dropout(0.3))\n",
        "\n",
        "\n",
        "# Step 3 - Flattening\n",
        "classifier.add(Flatten())\n",
        "\n",
        "# Step 4 - Full connection\n",
        "classifier.add(Dense(units = 128, activation = 'relu'))\n",
        "# classifier.add(Dropout(0.3))\n",
        "classifier.add(Dense(units = 256, activation = 'relu'))\n",
        "# classifier.add(Dropout(0.25))\n",
        "classifier.add(Dense(units = 256, activation = 'relu'))\n",
        "classifier.add(Dropout(0.3))\n",
        "\n",
        "classifier.add(Dense(units=3, activation = 'softmax'))\n",
        "\n",
        "# Compiling the CNN\n",
        "classifier.compile(optimizer = 'adam', loss = 'categorical_crossentropy', metrics = ['accuracy'])\n",
        "\n",
        "# Part 2 - Fitting the CNN to the images\n",
        "\n",
        "from keras.preprocessing.image import ImageDataGenerator\n",
        "\n",
        "train_datagen = ImageDataGenerator(rescale = 1./255)\n",
        "valid_datagen = ImageDataGenerator(rescale = 1./255)\n",
        "\n",
        "training_set = train_datagen.flow_from_directory('/content/assign_3_data/train',\n",
        "                                                 target_size = (128, 128),\n",
        "                                                 batch_size = 64,\n",
        "                                                 class_mode = 'categorical')\n",
        "\n",
        "valid_set = valid_datagen.flow_from_directory('/content/assign_3_data/test',\n",
        "                                            target_size = (128, 128),\n",
        "                                            batch_size = 64,\n",
        "                                            class_mode = 'categorical')\n",
        "\n",
        "classifier.summary()\n",
        "\n"
      ],
      "execution_count": null,
      "outputs": [
        {
          "output_type": "stream",
          "text": [
            "Found 1920 images belonging to 3 classes.\n",
            "Found 60 images belonging to 3 classes.\n",
            "Model: \"sequential_5\"\n",
            "_________________________________________________________________\n",
            "Layer (type)                 Output Shape              Param #   \n",
            "=================================================================\n",
            "conv2d_17 (Conv2D)           (None, 122, 122, 32)      4736      \n",
            "_________________________________________________________________\n",
            "max_pooling2d_17 (MaxPooling (None, 61, 61, 32)        0         \n",
            "_________________________________________________________________\n",
            "conv2d_18 (Conv2D)           (None, 57, 57, 64)        51264     \n",
            "_________________________________________________________________\n",
            "max_pooling2d_18 (MaxPooling (None, 28, 28, 64)        0         \n",
            "_________________________________________________________________\n",
            "conv2d_19 (Conv2D)           (None, 26, 26, 128)       73856     \n",
            "_________________________________________________________________\n",
            "max_pooling2d_19 (MaxPooling (None, 13, 13, 128)       0         \n",
            "_________________________________________________________________\n",
            "conv2d_20 (Conv2D)           (None, 11, 11, 256)       295168    \n",
            "_________________________________________________________________\n",
            "max_pooling2d_20 (MaxPooling (None, 5, 5, 256)         0         \n",
            "_________________________________________________________________\n",
            "flatten_5 (Flatten)          (None, 6400)              0         \n",
            "_________________________________________________________________\n",
            "dense_17 (Dense)             (None, 128)               819328    \n",
            "_________________________________________________________________\n",
            "dense_18 (Dense)             (None, 256)               33024     \n",
            "_________________________________________________________________\n",
            "dense_19 (Dense)             (None, 256)               65792     \n",
            "_________________________________________________________________\n",
            "dropout_7 (Dropout)          (None, 256)               0         \n",
            "_________________________________________________________________\n",
            "dense_20 (Dense)             (None, 3)                 771       \n",
            "=================================================================\n",
            "Total params: 1,343,939\n",
            "Trainable params: 1,343,939\n",
            "Non-trainable params: 0\n",
            "_________________________________________________________________\n"
          ],
          "name": "stdout"
        }
      ]
    },
    {
      "cell_type": "code",
      "metadata": {
        "id": "UcrzR9zjFUSc",
        "colab_type": "code",
        "colab": {
          "base_uri": "https://localhost:8080/",
          "height": 353
        },
        "outputId": "ffc90a73-e4ca-4904-9480-98bf05fe35cd"
      },
      "source": [
        "# training model for trail 7\n",
        "model = classifier.fit_generator(training_set,\n",
        "                         steps_per_epoch=4000,\n",
        "                         epochs = 10,\n",
        "                          validation_data = valid_set,\n",
        "                          validation_steps=2000)"
      ],
      "execution_count": null,
      "outputs": [
        {
          "output_type": "stream",
          "text": [
            "Epoch 1/10\n",
            "4000/4000 [==============================] - 705s 176ms/step - loss: 0.0236 - accuracy: 0.9894 - val_loss: 2.1343 - val_accuracy: 0.9167\n",
            "Epoch 2/10\n",
            "4000/4000 [==============================] - 733s 183ms/step - loss: 4.2702e-08 - accuracy: 1.0000 - val_loss: 2.1610 - val_accuracy: 0.9167\n",
            "Epoch 3/10\n",
            "4000/4000 [==============================] - 704s 176ms/step - loss: 5.5171e-09 - accuracy: 1.0000 - val_loss: 2.3948 - val_accuracy: 0.9167\n",
            "Epoch 4/10\n",
            "4000/4000 [==============================] - 698s 174ms/step - loss: 7.6275e-10 - accuracy: 1.0000 - val_loss: 2.5233 - val_accuracy: 0.9167\n",
            "Epoch 5/10\n",
            "4000/4000 [==============================] - 694s 174ms/step - loss: 2.1141e-10 - accuracy: 1.0000 - val_loss: 2.7736 - val_accuracy: 0.9167\n",
            "Epoch 6/10\n",
            "4000/4000 [==============================] - 707s 177ms/step - loss: 4.8894e-11 - accuracy: 1.0000 - val_loss: 2.8956 - val_accuracy: 0.9167\n",
            "Epoch 7/10\n",
            "4000/4000 [==============================] - 701s 175ms/step - loss: 1.1642e-11 - accuracy: 1.0000 - val_loss: 2.9192 - val_accuracy: 0.9000\n",
            "Epoch 8/10\n",
            "4000/4000 [==============================] - 725s 181ms/step - loss: 0.0167 - accuracy: 0.9941 - val_loss: 2.4209 - val_accuracy: 0.9000\n",
            "Epoch 9/10\n",
            "4000/4000 [==============================] - 705s 176ms/step - loss: 3.4359e-07 - accuracy: 1.0000 - val_loss: 2.7274 - val_accuracy: 0.9000\n",
            "Epoch 10/10\n",
            "4000/4000 [==============================] - 707s 177ms/step - loss: 3.4224e-08 - accuracy: 1.0000 - val_loss: 3.2339 - val_accuracy: 0.9167\n"
          ],
          "name": "stdout"
        }
      ]
    },
    {
      "cell_type": "code",
      "metadata": {
        "id": "nyqNFcS2FbZg",
        "colab_type": "code",
        "colab": {
          "base_uri": "https://localhost:8080/",
          "height": 739
        },
        "outputId": "bc02e2b8-562a-400d-ad19-24f68a5b4f8c"
      },
      "source": [
        "# trial 8\n",
        "from keras.models import Sequential\n",
        "from keras.layers import Conv2D\n",
        "from keras.layers import MaxPooling2D\n",
        "from keras.layers import Flatten\n",
        "from keras.layers import Dense,Dropout\n",
        "\n",
        "# Initialising the CNN\n",
        "classifier = Sequential()\n",
        "\n",
        "# Step 1 - Convolution\n",
        "classifier.add(Conv2D(32, (5, 5), input_shape = (128, 128, 3), activation = 'relu'))\n",
        "\n",
        "# Step 2 - Pooling\n",
        "classifier.add(MaxPooling2D(pool_size = (2, 2)))\n",
        "\n",
        "\n",
        "classifier.add(Conv2D(64, (5, 5), activation = 'relu'))\n",
        "classifier.add(MaxPooling2D(pool_size = (2, 2)))\n",
        "# classifier.add(Dropout(0.5))\n",
        "\n",
        "classifier.add(Conv2D(128, (3, 3), activation = 'relu'))\n",
        "classifier.add(MaxPooling2D(pool_size = (2, 2)))\n",
        "# classifier.add(Dropout(0.5))\n",
        "\n",
        "classifier.add(Conv2D(256, (3, 3), activation = 'relu'))\n",
        "classifier.add(MaxPooling2D(pool_size = (2, 2)))\n",
        "\n",
        "\n",
        "\n",
        "# Step 3 - Flattening\n",
        "classifier.add(Flatten())\n",
        "\n",
        "# Step 4 - Full connection\n",
        "classifier.add(Dense(units = 64, activation = 'relu'))\n",
        "# classifier.add(Dropout(0.3))\n",
        "classifier.add(Dense(units = 128, activation = 'relu'))\n",
        "# classifier.add(Dropout(0.25))\n",
        "classifier.add(Dense(units = 256, activation = 'relu'))\n",
        "classifier.add(Dropout(0.3))\n",
        "classifier.add(Dense(units = 256, activation = 'relu'))\n",
        "classifier.add(Dropout(0.3))\n",
        "\n",
        "classifier.add(Dense(units=3, activation = 'softmax'))\n",
        "\n",
        "# Compiling the CNN\n",
        "classifier.compile(optimizer = 'adam', loss = 'categorical_crossentropy', metrics = ['accuracy'])\n",
        "\n",
        "# Part 2 - Fitting the CNN to the images\n",
        "\n",
        "from keras.preprocessing.image import ImageDataGenerator\n",
        "\n",
        "train_datagen = ImageDataGenerator(rescale = 1./255)\n",
        "valid_datagen = ImageDataGenerator(rescale = 1./255)\n",
        "\n",
        "training_set = train_datagen.flow_from_directory('/content/assign_3_data/train',\n",
        "                                                 target_size = (128, 128),\n",
        "                                                 batch_size = 32,\n",
        "                                                 class_mode = 'categorical')\n",
        "\n",
        "valid_set = valid_datagen.flow_from_directory('/content/assign_3_data/test',\n",
        "                                            target_size = (128, 128),\n",
        "                                            batch_size = 32,\n",
        "                                            class_mode = 'categorical')\n",
        "\n",
        "classifier.summary()"
      ],
      "execution_count": 5,
      "outputs": [
        {
          "output_type": "stream",
          "text": [
            "Using TensorFlow backend.\n"
          ],
          "name": "stderr"
        },
        {
          "output_type": "stream",
          "text": [
            "Found 1920 images belonging to 3 classes.\n",
            "Found 60 images belonging to 3 classes.\n",
            "Model: \"sequential_1\"\n",
            "_________________________________________________________________\n",
            "Layer (type)                 Output Shape              Param #   \n",
            "=================================================================\n",
            "conv2d_1 (Conv2D)            (None, 124, 124, 32)      2432      \n",
            "_________________________________________________________________\n",
            "max_pooling2d_1 (MaxPooling2 (None, 62, 62, 32)        0         \n",
            "_________________________________________________________________\n",
            "conv2d_2 (Conv2D)            (None, 58, 58, 64)        51264     \n",
            "_________________________________________________________________\n",
            "max_pooling2d_2 (MaxPooling2 (None, 29, 29, 64)        0         \n",
            "_________________________________________________________________\n",
            "conv2d_3 (Conv2D)            (None, 27, 27, 128)       73856     \n",
            "_________________________________________________________________\n",
            "max_pooling2d_3 (MaxPooling2 (None, 13, 13, 128)       0         \n",
            "_________________________________________________________________\n",
            "conv2d_4 (Conv2D)            (None, 11, 11, 256)       295168    \n",
            "_________________________________________________________________\n",
            "max_pooling2d_4 (MaxPooling2 (None, 5, 5, 256)         0         \n",
            "_________________________________________________________________\n",
            "flatten_1 (Flatten)          (None, 6400)              0         \n",
            "_________________________________________________________________\n",
            "dense_1 (Dense)              (None, 64)                409664    \n",
            "_________________________________________________________________\n",
            "dense_2 (Dense)              (None, 128)               8320      \n",
            "_________________________________________________________________\n",
            "dense_3 (Dense)              (None, 256)               33024     \n",
            "_________________________________________________________________\n",
            "dropout_1 (Dropout)          (None, 256)               0         \n",
            "_________________________________________________________________\n",
            "dense_4 (Dense)              (None, 256)               65792     \n",
            "_________________________________________________________________\n",
            "dropout_2 (Dropout)          (None, 256)               0         \n",
            "_________________________________________________________________\n",
            "dense_5 (Dense)              (None, 3)                 771       \n",
            "=================================================================\n",
            "Total params: 940,291\n",
            "Trainable params: 940,291\n",
            "Non-trainable params: 0\n",
            "_________________________________________________________________\n"
          ],
          "name": "stdout"
        }
      ]
    },
    {
      "cell_type": "code",
      "metadata": {
        "id": "KI2ZPIhLhR0J",
        "colab_type": "code",
        "colab": {
          "base_uri": "https://localhost:8080/",
          "height": 823
        },
        "outputId": "5e9884e1-dbda-4bec-bd52-4f8e2628ce66"
      },
      "source": [
        "# training model for trail 8\n",
        "model = classifier.fit_generator(training_set,\n",
        "                         steps_per_epoch=8000,\n",
        "                         epochs = 50,\n",
        "                          validation_data = valid_set,\n",
        "                          validation_steps=2000)"
      ],
      "execution_count": null,
      "outputs": [
        {
          "output_type": "stream",
          "text": [
            "Epoch 1/50\n",
            "8000/8000 [==============================] - 623s 78ms/step - loss: 0.0482 - accuracy: 0.9750 - val_loss: 1.8322 - val_accuracy: 0.9167\n",
            "Epoch 2/50\n",
            "8000/8000 [==============================] - 622s 78ms/step - loss: 7.6253e-08 - accuracy: 1.0000 - val_loss: 0.9506 - val_accuracy: 0.9167\n",
            "Epoch 3/50\n",
            "8000/8000 [==============================] - 619s 77ms/step - loss: 0.0103 - accuracy: 0.9966 - val_loss: 0.1140 - val_accuracy: 0.9000\n",
            "Epoch 4/50\n",
            "8000/8000 [==============================] - 618s 77ms/step - loss: 3.1613e-06 - accuracy: 1.0000 - val_loss: 2.7250 - val_accuracy: 0.9167\n",
            "Epoch 5/50\n",
            "8000/8000 [==============================] - 617s 77ms/step - loss: 0.0051 - accuracy: 0.9984 - val_loss: 2.7285 - val_accuracy: 0.9333\n",
            "Epoch 6/50\n",
            "8000/8000 [==============================] - 619s 77ms/step - loss: 3.1105e-07 - accuracy: 1.0000 - val_loss: 8.8024 - val_accuracy: 0.9167\n",
            "Epoch 7/50\n",
            "8000/8000 [==============================] - 623s 78ms/step - loss: 0.0039 - accuracy: 0.9990 - val_loss: 5.1882 - val_accuracy: 0.9000\n",
            "Epoch 8/50\n",
            "8000/8000 [==============================] - 629s 79ms/step - loss: 0.0049 - accuracy: 0.9986 - val_loss: 16.4230 - val_accuracy: 0.9167\n",
            "Epoch 9/50\n",
            "8000/8000 [==============================] - 612s 77ms/step - loss: 2.9459e-08 - accuracy: 1.0000 - val_loss: 16.9634 - val_accuracy: 0.9167\n",
            "Epoch 10/50\n",
            "8000/8000 [==============================] - 617s 77ms/step - loss: 0.0097 - accuracy: 0.9980 - val_loss: 3.7737 - val_accuracy: 0.9167\n",
            "Epoch 11/50\n",
            "8000/8000 [==============================] - 650s 81ms/step - loss: 2.8605e-06 - accuracy: 1.0000 - val_loss: 5.6360 - val_accuracy: 0.9167\n",
            "Epoch 12/50\n",
            "8000/8000 [==============================] - 617s 77ms/step - loss: 0.0045 - accuracy: 0.9990 - val_loss: 1.0680 - val_accuracy: 0.9333\n",
            "Epoch 13/50\n",
            "8000/8000 [==============================] - 613s 77ms/step - loss: 0.0037 - accuracy: 0.9991 - val_loss: 4.3027 - val_accuracy: 0.9000\n",
            "Epoch 14/50\n",
            "8000/8000 [==============================] - 630s 79ms/step - loss: 0.0047 - accuracy: 0.9990 - val_loss: 0.0151 - val_accuracy: 0.9167\n",
            "Epoch 15/50\n",
            "8000/8000 [==============================] - 634s 79ms/step - loss: 0.0091 - accuracy: 0.9983 - val_loss: 2.2954 - val_accuracy: 0.8667\n",
            "Epoch 16/50\n",
            "8000/8000 [==============================] - 616s 77ms/step - loss: 1.0887e-04 - accuracy: 1.0000 - val_loss: 9.8739 - val_accuracy: 0.8833\n",
            "Epoch 17/50\n",
            "8000/8000 [==============================] - 612s 76ms/step - loss: 0.0049 - accuracy: 0.9993 - val_loss: 0.0000e+00 - val_accuracy: 0.9333\n",
            "Epoch 18/50\n",
            "8000/8000 [==============================] - 616s 77ms/step - loss: 0.0066 - accuracy: 0.9992 - val_loss: 6.1405 - val_accuracy: 0.9333\n",
            "Epoch 19/50\n",
            "8000/8000 [==============================] - 613s 77ms/step - loss: 2.4468e-06 - accuracy: 1.0000 - val_loss: 4.5963 - val_accuracy: 0.9333\n",
            "Epoch 20/50\n",
            "8000/8000 [==============================] - 613s 77ms/step - loss: 4.1291e-08 - accuracy: 1.0000 - val_loss: 15.7442 - val_accuracy: 0.9333\n",
            "Epoch 21/50\n",
            "8000/8000 [==============================] - 613s 77ms/step - loss: 0.0048 - accuracy: 0.9991 - val_loss: 9.7158 - val_accuracy: 0.9333\n",
            "Epoch 22/50\n",
            "8000/8000 [==============================] - 612s 77ms/step - loss: 0.0086 - accuracy: 0.9982 - val_loss: 0.2350 - val_accuracy: 0.9167\n",
            "Epoch 23/50\n",
            "8000/8000 [==============================] - 612s 76ms/step - loss: 0.0137 - accuracy: 0.9984 - val_loss: 0.8888 - val_accuracy: 0.9167\n",
            "Epoch 24/50\n",
            "5370/8000 [===================>..........] - ETA: 2:46 - loss: 5.9150e-04 - accuracy: 0.9998"
          ],
          "name": "stdout"
        }
      ]
    },
    {
      "cell_type": "code",
      "metadata": {
        "id": "yIBtxOpxhZFz",
        "colab_type": "code",
        "colab": {
          "base_uri": "https://localhost:8080/",
          "height": 118
        },
        "outputId": "e01681a6-7a84-454e-83bc-5b573dd701c4"
      },
      "source": [
        "# training model for trail 9\n",
        "model = classifier.fit_generator(training_set,\n",
        "                         steps_per_epoch=8000,\n",
        "                         epochs = 3,\n",
        "                          validation_data = valid_set,\n",
        "                          validation_steps=2000)"
      ],
      "execution_count": 6,
      "outputs": [
        {
          "output_type": "stream",
          "text": [
            "Epoch 1/3\n",
            "8000/8000 [==============================] - 921s 115ms/step - loss: 0.0250 - accuracy: 0.9890 - val_loss: 2.9831 - val_accuracy: 0.8833\n",
            "Epoch 2/3\n",
            "8000/8000 [==============================] - 907s 113ms/step - loss: 2.4794e-08 - accuracy: 1.0000 - val_loss: 3.9070 - val_accuracy: 0.8833\n",
            "Epoch 3/3\n",
            "8000/8000 [==============================] - 915s 114ms/step - loss: 0.0052 - accuracy: 0.9984 - val_loss: 4.1927 - val_accuracy: 0.9000\n"
          ],
          "name": "stdout"
        }
      ]
    },
    {
      "cell_type": "code",
      "metadata": {
        "id": "5_fz0z7sy_hv",
        "colab_type": "code",
        "colab": {
          "base_uri": "https://localhost:8080/",
          "height": 722
        },
        "outputId": "0b953375-483e-4546-a790-e253b2669060"
      },
      "source": [
        "# trial 10\n",
        "from keras.models import Sequential\n",
        "from keras.layers import Conv2D\n",
        "from keras.layers import MaxPooling2D\n",
        "from keras.layers import Flatten\n",
        "from keras.layers import Dense,Dropout\n",
        "\n",
        "# Initialising the CNN\n",
        "classifier = Sequential()\n",
        "\n",
        "# Step 1 - Convolution\n",
        "classifier.add(Conv2D(32, (5, 5), input_shape = (128, 128, 3), activation = 'relu'))\n",
        "\n",
        "# Step 2 - Pooling\n",
        "classifier.add(MaxPooling2D(pool_size = (2, 2)))\n",
        "\n",
        "\n",
        "classifier.add(Conv2D(64, (5, 5), activation = 'relu'))\n",
        "classifier.add(MaxPooling2D(pool_size = (2, 2)))\n",
        "# classifier.add(Dropout(0.5))\n",
        "\n",
        "classifier.add(Conv2D(128, (3, 3), activation = 'relu'))\n",
        "classifier.add(MaxPooling2D(pool_size = (2, 2)))\n",
        "classifier.add(Dropout(0.5))\n",
        "\n",
        "classifier.add(Conv2D(256, (3, 3), activation = 'relu'))\n",
        "classifier.add(MaxPooling2D(pool_size = (2, 2)))\n",
        "\n",
        "\n",
        "\n",
        "# Step 3 - Flattening\n",
        "classifier.add(Flatten())\n",
        "\n",
        "# Step 4 - Full connection\n",
        "classifier.add(Dense(units = 64, activation = 'relu'))\n",
        "# classifier.add(Dropout(0.3))\n",
        "classifier.add(Dense(units = 128, activation = 'relu'))\n",
        "classifier.add(Dropout(0.25))\n",
        "classifier.add(Dense(units = 256, activation = 'relu'))\n",
        "classifier.add(Dropout(0.3))\n",
        "\n",
        "classifier.add(Dense(units=3, activation = 'softmax'))\n",
        "\n",
        "# Compiling the CNN\n",
        "classifier.compile(optimizer = 'adam', loss = 'categorical_crossentropy', metrics = ['accuracy'])\n",
        "\n",
        "# Part 2 - Fitting the CNN to the images\n",
        "\n",
        "from keras.preprocessing.image import ImageDataGenerator\n",
        "\n",
        "train_datagen = ImageDataGenerator(rescale = 1./255)\n",
        "valid_datagen = ImageDataGenerator(rescale = 1./255)\n",
        "\n",
        "training_set = train_datagen.flow_from_directory('/content/assign_3_data/train',\n",
        "                                                 target_size = (128, 128),\n",
        "                                                 batch_size = 16,\n",
        "                                                 class_mode = 'categorical')\n",
        "\n",
        "valid_set = valid_datagen.flow_from_directory('/content/assign_3_data/test',\n",
        "                                            target_size = (128, 128),\n",
        "                                            batch_size = 16,\n",
        "                                            class_mode = 'categorical')\n",
        "\n",
        "classifier.summary()"
      ],
      "execution_count": 15,
      "outputs": [
        {
          "output_type": "stream",
          "text": [
            "Found 1920 images belonging to 3 classes.\n",
            "Found 60 images belonging to 3 classes.\n",
            "Model: \"sequential_6\"\n",
            "_________________________________________________________________\n",
            "Layer (type)                 Output Shape              Param #   \n",
            "=================================================================\n",
            "conv2d_21 (Conv2D)           (None, 124, 124, 32)      2432      \n",
            "_________________________________________________________________\n",
            "max_pooling2d_21 (MaxPooling (None, 62, 62, 32)        0         \n",
            "_________________________________________________________________\n",
            "conv2d_22 (Conv2D)           (None, 58, 58, 64)        51264     \n",
            "_________________________________________________________________\n",
            "max_pooling2d_22 (MaxPooling (None, 29, 29, 64)        0         \n",
            "_________________________________________________________________\n",
            "conv2d_23 (Conv2D)           (None, 27, 27, 128)       73856     \n",
            "_________________________________________________________________\n",
            "max_pooling2d_23 (MaxPooling (None, 13, 13, 128)       0         \n",
            "_________________________________________________________________\n",
            "dropout_11 (Dropout)         (None, 13, 13, 128)       0         \n",
            "_________________________________________________________________\n",
            "conv2d_24 (Conv2D)           (None, 11, 11, 256)       295168    \n",
            "_________________________________________________________________\n",
            "max_pooling2d_24 (MaxPooling (None, 5, 5, 256)         0         \n",
            "_________________________________________________________________\n",
            "flatten_6 (Flatten)          (None, 6400)              0         \n",
            "_________________________________________________________________\n",
            "dense_22 (Dense)             (None, 64)                409664    \n",
            "_________________________________________________________________\n",
            "dense_23 (Dense)             (None, 128)               8320      \n",
            "_________________________________________________________________\n",
            "dropout_12 (Dropout)         (None, 128)               0         \n",
            "_________________________________________________________________\n",
            "dense_24 (Dense)             (None, 256)               33024     \n",
            "_________________________________________________________________\n",
            "dropout_13 (Dropout)         (None, 256)               0         \n",
            "_________________________________________________________________\n",
            "dense_25 (Dense)             (None, 3)                 771       \n",
            "=================================================================\n",
            "Total params: 874,499\n",
            "Trainable params: 874,499\n",
            "Non-trainable params: 0\n",
            "_________________________________________________________________\n"
          ],
          "name": "stdout"
        }
      ]
    },
    {
      "cell_type": "code",
      "metadata": {
        "id": "fm8mk4p0-Ztu",
        "colab_type": "code",
        "colab": {
          "base_uri": "https://localhost:8080/",
          "height": 118
        },
        "outputId": "17f4dc65-6378-42f5-b39f-c5d0bd4ae04e"
      },
      "source": [
        "# training model for trail 10\n",
        "model = classifier.fit_generator(training_set,\n",
        "                         steps_per_epoch=1200,\n",
        "                         epochs = 3,\n",
        "                          validation_data = valid_set,\n",
        "                          validation_steps=400)"
      ],
      "execution_count": 16,
      "outputs": [
        {
          "output_type": "stream",
          "text": [
            "Epoch 1/3\n",
            "1200/1200 [==============================] - 76s 63ms/step - loss: 0.3560 - accuracy: 0.8262 - val_loss: 0.3460 - val_accuracy: 0.8667\n",
            "Epoch 2/3\n",
            "1200/1200 [==============================] - 75s 62ms/step - loss: 0.0399 - accuracy: 0.9869 - val_loss: 0.9671 - val_accuracy: 0.8500\n",
            "Epoch 3/3\n",
            "1200/1200 [==============================] - 75s 62ms/step - loss: 0.0188 - accuracy: 0.9946 - val_loss: 1.3773 - val_accuracy: 0.8500\n"
          ],
          "name": "stdout"
        }
      ]
    },
    {
      "cell_type": "code",
      "metadata": {
        "id": "A5A2lhJr-m2J",
        "colab_type": "code",
        "colab": {}
      },
      "source": [
        ""
      ],
      "execution_count": null,
      "outputs": []
    }
  ]
}