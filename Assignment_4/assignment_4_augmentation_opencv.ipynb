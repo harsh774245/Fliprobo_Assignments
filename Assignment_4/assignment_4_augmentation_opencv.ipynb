{
 "cells": [
  {
   "cell_type": "code",
   "execution_count": 1,
   "metadata": {},
   "outputs": [],
   "source": [
    "import glob \n",
    "import cv2\n",
    "import sys\n",
    "import os\n",
    "import numpy as np"
   ]
  },
  {
   "cell_type": "code",
   "execution_count": 29,
   "metadata": {},
   "outputs": [],
   "source": [
    "# # rotation acw\n",
    "# filename = \"D:/assign_3_data/train/sarees\"\n",
    "# # os.makedirs('D:/assign_3_data/aug/sarees_aug')\n",
    "# for img in glob.glob(filename+'/*.*'):\n",
    "#     var_img = cv2.imread(img)\n",
    "#     img_name=os.path.basename(img)\n",
    "#     img_name_final=os.path.splitext(img_name)\n",
    "# #     print(img_name_final[0])\n",
    "# #     cv2.imshow(img_name , var_img)\n",
    "# #     cv2.waitKey(0)\n",
    "# #     cv2.destroyAllWindows()\n",
    "#     h,w=var_img.shape[:2]\n",
    "#     rot_mat=cv2.getRotationMatrix2D((w/2,h/2),30,0.6)\n",
    "#     rot_acw=cv2.warpAffine(var_img,rot_mat,(w,h))\n",
    "# #     cv2.imshow('Rotated' , rot_acw)\n",
    "# #     cv2.waitKey(0)\n",
    "# #     cv2.destroyAllWindows()\n",
    "#     file=\"D:/assign_3_data/aug/sarees_aug/\"+img_name_final[0]+\"_rot_acw.jpg\"\n",
    "#     cv2.imwrite(file,rot_acw)"
   ]
  },
  {
   "cell_type": "code",
   "execution_count": 30,
   "metadata": {},
   "outputs": [],
   "source": [
    "# #rotation cw\n",
    "# filename = \"D:/assign_3_data/train/sarees\"\n",
    "# # os.mkdir('D:/assign_3_data/sarees_test_aug')\n",
    "# for img in glob.glob(filename+'/*.*'):\n",
    "#     var_img = cv2.imread(img)\n",
    "#     img_name=os.path.basename(img)\n",
    "#     img_name_final=os.path.splitext(img_name)\n",
    "# #     print(img_name_final[0])\n",
    "# #     cv2.imshow(img_name , var_img)\n",
    "# #     cv2.waitKey(0)\n",
    "# #     cv2.destroyAllWindows()\n",
    "#     h,w=var_img.shape[:2]\n",
    "#     rot_mat=cv2.getRotationMatrix2D((w/2,h/2),-30,0.6)\n",
    "#     rot_cw=cv2.warpAffine(var_img,rot_mat,(w,h))\n",
    "# #     cv2.imshow('Rotated' , rot_cw)\n",
    "# #     cv2.waitKey(0)\n",
    "# #     cv2.destroyAllWindows()\n",
    "#     file=\"D:/assign_3_data/aug/sarees_aug/\"+img_name_final[0]+\"_rot_cw.jpg\"\n",
    "#     cv2.imwrite(file,rot_cw)"
   ]
  },
  {
   "cell_type": "code",
   "execution_count": 18,
   "metadata": {},
   "outputs": [],
   "source": [
    "# brightness inc\n",
    "import cv2\n",
    "import numpy as np\n",
    "filename = \"D:/assign_3_data/train/sarees_test\"\n",
    "# os.mkdir('D:/assign_3_data/sarees_test_aug')\n",
    "for img in glob.glob(filename+'/*.*'):\n",
    "    var_img = cv2.imread(img)\n",
    "    img_name=os.path.basename(img)\n",
    "    img_name_final=os.path.splitext(img_name)\n",
    "    m=np.ones(var_img.shape,dtype='uint8')*100\n",
    "    added=cv2.add(var_img,m)\n",
    "    cv2.imshow('Bright_inc' , added)\n",
    "    cv2.waitKey(0)\n",
    "    cv2.destroyAllWindows()\n",
    "#     file=\"D:/assign_3_data/aug/sarees_aug/\"+img_name_final[0]+\"_bright_inc.jpg\"\n",
    "#     cv2.imwrite(file,added)"
   ]
  },
  {
   "cell_type": "code",
   "execution_count": 19,
   "metadata": {},
   "outputs": [],
   "source": [
    "# brightness dec\n",
    "filename = \"D:/assign_3_data/train/sarees_test\"\n",
    "# os.mkdir('D:/assign_3_data/sarees_test_aug')\n",
    "for img in glob.glob(filename+'/*.*'):\n",
    "    var_img = cv2.imread(img)\n",
    "    img_name=os.path.basename(img)\n",
    "    img_name_final=os.path.splitext(img_name)\n",
    "    m=np.ones(var_img.shape,dtype='uint8')*100\n",
    "    subtract=cv2.subtract(var_img,m)\n",
    "    cv2.imshow('Bright_inc' , subtract)\n",
    "    cv2.waitKey(0)\n",
    "    cv2.destroyAllWindows()\n",
    "#     file=\"D:/assign_3_data/aug/sarees_aug/\"+img_name_final[0]+\"_bright_dec.jpg\"\n",
    "#     cv2.imwrite(file,subtract)"
   ]
  },
  {
   "cell_type": "code",
   "execution_count": 33,
   "metadata": {},
   "outputs": [],
   "source": [
    "# # flip horizontally\n",
    "# filename = \"D:/assign_3_data/train/sarees\"\n",
    "# # os.mkdir('D:/assign_3_data/sarees_test_aug')\n",
    "# for img in glob.glob(filename+'/*.*'):\n",
    "#     var_img = cv2.imread(img)\n",
    "#     img_name=os.path.basename(img)\n",
    "#     img_name_final=os.path.splitext(img_name)\n",
    "#     fliph=cv2.flip(var_img,1)\n",
    "# #     cv2.imshow('flipped' , fliph)\n",
    "# #     cv2.waitKey(0)\n",
    "# #     cv2.destroyAllWindows()\n",
    "#     file=\"D:/assign_3_data/aug/sarees_aug/\"+img_name_final[0]+\"_bright_fliph.jpg\"\n",
    "#     cv2.imwrite(file,fliph)"
   ]
  },
  {
   "cell_type": "code",
   "execution_count": 34,
   "metadata": {},
   "outputs": [],
   "source": [
    "# # Sharpening\n",
    "# filename = \"D:/assign_3_data/train/sarees\"\n",
    "# # os.mkdir('D:/assign_3_data/sarees_test_aug')\n",
    "# for img in glob.glob(filename+'/*.*'):\n",
    "#     var_img = cv2.imread(img)\n",
    "#     img_name=os.path.basename(img)\n",
    "#     img_name_final=os.path.splitext(img_name)\n",
    "#     kernel = np.array([[-1,-1,-1],\n",
    "#                        [-1,9,-1],\n",
    "#                        [-1,-1,-1]])\n",
    "#     sharp=cv2.filter2D(var_img,-1,kernel)\n",
    "# #     cv2.imshow('sharp' , sharp)\n",
    "# #     cv2.waitKey(0)\n",
    "# #     cv2.destroyAllWindows()\n",
    "#     file=\"D:/assign_3_data/aug/sarees_aug/\"+img_name_final[0]+\"_sharp.jpg\"\n",
    "#     cv2.imwrite(file,sharp)"
   ]
  },
  {
   "cell_type": "code",
   "execution_count": 35,
   "metadata": {},
   "outputs": [],
   "source": [
    "# # blurring\n",
    "# filename = \"D:/assign_3_data/train/sarees\"\n",
    "# # os.mkdir('D:/assign_3_data/sarees_test_aug')\n",
    "# for img in glob.glob(filename+'/*.*'):\n",
    "#     var_img = cv2.imread(img)\n",
    "#     img_name=os.path.basename(img)\n",
    "#     img_name_final=os.path.splitext(img_name)\n",
    "#     blur=cv2.medianBlur(var_img,5)\n",
    "# #     cv2.imshow('sharp' , blur)\n",
    "# #     cv2.waitKey(0)\n",
    "# #     cv2.destroyAllWindows()\n",
    "#     file=\"D:/assign_3_data/train/sarees/\"+img_name_final[0]+\"_blur2.jpg\"\n",
    "#     cv2.imwrite(file,blur)"
   ]
  },
  {
   "cell_type": "code",
   "execution_count": null,
   "metadata": {},
   "outputs": [],
   "source": [
    "import numpy as np\n",
    "import os\n",
    "import cv2\n",
    "def noisy(noise_typ,image):\n",
    "   if noise_typ == \"gauss\":\n",
    "      row,col,ch= image.shape\n",
    "      mean = 0\n",
    "      var = 0.1\n",
    "      sigma = var**0.5\n",
    "      gauss = np.random.normal(mean,sigma,(row,col,ch))\n",
    "      gauss = gauss.reshape(row,col,ch)\n",
    "      noisy = image + gauss"
   ]
  },
  {
   "cell_type": "code",
   "execution_count": 37,
   "metadata": {},
   "outputs": [],
   "source": [
    "# add random noise to the data\n",
    "filename = \"D:/assign_3_data/train/sarees_test\"\n",
    "# os.mkdir('D:/assign_3_data/sarees_test_aug')\n",
    "for img in glob.glob(filename+'/*.*'):\n",
    "    var_img = cv2.imread(img)\n",
    "    img_name=os.path.basename(img)\n",
    "    img_name_final=os.path.splitext(img_name)\n",
    "    row,col,ch= var_img.shape\n",
    "    mean = 0\n",
    "    var = 0.1\n",
    "    sigma = var**0.5\n",
    "    gauss = np.random.normal(mean,sigma,(row,col,ch))\n",
    "    gauss = gauss.reshape(row,col,ch)\n",
    "    noisy = var_img + gauss\n",
    "    cv2.imshow('Noise' , noisy)\n",
    "    cv2.waitKey(0)\n",
    "    cv2.destroyAllWindows()"
   ]
  },
  {
   "cell_type": "code",
   "execution_count": 24,
   "metadata": {},
   "outputs": [],
   "source": [
    "# scaling images\n",
    "filename = \"D:/assign_3_data/train/sarees_test\"\n",
    "# os.mkdir('D:/assign_3_data/sarees_test_aug')\n",
    "for img in glob.glob(filename+'/*.*'):\n",
    "    var_img = cv2.imread(img)\n",
    "    img_name=os.path.basename(img)\n",
    "    img_name_final=os.path.splitext(img_name)\n",
    "    img_scaled=cv2.resize(var_img,(200,200),interpolation=cv2.INTER_AREA)\n",
    "    cv2.imshow('Scaled' , img_scaled)\n",
    "    cv2.waitKey(0)\n",
    "    cv2.destroyAllWindows()\n",
    "#     file=\"D:/assign_3_data/aug/sarees_aug/\"+img_name_final[0]+\"_bright_dec.jpg\"\n",
    "#     cv2.imwrite(file,subtract)"
   ]
  },
  {
   "cell_type": "code",
   "execution_count": 2,
   "metadata": {},
   "outputs": [],
   "source": [
    "def rotation_30(folder):\n",
    "    filename = \"D:/assign_3_data/train/\"+folder\n",
    "    for img in glob.glob(filename+'/*.*'):\n",
    "        var_img = cv2.imread(img)\n",
    "        img_name=os.path.basename(img)\n",
    "        img_name_final=os.path.splitext(img_name)\n",
    "        h,w=var_img.shape[:2]\n",
    "        rot_mat=cv2.getRotationMatrix2D((w/2,h/2),30,0.6)\n",
    "        rot_30=cv2.warpAffine(var_img,rot_mat,(w,h))\n",
    "        file=\"D:/assign_3_data/aug/\"+folder+\"_aug/\"+img_name_final[0]+\"_rot_30.jpg\"\n",
    "        cv2.imwrite(file,rot_30)"
   ]
  },
  {
   "cell_type": "code",
   "execution_count": 14,
   "metadata": {},
   "outputs": [],
   "source": [
    "def rotation_15(folder):\n",
    "    filename = \"D:/assign_3_data/train/\"+folder\n",
    "    for img in glob.glob(filename+'/*.*'):\n",
    "        var_img = cv2.imread(img)\n",
    "        img_name=os.path.basename(img)\n",
    "        img_name_final=os.path.splitext(img_name)\n",
    "        h,w=var_img.shape[:2]\n",
    "        rot_mat=cv2.getRotationMatrix2D((w/2,h/2),15,0.75)\n",
    "        rot_15=cv2.warpAffine(var_img,rot_mat,(w,h))\n",
    "        file=\"D:/assign_3_data/aug/\"+folder+\"_aug/\"+img_name_final[0]+\"_rot_15.jpg\"\n",
    "        cv2.imwrite(file,rot_15)"
   ]
  },
  {
   "cell_type": "code",
   "execution_count": 15,
   "metadata": {},
   "outputs": [],
   "source": [
    "def rotation_15b(folder):\n",
    "    filename = \"D:/assign_3_data/train/\"+folder\n",
    "    for img in glob.glob(filename+'/*.*'):\n",
    "        var_img = cv2.imread(img)\n",
    "        img_name=os.path.basename(img)\n",
    "        img_name_final=os.path.splitext(img_name)\n",
    "        h,w=var_img.shape[:2]\n",
    "        rot_mat=cv2.getRotationMatrix2D((w/2,h/2),-15,0.75)\n",
    "        rot_15b=cv2.warpAffine(var_img,rot_mat,(w,h))\n",
    "        file=\"D:/assign_3_data/aug/\"+folder+\"_aug/\"+img_name_final[0]+\"_rot_15b.jpg\"\n",
    "        cv2.imwrite(file,rot_15b)"
   ]
  },
  {
   "cell_type": "code",
   "execution_count": 3,
   "metadata": {},
   "outputs": [],
   "source": [
    "def rotation_30b(folder):\n",
    "    filename = \"D:/assign_3_data/train/\"+folder\n",
    "    for img in glob.glob(filename+'/*.*'):\n",
    "        var_img = cv2.imread(img)\n",
    "        img_name=os.path.basename(img)\n",
    "        img_name_final=os.path.splitext(img_name)\n",
    "        h,w=var_img.shape[:2]\n",
    "        rot_mat=cv2.getRotationMatrix2D((w/2,h/2),-30,0.6)\n",
    "        rot_30b=cv2.warpAffine(var_img,rot_mat,(w,h))\n",
    "        file=\"D:/assign_3_data/aug/\"+folder+\"_aug/\"+img_name_final[0]+\"_rot_30b.jpg\"\n",
    "        cv2.imwrite(file,rot_30b)"
   ]
  },
  {
   "cell_type": "code",
   "execution_count": 20,
   "metadata": {},
   "outputs": [],
   "source": [
    "def brightness_inc(folder):\n",
    "    filename = \"D:/assign_3_data/train/\"+folder\n",
    "    for img in glob.glob(filename+'/*.*'):\n",
    "        var_img = cv2.imread(img)\n",
    "        img_name=os.path.basename(img)\n",
    "        img_name_final=os.path.splitext(img_name)\n",
    "        m=np.ones(var_img.shape,dtype='uint8')*100\n",
    "        added=cv2.add(var_img,m)\n",
    "        file=\"D:/assign_3_data/aug/\"+folder+\"_aug/\"+img_name_final[0]+\"_bright_inc.jpg\"\n",
    "        cv2.imwrite(file,added)"
   ]
  },
  {
   "cell_type": "code",
   "execution_count": 21,
   "metadata": {},
   "outputs": [],
   "source": [
    "def brightness_dec(folder):\n",
    "    filename = \"D:/assign_3_data/train/\"+folder\n",
    "    for img in glob.glob(filename+'/*.*'):\n",
    "        var_img = cv2.imread(img)\n",
    "        img_name=os.path.basename(img)\n",
    "        img_name_final=os.path.splitext(img_name)\n",
    "        m=np.ones(var_img.shape,dtype='uint8')*100\n",
    "        subtract=cv2.subtract(var_img,m)\n",
    "        file=\"D:/assign_3_data/aug/\"+folder+\"_aug/\"+img_name_final[0]+\"_bright_dec.jpg\"\n",
    "        cv2.imwrite(file,subtract)"
   ]
  },
  {
   "cell_type": "code",
   "execution_count": 9,
   "metadata": {},
   "outputs": [],
   "source": [
    "def flip(folder):\n",
    "    filename = \"D:/assign_3_data/train/\"+folder\n",
    "    for img in glob.glob(filename+'/*.*'):\n",
    "        var_img = cv2.imread(img)\n",
    "        img_name=os.path.basename(img)\n",
    "        img_name_final=os.path.splitext(img_name)\n",
    "        fliph=cv2.flip(var_img,1)\n",
    "        file=\"D:/assign_3_data/aug/\"+folder+\"_aug/\"+img_name_final[0]+\"_fliph.jpg\"\n",
    "        cv2.imwrite(file,fliph)"
   ]
  },
  {
   "cell_type": "code",
   "execution_count": 10,
   "metadata": {},
   "outputs": [],
   "source": [
    "def sharpening(folder):\n",
    "    filename = \"D:/assign_3_data/train/\"+folder\n",
    "    for img in glob.glob(filename+'/*.*'):\n",
    "        var_img = cv2.imread(img)\n",
    "        img_name=os.path.basename(img)\n",
    "        img_name_final=os.path.splitext(img_name)\n",
    "        kernel = np.array([[-1,-1,-1],\n",
    "                           [-1,9,-1],\n",
    "                           [-1,-1,-1]])\n",
    "        sharp=cv2.filter2D(var_img,-1,kernel)\n",
    "        file=\"D:/assign_3_data/aug/\"+folder+\"_aug/\"+img_name_final[0]+\"_sharp.jpg\"\n",
    "        cv2.imwrite(file,sharp)"
   ]
  },
  {
   "cell_type": "code",
   "execution_count": 38,
   "metadata": {},
   "outputs": [],
   "source": [
    "def sharpeningb(folder):\n",
    "    filename = \"D:/assign_3_data/train/\"+folder\n",
    "    for img in glob.glob(filename+'/*.*'):\n",
    "        var_img = cv2.imread(img)\n",
    "        img_name=os.path.basename(img)\n",
    "        img_name_final=os.path.splitext(img_name)\n",
    "        kernel = np.array([[0,-1,0],\n",
    "                           [-1,5,-1],\n",
    "                           [0,-1,0]])\n",
    "        sharpb=cv2.filter2D(var_img,-1,kernel)\n",
    "        file=\"D:/assign_3_data/aug/\"+folder+\"_aug/\"+img_name_final[0]+\"_sharp_b.jpg\"\n",
    "        cv2.imwrite(file,sharpb)"
   ]
  },
  {
   "cell_type": "code",
   "execution_count": 11,
   "metadata": {},
   "outputs": [],
   "source": [
    "def blurring(folder):\n",
    "    filename = \"D:/assign_3_data/train/\"+folder\n",
    "    for img in glob.glob(filename+'/*.*'):\n",
    "        var_img = cv2.imread(img)\n",
    "        img_name=os.path.basename(img)\n",
    "        img_name_final=os.path.splitext(img_name)\n",
    "        blur=cv2.GaussianBlur(var_img,(5,5),0)\n",
    "        file=\"D:/assign_3_data/aug/\"+folder+\"_aug/\"+img_name_final[0]+\"_blur.jpg\"\n",
    "        cv2.imwrite(file,blur)"
   ]
  },
  {
   "cell_type": "code",
   "execution_count": 25,
   "metadata": {},
   "outputs": [],
   "source": [
    "def scaling(folder):\n",
    "    filename = \"D:/assign_3_data/train/\"+folder\n",
    "    for img in glob.glob(filename+'/*.*'):\n",
    "        var_img = cv2.imread(img)\n",
    "        img_name=os.path.basename(img)\n",
    "        img_name_final=os.path.splitext(img_name)\n",
    "        scaled=cv2.resize(var_img,(200,200),interpolation=cv2.INTER_AREA)\n",
    "        file=\"D:/assign_3_data/aug/\"+folder+\"_aug/\"+img_name_final[0]+\"scaled.jpg\"\n",
    "        cv2.imwrite(file,scaled)"
   ]
  },
  {
   "cell_type": "code",
   "execution_count": 27,
   "metadata": {},
   "outputs": [],
   "source": [
    "# rotation('sarees')\n",
    "# rotation_cw('sarees')\n",
    "# brightness_inc('sarees')\n",
    "# brightness_dec('sarees')\n",
    "# flip('sarees')\n",
    "# sharpening('sarees')\n",
    "# blurring('sarees')"
   ]
  },
  {
   "cell_type": "code",
   "execution_count": null,
   "metadata": {},
   "outputs": [],
   "source": []
  },
  {
   "cell_type": "code",
   "execution_count": 39,
   "metadata": {},
   "outputs": [],
   "source": [
    "for i in ['sarees','shirts','tshirts']:\n",
    "    rotation_30(i)\n",
    "    rotation_30b(i)\n",
    "    rotation_15(i)\n",
    "    rotation_15b(i)\n",
    "    brightness_inc(i)\n",
    "    brightness_dec(i)\n",
    "    flip(i)\n",
    "    sharpening(i)\n",
    "    sharpeningb(i)\n",
    "    blurring(i)\n",
    "    scaling(i)"
   ]
  },
  {
   "cell_type": "code",
   "execution_count": null,
   "metadata": {},
   "outputs": [],
   "source": []
  }
 ],
 "metadata": {
  "kernelspec": {
   "display_name": "Python 3",
   "language": "python",
   "name": "python3"
  },
  "language_info": {
   "codemirror_mode": {
    "name": "ipython",
    "version": 3
   },
   "file_extension": ".py",
   "mimetype": "text/x-python",
   "name": "python",
   "nbconvert_exporter": "python",
   "pygments_lexer": "ipython3",
   "version": "3.7.7"
  }
 },
 "nbformat": 4,
 "nbformat_minor": 4
}
