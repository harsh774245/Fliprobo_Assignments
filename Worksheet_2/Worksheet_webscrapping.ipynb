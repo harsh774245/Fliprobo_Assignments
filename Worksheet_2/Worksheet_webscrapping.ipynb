{
  "nbformat": 4,
  "nbformat_minor": 0,
  "metadata": {
    "colab": {
      "name": "Worksheet_webscrapping.ipynb",
      "provenance": []
    },
    "kernelspec": {
      "name": "python3",
      "display_name": "Python 3"
    }
  },
  "cells": [
    {
      "cell_type": "code",
      "metadata": {
        "id": "Ctwjt9CEo8Wx",
        "colab_type": "code",
        "colab": {
          "base_uri": "https://localhost:8080/",
          "height": 51
        },
        "outputId": "6d813b79-8c7e-4302-b9b4-f87bdb71ff7f"
      },
      "source": [
        "from bs4 import BeautifulSoup\n",
        "import requests\n",
        "import urllib.request\n",
        "def title(url):\n",
        "  res = requests.get(url=url)\n",
        "  soup = BeautifulSoup(res.content, 'html.parser')\n",
        "  try:\n",
        "    title=soup.find('title')\n",
        "  except AttributeError as e:\n",
        "    return None\n",
        "\n",
        "  return title.string\n",
        "\n",
        "url= 'https://en.wikipedia.org/wiki/Child_labour'\n",
        "check = title(url)\n",
        "if check == None:\n",
        "    print ('Title not found')\n",
        "else:\n",
        "    print('Title found')\n",
        "    print (check)"
      ],
      "execution_count": 37,
      "outputs": [
        {
          "output_type": "stream",
          "text": [
            "Title found\n",
            "Child labour - Wikipedia\n"
          ],
          "name": "stdout"
        }
      ]
    },
    {
      "cell_type": "code",
      "metadata": {
        "id": "eN9qrbf4qKOM",
        "colab_type": "code",
        "colab": {}
      },
      "source": [
        "from bs4 import BeautifulSoup\n",
        "import requests\n",
        "import urllib.request\n",
        "from urllib.request import urlopen\n",
        "url = 'https://images.google.com/'\n",
        "# html=urlopen(url)\n",
        "res = requests.get(url=url)\n",
        "soup = BeautifulSoup(res.content, 'html.parser')\n",
        "\n",
        "search_button=soup.find('div',{'class':'FAuhyb'})\n",
        "search_bar=soup.find('input',{'class':'gLFyf gsfi'})"
      ],
      "execution_count": 17,
      "outputs": []
    },
    {
      "cell_type": "code",
      "metadata": {
        "id": "GwizU8gLrNiY",
        "colab_type": "code",
        "colab": {}
      },
      "source": [
        ""
      ],
      "execution_count": 18,
      "outputs": []
    },
    {
      "cell_type": "code",
      "metadata": {
        "id": "Av5YXNb3uTVc",
        "colab_type": "code",
        "colab": {}
      },
      "source": [
        ""
      ],
      "execution_count": 18,
      "outputs": []
    },
    {
      "cell_type": "code",
      "metadata": {
        "id": "tXK1b47Bvb_x",
        "colab_type": "code",
        "colab": {}
      },
      "source": [
        ""
      ],
      "execution_count": 18,
      "outputs": []
    },
    {
      "cell_type": "code",
      "metadata": {
        "id": "r3ulEe9AwCIq",
        "colab_type": "code",
        "colab": {}
      },
      "source": [
        ""
      ],
      "execution_count": null,
      "outputs": []
    }
  ]
}