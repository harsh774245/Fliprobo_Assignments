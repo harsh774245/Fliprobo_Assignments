{
 "cells": [
  {
   "cell_type": "code",
   "execution_count": 1,
   "metadata": {},
   "outputs": [],
   "source": [
    "# Ignore warning messages\n",
    "def warn(*args, **kwargs):\n",
    "    pass\n",
    "import warnings\n",
    "warnings.warn = warn\n",
    "\n",
    "\n",
    "import numpy as np\n",
    "import pandas as pd\n",
    "\n",
    "\n",
    "import itertools\n",
    "\n",
    "\n",
    "from sklearn.naive_bayes import MultinomialNB\n",
    "from sklearn.linear_model import LogisticRegression\n",
    "from sklearn.linear_model import PassiveAggressiveClassifier\n",
    "\n",
    "\n",
    "from sklearn.model_selection import train_test_split\n",
    "from sklearn.feature_extraction.text import TfidfVectorizer\n",
    "from sklearn.feature_extraction.text import CountVectorizer\n",
    "from sklearn import metrics\n",
    "\n",
    "\n",
    "import matplotlib.pyplot as plt\n",
    "import seaborn as sns"
   ]
  },
  {
   "cell_type": "code",
   "execution_count": 2,
   "metadata": {},
   "outputs": [],
   "source": [
    "train = pd.read_csv(\"train_news.csv\")"
   ]
  },
  {
   "cell_type": "code",
   "execution_count": 3,
   "metadata": {},
   "outputs": [
    {
     "data": {
      "text/html": [
       "<div>\n",
       "<style scoped>\n",
       "    .dataframe tbody tr th:only-of-type {\n",
       "        vertical-align: middle;\n",
       "    }\n",
       "\n",
       "    .dataframe tbody tr th {\n",
       "        vertical-align: top;\n",
       "    }\n",
       "\n",
       "    .dataframe thead th {\n",
       "        text-align: right;\n",
       "    }\n",
       "</style>\n",
       "<table border=\"1\" class=\"dataframe\">\n",
       "  <thead>\n",
       "    <tr style=\"text-align: right;\">\n",
       "      <th></th>\n",
       "      <th>Unnamed: 0</th>\n",
       "      <th>id</th>\n",
       "      <th>headline</th>\n",
       "      <th>written_by</th>\n",
       "      <th>news</th>\n",
       "      <th>label</th>\n",
       "    </tr>\n",
       "  </thead>\n",
       "  <tbody>\n",
       "    <tr>\n",
       "      <th>0</th>\n",
       "      <td>0</td>\n",
       "      <td>9653</td>\n",
       "      <td>Ethics Questions Dogged Agriculture Nominee as...</td>\n",
       "      <td>Eric Lipton and Steve Eder</td>\n",
       "      <td>WASHINGTON  —   In Sonny Perdue’s telling, Geo...</td>\n",
       "      <td>0</td>\n",
       "    </tr>\n",
       "    <tr>\n",
       "      <th>1</th>\n",
       "      <td>1</td>\n",
       "      <td>10041</td>\n",
       "      <td>U.S. Must Dig Deep to Stop Argentina’s Lionel ...</td>\n",
       "      <td>David Waldstein</td>\n",
       "      <td>HOUSTON  —   Venezuela had a plan. It was a ta...</td>\n",
       "      <td>0</td>\n",
       "    </tr>\n",
       "    <tr>\n",
       "      <th>2</th>\n",
       "      <td>2</td>\n",
       "      <td>19113</td>\n",
       "      <td>Cotton to House: ’Do Not Walk the Plank and Vo...</td>\n",
       "      <td>Pam Key</td>\n",
       "      <td>Sunday on ABC’s “This Week,” while discussing ...</td>\n",
       "      <td>0</td>\n",
       "    </tr>\n",
       "    <tr>\n",
       "      <th>3</th>\n",
       "      <td>3</td>\n",
       "      <td>6868</td>\n",
       "      <td>Paul LePage, Besieged Maine Governor, Sends Co...</td>\n",
       "      <td>Jess Bidgood</td>\n",
       "      <td>AUGUSTA, Me.  —   The beleaguered Republican g...</td>\n",
       "      <td>0</td>\n",
       "    </tr>\n",
       "    <tr>\n",
       "      <th>4</th>\n",
       "      <td>4</td>\n",
       "      <td>7596</td>\n",
       "      <td>A Digital 9/11 If Trump Wins</td>\n",
       "      <td>Finian Cunningham</td>\n",
       "      <td>Finian Cunningham has written extensively on...</td>\n",
       "      <td>1</td>\n",
       "    </tr>\n",
       "  </tbody>\n",
       "</table>\n",
       "</div>"
      ],
      "text/plain": [
       "   Unnamed: 0     id                                           headline  \\\n",
       "0           0   9653  Ethics Questions Dogged Agriculture Nominee as...   \n",
       "1           1  10041  U.S. Must Dig Deep to Stop Argentina’s Lionel ...   \n",
       "2           2  19113  Cotton to House: ’Do Not Walk the Plank and Vo...   \n",
       "3           3   6868  Paul LePage, Besieged Maine Governor, Sends Co...   \n",
       "4           4   7596                       A Digital 9/11 If Trump Wins   \n",
       "\n",
       "                   written_by  \\\n",
       "0  Eric Lipton and Steve Eder   \n",
       "1             David Waldstein   \n",
       "2                     Pam Key   \n",
       "3                Jess Bidgood   \n",
       "4           Finian Cunningham   \n",
       "\n",
       "                                                news  label  \n",
       "0  WASHINGTON  —   In Sonny Perdue’s telling, Geo...      0  \n",
       "1  HOUSTON  —   Venezuela had a plan. It was a ta...      0  \n",
       "2  Sunday on ABC’s “This Week,” while discussing ...      0  \n",
       "3  AUGUSTA, Me.  —   The beleaguered Republican g...      0  \n",
       "4    Finian Cunningham has written extensively on...      1  "
      ]
     },
     "execution_count": 3,
     "metadata": {},
     "output_type": "execute_result"
    }
   ],
   "source": [
    "train.head()"
   ]
  },
  {
   "cell_type": "code",
   "execution_count": 4,
   "metadata": {},
   "outputs": [],
   "source": [
    "train.drop(['Unnamed: 0', 'id'],axis=1, inplace=True)"
   ]
  },
  {
   "cell_type": "code",
   "execution_count": 5,
   "metadata": {},
   "outputs": [
    {
     "name": "stdout",
     "output_type": "stream",
     "text": [
      "Train Shape : (20800, 4)\n"
     ]
    }
   ],
   "source": [
    "print(f\"Train Shape : {train.shape}\")"
   ]
  },
  {
   "cell_type": "code",
   "execution_count": 6,
   "metadata": {},
   "outputs": [
    {
     "name": "stdout",
     "output_type": "stream",
     "text": [
      "<class 'pandas.core.frame.DataFrame'>\n",
      "RangeIndex: 20800 entries, 0 to 20799\n",
      "Data columns (total 4 columns):\n",
      " #   Column      Non-Null Count  Dtype \n",
      "---  ------      --------------  ----- \n",
      " 0   headline    20242 non-null  object\n",
      " 1   written_by  18843 non-null  object\n",
      " 2   news        20761 non-null  object\n",
      " 3   label       20800 non-null  int64 \n",
      "dtypes: int64(1), object(3)\n",
      "memory usage: 650.1+ KB\n"
     ]
    }
   ],
   "source": [
    "train.info()"
   ]
  },
  {
   "cell_type": "code",
   "execution_count": 7,
   "metadata": {},
   "outputs": [
    {
     "data": {
      "text/plain": [
       "headline       558\n",
       "written_by    1957\n",
       "news            39\n",
       "label            0\n",
       "dtype: int64"
      ]
     },
     "execution_count": 7,
     "metadata": {},
     "output_type": "execute_result"
    }
   ],
   "source": [
    "train.isnull().sum()"
   ]
  },
  {
   "cell_type": "code",
   "execution_count": 8,
   "metadata": {},
   "outputs": [
    {
     "data": {
      "text/plain": [
       "object    3\n",
       "int64     1\n",
       "dtype: int64"
      ]
     },
     "execution_count": 8,
     "metadata": {},
     "output_type": "execute_result"
    }
   ],
   "source": [
    "train.dtypes.value_counts()"
   ]
  },
  {
   "cell_type": "code",
   "execution_count": 9,
   "metadata": {},
   "outputs": [],
   "source": [
    "# Handle missing values\n",
    "train=train.fillna(' ')"
   ]
  },
  {
   "cell_type": "code",
   "execution_count": 10,
   "metadata": {},
   "outputs": [],
   "source": [
    "# If model is trained on a concatenation of the title, the author and the main text, the model \n",
    "# would be more generalized because adding more words to the input might increase the reliablity of the model.\n",
    "\n",
    "# Create a column with all the data available\n",
    "train['total']=train['headline']+' '+train['written_by']+' '+train['news']"
   ]
  },
  {
   "cell_type": "code",
   "execution_count": 11,
   "metadata": {},
   "outputs": [
    {
     "name": "stdout",
     "output_type": "stream",
     "text": [
      "<class 'pandas.core.frame.DataFrame'>\n",
      "RangeIndex: 20800 entries, 0 to 20799\n",
      "Data columns (total 5 columns):\n",
      " #   Column      Non-Null Count  Dtype \n",
      "---  ------      --------------  ----- \n",
      " 0   headline    20800 non-null  object\n",
      " 1   written_by  20800 non-null  object\n",
      " 2   news        20800 non-null  object\n",
      " 3   label       20800 non-null  int64 \n",
      " 4   total       20800 non-null  object\n",
      "dtypes: int64(1), object(4)\n",
      "memory usage: 812.6+ KB\n"
     ]
    },
    {
     "data": {
      "text/html": [
       "<div>\n",
       "<style scoped>\n",
       "    .dataframe tbody tr th:only-of-type {\n",
       "        vertical-align: middle;\n",
       "    }\n",
       "\n",
       "    .dataframe tbody tr th {\n",
       "        vertical-align: top;\n",
       "    }\n",
       "\n",
       "    .dataframe thead th {\n",
       "        text-align: right;\n",
       "    }\n",
       "</style>\n",
       "<table border=\"1\" class=\"dataframe\">\n",
       "  <thead>\n",
       "    <tr style=\"text-align: right;\">\n",
       "      <th></th>\n",
       "      <th>headline</th>\n",
       "      <th>written_by</th>\n",
       "      <th>news</th>\n",
       "      <th>label</th>\n",
       "      <th>total</th>\n",
       "    </tr>\n",
       "  </thead>\n",
       "  <tbody>\n",
       "    <tr>\n",
       "      <th>0</th>\n",
       "      <td>Ethics Questions Dogged Agriculture Nominee as...</td>\n",
       "      <td>Eric Lipton and Steve Eder</td>\n",
       "      <td>WASHINGTON  —   In Sonny Perdue’s telling, Geo...</td>\n",
       "      <td>0</td>\n",
       "      <td>Ethics Questions Dogged Agriculture Nominee as...</td>\n",
       "    </tr>\n",
       "    <tr>\n",
       "      <th>1</th>\n",
       "      <td>U.S. Must Dig Deep to Stop Argentina’s Lionel ...</td>\n",
       "      <td>David Waldstein</td>\n",
       "      <td>HOUSTON  —   Venezuela had a plan. It was a ta...</td>\n",
       "      <td>0</td>\n",
       "      <td>U.S. Must Dig Deep to Stop Argentina’s Lionel ...</td>\n",
       "    </tr>\n",
       "    <tr>\n",
       "      <th>2</th>\n",
       "      <td>Cotton to House: ’Do Not Walk the Plank and Vo...</td>\n",
       "      <td>Pam Key</td>\n",
       "      <td>Sunday on ABC’s “This Week,” while discussing ...</td>\n",
       "      <td>0</td>\n",
       "      <td>Cotton to House: ’Do Not Walk the Plank and Vo...</td>\n",
       "    </tr>\n",
       "    <tr>\n",
       "      <th>3</th>\n",
       "      <td>Paul LePage, Besieged Maine Governor, Sends Co...</td>\n",
       "      <td>Jess Bidgood</td>\n",
       "      <td>AUGUSTA, Me.  —   The beleaguered Republican g...</td>\n",
       "      <td>0</td>\n",
       "      <td>Paul LePage, Besieged Maine Governor, Sends Co...</td>\n",
       "    </tr>\n",
       "    <tr>\n",
       "      <th>4</th>\n",
       "      <td>A Digital 9/11 If Trump Wins</td>\n",
       "      <td>Finian Cunningham</td>\n",
       "      <td>Finian Cunningham has written extensively on...</td>\n",
       "      <td>1</td>\n",
       "      <td>A Digital 9/11 If Trump Wins Finian Cunningham...</td>\n",
       "    </tr>\n",
       "  </tbody>\n",
       "</table>\n",
       "</div>"
      ],
      "text/plain": [
       "                                            headline  \\\n",
       "0  Ethics Questions Dogged Agriculture Nominee as...   \n",
       "1  U.S. Must Dig Deep to Stop Argentina’s Lionel ...   \n",
       "2  Cotton to House: ’Do Not Walk the Plank and Vo...   \n",
       "3  Paul LePage, Besieged Maine Governor, Sends Co...   \n",
       "4                       A Digital 9/11 If Trump Wins   \n",
       "\n",
       "                   written_by  \\\n",
       "0  Eric Lipton and Steve Eder   \n",
       "1             David Waldstein   \n",
       "2                     Pam Key   \n",
       "3                Jess Bidgood   \n",
       "4           Finian Cunningham   \n",
       "\n",
       "                                                news  label  \\\n",
       "0  WASHINGTON  —   In Sonny Perdue’s telling, Geo...      0   \n",
       "1  HOUSTON  —   Venezuela had a plan. It was a ta...      0   \n",
       "2  Sunday on ABC’s “This Week,” while discussing ...      0   \n",
       "3  AUGUSTA, Me.  —   The beleaguered Republican g...      0   \n",
       "4    Finian Cunningham has written extensively on...      1   \n",
       "\n",
       "                                               total  \n",
       "0  Ethics Questions Dogged Agriculture Nominee as...  \n",
       "1  U.S. Must Dig Deep to Stop Argentina’s Lionel ...  \n",
       "2  Cotton to House: ’Do Not Walk the Plank and Vo...  \n",
       "3  Paul LePage, Besieged Maine Governor, Sends Co...  \n",
       "4  A Digital 9/11 If Trump Wins Finian Cunningham...  "
      ]
     },
     "execution_count": 11,
     "metadata": {},
     "output_type": "execute_result"
    }
   ],
   "source": [
    "# Have a glance at our training set\n",
    "train.info()\n",
    "train.head()"
   ]
  },
  {
   "cell_type": "code",
   "execution_count": 12,
   "metadata": {},
   "outputs": [],
   "source": [
    "# Lets create a new feature for length\n",
    "\n",
    "def length(x):\n",
    "    return len(x)\n",
    "\n",
    "train['length']=train['total'].apply(length)"
   ]
  },
  {
   "cell_type": "code",
   "execution_count": 13,
   "metadata": {},
   "outputs": [
    {
     "data": {
      "image/png": "[encoded data removed]",
      "text/plain": [
       "<Figure size 864x432 with 2 Axes>"
      ]
     },
     "metadata": {
      "needs_background": "light"
     },
     "output_type": "display_data"
    }
   ],
   "source": [
    "# Now, lets visualize our data\n",
    "\n",
    "plt.figure(figsize=(12, 6))\n",
    "\n",
    "plt.subplot(1,2,1)\n",
    "sns.violinplot(x = 'label', y = 'length', data = train)\n",
    "\n",
    "plt.subplot(1,2,2)\n",
    "sns.distplot(train[train['label'] == 1]['length'] , label = \"1\", color = 'red')\n",
    "sns.distplot(train[train['label'] == 0]['length'] , label = \"0\" , color = 'blue' )\n",
    "plt.tight_layout()\n",
    "plt.show()"
   ]
  },
  {
   "cell_type": "code",
   "execution_count": 14,
   "metadata": {},
   "outputs": [],
   "source": [
    "# We can see that the maximum number of words in label 1 news is significantly higher that in label 0."
   ]
  },
  {
   "cell_type": "code",
   "execution_count": 15,
   "metadata": {},
   "outputs": [
    {
     "data": {
      "text/plain": [
       "1    10413\n",
       "0    10387\n",
       "Name: label, dtype: int64"
      ]
     },
     "execution_count": 15,
     "metadata": {},
     "output_type": "execute_result"
    }
   ],
   "source": [
    "train['label'].value_counts()"
   ]
  },
  {
   "cell_type": "code",
   "execution_count": 16,
   "metadata": {},
   "outputs": [],
   "source": [
    "# The dataset is balanced"
   ]
  },
  {
   "cell_type": "code",
   "execution_count": null,
   "metadata": {},
   "outputs": [],
   "source": []
  },
  {
   "cell_type": "code",
   "execution_count": 17,
   "metadata": {},
   "outputs": [],
   "source": [
    "# Dividing the training set by using train_test_split\n",
    "X_train, X_test, y_train, y_test = train_test_split(train['total'], train.label, test_size=0.20, random_state=0)"
   ]
  },
  {
   "cell_type": "markdown",
   "metadata": {},
   "source": [
    "# Vectorizing our Data"
   ]
  },
  {
   "cell_type": "markdown",
   "metadata": {},
   "source": [
    "### 1. Count Vectorizer"
   ]
  },
  {
   "cell_type": "code",
   "execution_count": 18,
   "metadata": {},
   "outputs": [],
   "source": [
    "# Initialize the `count_vectorizer` \n",
    "count_vectorizer = CountVectorizer(ngram_range=(1, 2), stop_words='english') \n",
    "# Fit and transform the training data.\n",
    "count_train = count_vectorizer.fit_transform(X_train)\n",
    "# Transform the test set \n",
    "count_test = count_vectorizer.transform(X_test)"
   ]
  },
  {
   "cell_type": "markdown",
   "metadata": {},
   "source": [
    "### 2. Tf-Idf Vectorizer"
   ]
  },
  {
   "cell_type": "code",
   "execution_count": 19,
   "metadata": {},
   "outputs": [],
   "source": [
    "#Initialize the `tfidf_vectorizer` \n",
    "tfidf_vectorizer = TfidfVectorizer(stop_words='english', ngram_range=(1, 2))\n",
    "#Fit and transform the training data \n",
    "tfidf_train = tfidf_vectorizer.fit_transform(X_train)\n",
    "#Transform the test set \n",
    "tfidf_test = tfidf_vectorizer.transform(X_test)"
   ]
  },
  {
   "cell_type": "markdown",
   "metadata": {},
   "source": [
    "# Use Suitable Machine Learning Models with Count Vectorizer and TF-IDF Vectorizer"
   ]
  },
  {
   "cell_type": "markdown",
   "metadata": {},
   "source": [
    "### 1. Multinomial Naive Bayes with Count Vectorizer (BagofWords)"
   ]
  },
  {
   "cell_type": "code",
   "execution_count": 20,
   "metadata": {},
   "outputs": [
    {
     "name": "stdout",
     "output_type": "stream",
     "text": [
      "0.9456730769230769\n"
     ]
    }
   ],
   "source": [
    "nb_classifier = MultinomialNB(alpha = 0.1)\n",
    "nb_classifier.fit(count_train, y_train)\n",
    "pred_nb_count = nb_classifier.predict(count_test)\n",
    "acc_nb_count = metrics.accuracy_score(y_test, pred_nb_count)\n",
    "print(acc_nb_count)"
   ]
  },
  {
   "cell_type": "code",
   "execution_count": 21,
   "metadata": {},
   "outputs": [
    {
     "name": "stdout",
     "output_type": "stream",
     "text": [
      "Alpha: 0.00 Score: 0.91466\n",
      "Alpha: 0.05 Score: 0.94375\n",
      "Alpha: 0.10 Score: 0.94567\n",
      "Alpha: 0.15 Score: 0.94543\n",
      "Alpha: 0.20 Score: 0.94567\n",
      "Alpha: 0.25 Score: 0.94591\n",
      "Alpha: 0.30 Score: 0.94471\n",
      "Alpha: 0.35 Score: 0.94327\n",
      "Alpha: 0.40 Score: 0.94207\n",
      "Alpha: 0.45 Score: 0.94087\n",
      "Alpha: 0.50 Score: 0.94014\n",
      "Alpha: 0.55 Score: 0.93942\n",
      "Alpha: 0.60 Score: 0.93894\n",
      "Alpha: 0.65 Score: 0.93774\n",
      "Alpha: 0.70 Score: 0.93750\n",
      "Alpha: 0.75 Score: 0.93630\n",
      "Alpha: 0.80 Score: 0.93510\n",
      "Alpha: 0.85 Score: 0.93413\n",
      "Alpha: 0.90 Score: 0.93245\n",
      "Alpha: 0.95 Score: 0.93125\n"
     ]
    }
   ],
   "source": [
    "# tune the hyperparameter alpha for the naive bayes classifier\n",
    "for alpha in np.arange(0,1,.05):\n",
    "    nb_classifier_tune = MultinomialNB(alpha=alpha)\n",
    "    nb_classifier_tune.fit(count_train, y_train)\n",
    "    pred_tune = nb_classifier_tune.predict(count_test)\n",
    "    score = metrics.accuracy_score(y_test, pred_tune)\n",
    "    print(\"Alpha: {:.2f} Score: {:.5f}\".format(alpha, score))"
   ]
  },
  {
   "cell_type": "code",
   "execution_count": 22,
   "metadata": {},
   "outputs": [],
   "source": [
    "# The best score is obtained for alpha = 0.15, and is equal to 0.94279."
   ]
  },
  {
   "cell_type": "code",
   "execution_count": 23,
   "metadata": {},
   "outputs": [
    {
     "data": {
      "image/png": "[encoded data removed]",
      "text/plain": [
       "<Figure size 432x288 with 2 Axes>"
      ]
     },
     "metadata": {
      "needs_background": "light"
     },
     "output_type": "display_data"
    }
   ],
   "source": [
    "# Let's re-run our fine-tuned model and plot the confusion matrix\n",
    "nb_classifier = MultinomialNB(alpha = 0.15)\n",
    "nb_classifier.fit(count_train, y_train)\n",
    "pred_nb_count = nb_classifier.predict(count_test)\n",
    "cm = metrics.confusion_matrix(y_test, pred_nb_count, labels=[0,1])\n",
    "\n",
    "# Creating a function that outputs a confusion matrix\n",
    "def plot_confusion_matrix(cm, classes,\n",
    "                          normalize=False,\n",
    "                          title='Confusion matrix',\n",
    "                          cmap=plt.cm.Blues):\n",
    "    \n",
    "    plt.imshow(cm, interpolation='nearest', cmap=cmap)\n",
    "    plt.title(title)\n",
    "    plt.colorbar()\n",
    "    tick_marks = np.arange(len(classes))\n",
    "    plt.xticks(tick_marks, classes, rotation=45)\n",
    "    plt.yticks(tick_marks, classes)\n",
    "    thresh = cm.max() / 2.\n",
    "    for i, j in itertools.product(range(cm.shape[0]), range(cm.shape[1])):\n",
    "        plt.text(j, i, cm[i, j],\n",
    "                 horizontalalignment=\"center\",\n",
    "                 color=\"white\" if cm[i, j] > thresh else \"black\")\n",
    "\n",
    "    plt.tight_layout()\n",
    "    plt.ylabel('True label')\n",
    "    plt.xlabel('Predicted label')\n",
    "    \n",
    "    \n",
    "plot_confusion_matrix(cm, classes=['REAL','FAKE'], title ='Confusion matrix for a MultinomialNB with Count Vectorizer')"
   ]
  },
  {
   "cell_type": "markdown",
   "metadata": {},
   "source": [
    "We see that although our model has a general accuracy of 94.3 %, which is good, but it does not really score well in view of number of false negative. 223 fake news are classified as true news with this model, which is not pleasing to see. So we will try to use the Tf-IDF vectorizer on this same model to see if it performs better."
   ]
  },
  {
   "cell_type": "markdown",
   "metadata": {},
   "source": [
    "### 2. Multinomial Naive Bayes with TF-IDF Vectorizer"
   ]
  },
  {
   "cell_type": "code",
   "execution_count": 24,
   "metadata": {},
   "outputs": [
    {
     "name": "stdout",
     "output_type": "stream",
     "text": [
      "0.9302884615384616\n"
     ]
    }
   ],
   "source": [
    "nb_classifier = MultinomialNB(alpha = 0.1)\n",
    "nb_classifier.fit(tfidf_train, y_train)\n",
    "pred_nb_tfidf = nb_classifier.predict(tfidf_test)\n",
    "acc_nb_tfidf = metrics.accuracy_score(y_test, pred_nb_tfidf)\n",
    "print(acc_nb_tfidf)"
   ]
  },
  {
   "cell_type": "code",
   "execution_count": 25,
   "metadata": {},
   "outputs": [
    {
     "name": "stdout",
     "output_type": "stream",
     "text": [
      "Alpha: 0.00  Score: 0.90841\n",
      "Alpha: 0.01  Score: 0.94591\n",
      "Alpha: 0.02  Score: 0.94591\n",
      "Alpha: 0.03  Score: 0.94399\n",
      "Alpha: 0.04  Score: 0.94255\n",
      "Alpha: 0.05  Score: 0.94014\n",
      "Alpha: 0.06  Score: 0.93798\n",
      "Alpha: 0.07  Score: 0.93678\n",
      "Alpha: 0.08  Score: 0.93389\n",
      "Alpha: 0.09  Score: 0.93125\n"
     ]
    }
   ],
   "source": [
    "# tune the hyperparameter alpha for the naive bayes classifier\n",
    "for alpha in np.arange(0,0.1,.01):\n",
    "    nb_classifier_tune = MultinomialNB(alpha=alpha)\n",
    "    nb_classifier_tune.fit(tfidf_train, y_train)\n",
    "    pred_tune = nb_classifier_tune.predict(tfidf_test)\n",
    "    score = metrics.accuracy_score(y_test, pred_tune)\n",
    "    print(\"Alpha: {:.2f}  Score: {:.5f}\".format(alpha, score))"
   ]
  },
  {
   "cell_type": "code",
   "execution_count": 26,
   "metadata": {},
   "outputs": [
    {
     "data": {
      "image/png": "[encoded data removed]",
      "text/plain": [
       "<Figure size 432x288 with 2 Axes>"
      ]
     },
     "metadata": {
      "needs_background": "light"
     },
     "output_type": "display_data"
    }
   ],
   "source": [
    "# Let's run the optimized model with best value of hyperparameter and check the confusion matrix\n",
    "nb_classifier = MultinomialNB(alpha = 0.01)\n",
    "nb_classifier.fit(tfidf_train, y_train)\n",
    "pred_nb_tfidf = nb_classifier.predict(tfidf_test)\n",
    "cm2 = metrics.confusion_matrix(y_test, pred_nb_tfidf, labels=[0,1])\n",
    "plot_confusion_matrix(cm2, classes=['TRUE','FAKE'], title ='Confusion matrix for a MultinomialNB with Tf-IDF')"
   ]
  },
  {
   "cell_type": "markdown",
   "metadata": {},
   "source": [
    "This confusion matrix above confirms that this new model is slightly better (and its accuracy score is 94.4 %).\n",
    "However, too many fake news are still labeled as true news.\n",
    "Let's try with another model called PassiveAgressive Classifier which is special for text classification purposes. "
   ]
  },
  {
   "cell_type": "markdown",
   "metadata": {},
   "source": [
    "### 3. Passive Agressive Classifier With Count Vectorizer"
   ]
  },
  {
   "cell_type": "code",
   "execution_count": 27,
   "metadata": {},
   "outputs": [
    {
     "name": "stdout",
     "output_type": "stream",
     "text": [
      "0.9653846153846154\n"
     ]
    },
    {
     "data": {
      "image/png": "[encoded data removed]",
      "text/plain": [
       "<Figure size 432x288 with 2 Axes>"
      ]
     },
     "metadata": {
      "needs_background": "light"
     },
     "output_type": "display_data"
    }
   ],
   "source": [
    "from sklearn.linear_model import PassiveAggressiveClassifier\n",
    "linear_classifier = PassiveAggressiveClassifier(max_iter=10)\n",
    "linear_classifier.fit(count_train, y_train)\n",
    "pred_linear_count = linear_classifier.predict(count_test)\n",
    "acc_linear_count = metrics.accuracy_score(y_test, pred_linear_count)\n",
    "print(acc_linear_count)\n",
    "cm6 = metrics.confusion_matrix(y_test, pred_linear_count, labels=[0,1])\n",
    "plot_confusion_matrix(cm6, classes=['TRUE','FAKE'], title ='Confusion matrix for a PA Classifier with Count Vectorizer')"
   ]
  },
  {
   "cell_type": "markdown",
   "metadata": {},
   "source": [
    "We get much better results than with the MultinomialNB model, both in terms of accuracy and in terms of false negative. Only 60 fake news were labeled as true news this time.\n",
    "Let's try with the Tf-IDF method."
   ]
  },
  {
   "cell_type": "markdown",
   "metadata": {},
   "source": [
    "### 4. Passive Agressive Classifier With TF-IDF Vectorizer"
   ]
  },
  {
   "cell_type": "code",
   "execution_count": 28,
   "metadata": {},
   "outputs": [
    {
     "name": "stdout",
     "output_type": "stream",
     "text": [
      "0.9795673076923077\n"
     ]
    },
    {
     "data": {
      "image/png": "[encoded data removed]",
      "text/plain": [
       "<Figure size 432x288 with 2 Axes>"
      ]
     },
     "metadata": {
      "needs_background": "light"
     },
     "output_type": "display_data"
    }
   ],
   "source": [
    "linear_classifier = PassiveAggressiveClassifier(max_iter=10)\n",
    "linear_classifier.fit(tfidf_train, y_train)\n",
    "pred_linear_tfidf = linear_classifier.predict(tfidf_test)\n",
    "acc_linear_tfidf = metrics.accuracy_score(y_test, pred_linear_tfidf)\n",
    "print(acc_linear_tfidf)\n",
    "cm5 = metrics.confusion_matrix(y_test, pred_linear_tfidf, labels=[0,1])\n",
    "plot_confusion_matrix(cm5, classes=['TRUE','FAKE'], title ='Confusion matrix for a PA Classifier with Tf-IDF')"
   ]
  },
  {
   "cell_type": "code",
   "execution_count": null,
   "metadata": {},
   "outputs": [],
   "source": []
  },
  {
   "cell_type": "markdown",
   "metadata": {},
   "source": [
    "Although we observe more false negative, the overall accuracy is much better, hence so far this is our best model. Let's try with Logistic Regression now !"
   ]
  },
  {
   "cell_type": "markdown",
   "metadata": {},
   "source": [
    "### 5. Logistic Regression with TF-IDF Vectorizer"
   ]
  },
  {
   "cell_type": "code",
   "execution_count": 29,
   "metadata": {},
   "outputs": [
    {
     "name": "stdout",
     "output_type": "stream",
     "text": [
      "0.9798076923076923\n"
     ]
    },
    {
     "data": {
      "image/png": "[encoded data removed]",
      "text/plain": [
       "<Figure size 432x288 with 2 Axes>"
      ]
     },
     "metadata": {
      "needs_background": "light"
     },
     "output_type": "display_data"
    }
   ],
   "source": [
    "logreg = LogisticRegression(C=1e5)\n",
    "logreg.fit(tfidf_train, y_train)\n",
    "pred_logreg_tfidf = logreg.predict(tfidf_test)\n",
    "pred_logreg_tfidf_proba = logreg.predict_proba(tfidf_test)[:,1]\n",
    "acc_logreg_tfidf = metrics.accuracy_score(y_test,pred_logreg_tfidf)\n",
    "print(acc_logreg_tfidf)\n",
    "cm4 = metrics.confusion_matrix(y_test, pred_logreg_tfidf, labels=[0,1])\n",
    "plot_confusion_matrix(cm4, classes=['TRUE','FAKE'], title ='Confusion matrix for a Logistic Regression with Tf-IDF')"
   ]
  },
  {
   "cell_type": "markdown",
   "metadata": {},
   "source": [
    "This model has a very high accuracy score, and only 58 records were misclassified. So far, Logistic Regression played it best ! Let's see the same with CountVectorizer ie. Bag of Words concept."
   ]
  },
  {
   "cell_type": "markdown",
   "metadata": {},
   "source": [
    "### 6. Logistic Regression with CountVectorizer"
   ]
  },
  {
   "cell_type": "code",
   "execution_count": 30,
   "metadata": {},
   "outputs": [
    {
     "name": "stdout",
     "output_type": "stream",
     "text": [
      "0.9752403846153846\n"
     ]
    },
    {
     "data": {
      "image/png": "[encoded data removed]",
      "text/plain": [
       "<Figure size 432x288 with 2 Axes>"
      ]
     },
     "metadata": {
      "needs_background": "light"
     },
     "output_type": "display_data"
    }
   ],
   "source": [
    "logreg = LogisticRegression(C=1e5)\n",
    "logreg.fit(count_train, y_train)\n",
    "pred_logreg_count = logreg.predict(count_test)\n",
    "acc_logreg_count = metrics.accuracy_score(y_test,pred_logreg_count)\n",
    "print(acc_logreg_count)\n",
    "cm3 = metrics.confusion_matrix(y_test, pred_logreg_count, labels=[0,1])\n",
    "plot_confusion_matrix(cm3, classes=['TRUE','FAKE'], title ='Confusion matrix for a Logistic Regression with Count Vectorizer')"
   ]
  },
  {
   "cell_type": "markdown",
   "metadata": {},
   "source": [
    "It's THE BEST MODEL YAY ! This is our favorite model so far. Indeed, even though the accuracy score is a bit lower, we have less fake news labeled as true news ie. only 44. Therefore, I choose this model because it seems to maximize the accuracy while minimizing the false negative rate!"
   ]
  },
  {
   "cell_type": "code",
   "execution_count": 31,
   "metadata": {},
   "outputs": [
    {
     "data": {
      "image/png": "[encoded data removed]",
      "text/plain": [
       "<Figure size 432x288 with 1 Axes>"
      ]
     },
     "metadata": {
      "needs_background": "light"
     },
     "output_type": "display_data"
    }
   ],
   "source": [
    "# Lets check the AUC score\n",
    "\n",
    "from sklearn.metrics import roc_curve, roc_auc_score\n",
    "y_pred_pro=logreg.predict_proba(tfidf_test)[:,1]\n",
    "fpr,tpr,threshold=roc_curve(y_test,y_pred_pro)\n",
    "plt.plot([0,1], [0,1], 'k--')\n",
    "plt.plot(fpr,tpr,label='Passive Agressive')\n",
    "plt.show()"
   ]
  },
  {
   "cell_type": "code",
   "execution_count": 32,
   "metadata": {},
   "outputs": [
    {
     "data": {
      "text/plain": [
       "0.9959187692467001"
      ]
     },
     "execution_count": 32,
     "metadata": {},
     "output_type": "execute_result"
    }
   ],
   "source": [
    "roc_auc_score(y_test,y_pred_pro)"
   ]
  },
  {
   "cell_type": "code",
   "execution_count": 33,
   "metadata": {},
   "outputs": [
    {
     "data": {
      "text/plain": [
       "['logreg.pkl']"
      ]
     },
     "execution_count": 33,
     "metadata": {},
     "output_type": "execute_result"
    }
   ],
   "source": [
    "# Lets Save the model\n",
    "import joblib\n",
    "joblib.dump(logreg, 'logreg.pkl')"
   ]
  },
  {
   "cell_type": "code",
   "execution_count": null,
   "metadata": {},
   "outputs": [],
   "source": []
  },
  {
   "cell_type": "code",
   "execution_count": null,
   "metadata": {},
   "outputs": [],
   "source": []
  },
  {
   "cell_type": "code",
   "execution_count": null,
   "metadata": {},
   "outputs": [],
   "source": []
  },
  {
   "cell_type": "code",
   "execution_count": null,
   "metadata": {},
   "outputs": [],
   "source": []
  },
  {
   "cell_type": "code",
   "execution_count": null,
   "metadata": {},
   "outputs": [],
   "source": []
  },
  {
   "cell_type": "code",
   "execution_count": null,
   "metadata": {},
   "outputs": [],
   "source": []
  },
  {
   "cell_type": "code",
   "execution_count": null,
   "metadata": {},
   "outputs": [],
   "source": []
  }
 ],
 "metadata": {
  "kernelspec": {
   "display_name": "Python 3",
   "language": "python",
   "name": "python3"
  },
  "language_info": {
   "codemirror_mode": {
    "name": "ipython",
    "version": 3
   },
   "file_extension": ".py",
   "mimetype": "text/x-python",
   "name": "python",
   "nbconvert_exporter": "python",
   "pygments_lexer": "ipython3",
   "version": "3.8.5"
  }
 },
 "nbformat": 4,
 "nbformat_minor": 4
}
