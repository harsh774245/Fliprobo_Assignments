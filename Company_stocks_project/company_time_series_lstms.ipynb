{
 "cells": [
  {
   "cell_type": "code",
   "execution_count": 1,
   "metadata": {
    "id": "BacHxHEY4gj4"
   },
   "outputs": [],
   "source": [
    "import tensorflow as tf\n",
    "import numpy as np"
   ]
  },
  {
   "cell_type": "code",
   "execution_count": 2,
   "metadata": {
    "colab": {
     "base_uri": "https://localhost:8080/",
     "height": 204
    },
    "id": "b6FNT4Gf4trC",
    "outputId": "f86abdcf-e9a8-4f8c-bb1f-24cb40e76444"
   },
   "outputs": [
    {
     "data": {
      "text/html": [
       "<div>\n",
       "<style scoped>\n",
       "    .dataframe tbody tr th:only-of-type {\n",
       "        vertical-align: middle;\n",
       "    }\n",
       "\n",
       "    .dataframe tbody tr th {\n",
       "        vertical-align: top;\n",
       "    }\n",
       "\n",
       "    .dataframe thead th {\n",
       "        text-align: right;\n",
       "    }\n",
       "</style>\n",
       "<table border=\"1\" class=\"dataframe\">\n",
       "  <thead>\n",
       "    <tr style=\"text-align: right;\">\n",
       "      <th></th>\n",
       "      <th>Date</th>\n",
       "      <th>Oil Investments</th>\n",
       "      <th>Gold Investments</th>\n",
       "      <th>Comp Stock</th>\n",
       "      <th>Other sharesInvestments</th>\n",
       "    </tr>\n",
       "  </thead>\n",
       "  <tbody>\n",
       "    <tr>\n",
       "      <th>0</th>\n",
       "      <td>31-12-2009</td>\n",
       "      <td>0.025417</td>\n",
       "      <td>0.000150</td>\n",
       "      <td>0.017354</td>\n",
       "      <td>0.006848</td>\n",
       "    </tr>\n",
       "    <tr>\n",
       "      <th>1</th>\n",
       "      <td>04-01-2010</td>\n",
       "      <td>0.026830</td>\n",
       "      <td>0.001097</td>\n",
       "      <td>0.015565</td>\n",
       "      <td>-0.004609</td>\n",
       "    </tr>\n",
       "    <tr>\n",
       "      <th>2</th>\n",
       "      <td>05-01-2010</td>\n",
       "      <td>0.002699</td>\n",
       "      <td>0.001560</td>\n",
       "      <td>0.001729</td>\n",
       "      <td>0.005900</td>\n",
       "    </tr>\n",
       "    <tr>\n",
       "      <th>3</th>\n",
       "      <td>06-01-2010</td>\n",
       "      <td>0.021688</td>\n",
       "      <td>0.006009</td>\n",
       "      <td>-0.015906</td>\n",
       "      <td>-0.018116</td>\n",
       "    </tr>\n",
       "    <tr>\n",
       "      <th>4</th>\n",
       "      <td>07-01-2010</td>\n",
       "      <td>-0.006256</td>\n",
       "      <td>0.000221</td>\n",
       "      <td>-0.001849</td>\n",
       "      <td>-0.017013</td>\n",
       "    </tr>\n",
       "  </tbody>\n",
       "</table>\n",
       "</div>"
      ],
      "text/plain": [
       "         Date  Oil Investments  ...  Comp Stock  Other sharesInvestments\n",
       "0  31-12-2009         0.025417  ...    0.017354                 0.006848\n",
       "1  04-01-2010         0.026830  ...    0.015565                -0.004609\n",
       "2  05-01-2010         0.002699  ...    0.001729                 0.005900\n",
       "3  06-01-2010         0.021688  ...   -0.015906                -0.018116\n",
       "4  07-01-2010        -0.006256  ...   -0.001849                -0.017013\n",
       "\n",
       "[5 rows x 5 columns]"
      ]
     },
     "execution_count": 2,
     "metadata": {
      "tags": []
     },
     "output_type": "execute_result"
    }
   ],
   "source": [
    "import pandas as pd\n",
    "data=pd.read_csv('data.csv')\n",
    "data.head()"
   ]
  },
  {
   "cell_type": "code",
   "execution_count": 3,
   "metadata": {
    "colab": {
     "base_uri": "https://localhost:8080/",
     "height": 204
    },
    "id": "_6XPVamN5Ibg",
    "outputId": "c30a9d37-7d40-4b3a-a858-d2cd4adbac2c"
   },
   "outputs": [
    {
     "data": {
      "text/html": [
       "<div>\n",
       "<style scoped>\n",
       "    .dataframe tbody tr th:only-of-type {\n",
       "        vertical-align: middle;\n",
       "    }\n",
       "\n",
       "    .dataframe tbody tr th {\n",
       "        vertical-align: top;\n",
       "    }\n",
       "\n",
       "    .dataframe thead th {\n",
       "        text-align: right;\n",
       "    }\n",
       "</style>\n",
       "<table border=\"1\" class=\"dataframe\">\n",
       "  <thead>\n",
       "    <tr style=\"text-align: right;\">\n",
       "      <th></th>\n",
       "      <th>date</th>\n",
       "      <th>oil</th>\n",
       "      <th>gold</th>\n",
       "      <th>comp</th>\n",
       "      <th>other</th>\n",
       "    </tr>\n",
       "  </thead>\n",
       "  <tbody>\n",
       "    <tr>\n",
       "      <th>0</th>\n",
       "      <td>31-12-2009</td>\n",
       "      <td>0.025417</td>\n",
       "      <td>0.000150</td>\n",
       "      <td>0.017354</td>\n",
       "      <td>0.006848</td>\n",
       "    </tr>\n",
       "    <tr>\n",
       "      <th>1</th>\n",
       "      <td>04-01-2010</td>\n",
       "      <td>0.026830</td>\n",
       "      <td>0.001097</td>\n",
       "      <td>0.015565</td>\n",
       "      <td>-0.004609</td>\n",
       "    </tr>\n",
       "    <tr>\n",
       "      <th>2</th>\n",
       "      <td>05-01-2010</td>\n",
       "      <td>0.002699</td>\n",
       "      <td>0.001560</td>\n",
       "      <td>0.001729</td>\n",
       "      <td>0.005900</td>\n",
       "    </tr>\n",
       "    <tr>\n",
       "      <th>3</th>\n",
       "      <td>06-01-2010</td>\n",
       "      <td>0.021688</td>\n",
       "      <td>0.006009</td>\n",
       "      <td>-0.015906</td>\n",
       "      <td>-0.018116</td>\n",
       "    </tr>\n",
       "    <tr>\n",
       "      <th>4</th>\n",
       "      <td>07-01-2010</td>\n",
       "      <td>-0.006256</td>\n",
       "      <td>0.000221</td>\n",
       "      <td>-0.001849</td>\n",
       "      <td>-0.017013</td>\n",
       "    </tr>\n",
       "  </tbody>\n",
       "</table>\n",
       "</div>"
      ],
      "text/plain": [
       "         date       oil      gold      comp     other\n",
       "0  31-12-2009  0.025417  0.000150  0.017354  0.006848\n",
       "1  04-01-2010  0.026830  0.001097  0.015565 -0.004609\n",
       "2  05-01-2010  0.002699  0.001560  0.001729  0.005900\n",
       "3  06-01-2010  0.021688  0.006009 -0.015906 -0.018116\n",
       "4  07-01-2010 -0.006256  0.000221 -0.001849 -0.017013"
      ]
     },
     "execution_count": 3,
     "metadata": {
      "tags": []
     },
     "output_type": "execute_result"
    }
   ],
   "source": [
    "cols=['date', 'oil', 'gold', 'comp', 'other']\n",
    "data.columns=cols\n",
    "data.head()"
   ]
  },
  {
   "cell_type": "code",
   "execution_count": 4,
   "metadata": {
    "id": "C_CRIOT75MTo"
   },
   "outputs": [],
   "source": [
    "data['date']=pd.to_datetime(data['date'])"
   ]
  },
  {
   "cell_type": "code",
   "execution_count": 5,
   "metadata": {
    "id": "KOwH5XDN5PQZ"
   },
   "outputs": [],
   "source": [
    "data['year']=pd.DatetimeIndex(data['date']).year"
   ]
  },
  {
   "cell_type": "code",
   "execution_count": 6,
   "metadata": {
    "id": "zSRzFSnJ5SDJ"
   },
   "outputs": [],
   "source": [
    "data.sort_values(by='date', inplace=True)"
   ]
  },
  {
   "cell_type": "code",
   "execution_count": 7,
   "metadata": {
    "id": "LSfLS47f5Uoq"
   },
   "outputs": [],
   "source": [
    "data.set_index(['date'], inplace=True)"
   ]
  },
  {
   "cell_type": "code",
   "execution_count": 8,
   "metadata": {
    "colab": {
     "base_uri": "https://localhost:8080/",
     "height": 235
    },
    "id": "rndFmloE5Wg7",
    "outputId": "179584c2-8de8-403d-bb5c-5197aea3e99e"
   },
   "outputs": [
    {
     "data": {
      "text/html": [
       "<div>\n",
       "<style scoped>\n",
       "    .dataframe tbody tr th:only-of-type {\n",
       "        vertical-align: middle;\n",
       "    }\n",
       "\n",
       "    .dataframe tbody tr th {\n",
       "        vertical-align: top;\n",
       "    }\n",
       "\n",
       "    .dataframe thead th {\n",
       "        text-align: right;\n",
       "    }\n",
       "</style>\n",
       "<table border=\"1\" class=\"dataframe\">\n",
       "  <thead>\n",
       "    <tr style=\"text-align: right;\">\n",
       "      <th></th>\n",
       "      <th>oil</th>\n",
       "      <th>year</th>\n",
       "    </tr>\n",
       "    <tr>\n",
       "      <th>date</th>\n",
       "      <th></th>\n",
       "      <th></th>\n",
       "    </tr>\n",
       "  </thead>\n",
       "  <tbody>\n",
       "    <tr>\n",
       "      <th>2009-12-31</th>\n",
       "      <td>0.025417</td>\n",
       "      <td>2009</td>\n",
       "    </tr>\n",
       "    <tr>\n",
       "      <th>2010-01-02</th>\n",
       "      <td>0.021414</td>\n",
       "      <td>2010</td>\n",
       "    </tr>\n",
       "    <tr>\n",
       "      <th>2010-01-03</th>\n",
       "      <td>-0.012669</td>\n",
       "      <td>2010</td>\n",
       "    </tr>\n",
       "    <tr>\n",
       "      <th>2010-01-04</th>\n",
       "      <td>0.012942</td>\n",
       "      <td>2010</td>\n",
       "    </tr>\n",
       "    <tr>\n",
       "      <th>2010-01-06</th>\n",
       "      <td>-0.017568</td>\n",
       "      <td>2010</td>\n",
       "    </tr>\n",
       "  </tbody>\n",
       "</table>\n",
       "</div>"
      ],
      "text/plain": [
       "                 oil  year\n",
       "date                      \n",
       "2009-12-31  0.025417  2009\n",
       "2010-01-02  0.021414  2010\n",
       "2010-01-03 -0.012669  2010\n",
       "2010-01-04  0.012942  2010\n",
       "2010-01-06 -0.017568  2010"
      ]
     },
     "execution_count": 8,
     "metadata": {
      "tags": []
     },
     "output_type": "execute_result"
    }
   ],
   "source": [
    "oil=data.iloc[:,[0,4]]\n",
    "oil.head()"
   ]
  },
  {
   "cell_type": "code",
   "execution_count": 9,
   "metadata": {
    "colab": {
     "base_uri": "https://localhost:8080/"
    },
    "id": "L_ag9HaR5Y_f",
    "outputId": "7867c48d-9de7-458a-fabe-768f4be75169"
   },
   "outputs": [
    {
     "name": "stderr",
     "output_type": "stream",
     "text": [
      "/usr/local/lib/python3.6/dist-packages/pandas/core/frame.py:4170: SettingWithCopyWarning: \n",
      "A value is trying to be set on a copy of a slice from a DataFrame\n",
      "\n",
      "See the caveats in the documentation: https://pandas.pydata.org/pandas-docs/stable/user_guide/indexing.html#returning-a-view-versus-a-copy\n",
      "  errors=errors,\n"
     ]
    }
   ],
   "source": [
    "# Lets remove this and the entry for 2009\n",
    "oil.drop(pd.DatetimeIndex(['2009-12-31']), inplace=True)\n",
    "oil.drop(pd.DatetimeIndex(['2017-03-07']), inplace=True)"
   ]
  },
  {
   "cell_type": "code",
   "execution_count": 10,
   "metadata": {
    "id": "i-DBdUb85nlr"
   },
   "outputs": [],
   "source": [
    "def univariate_data(dataset, start_index, end_index, history_size, target_size):\n",
    "  data = []\n",
    "  labels = []\n",
    "\n",
    "  start_index = start_index + history_size\n",
    "  if end_index is None:\n",
    "    end_index = len(dataset) - target_size\n",
    "\n",
    "  for i in range(start_index, end_index):\n",
    "    indices = range(i-history_size, i)\n",
    "    # Reshape data from (history_size,) to (history_size, 1)\n",
    "    data.append(np.reshape(dataset[indices], (history_size, 1)))\n",
    "    labels.append(dataset[i+target_size])\n",
    "  return np.array(data), np.array(labels)\n"
   ]
  },
  {
   "cell_type": "code",
   "execution_count": 11,
   "metadata": {
    "id": "4zIs1I765cQt"
   },
   "outputs": [],
   "source": [
    "univariate_past_history = 10\n",
    "univariate_future_target = 0\n",
    "\n",
    "x_train_oil, y_train_oil = univariate_data(oil['oil'].values, 0, 1762,\n",
    "                                           univariate_past_history,\n",
    "                                           univariate_future_target)\n",
    "x_val_oil, y_val_oil = univariate_data(oil['oil'].values, 1762, None,\n",
    "                                       univariate_past_history,\n",
    "                                       univariate_future_target)"
   ]
  },
  {
   "cell_type": "code",
   "execution_count": 12,
   "metadata": {
    "colab": {
     "base_uri": "https://localhost:8080/"
    },
    "id": "cmxAiDuL5wvB",
    "outputId": "4706468e-6078-4da0-a70e-230f530f57b6"
   },
   "outputs": [
    {
     "name": "stdout",
     "output_type": "stream",
     "text": [
      "<RepeatDataset shapes: ((None, 10, 1), (None,)), types: (tf.float64, tf.float64)>\n",
      "<RepeatDataset shapes: ((None, 10, 1), (None,)), types: (tf.float64, tf.float64)>\n"
     ]
    }
   ],
   "source": [
    "BATCH_SIZE = 32 # bacth size in batch-SGD/variants\n",
    "BUFFER_SIZE = 1000 # for shuffling the dataset\n",
    "\n",
    "train_univariate_oil = tf.data.Dataset.from_tensor_slices((x_train_oil, y_train_oil))\n",
    "train_univariate_oil = train_univariate_oil.cache().shuffle(BUFFER_SIZE).batch(BATCH_SIZE).repeat()\n",
    "\n",
    "val_univariate_oil = tf.data.Dataset.from_tensor_slices((x_val_oil, y_val_oil))\n",
    "val_univariate_oil = val_univariate_oil.batch(BATCH_SIZE).repeat()\n",
    "\n",
    "print(train_univariate_oil)\n",
    "print(val_univariate_oil)"
   ]
  },
  {
   "cell_type": "code",
   "execution_count": 13,
   "metadata": {
    "id": "9a-NKZCu5-Tz"
   },
   "outputs": [],
   "source": [
    "simple_lstm_model = tf.keras.models.Sequential([\n",
    "    tf.keras.layers.LSTM(8, input_shape=x_train_oil.shape[-2:]),\n",
    "    tf.keras.layers.Dense(1)\n",
    "])\n",
    "\n",
    "simple_lstm_model.compile(optimizer='adam', loss='mae')"
   ]
  },
  {
   "cell_type": "code",
   "execution_count": 14,
   "metadata": {
    "colab": {
     "base_uri": "https://localhost:8080/"
    },
    "id": "CuGpDUx_6ekM",
    "outputId": "1780ee8b-8141-4bc5-d6b1-f34de5d5f29c"
   },
   "outputs": [
    {
     "name": "stdout",
     "output_type": "stream",
     "text": [
      "Epoch 1/20\n",
      "200/200 [==============================] - 1s 5ms/step - loss: 0.0157 - val_loss: 0.0129\n",
      "Epoch 2/20\n",
      "200/200 [==============================] - 1s 3ms/step - loss: 0.0156 - val_loss: 0.0121\n",
      "Epoch 3/20\n",
      "200/200 [==============================] - 1s 3ms/step - loss: 0.0157 - val_loss: 0.0124\n",
      "Epoch 4/20\n",
      "200/200 [==============================] - 1s 4ms/step - loss: 0.0155 - val_loss: 0.0122\n",
      "Epoch 5/20\n",
      "200/200 [==============================] - 1s 3ms/step - loss: 0.0155 - val_loss: 0.0121\n",
      "Epoch 6/20\n",
      "200/200 [==============================] - 1s 3ms/step - loss: 0.0157 - val_loss: 0.0121\n",
      "Epoch 7/20\n",
      "200/200 [==============================] - 1s 3ms/step - loss: 0.0154 - val_loss: 0.0121\n",
      "Epoch 8/20\n",
      "200/200 [==============================] - 1s 3ms/step - loss: 0.0157 - val_loss: 0.0122\n",
      "Epoch 9/20\n",
      "200/200 [==============================] - 1s 3ms/step - loss: 0.0156 - val_loss: 0.0128\n",
      "Epoch 10/20\n",
      "200/200 [==============================] - 1s 3ms/step - loss: 0.0155 - val_loss: 0.0122\n",
      "Epoch 11/20\n",
      "200/200 [==============================] - 1s 3ms/step - loss: 0.0158 - val_loss: 0.0122\n",
      "Epoch 12/20\n",
      "200/200 [==============================] - 1s 3ms/step - loss: 0.0155 - val_loss: 0.0121\n",
      "Epoch 13/20\n",
      "200/200 [==============================] - 1s 3ms/step - loss: 0.0155 - val_loss: 0.0124\n",
      "Epoch 14/20\n",
      "200/200 [==============================] - 1s 3ms/step - loss: 0.0158 - val_loss: 0.0126\n",
      "Epoch 15/20\n",
      "200/200 [==============================] - 1s 3ms/step - loss: 0.0155 - val_loss: 0.0128\n",
      "Epoch 16/20\n",
      "200/200 [==============================] - 1s 3ms/step - loss: 0.0155 - val_loss: 0.0121\n",
      "Epoch 17/20\n",
      "200/200 [==============================] - 1s 3ms/step - loss: 0.0157 - val_loss: 0.0122\n",
      "Epoch 18/20\n",
      "200/200 [==============================] - 1s 3ms/step - loss: 0.0154 - val_loss: 0.0121\n",
      "Epoch 19/20\n",
      "200/200 [==============================] - 1s 3ms/step - loss: 0.0158 - val_loss: 0.0127\n",
      "Epoch 20/20\n",
      "200/200 [==============================] - 1s 3ms/step - loss: 0.0155 - val_loss: 0.0121\n"
     ]
    },
    {
     "data": {
      "text/plain": [
       "<tensorflow.python.keras.callbacks.History at 0x7f2e437fd0b8>"
      ]
     },
     "execution_count": 14,
     "metadata": {
      "tags": []
     },
     "output_type": "execute_result"
    }
   ],
   "source": [
    "STEPS_PER_EPOCH = 200\n",
    "EPOCHS = 20\n",
    "\n",
    "simple_lstm_model.fit(train_univariate_oil, epochs=EPOCHS,\n",
    "                      steps_per_epoch=STEPS_PER_EPOCH,\n",
    "                      validation_data=val_univariate_oil, validation_steps=50)"
   ]
  },
  {
   "cell_type": "code",
   "execution_count": 15,
   "metadata": {
    "id": "v4qIZ5QZ7ZPI"
   },
   "outputs": [],
   "source": [
    "pred_oil=simple_lstm_model.predict(x_val_oil)"
   ]
  },
  {
   "cell_type": "code",
   "execution_count": 17,
   "metadata": {
    "colab": {
     "base_uri": "https://localhost:8080/",
     "height": 265
    },
    "id": "nXxyi_1r6qru",
    "outputId": "91935643-e8e1-4d69-89a9-5904e60bf8ef"
   },
   "outputs": [
    {
     "data": {
      "image/png": "[encoded data removed]",
      "text/plain": [
       "<Figure size 432x288 with 1 Axes>"
      ]
     },
     "metadata": {
      "needs_background": "light",
      "tags": []
     },
     "output_type": "display_data"
    }
   ],
   "source": [
    "import matplotlib.pyplot as plt\n",
    "plt.plot(pred_oil, label='Pred')\n",
    "plt.plot(y_val_oil, label='Real')\n",
    "plt.legend()\n",
    "plt.show()"
   ]
  },
  {
   "cell_type": "code",
   "execution_count": 18,
   "metadata": {
    "id": "9JrcQmbn8chw"
   },
   "outputs": [],
   "source": [
    "# The predictions are not that good"
   ]
  },
  {
   "cell_type": "code",
   "execution_count": 23,
   "metadata": {
    "colab": {
     "base_uri": "https://localhost:8080/",
     "height": 503
    },
    "id": "by--BsvyVaF_",
    "outputId": "821c4223-b572-4daa-f939-c35576f33b5c"
   },
   "outputs": [
    {
     "name": "stdout",
     "output_type": "stream",
     "text": [
      "Epoch 1/7\n",
      "100/100 [==============================] - 1s 6ms/step - loss: 0.0159 - val_loss: 0.0126\n",
      "Epoch 2/7\n",
      "100/100 [==============================] - 0s 4ms/step - loss: 0.0155 - val_loss: 0.0129\n",
      "Epoch 3/7\n",
      "100/100 [==============================] - 0s 4ms/step - loss: 0.0156 - val_loss: 0.0120\n",
      "Epoch 4/7\n",
      "100/100 [==============================] - 0s 4ms/step - loss: 0.0155 - val_loss: 0.0120\n",
      "Epoch 5/7\n",
      "100/100 [==============================] - 0s 4ms/step - loss: 0.0160 - val_loss: 0.0120\n",
      "Epoch 6/7\n",
      "100/100 [==============================] - 0s 4ms/step - loss: 0.0157 - val_loss: 0.0123\n",
      "Epoch 7/7\n",
      "100/100 [==============================] - 0s 4ms/step - loss: 0.0154 - val_loss: 0.0121\n"
     ]
    },
    {
     "data": {
      "image/png": "[encoded data removed]",
      "text/plain": [
       "<Figure size 432x288 with 1 Axes>"
      ]
     },
     "metadata": {
      "needs_background": "light",
      "tags": []
     },
     "output_type": "display_data"
    }
   ],
   "source": [
    "univariate_past_history = 5\n",
    "univariate_future_target = 0\n",
    "\n",
    "x_train_oil, y_train_oil = univariate_data(oil['oil'].values, 0, 1762,\n",
    "                                           univariate_past_history,\n",
    "                                           univariate_future_target)\n",
    "x_val_oil, y_val_oil = univariate_data(oil['oil'].values, 1762, None,\n",
    "                                       univariate_past_history,\n",
    "                                       univariate_future_target)\n",
    "\n",
    "\n",
    "BATCH_SIZE = 32 # bacth size in batch-SGD/variants\n",
    "BUFFER_SIZE = 1000 # for shuffling the dataset\n",
    "\n",
    "train_univariate_oil = tf.data.Dataset.from_tensor_slices((x_train_oil, y_train_oil))\n",
    "train_univariate_oil = train_univariate_oil.cache().shuffle(BUFFER_SIZE).batch(BATCH_SIZE).repeat()\n",
    "\n",
    "val_univariate_oil = tf.data.Dataset.from_tensor_slices((x_val_oil, y_val_oil))\n",
    "val_univariate_oil = val_univariate_oil.batch(BATCH_SIZE).repeat()\n",
    "\n",
    "\n",
    "simple_lstm_model = tf.keras.models.Sequential([\n",
    "    tf.keras.layers.LSTM(3, input_shape=x_train_oil.shape[-2:]),\n",
    "    tf.keras.layers.Dense(1, activation='linear')\n",
    "])\n",
    "\n",
    "simple_lstm_model.compile(optimizer='adam', loss='mae')\n",
    "\n",
    "STEPS_PER_EPOCH = 100\n",
    "EPOCHS = 7\n",
    "\n",
    "simple_lstm_model.fit(train_univariate_oil, epochs=EPOCHS,\n",
    "                      steps_per_epoch=STEPS_PER_EPOCH,\n",
    "                      validation_data=val_univariate_oil, validation_steps=50)\n",
    "\n",
    "pred_oil=simple_lstm_model.predict(x_val_oil)\n",
    "\n",
    "plt.plot(pred_oil, label='Pred')\n",
    "plt.plot(y_val_oil, label='Real')\n",
    "plt.legend()\n",
    "plt.show()"
   ]
  },
  {
   "cell_type": "code",
   "execution_count": 24,
   "metadata": {
    "id": "3d_WWFZXWGFt"
   },
   "outputs": [],
   "source": [
    "# The random forest model was better"
   ]
  },
  {
   "cell_type": "code",
   "execution_count": null,
   "metadata": {
    "id": "_W1X7dmIW12I"
   },
   "outputs": [],
   "source": []
  }
 ],
 "metadata": {
  "accelerator": "GPU",
  "colab": {
   "name": "company_time_series_lstms.ipynb",
   "provenance": []
  },
  "kernelspec": {
   "display_name": "Python 3",
   "language": "python",
   "name": "python3"
  },
  "language_info": {
   "codemirror_mode": {
    "name": "ipython",
    "version": 3
   },
   "file_extension": ".py",
   "mimetype": "text/x-python",
   "name": "python",
   "nbconvert_exporter": "python",
   "pygments_lexer": "ipython3",
   "version": "3.8.5"
  }
 },
 "nbformat": 4,
 "nbformat_minor": 1
}
