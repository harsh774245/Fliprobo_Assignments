{
 "cells": [
  {
   "cell_type": "code",
   "execution_count": 3,
   "metadata": {},
   "outputs": [
    {
     "data": {
      "text/plain": [
       "120"
      ]
     },
     "execution_count": 3,
     "metadata": {},
     "output_type": "execute_result"
    }
   ],
   "source": [
    "def factorial(n):\n",
    "    if n==1:\n",
    "        return n\n",
    "    else:\n",
    "        fact=n*factorial(n-1)\n",
    "    return fact\n",
    "\n",
    "factorial(5)"
   ]
  },
  {
   "cell_type": "code",
   "execution_count": 14,
   "metadata": {},
   "outputs": [
    {
     "name": "stdout",
     "output_type": "stream",
     "text": [
      "Composite\n"
     ]
    }
   ],
   "source": [
    "def prime(n):\n",
    "    if n%2==0:\n",
    "        print('Composite')\n",
    "    elif n<=2:\n",
    "        print('Composite')\n",
    "        \n",
    "    else:\n",
    "        for i in range(3, (n//2+1),2):\n",
    "            if n%i==0:\n",
    "                print('Composite')\n",
    "                break\n",
    "        else:\n",
    "            print('Prime')\n",
    "            \n",
    "prime(21)"
   ]
  },
  {
   "cell_type": "code",
   "execution_count": 17,
   "metadata": {},
   "outputs": [
    {
     "name": "stdout",
     "output_type": "stream",
     "text": [
      "Palindrome\n"
     ]
    }
   ],
   "source": [
    "def palindrome(string):\n",
    "    rev=string[::-1]\n",
    "    if string==rev:\n",
    "        print('Palindrome')\n",
    "    else:\n",
    "        print('Not Palindrome')\n",
    "\n",
    "palindrome('HaraH')"
   ]
  },
  {
   "cell_type": "code",
   "execution_count": 28,
   "metadata": {},
   "outputs": [
    {
     "data": {
      "text/plain": [
       "5.656854249492381"
      ]
     },
     "execution_count": 28,
     "metadata": {},
     "output_type": "execute_result"
    }
   ],
   "source": [
    "import math\n",
    "def third(s1, s2, missing):\n",
    "    '''s1 and s2 are two available sides\n",
    "    Missing represents which side is missing\n",
    "    missing=H means Hypotenuse is missing\n",
    "           =NH means Perpendicular or base is missing'''\n",
    "    \n",
    "    \n",
    "    if missing=='H':\n",
    "        side=math.sqrt((s1**2) + (s2**2))\n",
    "    else:\n",
    "        side=math.sqrt(abs((s1**2) - (s2**2)))\n",
    "    return side\n",
    "\n",
    "third(7,9,'NH')"
   ]
  },
  {
   "cell_type": "code",
   "execution_count": 23,
   "metadata": {},
   "outputs": [
    {
     "name": "stdout",
     "output_type": "stream",
     "text": [
      "{'s': 3, 'u': 2, 'd': 2, 'h': 2, 'a': 1, 'n': 1, 'i': 1, 'g': 1, 'o': 2}\n"
     ]
    }
   ],
   "source": [
    "def frequency(string):\n",
    "    count={}\n",
    "    for letter in string:\n",
    "        if letter != ' ':\n",
    "            count[letter]=string.count(letter)\n",
    "    print(count)\n",
    "frequency('sudhanshu is good')"
   ]
  },
  {
   "cell_type": "code",
   "execution_count": 25,
   "metadata": {},
   "outputs": [
    {
     "data": {
      "text/plain": [
       "2.0"
      ]
     },
     "execution_count": 25,
     "metadata": {},
     "output_type": "execute_result"
    }
   ],
   "source": [
    "math.sqrt(abs(-4))"
   ]
  },
  {
   "cell_type": "code",
   "execution_count": null,
   "metadata": {},
   "outputs": [],
   "source": []
  }
 ],
 "metadata": {
  "kernelspec": {
   "display_name": "Python 3",
   "language": "python",
   "name": "python3"
  },
  "language_info": {
   "codemirror_mode": {
    "name": "ipython",
    "version": 3
   },
   "file_extension": ".py",
   "mimetype": "text/x-python",
   "name": "python",
   "nbconvert_exporter": "python",
   "pygments_lexer": "ipython3",
   "version": "3.8.2"
  }
 },
 "nbformat": 4,
 "nbformat_minor": 4
}
