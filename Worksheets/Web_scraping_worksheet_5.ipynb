{
 "cells": [
  {
   "cell_type": "code",
   "execution_count": 2,
   "metadata": {},
   "outputs": [
    {
     "name": "stdout",
     "output_type": "stream",
     "text": [
      "List all the header tags :\n",
      "\n",
      "<h1 class=\"firstHeading\" id=\"firstHeading\" lang=\"en\">Main Page</h1>\n",
      "\n",
      "<h2 class=\"mp-h2\" id=\"mp-tfa-h2\"><span id=\"From_today.27s_featured_article\"></span><span class=\"mw-headline\" id=\"From_today's_featured_article\">From today's featured article</span></h2>\n",
      "\n",
      "<h2 class=\"mp-h2\" id=\"mp-dyk-h2\"><span class=\"mw-headline\" id=\"Did_you_know_...\">Did you know ...</span></h2>\n",
      "\n",
      "<h2 class=\"mp-h2\" id=\"mp-itn-h2\"><span class=\"mw-headline\" id=\"In_the_news\">In the news</span></h2>\n",
      "\n",
      "<h2 class=\"mp-h2\" id=\"mp-otd-h2\"><span class=\"mw-headline\" id=\"On_this_day\">On this day</span></h2>\n",
      "\n",
      "<h2 class=\"mp-h2\" id=\"mp-tfp-h2\"><span id=\"Today.27s_featured_picture\"></span><span class=\"mw-headline\" id=\"Today's_featured_picture\">Today's featured picture</span></h2>\n",
      "\n",
      "<h2 class=\"mp-h2\" id=\"mp-other\"><span class=\"mw-headline\" id=\"Other_areas_of_Wikipedia\">Other areas of Wikipedia</span></h2>\n",
      "\n",
      "<h2 class=\"mp-h2\" id=\"mp-sister\"><span id=\"Wikipedia.27s_sister_projects\"></span><span class=\"mw-headline\" id=\"Wikipedia's_sister_projects\">Wikipedia's sister projects</span></h2>\n",
      "\n",
      "<h2 class=\"mp-h2\" id=\"mp-lang\"><span class=\"mw-headline\" id=\"Wikipedia_languages\">Wikipedia languages</span></h2>\n",
      "\n",
      "<h2>Navigation menu</h2>\n",
      "\n",
      "<h3 id=\"p-personal-label\">\n",
      "<span>Personal tools</span>\n",
      "</h3>\n",
      "\n",
      "<h3 id=\"p-namespaces-label\">\n",
      "<span>Namespaces</span>\n",
      "</h3>\n",
      "\n",
      "<h3 id=\"p-variants-label\">\n",
      "<span>Variants</span>\n",
      "</h3>\n",
      "\n",
      "<h3 id=\"p-views-label\">\n",
      "<span>Views</span>\n",
      "</h3>\n",
      "\n",
      "<h3 id=\"p-cactions-label\">\n",
      "<span>More</span>\n",
      "</h3>\n",
      "\n",
      "<h3>\n",
      "<label for=\"searchInput\">Search</label>\n",
      "</h3>\n",
      "\n",
      "<h3 id=\"p-navigation-label\">\n",
      "<span>Navigation</span>\n",
      "</h3>\n",
      "\n",
      "<h3 id=\"p-interaction-label\">\n",
      "<span>Contribute</span>\n",
      "</h3>\n",
      "\n",
      "<h3 id=\"p-tb-label\">\n",
      "<span>Tools</span>\n",
      "</h3>\n",
      "\n",
      "<h3 id=\"p-coll-print_export-label\">\n",
      "<span>Print/export</span>\n",
      "</h3>\n",
      "\n",
      "<h3 id=\"p-wikibase-otherprojects-label\">\n",
      "<span>In other projects</span>\n",
      "</h3>\n",
      "\n",
      "<h3 id=\"p-lang-label\">\n",
      "<span>Languages</span>\n",
      "</h3>\n"
     ]
    }
   ],
   "source": [
    "from urllib.request import urlopen\n",
    "from bs4 import BeautifulSoup\n",
    "html = urlopen('https://en.wikipedia.org/wiki/Main_Page')\n",
    "bs = BeautifulSoup(html, \"html.parser\")\n",
    "titles = bs.find_all(['h1', 'h2','h3','h4','h5','h6', 'h7'])\n",
    "print('List all the header tags :', *titles, sep='\\n\\n')"
   ]
  },
  {
   "cell_type": "code",
   "execution_count": null,
   "metadata": {},
   "outputs": [],
   "source": []
  },
  {
   "cell_type": "code",
   "execution_count": null,
   "metadata": {},
   "outputs": [],
   "source": []
  },
  {
   "cell_type": "code",
   "execution_count": null,
   "metadata": {},
   "outputs": [],
   "source": []
  },
  {
   "cell_type": "code",
   "execution_count": 3,
   "metadata": {},
   "outputs": [],
   "source": [
    "from selenium.webdriver.common.keys import Keys\n",
    "from selenium import webdriver\n",
    "import requests\n",
    "import urllib.request\n",
    "from selenium.common.exceptions import StaleElementReferenceException, NoSuchElementException"
   ]
  },
  {
   "cell_type": "code",
   "execution_count": 57,
   "metadata": {},
   "outputs": [],
   "source": [
    "data={}\n",
    "data['Movie']=[]\n",
    "data['Rating']=[]\n",
    "data['Duration']=[]\n",
    "data['Director']=[]\n",
    "data['Cast']=[]"
   ]
  },
  {
   "cell_type": "code",
   "execution_count": 52,
   "metadata": {},
   "outputs": [
    {
     "name": "stdout",
     "output_type": "stream",
     "text": [
      "250\n"
     ]
    }
   ],
   "source": [
    "browser = webdriver.Firefox()\n",
    "url = browser.get('https://www.imdb.com/chart/top/?ref_=nv_mv_250')\n",
    "href=[]\n",
    "links=browser.find_elements_by_xpath('//td[@class=\"posterColumn\"]/a')\n",
    "for link in links:\n",
    "    href.append(link.get_attribute('href'))\n",
    "print(len(href))"
   ]
  },
  {
   "cell_type": "code",
   "execution_count": 58,
   "metadata": {},
   "outputs": [],
   "source": [
    "for i in range(0,99):\n",
    "    cast=[]\n",
    "    url = browser.get(href[i])\n",
    "    data['Movie'].append(browser.find_element_by_xpath('//div[@class=\"title_wrapper\"]/h1').text)\n",
    "    data['Rating'].append(browser.find_element_by_xpath('//div[@class=\"ratings_wrapper\"]/div/div/strong').text)\n",
    "    data['Duration'].append(browser.find_element_by_xpath('//div[@class=\"title_wrapper\"]/div/time').text)\n",
    "    data['Director'].append(browser.find_element_by_xpath('//div[@class=\"credit_summary_item\"]/a').text)\n",
    "    stars=browser.find_elements_by_xpath('//div[@class=\"credit_summary_item\"]/a')\n",
    "    p=stars[-1].get_attribute('href')\n",
    "    browser.get(p)\n",
    "    star1=browser.find_elements_by_xpath('//tr[@class=\"odd\"]//td//a')\n",
    "    for star in star1[1:15:3]:\n",
    "        cast.append(str(star.text))\n",
    "\n",
    "    star2=browser.find_elements_by_xpath('//tr[@class=\"even\"]//td//a')\n",
    "    for star in star2[1:15:3]:\n",
    "        cast.append(str(star.text))\n",
    "        \n",
    "    data['Cast'].append(', '.join(cast))"
   ]
  },
  {
   "cell_type": "code",
   "execution_count": 59,
   "metadata": {},
   "outputs": [
    {
     "name": "stdout",
     "output_type": "stream",
     "text": [
      "(99, 5)\n"
     ]
    },
    {
     "data": {
      "text/html": [
       "<div>\n",
       "<style scoped>\n",
       "    .dataframe tbody tr th:only-of-type {\n",
       "        vertical-align: middle;\n",
       "    }\n",
       "\n",
       "    .dataframe tbody tr th {\n",
       "        vertical-align: top;\n",
       "    }\n",
       "\n",
       "    .dataframe thead th {\n",
       "        text-align: right;\n",
       "    }\n",
       "</style>\n",
       "<table border=\"1\" class=\"dataframe\">\n",
       "  <thead>\n",
       "    <tr style=\"text-align: right;\">\n",
       "      <th></th>\n",
       "      <th>Movie</th>\n",
       "      <th>Rating</th>\n",
       "      <th>Duration</th>\n",
       "      <th>Director</th>\n",
       "      <th>Cast</th>\n",
       "    </tr>\n",
       "  </thead>\n",
       "  <tbody>\n",
       "    <tr>\n",
       "      <th>0</th>\n",
       "      <td>The Shawshank Redemption (1994)</td>\n",
       "      <td>9.3</td>\n",
       "      <td>2h 22min</td>\n",
       "      <td>Frank Darabont</td>\n",
       "      <td>Tim Robbins, Bob Gunton, Clancy Brown, Mark Ro...</td>\n",
       "    </tr>\n",
       "    <tr>\n",
       "      <th>1</th>\n",
       "      <td>The Godfather (1972)</td>\n",
       "      <td>9.2</td>\n",
       "      <td>2h 55min</td>\n",
       "      <td>Francis Ford Coppola</td>\n",
       "      <td>Marlon Brando, James Caan, Robert Duvall, John...</td>\n",
       "    </tr>\n",
       "    <tr>\n",
       "      <th>2</th>\n",
       "      <td>The Godfather: Part II (1974)</td>\n",
       "      <td>9.0</td>\n",
       "      <td>3h 22min</td>\n",
       "      <td>Francis Ford Coppola</td>\n",
       "      <td>Al Pacino, Diane Keaton, John Cazale, Lee Stra...</td>\n",
       "    </tr>\n",
       "    <tr>\n",
       "      <th>3</th>\n",
       "      <td>The Dark Knight (2008)</td>\n",
       "      <td>9.0</td>\n",
       "      <td>2h 32min</td>\n",
       "      <td>Christopher Nolan</td>\n",
       "      <td>Christian Bale, Aaron Eckhart, Maggie Gyllenha...</td>\n",
       "    </tr>\n",
       "    <tr>\n",
       "      <th>4</th>\n",
       "      <td>12 Angry Men (1957)</td>\n",
       "      <td>8.9</td>\n",
       "      <td>1h 36min</td>\n",
       "      <td>Sidney Lumet</td>\n",
       "      <td>Martin Balsam, Lee J. Cobb, Jack Klugman, Jack...</td>\n",
       "    </tr>\n",
       "  </tbody>\n",
       "</table>\n",
       "</div>"
      ],
      "text/plain": [
       "                             Movie Rating  Duration              Director  \\\n",
       "0  The Shawshank Redemption (1994)    9.3  2h 22min        Frank Darabont   \n",
       "1             The Godfather (1972)    9.2  2h 55min  Francis Ford Coppola   \n",
       "2    The Godfather: Part II (1974)    9.0  3h 22min  Francis Ford Coppola   \n",
       "3           The Dark Knight (2008)    9.0  2h 32min     Christopher Nolan   \n",
       "4              12 Angry Men (1957)    8.9  1h 36min          Sidney Lumet   \n",
       "\n",
       "                                                Cast  \n",
       "0  Tim Robbins, Bob Gunton, Clancy Brown, Mark Ro...  \n",
       "1  Marlon Brando, James Caan, Robert Duvall, John...  \n",
       "2  Al Pacino, Diane Keaton, John Cazale, Lee Stra...  \n",
       "3  Christian Bale, Aaron Eckhart, Maggie Gyllenha...  \n",
       "4  Martin Balsam, Lee J. Cobb, Jack Klugman, Jack...  "
      ]
     },
     "execution_count": 59,
     "metadata": {},
     "output_type": "execute_result"
    }
   ],
   "source": [
    "import pandas as pd\n",
    "df=pd.DataFrame(data)\n",
    "print(df.shape)\n",
    "df.head()"
   ]
  },
  {
   "cell_type": "code",
   "execution_count": null,
   "metadata": {},
   "outputs": [],
   "source": []
  },
  {
   "cell_type": "code",
   "execution_count": null,
   "metadata": {},
   "outputs": [],
   "source": []
  },
  {
   "cell_type": "code",
   "execution_count": null,
   "metadata": {},
   "outputs": [],
   "source": []
  },
  {
   "cell_type": "code",
   "execution_count": 110,
   "metadata": {},
   "outputs": [],
   "source": [
    "driver = webdriver.Firefox()\n",
    "url = driver.get('https://bookpage.com/reviews')"
   ]
  },
  {
   "cell_type": "code",
   "execution_count": 66,
   "metadata": {},
   "outputs": [],
   "source": [
    "books={}\n",
    "books['Name']=[]\n",
    "books['Author']=[]\n",
    "books['Genre']=[]\n",
    "books['Review']=[]"
   ]
  },
  {
   "cell_type": "code",
   "execution_count": 67,
   "metadata": {},
   "outputs": [],
   "source": [
    "book_name=driver.find_elements_by_xpath('//div[@class=\"flex-article-content\"]/h4/a')\n",
    "for book in book_name[:5]:\n",
    "    books['Name'].append(book.text)"
   ]
  },
  {
   "cell_type": "code",
   "execution_count": 69,
   "metadata": {},
   "outputs": [],
   "source": [
    "author=driver.find_elements_by_xpath('//div[@class=\"flex-article-content\"]//p[@class=\"sans bold\"]')\n",
    "for aut in author[:5]:\n",
    "    books['Author'].append(aut.text)"
   ]
  },
  {
   "cell_type": "code",
   "execution_count": 71,
   "metadata": {},
   "outputs": [],
   "source": [
    "genre=driver.find_elements_by_xpath('//div[@class=\"flex-article-content\"]//p[@class=\"genre-links hidden-phone\"]')\n",
    "for gen in genre[:5]:\n",
    "    books['Genre'].append(gen.text)"
   ]
  },
  {
   "cell_type": "code",
   "execution_count": 111,
   "metadata": {},
   "outputs": [],
   "source": [
    "review_link=driver.find_elements_by_xpath('//div[@class=\"read-full\"]/a')"
   ]
  },
  {
   "cell_type": "code",
   "execution_count": 112,
   "metadata": {},
   "outputs": [],
   "source": [
    "href=[]\n",
    "for i in range(5):\n",
    "    href.append(review_link[i].get_attribute('href'))"
   ]
  },
  {
   "cell_type": "code",
   "execution_count": 114,
   "metadata": {},
   "outputs": [
    {
     "data": {
      "text/plain": [
       "['https://bookpage.com/reviews/25658-robert-broder-crow-snow-childrens',\n",
       " 'https://bookpage.com/reviews/25642-kelly-powell-magic-dark-strange-ya-fiction',\n",
       " 'https://bookpage.com/reviews/25668-jonathan-daniel-wells-kidnapping-club-nonfiction',\n",
       " 'https://bookpage.com/reviews/25652-cecily-von-ziegesar-cobble-hill-fiction',\n",
       " 'https://bookpage.com/reviews/25561-h-w-brands-zealot-emancipator-nonfiction']"
      ]
     },
     "execution_count": 114,
     "metadata": {},
     "output_type": "execute_result"
    }
   ],
   "source": [
    "href"
   ]
  },
  {
   "cell_type": "code",
   "execution_count": 117,
   "metadata": {},
   "outputs": [],
   "source": [
    "books['Review']=[]\n",
    "for i in href:\n",
    "    te=[]\n",
    "    driver.get(i)\n",
    "    texts=driver.find_elements_by_xpath('//div[@class=\"article-body\"]//p')\n",
    "    for t in texts:\n",
    "        te.append(t.text)\n",
    "    books['Review'].append(' '.join(te))"
   ]
  },
  {
   "cell_type": "code",
   "execution_count": 119,
   "metadata": {},
   "outputs": [
    {
     "data": {
      "text/plain": [
       "5"
      ]
     },
     "execution_count": 119,
     "metadata": {},
     "output_type": "execute_result"
    }
   ],
   "source": [
    "len(books['Review'])"
   ]
  },
  {
   "cell_type": "code",
   "execution_count": 120,
   "metadata": {},
   "outputs": [
    {
     "data": {
      "text/html": [
       "<div>\n",
       "<style scoped>\n",
       "    .dataframe tbody tr th:only-of-type {\n",
       "        vertical-align: middle;\n",
       "    }\n",
       "\n",
       "    .dataframe tbody tr th {\n",
       "        vertical-align: top;\n",
       "    }\n",
       "\n",
       "    .dataframe thead th {\n",
       "        text-align: right;\n",
       "    }\n",
       "</style>\n",
       "<table border=\"1\" class=\"dataframe\">\n",
       "  <thead>\n",
       "    <tr style=\"text-align: right;\">\n",
       "      <th></th>\n",
       "      <th>Name</th>\n",
       "      <th>Author</th>\n",
       "      <th>Genre</th>\n",
       "      <th>Review</th>\n",
       "    </tr>\n",
       "  </thead>\n",
       "  <tbody>\n",
       "    <tr>\n",
       "      <th>0</th>\n",
       "      <td>Crow &amp; Snow</td>\n",
       "      <td>Robert Broder, Olivier Tallec</td>\n",
       "      <td>Children’s / Children’s Picture Book</td>\n",
       "      <td>A friendly scarecrow named Crow stands alone ...</td>\n",
       "    </tr>\n",
       "    <tr>\n",
       "      <th>1</th>\n",
       "      <td>Magic Dark and Strange</td>\n",
       "      <td>Kelly Powell</td>\n",
       "      <td>YA Fiction / YA</td>\n",
       "      <td>By day, Catherine works in a print shop. At n...</td>\n",
       "    </tr>\n",
       "    <tr>\n",
       "      <th>2</th>\n",
       "      <td>The Kidnapping Club</td>\n",
       "      <td>Jonathan Daniel Wells</td>\n",
       "      <td>Nonfiction / American History / African Americ...</td>\n",
       "      <td>Urbane and bustling, New York City is often c...</td>\n",
       "    </tr>\n",
       "    <tr>\n",
       "      <th>3</th>\n",
       "      <td>Cobble Hill</td>\n",
       "      <td>Cecily von Ziegesar</td>\n",
       "      <td>Fiction / Popular Fiction</td>\n",
       "      <td>When a person chooses a new home, it’s rarely...</td>\n",
       "    </tr>\n",
       "    <tr>\n",
       "      <th>4</th>\n",
       "      <td>★ The Zealot and the Emancipator</td>\n",
       "      <td>H.W. Brands</td>\n",
       "      <td>Nonfiction / History / American History</td>\n",
       "      <td>You might be forgiven for thinking that a boo...</td>\n",
       "    </tr>\n",
       "  </tbody>\n",
       "</table>\n",
       "</div>"
      ],
      "text/plain": [
       "                               Name                         Author  \\\n",
       "0                       Crow & Snow  Robert Broder, Olivier Tallec   \n",
       "1            Magic Dark and Strange                   Kelly Powell   \n",
       "2               The Kidnapping Club          Jonathan Daniel Wells   \n",
       "3                       Cobble Hill            Cecily von Ziegesar   \n",
       "4  ★ The Zealot and the Emancipator                    H.W. Brands   \n",
       "\n",
       "                                               Genre  \\\n",
       "0               Children’s / Children’s Picture Book   \n",
       "1                                    YA Fiction / YA   \n",
       "2  Nonfiction / American History / African Americ...   \n",
       "3                          Fiction / Popular Fiction   \n",
       "4            Nonfiction / History / American History   \n",
       "\n",
       "                                              Review  \n",
       "0   A friendly scarecrow named Crow stands alone ...  \n",
       "1   By day, Catherine works in a print shop. At n...  \n",
       "2   Urbane and bustling, New York City is often c...  \n",
       "3   When a person chooses a new home, it’s rarely...  \n",
       "4   You might be forgiven for thinking that a boo...  "
      ]
     },
     "execution_count": 120,
     "metadata": {},
     "output_type": "execute_result"
    }
   ],
   "source": [
    "book_df=pd.DataFrame(books)\n",
    "book_df"
   ]
  },
  {
   "cell_type": "code",
   "execution_count": null,
   "metadata": {},
   "outputs": [],
   "source": []
  },
  {
   "cell_type": "code",
   "execution_count": null,
   "metadata": {},
   "outputs": [],
   "source": []
  },
  {
   "cell_type": "code",
   "execution_count": null,
   "metadata": {},
   "outputs": [],
   "source": []
  },
  {
   "cell_type": "code",
   "execution_count": 121,
   "metadata": {},
   "outputs": [],
   "source": [
    "driver = webdriver.Firefox()\n",
    "url = driver.get('https://www.icc-cricket.com/rankings/mens/team-rankings/odi')"
   ]
  },
  {
   "cell_type": "code",
   "execution_count": 125,
   "metadata": {},
   "outputs": [],
   "source": [
    "odi_team=[]"
   ]
  },
  {
   "cell_type": "code",
   "execution_count": 126,
   "metadata": {},
   "outputs": [],
   "source": [
    "odi_team_1=driver.find_element_by_xpath('//td[@class=\"rankings-block__banner--team-name\"]//span[@class=\"u-hide-phablet\"]').text\n",
    "odi_team.append(odi_team_1)"
   ]
  },
  {
   "cell_type": "code",
   "execution_count": 128,
   "metadata": {},
   "outputs": [],
   "source": [
    "odi_teams=driver.find_elements_by_xpath('//tr[@class=\"table-body\"]//td[@class=\"table-body__cell rankings-table__team\"]//span[@class=\"u-hide-phablet\"]')\n",
    "for i in odi_teams:\n",
    "    odi_team.append(i.text)"
   ]
  },
  {
   "cell_type": "code",
   "execution_count": 130,
   "metadata": {},
   "outputs": [],
   "source": [
    "odi_team=odi_team[:10]"
   ]
  },
  {
   "cell_type": "code",
   "execution_count": 131,
   "metadata": {},
   "outputs": [
    {
     "data": {
      "text/plain": [
       "['England',\n",
       " 'India',\n",
       " 'New Zealand',\n",
       " 'Australia',\n",
       " 'South Africa',\n",
       " 'Pakistan',\n",
       " 'Bangladesh',\n",
       " 'Sri Lanka',\n",
       " 'West Indies',\n",
       " 'Afghanistan']"
      ]
     },
     "execution_count": 131,
     "metadata": {},
     "output_type": "execute_result"
    }
   ],
   "source": [
    "odi_team"
   ]
  },
  {
   "cell_type": "code",
   "execution_count": 132,
   "metadata": {},
   "outputs": [],
   "source": [
    "odi_bat=[]"
   ]
  },
  {
   "cell_type": "code",
   "execution_count": 133,
   "metadata": {},
   "outputs": [],
   "source": [
    "url = driver.get('https://www.icc-cricket.com/rankings/mens/player-rankings/odi/batting')"
   ]
  },
  {
   "cell_type": "code",
   "execution_count": 134,
   "metadata": {},
   "outputs": [],
   "source": [
    "odi_bat_1=driver.find_element_by_xpath('//div[@class=\"rankings-block__banner--name-large\"]').text\n",
    "odi_bat.append(odi_bat_1)"
   ]
  },
  {
   "cell_type": "code",
   "execution_count": 136,
   "metadata": {},
   "outputs": [],
   "source": [
    "odi_bats=driver.find_elements_by_xpath('//tr[@class=\"table-body\"]//td[@class=\"table-body__cell rankings-table__name name\"]//a')\n",
    "for i in odi_bats:\n",
    "    odi_bat.append(i.text)"
   ]
  },
  {
   "cell_type": "code",
   "execution_count": 138,
   "metadata": {},
   "outputs": [],
   "source": [
    "odi_bat=odi_bat[:10]"
   ]
  },
  {
   "cell_type": "code",
   "execution_count": 139,
   "metadata": {},
   "outputs": [
    {
     "data": {
      "text/plain": [
       "['Virat Kohli',\n",
       " 'Rohit Sharma',\n",
       " 'Babar Azam',\n",
       " 'Ross Taylor',\n",
       " 'Francois du Plessis',\n",
       " 'Kane Williamson',\n",
       " 'Aaron Finch',\n",
       " 'David Warner',\n",
       " 'Quinton de Kock',\n",
       " 'Jonny Bairstow']"
      ]
     },
     "execution_count": 139,
     "metadata": {},
     "output_type": "execute_result"
    }
   ],
   "source": [
    "odi_bat"
   ]
  },
  {
   "cell_type": "code",
   "execution_count": 140,
   "metadata": {},
   "outputs": [],
   "source": [
    "odi_bowl=[]"
   ]
  },
  {
   "cell_type": "code",
   "execution_count": 141,
   "metadata": {},
   "outputs": [],
   "source": [
    "url = driver.get('https://www.icc-cricket.com/rankings/mens/player-rankings/odi/bowling')"
   ]
  },
  {
   "cell_type": "code",
   "execution_count": 142,
   "metadata": {},
   "outputs": [],
   "source": [
    "odi_bowl_1=driver.find_element_by_xpath('//div[@class=\"rankings-block__banner--name-large\"]').text\n",
    "odi_bowl.append(odi_bowl_1)"
   ]
  },
  {
   "cell_type": "code",
   "execution_count": 144,
   "metadata": {},
   "outputs": [],
   "source": [
    "odi_bowls=driver.find_elements_by_xpath('//tr[@class=\"table-body\"]//td[@class=\"table-body__cell rankings-table__name name\"]//a')\n",
    "for i in odi_bowls:\n",
    "    odi_bowl.append(i.text)"
   ]
  },
  {
   "cell_type": "code",
   "execution_count": 146,
   "metadata": {},
   "outputs": [],
   "source": [
    "odi_bowl=odi_bowl[:10]"
   ]
  },
  {
   "cell_type": "code",
   "execution_count": 147,
   "metadata": {},
   "outputs": [
    {
     "data": {
      "text/plain": [
       "['Trent Boult',\n",
       " 'Jasprit Bumrah',\n",
       " 'Mujeeb Ur Rahman',\n",
       " 'Chris Woakes',\n",
       " 'Kagiso Rabada',\n",
       " 'Pat Cummins',\n",
       " 'Mohammad Amir',\n",
       " 'Josh Hazlewood',\n",
       " 'Matt Henry',\n",
       " 'Jofra Archer']"
      ]
     },
     "execution_count": 147,
     "metadata": {},
     "output_type": "execute_result"
    }
   ],
   "source": [
    "odi_bowl"
   ]
  },
  {
   "cell_type": "code",
   "execution_count": null,
   "metadata": {},
   "outputs": [],
   "source": []
  },
  {
   "cell_type": "code",
   "execution_count": null,
   "metadata": {},
   "outputs": [],
   "source": []
  }
 ],
 "metadata": {
  "kernelspec": {
   "display_name": "Python 3",
   "language": "python",
   "name": "python3"
  },
  "language_info": {
   "codemirror_mode": {
    "name": "ipython",
    "version": 3
   },
   "file_extension": ".py",
   "mimetype": "text/x-python",
   "name": "python",
   "nbconvert_exporter": "python",
   "pygments_lexer": "ipython3",
   "version": "3.8.5"
  }
 },
 "nbformat": 4,
 "nbformat_minor": 4
}
