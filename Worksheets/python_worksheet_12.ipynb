{
 "cells": [
  {
   "cell_type": "code",
   "execution_count": 1,
   "metadata": {},
   "outputs": [],
   "source": [
    "import pandas as pd"
   ]
  },
  {
   "cell_type": "code",
   "execution_count": 2,
   "metadata": {},
   "outputs": [
    {
     "data": {
      "text/html": [
       "<div>\n",
       "<style scoped>\n",
       "    .dataframe tbody tr th:only-of-type {\n",
       "        vertical-align: middle;\n",
       "    }\n",
       "\n",
       "    .dataframe tbody tr th {\n",
       "        vertical-align: top;\n",
       "    }\n",
       "\n",
       "    .dataframe thead th {\n",
       "        text-align: right;\n",
       "    }\n",
       "</style>\n",
       "<table border=\"1\" class=\"dataframe\">\n",
       "  <thead>\n",
       "    <tr style=\"text-align: right;\">\n",
       "      <th></th>\n",
       "      <th>Suburb</th>\n",
       "      <th>Address</th>\n",
       "      <th>Rooms</th>\n",
       "      <th>Type</th>\n",
       "      <th>Price</th>\n",
       "      <th>Method</th>\n",
       "      <th>SellerG</th>\n",
       "      <th>Date</th>\n",
       "      <th>Distance</th>\n",
       "      <th>Postcode</th>\n",
       "      <th>...</th>\n",
       "      <th>Bathroom</th>\n",
       "      <th>Car</th>\n",
       "      <th>Landsize</th>\n",
       "      <th>BuildingArea</th>\n",
       "      <th>YearBuilt</th>\n",
       "      <th>CouncilArea</th>\n",
       "      <th>Lattitude</th>\n",
       "      <th>Longtitude</th>\n",
       "      <th>Regionname</th>\n",
       "      <th>Propertycount</th>\n",
       "    </tr>\n",
       "  </thead>\n",
       "  <tbody>\n",
       "    <tr>\n",
       "      <th>0</th>\n",
       "      <td>Abbotsford</td>\n",
       "      <td>68 Studley St</td>\n",
       "      <td>2.0</td>\n",
       "      <td>h</td>\n",
       "      <td>NaN</td>\n",
       "      <td>SS</td>\n",
       "      <td>Jellis</td>\n",
       "      <td>03-09-2016</td>\n",
       "      <td>2.5</td>\n",
       "      <td>3067.0</td>\n",
       "      <td>...</td>\n",
       "      <td>1.0</td>\n",
       "      <td>1.0</td>\n",
       "      <td>126.0</td>\n",
       "      <td>NaN</td>\n",
       "      <td>NaN</td>\n",
       "      <td>Yarra</td>\n",
       "      <td>-37.8014</td>\n",
       "      <td>144.9958</td>\n",
       "      <td>Northern Metropolitan</td>\n",
       "      <td>4019.0</td>\n",
       "    </tr>\n",
       "    <tr>\n",
       "      <th>1</th>\n",
       "      <td>Abbotsford</td>\n",
       "      <td>85 Turner St</td>\n",
       "      <td>2.0</td>\n",
       "      <td>h</td>\n",
       "      <td>1480000.0</td>\n",
       "      <td>S</td>\n",
       "      <td>Biggin</td>\n",
       "      <td>03-12-2016</td>\n",
       "      <td>2.5</td>\n",
       "      <td>3067.0</td>\n",
       "      <td>...</td>\n",
       "      <td>1.0</td>\n",
       "      <td>1.0</td>\n",
       "      <td>202.0</td>\n",
       "      <td>NaN</td>\n",
       "      <td>NaN</td>\n",
       "      <td>Yarra</td>\n",
       "      <td>-37.7996</td>\n",
       "      <td>144.9984</td>\n",
       "      <td>Northern Metropolitan</td>\n",
       "      <td>4019.0</td>\n",
       "    </tr>\n",
       "    <tr>\n",
       "      <th>2</th>\n",
       "      <td>Abbotsford</td>\n",
       "      <td>25 Bloomburg St</td>\n",
       "      <td>2.0</td>\n",
       "      <td>h</td>\n",
       "      <td>1035000.0</td>\n",
       "      <td>S</td>\n",
       "      <td>Biggin</td>\n",
       "      <td>04-02-2016</td>\n",
       "      <td>2.5</td>\n",
       "      <td>3067.0</td>\n",
       "      <td>...</td>\n",
       "      <td>1.0</td>\n",
       "      <td>0.0</td>\n",
       "      <td>156.0</td>\n",
       "      <td>79.0</td>\n",
       "      <td>1900.0</td>\n",
       "      <td>Yarra</td>\n",
       "      <td>-37.8079</td>\n",
       "      <td>144.9934</td>\n",
       "      <td>Northern Metropolitan</td>\n",
       "      <td>4019.0</td>\n",
       "    </tr>\n",
       "    <tr>\n",
       "      <th>3</th>\n",
       "      <td>Abbotsford</td>\n",
       "      <td>18/659 Victoria St</td>\n",
       "      <td>3.0</td>\n",
       "      <td>u</td>\n",
       "      <td>NaN</td>\n",
       "      <td>VB</td>\n",
       "      <td>Rounds</td>\n",
       "      <td>04-02-2016</td>\n",
       "      <td>2.5</td>\n",
       "      <td>3067.0</td>\n",
       "      <td>...</td>\n",
       "      <td>2.0</td>\n",
       "      <td>1.0</td>\n",
       "      <td>0.0</td>\n",
       "      <td>NaN</td>\n",
       "      <td>NaN</td>\n",
       "      <td>Yarra</td>\n",
       "      <td>-37.8114</td>\n",
       "      <td>145.0116</td>\n",
       "      <td>Northern Metropolitan</td>\n",
       "      <td>4019.0</td>\n",
       "    </tr>\n",
       "    <tr>\n",
       "      <th>4</th>\n",
       "      <td>Abbotsford</td>\n",
       "      <td>5 Charles St</td>\n",
       "      <td>3.0</td>\n",
       "      <td>h</td>\n",
       "      <td>1465000.0</td>\n",
       "      <td>SP</td>\n",
       "      <td>Biggin</td>\n",
       "      <td>04-03-2017</td>\n",
       "      <td>2.5</td>\n",
       "      <td>3067.0</td>\n",
       "      <td>...</td>\n",
       "      <td>2.0</td>\n",
       "      <td>0.0</td>\n",
       "      <td>134.0</td>\n",
       "      <td>150.0</td>\n",
       "      <td>1900.0</td>\n",
       "      <td>Yarra</td>\n",
       "      <td>-37.8093</td>\n",
       "      <td>144.9944</td>\n",
       "      <td>Northern Metropolitan</td>\n",
       "      <td>4019.0</td>\n",
       "    </tr>\n",
       "  </tbody>\n",
       "</table>\n",
       "<p>5 rows × 21 columns</p>\n",
       "</div>"
      ],
      "text/plain": [
       "       Suburb             Address  Rooms Type      Price Method SellerG  \\\n",
       "0  Abbotsford       68 Studley St    2.0    h        NaN     SS  Jellis   \n",
       "1  Abbotsford        85 Turner St    2.0    h  1480000.0      S  Biggin   \n",
       "2  Abbotsford     25 Bloomburg St    2.0    h  1035000.0      S  Biggin   \n",
       "3  Abbotsford  18/659 Victoria St    3.0    u        NaN     VB  Rounds   \n",
       "4  Abbotsford        5 Charles St    3.0    h  1465000.0     SP  Biggin   \n",
       "\n",
       "         Date  Distance  Postcode  ...  Bathroom  Car  Landsize  BuildingArea  \\\n",
       "0  03-09-2016       2.5    3067.0  ...       1.0  1.0     126.0           NaN   \n",
       "1  03-12-2016       2.5    3067.0  ...       1.0  1.0     202.0           NaN   \n",
       "2  04-02-2016       2.5    3067.0  ...       1.0  0.0     156.0          79.0   \n",
       "3  04-02-2016       2.5    3067.0  ...       2.0  1.0       0.0           NaN   \n",
       "4  04-03-2017       2.5    3067.0  ...       2.0  0.0     134.0         150.0   \n",
       "\n",
       "   YearBuilt  CouncilArea Lattitude  Longtitude             Regionname  \\\n",
       "0        NaN        Yarra  -37.8014    144.9958  Northern Metropolitan   \n",
       "1        NaN        Yarra  -37.7996    144.9984  Northern Metropolitan   \n",
       "2     1900.0        Yarra  -37.8079    144.9934  Northern Metropolitan   \n",
       "3        NaN        Yarra  -37.8114    145.0116  Northern Metropolitan   \n",
       "4     1900.0        Yarra  -37.8093    144.9944  Northern Metropolitan   \n",
       "\n",
       "  Propertycount  \n",
       "0        4019.0  \n",
       "1        4019.0  \n",
       "2        4019.0  \n",
       "3        4019.0  \n",
       "4        4019.0  \n",
       "\n",
       "[5 rows x 21 columns]"
      ]
     },
     "execution_count": 2,
     "metadata": {},
     "output_type": "execute_result"
    }
   ],
   "source": [
    "data=pd.read_csv('data.csv')\n",
    "data.head()"
   ]
  },
  {
   "cell_type": "code",
   "execution_count": 3,
   "metadata": {},
   "outputs": [
    {
     "data": {
      "text/plain": [
       "(23678, 21)"
      ]
     },
     "execution_count": 3,
     "metadata": {},
     "output_type": "execute_result"
    }
   ],
   "source": [
    "data.shape"
   ]
  },
  {
   "cell_type": "code",
   "execution_count": 4,
   "metadata": {},
   "outputs": [
    {
     "name": "stdout",
     "output_type": "stream",
     "text": [
      "No of rows:  23678\n",
      "No of cols:  21\n"
     ]
    }
   ],
   "source": [
    "# 1.\n",
    "print('No of rows: ', data.shape[0])\n",
    "print('No of cols: ', data.shape[1])"
   ]
  },
  {
   "cell_type": "code",
   "execution_count": 5,
   "metadata": {},
   "outputs": [
    {
     "data": {
      "text/plain": [
       "Suburb            object\n",
       "Address           object\n",
       "Rooms            float64\n",
       "Type              object\n",
       "Price            float64\n",
       "Method            object\n",
       "SellerG           object\n",
       "Date              object\n",
       "Distance         float64\n",
       "Postcode         float64\n",
       "Bedroom2         float64\n",
       "Bathroom         float64\n",
       "Car              float64\n",
       "Landsize         float64\n",
       "BuildingArea     float64\n",
       "YearBuilt        float64\n",
       "CouncilArea       object\n",
       "Lattitude        float64\n",
       "Longtitude       float64\n",
       "Regionname        object\n",
       "Propertycount    float64\n",
       "dtype: object"
      ]
     },
     "execution_count": 5,
     "metadata": {},
     "output_type": "execute_result"
    }
   ],
   "source": [
    "# 2.\n",
    "data.dtypes"
   ]
  },
  {
   "cell_type": "code",
   "execution_count": 13,
   "metadata": {},
   "outputs": [],
   "source": [
    "# 3.\n",
    "all_row_empty=[]\n",
    "for i in range(data.shape[0]):\n",
    "    if data.iloc[i].isnull().sum()==21:\n",
    "        all_row_empty.append(i)"
   ]
  },
  {
   "cell_type": "code",
   "execution_count": 14,
   "metadata": {},
   "outputs": [
    {
     "data": {
      "text/plain": [
       "131"
      ]
     },
     "execution_count": 14,
     "metadata": {},
     "output_type": "execute_result"
    }
   ],
   "source": [
    "len(all_row_empty)"
   ]
  },
  {
   "cell_type": "code",
   "execution_count": 15,
   "metadata": {},
   "outputs": [],
   "source": [
    "# There are 131 empty rows"
   ]
  },
  {
   "cell_type": "code",
   "execution_count": 17,
   "metadata": {},
   "outputs": [
    {
     "name": "stdout",
     "output_type": "stream",
     "text": [
      "Total no of empty rows:  131\n",
      "Percentage:  0.5532561871779711\n"
     ]
    }
   ],
   "source": [
    "# 4.\n",
    "print('Total no of empty rows: ', len(all_row_empty))\n",
    "print('Percentage: ', len(all_row_empty)/data.shape[0]*100)\n",
    "# Drop\n",
    "data.drop(all_row_empty, inplace=True)"
   ]
  },
  {
   "cell_type": "code",
   "execution_count": 24,
   "metadata": {},
   "outputs": [],
   "source": [
    "# 5.\n",
    "col_with_nan=[]\n",
    "for col in data.columns.values:\n",
    "    if data[col].isnull().sum()!=0:\n",
    "        col_with_nan.append(col)"
   ]
  },
  {
   "cell_type": "code",
   "execution_count": 25,
   "metadata": {},
   "outputs": [
    {
     "data": {
      "text/plain": [
       "['Price',\n",
       " 'Distance',\n",
       " 'Postcode',\n",
       " 'Bedroom2',\n",
       " 'Bathroom',\n",
       " 'Car',\n",
       " 'Landsize',\n",
       " 'BuildingArea',\n",
       " 'YearBuilt',\n",
       " 'CouncilArea',\n",
       " 'Lattitude',\n",
       " 'Longtitude',\n",
       " 'Regionname',\n",
       " 'Propertycount']"
      ]
     },
     "execution_count": 25,
     "metadata": {},
     "output_type": "execute_result"
    }
   ],
   "source": [
    "col_with_nan"
   ]
  },
  {
   "cell_type": "code",
   "execution_count": 35,
   "metadata": {},
   "outputs": [
    {
     "name": "stdout",
     "output_type": "stream",
     "text": [
      "No of missing values in  Price =  5151\n",
      "% =  21.875398139890432\n",
      "\n",
      "\n",
      "No of missing values in  Distance =  1\n",
      "% =  0.00424682549794029\n",
      "\n",
      "\n",
      "No of missing values in  Postcode =  1\n",
      "% =  0.00424682549794029\n",
      "\n",
      "\n",
      "No of missing values in  Bedroom2 =  4481\n",
      "% =  19.03002505627044\n",
      "\n",
      "\n",
      "No of missing values in  Bathroom =  4484\n",
      "% =  19.042765532764257\n",
      "\n",
      "\n",
      "No of missing values in  Car =  4626\n",
      "% =  19.64581475347178\n",
      "\n",
      "\n",
      "No of missing values in  Landsize =  6137\n",
      "% =  26.062768080859556\n",
      "\n",
      "\n",
      "No of missing values in  BuildingArea =  13529\n",
      "% =  57.45530216163418\n",
      "\n",
      "\n",
      "No of missing values in  YearBuilt =  12007\n",
      "% =  50.99163375376906\n",
      "\n",
      "\n",
      "No of missing values in  CouncilArea =  7891\n",
      "% =  33.511700004246826\n",
      "\n",
      "\n",
      "No of missing values in  Lattitude =  4304\n",
      "% =  18.278336943135006\n",
      "\n",
      "\n",
      "No of missing values in  Longtitude =  4304\n",
      "% =  18.278336943135006\n",
      "\n",
      "\n",
      "No of missing values in  Regionname =  1\n",
      "% =  0.00424682549794029\n",
      "\n",
      "\n",
      "No of missing values in  Propertycount =  1\n",
      "% =  0.00424682549794029\n",
      "\n",
      "\n"
     ]
    }
   ],
   "source": [
    "# 6.\n",
    "for col in col_with_nan:\n",
    "    print('No of missing values in ', col, '= ', data[col].isnull().sum())\n",
    "    print('% = ', data[col].isnull().sum()/data.shape[0]*100)\n",
    "    print('\\n')"
   ]
  },
  {
   "cell_type": "code",
   "execution_count": 31,
   "metadata": {},
   "outputs": [
    {
     "data": {
      "text/plain": [
       "23547"
      ]
     },
     "execution_count": 31,
     "metadata": {},
     "output_type": "execute_result"
    }
   ],
   "source": [
    "# 7.\n",
    "row_index=data[data.isnull()].index.to_list()\n",
    "len(row_index)"
   ]
  },
  {
   "cell_type": "code",
   "execution_count": 34,
   "metadata": {},
   "outputs": [
    {
     "name": "stdout",
     "output_type": "stream",
     "text": [
      "no of missing values in row  0   3\n",
      "% 14.285714285714285\n",
      "\n",
      "\n",
      "no of missing values in row  1   2\n",
      "% 9.523809523809524\n",
      "\n",
      "\n",
      "no of missing values in row  2   0\n",
      "% 0.0\n",
      "\n",
      "\n",
      "no of missing values in row  3   3\n",
      "% 14.285714285714285\n",
      "\n",
      "\n",
      "no of missing values in row  4   0\n",
      "% 0.0\n",
      "\n",
      "\n",
      "no of missing values in row  5   2\n",
      "% 9.523809523809524\n",
      "\n",
      "\n",
      "no of missing values in row  6   0\n",
      "% 0.0\n",
      "\n",
      "\n",
      "no of missing values in row  7   1\n",
      "% 4.761904761904762\n",
      "\n",
      "\n",
      "no of missing values in row  8   2\n",
      "% 9.523809523809524\n",
      "\n",
      "\n",
      "no of missing values in row  9   2\n",
      "% 9.523809523809524\n",
      "\n",
      "\n",
      "no of missing values in row  10   2\n",
      "% 9.523809523809524\n",
      "\n",
      "\n",
      "no of missing values in row  11   0\n",
      "% 0.0\n",
      "\n",
      "\n",
      "no of missing values in row  12   1\n",
      "% 4.761904761904762\n",
      "\n",
      "\n",
      "no of missing values in row  13   1\n",
      "% 4.761904761904762\n",
      "\n",
      "\n",
      "no of missing values in row  14   0\n",
      "% 0.0\n",
      "\n",
      "\n",
      "no of missing values in row  15   9\n",
      "% 42.857142857142854\n",
      "\n",
      "\n",
      "no of missing values in row  16   9\n",
      "% 42.857142857142854\n",
      "\n",
      "\n",
      "no of missing values in row  17   2\n",
      "% 9.523809523809524\n",
      "\n",
      "\n",
      "no of missing values in row  18   0\n",
      "% 0.0\n",
      "\n",
      "\n",
      "no of missing values in row  19   9\n",
      "% 42.857142857142854\n",
      "\n",
      "\n"
     ]
    }
   ],
   "source": [
    "# 8.\n",
    "# Just a sample for first 20 rows\n",
    "# Change the limit of range function if you want more rows\n",
    "for inx in row_index[:20]:\n",
    "    print('no of missing values in row ',inx, ' ', data.iloc[inx].isnull().sum())\n",
    "    print('%', data.iloc[inx].isnull().sum()/data.shape[1]*100)\n",
    "    print('\\n')"
   ]
  },
  {
   "cell_type": "code",
   "execution_count": 37,
   "metadata": {},
   "outputs": [
    {
     "name": "stdout",
     "output_type": "stream",
     "text": [
      "['BuildingArea', 'YearBuilt', 'CouncilArea']\n"
     ]
    }
   ],
   "source": [
    "# 9.\n",
    "col_30=[]\n",
    "for col in col_with_nan:\n",
    "    if data[col].isnull().sum()/data.shape[0]*100 >30:\n",
    "        col_30.append(col)\n",
    "        \n",
    "print(col_30)"
   ]
  },
  {
   "cell_type": "code",
   "execution_count": 44,
   "metadata": {},
   "outputs": [],
   "source": [
    "# 10.\n",
    "\n",
    "data.reset_index(drop=True, inplace=True)\n",
    "row_5=[]\n",
    "for i in data.index:\n",
    "    if data.iloc[i].isnull().sum()>5:\n",
    "        row_5.append(i)\n",
    "if len(row_5)/data.shape[0]<0.2:\n",
    "    data.drop(row_5, inplace=True)"
   ]
  },
  {
   "cell_type": "code",
   "execution_count": 46,
   "metadata": {},
   "outputs": [
    {
     "data": {
      "text/html": [
       "<div>\n",
       "<style scoped>\n",
       "    .dataframe tbody tr th:only-of-type {\n",
       "        vertical-align: middle;\n",
       "    }\n",
       "\n",
       "    .dataframe tbody tr th {\n",
       "        vertical-align: top;\n",
       "    }\n",
       "\n",
       "    .dataframe thead th {\n",
       "        text-align: right;\n",
       "    }\n",
       "</style>\n",
       "<table border=\"1\" class=\"dataframe\">\n",
       "  <thead>\n",
       "    <tr style=\"text-align: right;\">\n",
       "      <th></th>\n",
       "      <th>Rooms</th>\n",
       "      <th>Price</th>\n",
       "      <th>Distance</th>\n",
       "      <th>Postcode</th>\n",
       "      <th>Bedroom2</th>\n",
       "      <th>Bathroom</th>\n",
       "      <th>Car</th>\n",
       "      <th>Landsize</th>\n",
       "      <th>BuildingArea</th>\n",
       "      <th>YearBuilt</th>\n",
       "      <th>Lattitude</th>\n",
       "      <th>Longtitude</th>\n",
       "      <th>Propertycount</th>\n",
       "    </tr>\n",
       "  </thead>\n",
       "  <tbody>\n",
       "    <tr>\n",
       "      <th>count</th>\n",
       "      <td>19055.000000</td>\n",
       "      <td>1.492600e+04</td>\n",
       "      <td>19055.000000</td>\n",
       "      <td>19055.000000</td>\n",
       "      <td>19055.000000</td>\n",
       "      <td>19054.000000</td>\n",
       "      <td>18921.000000</td>\n",
       "      <td>17408.000000</td>\n",
       "      <td>10018.000000</td>\n",
       "      <td>11540.000000</td>\n",
       "      <td>19029.000000</td>\n",
       "      <td>19029.000000</td>\n",
       "      <td>19055.000000</td>\n",
       "    </tr>\n",
       "    <tr>\n",
       "      <th>mean</th>\n",
       "      <td>2.975020</td>\n",
       "      <td>1.067117e+06</td>\n",
       "      <td>10.222556</td>\n",
       "      <td>3109.772763</td>\n",
       "      <td>2.951929</td>\n",
       "      <td>1.570956</td>\n",
       "      <td>1.626235</td>\n",
       "      <td>551.822151</td>\n",
       "      <td>154.527895</td>\n",
       "      <td>1964.636742</td>\n",
       "      <td>-37.812187</td>\n",
       "      <td>145.000471</td>\n",
       "      <td>7474.095565</td>\n",
       "    </tr>\n",
       "    <tr>\n",
       "      <th>std</th>\n",
       "      <td>0.972329</td>\n",
       "      <td>6.382375e+05</td>\n",
       "      <td>6.055921</td>\n",
       "      <td>93.808492</td>\n",
       "      <td>0.996002</td>\n",
       "      <td>0.712765</td>\n",
       "      <td>0.974048</td>\n",
       "      <td>3544.489659</td>\n",
       "      <td>462.535765</td>\n",
       "      <td>37.595504</td>\n",
       "      <td>0.080002</td>\n",
       "      <td>0.106099</td>\n",
       "      <td>4312.653403</td>\n",
       "    </tr>\n",
       "    <tr>\n",
       "      <th>min</th>\n",
       "      <td>1.000000</td>\n",
       "      <td>8.500000e+04</td>\n",
       "      <td>0.000000</td>\n",
       "      <td>3000.000000</td>\n",
       "      <td>0.000000</td>\n",
       "      <td>0.000000</td>\n",
       "      <td>0.000000</td>\n",
       "      <td>0.000000</td>\n",
       "      <td>0.000000</td>\n",
       "      <td>1196.000000</td>\n",
       "      <td>-38.184180</td>\n",
       "      <td>144.431620</td>\n",
       "      <td>129.000000</td>\n",
       "    </tr>\n",
       "    <tr>\n",
       "      <th>25%</th>\n",
       "      <td>2.000000</td>\n",
       "      <td>6.410000e+05</td>\n",
       "      <td>6.100000</td>\n",
       "      <td>3048.000000</td>\n",
       "      <td>2.000000</td>\n",
       "      <td>1.000000</td>\n",
       "      <td>1.000000</td>\n",
       "      <td>181.000000</td>\n",
       "      <td>95.000000</td>\n",
       "      <td>1940.000000</td>\n",
       "      <td>-37.859010</td>\n",
       "      <td>144.939000</td>\n",
       "      <td>4442.000000</td>\n",
       "    </tr>\n",
       "    <tr>\n",
       "      <th>50%</th>\n",
       "      <td>3.000000</td>\n",
       "      <td>9.000000e+05</td>\n",
       "      <td>9.200000</td>\n",
       "      <td>3101.000000</td>\n",
       "      <td>3.000000</td>\n",
       "      <td>1.000000</td>\n",
       "      <td>2.000000</td>\n",
       "      <td>448.000000</td>\n",
       "      <td>129.000000</td>\n",
       "      <td>1970.000000</td>\n",
       "      <td>-37.809260</td>\n",
       "      <td>145.004690</td>\n",
       "      <td>6567.000000</td>\n",
       "    </tr>\n",
       "    <tr>\n",
       "      <th>75%</th>\n",
       "      <td>4.000000</td>\n",
       "      <td>1.320000e+06</td>\n",
       "      <td>13.000000</td>\n",
       "      <td>3150.000000</td>\n",
       "      <td>4.000000</td>\n",
       "      <td>2.000000</td>\n",
       "      <td>2.000000</td>\n",
       "      <td>656.000000</td>\n",
       "      <td>180.000000</td>\n",
       "      <td>2000.000000</td>\n",
       "      <td>-37.759500</td>\n",
       "      <td>145.063530</td>\n",
       "      <td>10331.000000</td>\n",
       "    </tr>\n",
       "    <tr>\n",
       "      <th>max</th>\n",
       "      <td>10.000000</td>\n",
       "      <td>9.000000e+06</td>\n",
       "      <td>48.100000</td>\n",
       "      <td>3977.000000</td>\n",
       "      <td>30.000000</td>\n",
       "      <td>12.000000</td>\n",
       "      <td>26.000000</td>\n",
       "      <td>433014.000000</td>\n",
       "      <td>44515.000000</td>\n",
       "      <td>2106.000000</td>\n",
       "      <td>-37.407580</td>\n",
       "      <td>145.526350</td>\n",
       "      <td>21650.000000</td>\n",
       "    </tr>\n",
       "  </tbody>\n",
       "</table>\n",
       "</div>"
      ],
      "text/plain": [
       "              Rooms         Price      Distance      Postcode      Bedroom2  \\\n",
       "count  19055.000000  1.492600e+04  19055.000000  19055.000000  19055.000000   \n",
       "mean       2.975020  1.067117e+06     10.222556   3109.772763      2.951929   \n",
       "std        0.972329  6.382375e+05      6.055921     93.808492      0.996002   \n",
       "min        1.000000  8.500000e+04      0.000000   3000.000000      0.000000   \n",
       "25%        2.000000  6.410000e+05      6.100000   3048.000000      2.000000   \n",
       "50%        3.000000  9.000000e+05      9.200000   3101.000000      3.000000   \n",
       "75%        4.000000  1.320000e+06     13.000000   3150.000000      4.000000   \n",
       "max       10.000000  9.000000e+06     48.100000   3977.000000     30.000000   \n",
       "\n",
       "           Bathroom           Car       Landsize  BuildingArea     YearBuilt  \\\n",
       "count  19054.000000  18921.000000   17408.000000  10018.000000  11540.000000   \n",
       "mean       1.570956      1.626235     551.822151    154.527895   1964.636742   \n",
       "std        0.712765      0.974048    3544.489659    462.535765     37.595504   \n",
       "min        0.000000      0.000000       0.000000      0.000000   1196.000000   \n",
       "25%        1.000000      1.000000     181.000000     95.000000   1940.000000   \n",
       "50%        1.000000      2.000000     448.000000    129.000000   1970.000000   \n",
       "75%        2.000000      2.000000     656.000000    180.000000   2000.000000   \n",
       "max       12.000000     26.000000  433014.000000  44515.000000   2106.000000   \n",
       "\n",
       "          Lattitude    Longtitude  Propertycount  \n",
       "count  19029.000000  19029.000000   19055.000000  \n",
       "mean     -37.812187    145.000471    7474.095565  \n",
       "std        0.080002      0.106099    4312.653403  \n",
       "min      -38.184180    144.431620     129.000000  \n",
       "25%      -37.859010    144.939000    4442.000000  \n",
       "50%      -37.809260    145.004690    6567.000000  \n",
       "75%      -37.759500    145.063530   10331.000000  \n",
       "max      -37.407580    145.526350   21650.000000  "
      ]
     },
     "execution_count": 46,
     "metadata": {},
     "output_type": "execute_result"
    }
   ],
   "source": [
    "# 11.\n",
    "\n",
    "data.describe()"
   ]
  },
  {
   "cell_type": "code",
   "execution_count": 47,
   "metadata": {},
   "outputs": [
    {
     "data": {
      "text/plain": [
       "Suburb              0\n",
       "Address             0\n",
       "Rooms               0\n",
       "Type                0\n",
       "Price            4129\n",
       "Method              0\n",
       "SellerG             0\n",
       "Date                0\n",
       "Distance            0\n",
       "Postcode            0\n",
       "Bedroom2            0\n",
       "Bathroom            1\n",
       "Car               134\n",
       "Landsize         1647\n",
       "BuildingArea     9037\n",
       "YearBuilt        7515\n",
       "CouncilArea      3399\n",
       "Lattitude          26\n",
       "Longtitude         26\n",
       "Regionname          0\n",
       "Propertycount       0\n",
       "dtype: int64"
      ]
     },
     "execution_count": 47,
     "metadata": {},
     "output_type": "execute_result"
    }
   ],
   "source": [
    "# 11.\n",
    "data.isnull().sum()"
   ]
  },
  {
   "cell_type": "code",
   "execution_count": 49,
   "metadata": {},
   "outputs": [
    {
     "name": "stdout",
     "output_type": "stream",
     "text": [
      "float64\n",
      "21.66885331933876\n"
     ]
    }
   ],
   "source": [
    "# 12.\n",
    "print(data['Price'].dtype)\n",
    "print(data['Price'].isnull().sum()/data.shape[0]*100)"
   ]
  },
  {
   "cell_type": "code",
   "execution_count": 50,
   "metadata": {},
   "outputs": [],
   "source": [
    "# Now, 20% of the values in price are missing and it is a continuous variable\n",
    "# Also, there are a lot of outliers in price looking at the data from describe\n",
    "# therefore, we'll use median imputation here"
   ]
  },
  {
   "cell_type": "code",
   "execution_count": 53,
   "metadata": {},
   "outputs": [],
   "source": [
    "data['Price'].fillna(data['Price'].median(), inplace=True)"
   ]
  },
  {
   "cell_type": "code",
   "execution_count": 54,
   "metadata": {},
   "outputs": [
    {
     "data": {
      "text/plain": [
       "Suburb              0\n",
       "Address             0\n",
       "Rooms               0\n",
       "Type                0\n",
       "Price               0\n",
       "Method              0\n",
       "SellerG             0\n",
       "Date                0\n",
       "Distance            0\n",
       "Postcode            0\n",
       "Bedroom2            0\n",
       "Bathroom            1\n",
       "Car               134\n",
       "Landsize         1647\n",
       "BuildingArea     9037\n",
       "YearBuilt        7515\n",
       "CouncilArea      3399\n",
       "Lattitude          26\n",
       "Longtitude         26\n",
       "Regionname          0\n",
       "Propertycount       0\n",
       "dtype: int64"
      ]
     },
     "execution_count": 54,
     "metadata": {},
     "output_type": "execute_result"
    }
   ],
   "source": [
    "# 13.\n",
    "\n",
    "data.isnull().sum()"
   ]
  },
  {
   "cell_type": "code",
   "execution_count": 55,
   "metadata": {},
   "outputs": [
    {
     "data": {
      "text/plain": [
       "Boroondara           1677\n",
       "Moreland             1421\n",
       "Stonnington          1141\n",
       "Moonee Valley        1141\n",
       "Darebin              1113\n",
       "Glen Eira            1019\n",
       "Port Phillip          849\n",
       "Maribyrnong           836\n",
       "Yarra                 836\n",
       "Banyule               763\n",
       "Bayside               677\n",
       "Melbourne             582\n",
       "Hobsons Bay           505\n",
       "Brimbank              490\n",
       "Monash                458\n",
       "Whitehorse            432\n",
       "Manningham            379\n",
       "Kingston              235\n",
       "Hume                  200\n",
       "Whittlesea            196\n",
       "Wyndham               128\n",
       "Maroondah             114\n",
       "Knox                  100\n",
       "Melton                 78\n",
       "Greater Dandenong      78\n",
       "Frankston              67\n",
       "Casey                  49\n",
       "Nillumbik              41\n",
       "Yarra Ranges           27\n",
       "Cardinia               10\n",
       "Macedon Ranges          9\n",
       "Mitchell                2\n",
       "Moorabool               2\n",
       "Unavailable             1\n",
       "Name: CouncilArea, dtype: int64"
      ]
     },
     "execution_count": 55,
     "metadata": {},
     "output_type": "execute_result"
    }
   ],
   "source": [
    "data['CouncilArea'].value_counts()"
   ]
  },
  {
   "cell_type": "code",
   "execution_count": 60,
   "metadata": {},
   "outputs": [],
   "source": [
    "# drop 2 columns\n",
    "data.drop(['BuildingArea', 'YearBuilt'],axis=1, inplace=True)\n",
    "data['Landsize'].fillna(data['Landsize'].median(), inplace=True)\n",
    "#seperate category for nan values in councilArea\n",
    "data['CouncilArea'].fillna('Unknown', inplace=True)"
   ]
  },
  {
   "cell_type": "code",
   "execution_count": 61,
   "metadata": {},
   "outputs": [
    {
     "data": {
      "text/plain": [
       "(19055, 19)"
      ]
     },
     "execution_count": 61,
     "metadata": {},
     "output_type": "execute_result"
    }
   ],
   "source": [
    "data.shape"
   ]
  },
  {
   "cell_type": "code",
   "execution_count": 62,
   "metadata": {},
   "outputs": [
    {
     "data": {
      "text/plain": [
       "Suburb             0\n",
       "Address            0\n",
       "Rooms              0\n",
       "Type               0\n",
       "Price              0\n",
       "Method             0\n",
       "SellerG            0\n",
       "Date               0\n",
       "Distance           0\n",
       "Postcode           0\n",
       "Bedroom2           0\n",
       "Bathroom           1\n",
       "Car              134\n",
       "Landsize           0\n",
       "CouncilArea        0\n",
       "Lattitude         26\n",
       "Longtitude        26\n",
       "Regionname         0\n",
       "Propertycount      0\n",
       "dtype: int64"
      ]
     },
     "execution_count": 62,
     "metadata": {},
     "output_type": "execute_result"
    }
   ],
   "source": [
    "data.isnull().sum()"
   ]
  },
  {
   "cell_type": "code",
   "execution_count": 64,
   "metadata": {},
   "outputs": [],
   "source": [
    "# now, drop na for all the rows\n",
    "data.dropna(inplace=True)"
   ]
  },
  {
   "cell_type": "code",
   "execution_count": 65,
   "metadata": {},
   "outputs": [
    {
     "data": {
      "text/plain": [
       "Suburb           0\n",
       "Address          0\n",
       "Rooms            0\n",
       "Type             0\n",
       "Price            0\n",
       "Method           0\n",
       "SellerG          0\n",
       "Date             0\n",
       "Distance         0\n",
       "Postcode         0\n",
       "Bedroom2         0\n",
       "Bathroom         0\n",
       "Car              0\n",
       "Landsize         0\n",
       "CouncilArea      0\n",
       "Lattitude        0\n",
       "Longtitude       0\n",
       "Regionname       0\n",
       "Propertycount    0\n",
       "dtype: int64"
      ]
     },
     "execution_count": 65,
     "metadata": {},
     "output_type": "execute_result"
    }
   ],
   "source": [
    "data.isnull().sum()"
   ]
  },
  {
   "cell_type": "code",
   "execution_count": 67,
   "metadata": {},
   "outputs": [
    {
     "name": "stdout",
     "output_type": "stream",
     "text": [
      "No of cols removed :  2\n",
      "%  9.523809523809524\n"
     ]
    }
   ],
   "source": [
    "# 14.\n",
    "print('No of cols removed : ', 21-data.shape[1])\n",
    "print('% ',(1-data.shape[1]/21)*100)"
   ]
  },
  {
   "cell_type": "code",
   "execution_count": 69,
   "metadata": {},
   "outputs": [
    {
     "name": "stdout",
     "output_type": "stream",
     "text": [
      "No of rows removed :  4783\n",
      "%  20.200185826505614\n"
     ]
    }
   ],
   "source": [
    "# 15.\n",
    "print('No of rows removed : ', 23678-data.shape[0])\n",
    "print('% ',(1-data.shape[0]/23678)*100)"
   ]
  },
  {
   "cell_type": "code",
   "execution_count": 70,
   "metadata": {},
   "outputs": [],
   "source": [
    "# Only 20% of data was removed. It is justified"
   ]
  },
  {
   "cell_type": "code",
   "execution_count": null,
   "metadata": {},
   "outputs": [],
   "source": []
  }
 ],
 "metadata": {
  "kernelspec": {
   "display_name": "Python 3",
   "language": "python",
   "name": "python3"
  },
  "language_info": {
   "codemirror_mode": {
    "name": "ipython",
    "version": 3
   },
   "file_extension": ".py",
   "mimetype": "text/x-python",
   "name": "python",
   "nbconvert_exporter": "python",
   "pygments_lexer": "ipython3",
   "version": "3.8.2"
  }
 },
 "nbformat": 4,
 "nbformat_minor": 4
}
