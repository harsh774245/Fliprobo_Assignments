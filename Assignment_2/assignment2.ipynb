{
  "nbformat": 4,
  "nbformat_minor": 0,
  "metadata": {
    "colab": {
      "name": "assignment_2.ipynb",
      "provenance": []
    },
    "kernelspec": {
      "name": "python3",
      "display_name": "Python 3"
    },
    "accelerator": "GPU"
  },
  "cells": [
    {
      "cell_type": "code",
      "metadata": {
        "id": "dLKPnANG4zJQ",
        "colab_type": "code",
        "colab": {
          "base_uri": "https://localhost:8080/",
          "height": 34
        },
        "outputId": "a701a2c7-24a7-48ac-ea54-555152159f8b"
      },
      "source": [
        "from zipfile import ZipFile\n",
        "filename='/twoclass.zip'\n",
        "with ZipFile(filename,'r') as zip:\n",
        "  zip.extractall()\n",
        "  print('Done')"
      ],
      "execution_count": 2,
      "outputs": [
        {
          "output_type": "stream",
          "text": [
            "Done\n"
          ],
          "name": "stdout"
        }
      ]
    },
    {
      "cell_type": "code",
      "metadata": {
        "id": "39_IBw4B5Sws",
        "colab_type": "code",
        "colab": {
          "base_uri": "https://localhost:8080/",
          "height": 121
        },
        "outputId": "dbd9e462-68cf-4171-e1f0-5546f98fdc76"
      },
      "source": [
        "from keras.models import Sequential\n",
        "from keras.layers import Conv2D\n",
        "from keras.layers import MaxPooling2D\n",
        "from keras.layers import Flatten\n",
        "from keras.layers import Dense,Dropout\n",
        "\n",
        "# Initialising the CNN\n",
        "classifier = Sequential()\n",
        "\n",
        "# Step 1 - Convolution\n",
        "classifier.add(Conv2D(32, (3, 3), input_shape = (128, 128, 3), activation = 'relu'))\n",
        "\n",
        "# Step 2 - Pooling\n",
        "classifier.add(MaxPooling2D(pool_size = (2, 2)))\n",
        "\n",
        "\n",
        "classifier.add(Conv2D(64, (3, 3), activation = 'relu'))\n",
        "classifier.add(MaxPooling2D(pool_size = (2, 2)))\n",
        "# classifier.add(Dropout(0.5))\n",
        "\n",
        "classifier.add(Conv2D(128, (3, 3), activation = 'relu'))\n",
        "classifier.add(MaxPooling2D(pool_size = (2, 2)))\n",
        "# classifier.add(Dropout(0.5))\n",
        "\n",
        "classifier.add(Conv2D(256, (3, 3), activation = 'relu'))\n",
        "classifier.add(MaxPooling2D(pool_size = (2, 2)))\n",
        "classifier.add(Dropout(0.5))\n",
        "\n",
        "\n",
        "# Step 3 - Flattening\n",
        "classifier.add(Flatten())\n",
        "\n",
        "# Step 4 - Full connection\n",
        "classifier.add(Dense(units = 128, activation = 'relu'))\n",
        "# classifier.add(Dropout(0.5))\n",
        "classifier.add(Dense(units = 64, activation = 'relu'))\n",
        "classifier.add(Dropout(0.25))\n",
        "\n",
        "classifier.add(Dense(units = 1, activation = 'sigmoid'))\n",
        "\n",
        "# Compiling the CNN\n",
        "classifier.compile(optimizer = 'adam', loss = 'binary_crossentropy', metrics = ['accuracy'])\n",
        "\n",
        "# Part 2 - Fitting the CNN to the images\n",
        "\n",
        "from keras.preprocessing.image import ImageDataGenerator\n",
        "\n",
        "datagen = ImageDataGenerator(rescale = 1./255 ,shear_range=0.2,zoom_range=0.3,horizontal_flip=True,rotation_range=40,\n",
        "        width_shift_range=0.2,\n",
        "        height_shift_range=0.2,fill_mode='nearest',validation_split=0.2)\n",
        "# test_datagen = ImageDataGenerator(rescale = 1./255,shear_range=0.2,zoom_range=0.3,horizontal_flip=True)\n",
        "\n",
        "training_set = datagen.flow_from_directory('/content/twoclass',\n",
        "                                                 target_size = (128, 128),\n",
        "                                                 batch_size = 64,\n",
        "                                                 class_mode = 'binary',\n",
        "                                                subset='training')\n",
        "\n",
        "test_set = datagen.flow_from_directory('/content/twoclass',\n",
        "                                            target_size = (128, 128),\n",
        "                                            batch_size = 64,\n",
        "                                            class_mode = 'binary',\n",
        "                                           subset='validation')\n",
        "\n",
        "model = classifier.fit(training_set,\n",
        "                         steps_per_epoch=2000,\n",
        "                         epochs = 1,\n",
        "                         validation_data = test_set,\n",
        "                         validation_steps=1000)"
      ],
      "execution_count": 3,
      "outputs": [
        {
          "output_type": "stream",
          "text": [
            "Using TensorFlow backend.\n"
          ],
          "name": "stderr"
        },
        {
          "output_type": "stream",
          "text": [
            "Found 160 images belonging to 2 classes.\n",
            "Found 40 images belonging to 2 classes.\n",
            "Epoch 1/1\n",
            "2000/2000 [==============================] - 967s 483ms/step - loss: 0.0724 - accuracy: 0.9698 - val_loss: 0.1914 - val_accuracy: 0.9600\n"
          ],
          "name": "stdout"
        }
      ]
    },
    {
      "cell_type": "code",
      "metadata": {
        "id": "oy8zEOYz8W6h",
        "colab_type": "code",
        "colab": {
          "base_uri": "https://localhost:8080/",
          "height": 34
        },
        "outputId": "a9ef8090-d31a-4acc-f751-6f161ec99bbb"
      },
      "source": [
        "from zipfile import ZipFile\n",
        "filename='/assign_2_data.zip'\n",
        "with ZipFile(filename,'r') as zip:\n",
        "  zip.extractall()\n",
        "  print('Done')"
      ],
      "execution_count": 1,
      "outputs": [
        {
          "output_type": "stream",
          "text": [
            "Done\n"
          ],
          "name": "stdout"
        }
      ]
    },
    {
      "cell_type": "code",
      "metadata": {
        "id": "Ar4521q9BX2q",
        "colab_type": "code",
        "colab": {
          "base_uri": "https://localhost:8080/",
          "height": 104
        },
        "outputId": "a8b5acf9-3f14-4269-abb7-36d76635e4d3"
      },
      "source": [
        "from keras.models import Sequential\n",
        "from keras.layers import Conv2D\n",
        "from keras.layers import MaxPooling2D\n",
        "from keras.layers import Flatten\n",
        "from keras.layers import Dense,Dropout\n",
        "\n",
        "# Initialising the CNN\n",
        "classifier = Sequential()\n",
        "\n",
        "# Step 1 - Convolution\n",
        "classifier.add(Conv2D(32, (3, 3), input_shape = (128, 128, 3), activation = 'relu'))\n",
        "\n",
        "# Step 2 - Pooling\n",
        "classifier.add(MaxPooling2D(pool_size = (2, 2)))\n",
        "\n",
        "\n",
        "classifier.add(Conv2D(64, (3, 3), activation = 'relu'))\n",
        "classifier.add(MaxPooling2D(pool_size = (2, 2)))\n",
        "# classifier.add(Dropout(0.5))\n",
        "\n",
        "classifier.add(Conv2D(128, (3, 3), activation = 'relu'))\n",
        "classifier.add(MaxPooling2D(pool_size = (2, 2)))\n",
        "# classifier.add(Dropout(0.5))\n",
        "\n",
        "classifier.add(Conv2D(256, (3, 3), activation = 'relu'))\n",
        "classifier.add(MaxPooling2D(pool_size = (2, 2)))\n",
        "classifier.add(Dropout(0.5))\n",
        "\n",
        "\n",
        "# Step 3 - Flattening\n",
        "classifier.add(Flatten())\n",
        "\n",
        "# Step 4 - Full connection\n",
        "classifier.add(Dense(units = 128, activation = 'relu'))\n",
        "# classifier.add(Dropout(0.5))\n",
        "classifier.add(Dense(units = 64, activation = 'relu'))\n",
        "classifier.add(Dropout(0.25))\n",
        "\n",
        "classifier.add(Dense(units=3, activation = 'softmax'))\n",
        "\n",
        "# Compiling the CNN\n",
        "classifier.compile(optimizer = 'adam', loss = 'categorical_crossentropy', metrics = ['accuracy'])\n",
        "\n",
        "# Part 2 - Fitting the CNN to the images\n",
        "\n",
        "from keras.preprocessing.image import ImageDataGenerator\n",
        "\n",
        "train_datagen = ImageDataGenerator(rescale = 1./255 ,shear_range=0.2,zoom_range=0.3,horizontal_flip=True,rotation_range=40,\n",
        "        width_shift_range=0.2,\n",
        "        height_shift_range=0.2,fill_mode='nearest')\n",
        "valid_datagen = ImageDataGenerator(rescale = 1./255,shear_range=0.2,zoom_range=0.3,horizontal_flip=True)\n",
        "\n",
        "training_set = train_datagen.flow_from_directory('/content/assign_2_data/train',\n",
        "                                                 target_size = (128, 128),\n",
        "                                                 batch_size = 64,\n",
        "                                                 class_mode = 'categorical')\n",
        "\n",
        "valid_set = valid_datagen.flow_from_directory('/content/assign_2_data/test',\n",
        "                                            target_size = (128, 128),\n",
        "                                            batch_size = 64,\n",
        "                                            class_mode = 'categorical')\n",
        "\n",
        "model = classifier.fit_generator(training_set,\n",
        "                         steps_per_epoch=4000,\n",
        "                         epochs = 1,\n",
        "                          validation_data = valid_set,\n",
        "                          validation_steps=1000)"
      ],
      "execution_count": 13,
      "outputs": [
        {
          "output_type": "stream",
          "text": [
            "Found 228 images belonging to 3 classes.\n",
            "Found 72 images belonging to 3 classes.\n",
            "Epoch 1/1\n",
            "4000/4000 [==============================] - 1658s 415ms/step - loss: 0.0954 - accuracy: 0.9629 - val_loss: 0.0031 - val_accuracy: 0.8070\n"
          ],
          "name": "stdout"
        }
      ]
    },
    {
      "cell_type": "code",
      "metadata": {
        "id": "l1IkZzuTBmhL",
        "colab_type": "code",
        "colab": {
          "base_uri": "https://localhost:8080/",
          "height": 104
        },
        "outputId": "50fdaeae-1f7f-43a6-cfe8-2490b2cadb67"
      },
      "source": [
        "from keras.models import Sequential\n",
        "from keras.layers import Conv2D\n",
        "from keras.layers import MaxPooling2D\n",
        "from keras.layers import Flatten\n",
        "from keras.layers import Dense,Dropout\n",
        "\n",
        "# Initialising the CNN\n",
        "classifier = Sequential()\n",
        "\n",
        "# Step 1 - Convolution\n",
        "classifier.add(Conv2D(32, (3, 3), input_shape = (128, 128, 3), activation = 'relu'))\n",
        "\n",
        "# Step 2 - Pooling\n",
        "classifier.add(MaxPooling2D(pool_size = (2, 2)))\n",
        "\n",
        "\n",
        "classifier.add(Conv2D(64, (3, 3), activation = 'relu'))\n",
        "classifier.add(MaxPooling2D(pool_size = (2, 2)))\n",
        "# classifier.add(Dropout(0.5))\n",
        "\n",
        "classifier.add(Conv2D(128, (3, 3), activation = 'relu'))\n",
        "classifier.add(MaxPooling2D(pool_size = (2, 2)))\n",
        "# classifier.add(Dropout(0.5))\n",
        "\n",
        "classifier.add(Conv2D(256, (3, 3), activation = 'relu'))\n",
        "classifier.add(MaxPooling2D(pool_size = (2, 2)))\n",
        "\n",
        "classifier.add(Conv2D(512, (3, 3), activation = 'relu'))\n",
        "classifier.add(MaxPooling2D(pool_size = (2, 2)))\n",
        "\n",
        "classifier.add(Dropout(0.5))\n",
        "\n",
        "\n",
        "# Step 3 - Flattening\n",
        "classifier.add(Flatten())\n",
        "\n",
        "# Step 4 - Full connection\n",
        "classifier.add(Dense(units = 128, activation = 'relu'))\n",
        "# classifier.add(Dropout(0.5))\n",
        "classifier.add(Dense(units = 64, activation = 'relu'))\n",
        "classifier.add(Dropout(0.25))\n",
        "\n",
        "classifier.add(Dense(units=3, activation = 'softmax'))\n",
        "\n",
        "# Compiling the CNN\n",
        "classifier.compile(optimizer = 'adam', loss = 'categorical_crossentropy', metrics = ['accuracy'])\n",
        "\n",
        "# Part 2 - Fitting the CNN to the images\n",
        "\n",
        "from keras.preprocessing.image import ImageDataGenerator\n",
        "\n",
        "train_datagen = ImageDataGenerator(rescale = 1./255 ,shear_range=0.2,zoom_range=0.3,horizontal_flip=True,rotation_range=40,\n",
        "        width_shift_range=0.2,\n",
        "        height_shift_range=0.2,fill_mode='nearest')\n",
        "valid_datagen = ImageDataGenerator(rescale = 1./255,shear_range=0.2,zoom_range=0.3,horizontal_flip=True)\n",
        "\n",
        "training_set = train_datagen.flow_from_directory('/content/assign_2_data/train',\n",
        "                                                 target_size = (128, 128),\n",
        "                                                 batch_size = 64,\n",
        "                                                 class_mode = 'categorical')\n",
        "\n",
        "valid_set = valid_datagen.flow_from_directory('/content/assign_2_data/test',\n",
        "                                            target_size = (128, 128),\n",
        "                                            batch_size = 64,\n",
        "                                            class_mode = 'categorical')\n",
        "\n",
        "model = classifier.fit_generator(training_set,\n",
        "                         steps_per_epoch=8000,\n",
        "                         epochs = 1,\n",
        "                          validation_data = valid_set,\n",
        "                          validation_steps=1000)"
      ],
      "execution_count": 14,
      "outputs": [
        {
          "output_type": "stream",
          "text": [
            "Found 228 images belonging to 3 classes.\n",
            "Found 72 images belonging to 3 classes.\n",
            "Epoch 1/1\n",
            "8000/8000 [==============================] - 3180s 397ms/step - loss: 0.0660 - accuracy: 0.9760 - val_loss: 4.8565 - val_accuracy: 0.7799\n"
          ],
          "name": "stdout"
        }
      ]
    },
    {
      "cell_type": "code",
      "metadata": {
        "id": "ScLd_JXj5ORO",
        "colab_type": "code",
        "colab": {
          "base_uri": "https://localhost:8080/",
          "height": 406
        },
        "outputId": "cb4ee56c-5d58-4cf6-fb38-c73ca27238ab"
      },
      "source": [
        "from keras.models import Sequential\n",
        "from keras.layers import Conv2D\n",
        "from keras.layers import MaxPooling2D\n",
        "from keras.layers import Flatten\n",
        "from keras.layers import Dense,Dropout\n",
        "\n",
        "# Initialising the CNN\n",
        "classifier = Sequential()\n",
        "\n",
        "# Step 1 - Convolution\n",
        "classifier.add(Conv2D(32, (3, 3), input_shape = (128, 128, 3), activation = 'relu'))\n",
        "\n",
        "# Step 2 - Pooling\n",
        "classifier.add(MaxPooling2D(pool_size = (2, 2)))\n",
        "\n",
        "\n",
        "classifier.add(Conv2D(64, (3, 3), activation = 'relu'))\n",
        "classifier.add(MaxPooling2D(pool_size = (2, 2)))\n",
        "# classifier.add(Dropout(0.5))\n",
        "\n",
        "classifier.add(Conv2D(128, (3, 3), activation = 'relu'))\n",
        "classifier.add(MaxPooling2D(pool_size = (2, 2)))\n",
        "# classifier.add(Dropout(0.5))\n",
        "\n",
        "classifier.add(Conv2D(256, (3, 3), activation = 'relu'))\n",
        "classifier.add(MaxPooling2D(pool_size = (2, 2)))\n",
        "classifier.add(Dropout(0.5))\n",
        "\n",
        "\n",
        "# Step 3 - Flattening\n",
        "classifier.add(Flatten())\n",
        "\n",
        "# Step 4 - Full connection\n",
        "classifier.add(Dense(units = 128, activation = 'relu'))\n",
        "# classifier.add(Dropout(0.5))\n",
        "classifier.add(Dense(units = 64, activation = 'relu'))\n",
        "classifier.add(Dropout(0.25))\n",
        "\n",
        "classifier.add(Dense(units=3, activation = 'softmax'))\n",
        "\n",
        "# Compiling the CNN\n",
        "classifier.compile(optimizer = 'adam', loss = 'categorical_crossentropy', metrics = ['accuracy'])\n",
        "\n",
        "# Part 2 - Fitting the CNN to the images\n",
        "\n",
        "from keras.preprocessing.image import ImageDataGenerator\n",
        "\n",
        "train_datagen = ImageDataGenerator(rescale = 1./255 ,shear_range=0.2,zoom_range=0.3,horizontal_flip=True,rotation_range=40,\n",
        "        width_shift_range=0.2,\n",
        "        height_shift_range=0.2,fill_mode='nearest')\n",
        "valid_datagen = ImageDataGenerator(rescale = 1./255,shear_range=0.2,zoom_range=0.3,horizontal_flip=True)\n",
        "\n",
        "training_set = train_datagen.flow_from_directory('/content/assign_2_data/train',\n",
        "                                                 target_size = (128, 128),\n",
        "                                                 batch_size = 64,\n",
        "                                                 class_mode = 'categorical')\n",
        "\n",
        "valid_set = valid_datagen.flow_from_directory('/content/assign_2_data/test',\n",
        "                                            target_size = (128, 128),\n",
        "                                            batch_size = 64,\n",
        "                                            class_mode = 'categorical')\n",
        "\n",
        "model = classifier.fit_generator(training_set,\n",
        "                         steps_per_epoch=4000,\n",
        "                         epochs = 10,\n",
        "                          validation_data = valid_set,\n",
        "                          validation_steps=2000)"
      ],
      "execution_count": 15,
      "outputs": [
        {
          "output_type": "stream",
          "text": [
            "Found 228 images belonging to 3 classes.\n",
            "Found 72 images belonging to 3 classes.\n",
            "Epoch 1/10\n",
            "4000/4000 [==============================] - 1916s 479ms/step - loss: 0.1306 - accuracy: 0.9488 - val_loss: 0.5496 - val_accuracy: 0.8418\n",
            "Epoch 2/10\n",
            "4000/4000 [==============================] - 1934s 483ms/step - loss: 0.0254 - accuracy: 0.9923 - val_loss: 0.6569 - val_accuracy: 0.8606\n",
            "Epoch 3/10\n",
            "4000/4000 [==============================] - 1932s 483ms/step - loss: 0.0161 - accuracy: 0.9954 - val_loss: 9.2827e-04 - val_accuracy: 0.8705\n",
            "Epoch 4/10\n",
            "4000/4000 [==============================] - 1942s 485ms/step - loss: 0.0122 - accuracy: 0.9967 - val_loss: 1.5054 - val_accuracy: 0.8590\n",
            "Epoch 5/10\n",
            "4000/4000 [==============================] - 1940s 485ms/step - loss: 0.0098 - accuracy: 0.9973 - val_loss: 0.0047 - val_accuracy: 0.8777\n",
            "Epoch 6/10\n",
            "4000/4000 [==============================] - 1844s 461ms/step - loss: 0.0090 - accuracy: 0.9977 - val_loss: 5.8353 - val_accuracy: 0.8552\n",
            "Epoch 7/10\n",
            "4000/4000 [==============================] - 1883s 471ms/step - loss: 0.0080 - accuracy: 0.9980 - val_loss: 0.0000e+00 - val_accuracy: 0.8253\n",
            "Epoch 8/10\n",
            "4000/4000 [==============================] - 1881s 470ms/step - loss: 0.0096 - accuracy: 0.9979 - val_loss: 0.0148 - val_accuracy: 0.8918\n",
            "Epoch 9/10\n",
            "4000/4000 [==============================] - 1915s 479ms/step - loss: 0.0083 - accuracy: 0.9982 - val_loss: 3.4543 - val_accuracy: 0.8473\n",
            "Epoch 10/10\n",
            "4000/4000 [==============================] - 1908s 477ms/step - loss: 0.0064 - accuracy: 0.9985 - val_loss: 1.3594 - val_accuracy: 0.8574\n"
          ],
          "name": "stdout"
        }
      ]
    },
    {
      "cell_type": "code",
      "metadata": {
        "id": "ci-2tOzOFpkK",
        "colab_type": "code",
        "colab": {
          "base_uri": "https://localhost:8080/",
          "height": 689
        },
        "outputId": "edd897f7-8629-454b-90c3-60d300769b1b"
      },
      "source": [
        "model.history"
      ],
      "execution_count": 16,
      "outputs": [
        {
          "output_type": "execute_result",
          "data": {
            "text/plain": [
              "{'accuracy': [0.948807,\n",
              "  0.9922895,\n",
              "  0.99535966,\n",
              "  0.9966842,\n",
              "  0.99727196,\n",
              "  0.99772805,\n",
              "  0.9980351,\n",
              "  0.99788594,\n",
              "  0.99816227,\n",
              "  0.99850875],\n",
              " 'loss': [0.13082830993197844,\n",
              "  0.025632726371848786,\n",
              "  0.016280216813895295,\n",
              "  0.012337896867341543,\n",
              "  0.009835252616096222,\n",
              "  0.008874457520667492,\n",
              "  0.007995761233926773,\n",
              "  0.009885086008720402,\n",
              "  0.008301006614377247,\n",
              "  0.0065485263981641595],\n",
              " 'val_accuracy': [0.8417916893959045,\n",
              "  0.8605971932411194,\n",
              "  0.8705416917800903,\n",
              "  0.8589861392974854,\n",
              "  0.8776527643203735,\n",
              "  0.8551666736602783,\n",
              "  0.8252916932106018,\n",
              "  0.8918055295944214,\n",
              "  0.8473194241523743,\n",
              "  0.8574444651603699],\n",
              " 'val_loss': [0.5495531558990479,\n",
              "  0.6569265723228455,\n",
              "  0.0009282715036533773,\n",
              "  1.5054110288619995,\n",
              "  0.00468367850407958,\n",
              "  5.835325717926025,\n",
              "  0.0,\n",
              "  0.01475343108177185,\n",
              "  3.4543073177337646,\n",
              "  1.3594435453414917]}"
            ]
          },
          "metadata": {
            "tags": []
          },
          "execution_count": 16
        }
      ]
    },
    {
      "cell_type": "code",
      "metadata": {
        "id": "W248Los2Ojr8",
        "colab_type": "code",
        "colab": {
          "base_uri": "https://localhost:8080/",
          "height": 279
        },
        "outputId": "251f4e07-adaa-4ca4-c4e6-a10b4fc6eb54"
      },
      "source": [
        "import matplotlib.pyplot as plt\n",
        "hist_dict=model.history\n",
        "acc_values = hist_dict['accuracy']\n",
        "val_acc_values = hist_dict['val_accuracy']\n",
        "epochs=range(1,len(acc_values)+1)\n",
        "\n",
        "line1=plt.plot(epochs,val_acc_values, label='Validation accuracy')\n",
        "line2=plt.plot(epochs,acc_values, label='Training Accuracy')\n",
        "\n",
        "plt.xlabel('Epochs')\n",
        "plt.ylabel('Accuracy')\n",
        "plt.grid(True)\n",
        "plt.legend()\n",
        "plt.show()"
      ],
      "execution_count": 17,
      "outputs": [
        {
          "output_type": "display_data",
          "data": {
            "image/png": "[encoded data removed]",
            "text/plain": [
              "<Figure size 432x288 with 1 Axes>"
            ]
          },
          "metadata": {
            "tags": [],
            "needs_background": "light"
          }
        }
      ]
    },
    {
      "cell_type": "code",
      "metadata": {
        "id": "yr5VY9YRP5Rj",
        "colab_type": "code",
        "colab": {
          "base_uri": "https://localhost:8080/",
          "height": 279
        },
        "outputId": "ab505da1-2138-4ebe-af93-91e43c750719"
      },
      "source": [
        "import matplotlib.pyplot as plt\n",
        "hist_dict=model.history\n",
        "loss_values = hist_dict['loss']\n",
        "val_loss_values = hist_dict['val_loss']\n",
        "epochs=range(1,len(acc_values)+1)\n",
        "\n",
        "line1=plt.plot(epochs,val_loss_values, label='Validation Loss')\n",
        "line2=plt.plot(epochs,loss_values, label='Training Loss')\n",
        "\n",
        "plt.xlabel('Epochs')\n",
        "plt.ylabel('Loss')\n",
        "plt.grid(True)\n",
        "plt.legend()\n",
        "plt.show()"
      ],
      "execution_count": 18,
      "outputs": [
        {
          "output_type": "display_data",
          "data": {
            "image/png": "[encoded data removed]",
            "text/plain": [
              "<Figure size 432x288 with 1 Axes>"
            ]
          },
          "metadata": {
            "tags": [],
            "needs_background": "light"
          }
        }
      ]
    },
    {
      "cell_type": "code",
      "metadata": {
        "id": "vgGbRqWiQL08",
        "colab_type": "code",
        "colab": {}
      },
      "source": [
        "classifier.save('assignment_2.h5')"
      ],
      "execution_count": 20,
      "outputs": []
    },
    {
      "cell_type": "code",
      "metadata": {
        "id": "yvaweuZQQY0A",
        "colab_type": "code",
        "colab": {}
      },
      "source": [
        ""
      ],
      "execution_count": null,
      "outputs": []
    }
  ]
}